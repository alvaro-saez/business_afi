{
 "cells": [
  {
   "cell_type": "code",
   "execution_count": 53,
   "id": "127cce9c",
   "metadata": {},
   "outputs": [],
   "source": [
    "import pandas as pd\n",
    "import numpy as np\n",
    "import requests\n",
    "import bs4\n",
    "import re\n",
    "from datetime import datetime\n",
    "pd.set_option('display.max_rows', 1000)\n",
    "pd.options.display.max_colwidth = 1000\n",
    "\n",
    "#to send emails\n",
    "import email, smtplib, ssl\n",
    "from email import encoders\n",
    "from email.mime.base import MIMEBase\n",
    "from email.mime.multipart import MIMEMultipart\n",
    "from email.mime.text import MIMEText\n",
    "\n",
    "#to make the conection with spreadsheets\n",
    "import gspread\n",
    "from google.oauth2.service_account import Credentials\n",
    "\n",
    "#for passwords\n",
    "import os\n",
    "from dotenv import load_dotenv, find_dotenv"
   ]
  },
  {
   "cell_type": "markdown",
   "id": "c2ecbc32",
   "metadata": {},
   "source": [
    "# A. p_acquisition"
   ]
  },
  {
   "cell_type": "markdown",
   "id": "16d3f465",
   "metadata": {},
   "source": [
    "### SET THE PASSWORDS"
   ]
  },
  {
   "cell_type": "code",
   "execution_count": 66,
   "id": "381a5001",
   "metadata": {},
   "outputs": [],
   "source": [
    "load_dotenv(find_dotenv(\"../credentials/email_key.env\"))\n",
    "email_key = os.environ.get(\"EMAIL_KEY\") #EMAIL PASSWORD"
   ]
  },
  {
   "cell_type": "markdown",
   "id": "213dd43e",
   "metadata": {},
   "source": [
    "### SET THE URLS IN VARIABLES"
   ]
  },
  {
   "cell_type": "code",
   "execution_count": 3,
   "id": "0366b94e",
   "metadata": {},
   "outputs": [],
   "source": [
    "urls_ergonomia = [\n",
    "\"https://sillasybienestar.com/ergonomia/sillas-ergonomicas/review-individual/tlv-myx-801-1/\",\n",
    "\"https://sillasybienestar.com/ergonomia/sillas-ergonomicas/review-individual/songmics-obn55bk/\",\n",
    "\"https://sillasybienestar.com/ergonomia/sillas-ergonomicas/review-individual/cashoffice-silla-ergonomica/\",\n",
    "\"https://sillasybienestar.com/ergonomia/sillas-ergonomicas/review-individual/cedric/\",\n",
    "\"https://sillasybienestar.com/ergonomia/sillas-ergonomicas/review-individual/noblewell/\",\n",
    "\"https://sillasybienestar.com/ergonomia/sillas-ergonomicas/review-individual/sihoo-lb14/\",\n",
    "\"https://sillasybienestar.com/ergonomia/sillas-ergonomicas/review-individual/ronda-silla-espanola/\",\n",
    "\"https://sillasybienestar.com/ergonomia/sillas-ergonomicas/review-individual/diablo-v-master/\",\n",
    "\"https://sillasybienestar.com/ergonomia/sillas-ergonomicas/review-individual/diablo-v-basic/\",\n",
    "\"https://sillasybienestar.com/ergonomia/sillas-ergonomicas/review-individual/songmics-obn61bkv1/\",\n",
    "\"https://sillasybienestar.com/ergonomia/sillas-ergonomicas/review-individual/hbada-reposapies/\",\n",
    "\"https://sillasybienestar.com/ergonomia/sillas-ergonomicas/review-individual/songmics-obn86bk/\",\n",
    "\"https://sillasybienestar.com/ergonomia/sillas-ergonomicas/review-individual/femor/\",\n",
    "\"https://sillasybienestar.com/ergonomia/sillas-ergonomicas/review-individual/hbada-reposabrazos/\",\n",
    "\"https://sillasybienestar.com/ergonomia/sillas-ergonomicas/review-individual/mfavour/\",\n",
    "\"https://sillasybienestar.com/ergonomia/sillas-ergonomicas/review-individual/umi/\"   \n",
    "]"
   ]
  },
  {
   "cell_type": "code",
   "execution_count": 4,
   "id": "608eb110",
   "metadata": {},
   "outputs": [],
   "source": [
    "#If want to add a new URL to the \"ergonomia\" category\n",
    "def new_url_ergo(new_url):\n",
    "    urls_ergonomia.append(new_url)\n",
    "    return \"new url 'ergonomia' added\""
   ]
  },
  {
   "cell_type": "code",
   "execution_count": 5,
   "id": "31433083",
   "metadata": {},
   "outputs": [],
   "source": [
    "urls_oficina = [\n",
    "\"https://sillasybienestar.com/oficina-y-escritorio/sillas-de-oficina/review-individual/songmics-obn52bk/\",\n",
    "\"https://sillasybienestar.com/oficina-y-escritorio/sillas-de-oficina/review-individual/songmics-obn22bk/\",\n",
    "\"https://sillasybienestar.com/oficina-y-escritorio/sillas-de-oficina/review-individual/allguest-cedric/\",\n",
    "\"https://sillasybienestar.com/oficina-y-escritorio/sillas-de-oficina/review-individual/hbada-hdny108bm-eu/\",\n",
    "\"https://sillasybienestar.com/oficina-y-escritorio/sillas-de-oficina/review-individual/intimate-wm-heart-sillon-b07x8tqh96/\",\n",
    "\"https://sillasybienestar.com/oficina-y-escritorio/sillas-de-oficina/review-individual/vinsetto-sillon-de-oficina-azul-claro/\",\n",
    "\"https://sillasybienestar.com/oficina-y-escritorio/sillas-de-oficina/review-individual/exofcer-mc6310/\",\n",
    "\"https://sillasybienestar.com/oficina-y-escritorio/sillas-de-oficina/review-individual/songmics-obg24b/\"\n",
    "]"
   ]
  },
  {
   "cell_type": "code",
   "execution_count": 6,
   "id": "40f338e7",
   "metadata": {},
   "outputs": [],
   "source": [
    "#If want to add a new URL to the \"oficina\" category\n",
    "def new_url_oficina(new_url):\n",
    "    urls_oficina.append(new_url)\n",
    "    return \"new url 'oficina' added\""
   ]
  },
  {
   "cell_type": "code",
   "execution_count": 7,
   "id": "9534bd6b",
   "metadata": {},
   "outputs": [],
   "source": [
    "urls_rodilla = [\n",
    "\"https://sillasybienestar.com/ergonomia/sillas-de-rodillas/review-individual/duehome/\",\n",
    "\"https://sillasybienestar.com/ergonomia/sillas-de-rodillas/review-individual/himimi-silla-de-rodillas/\",\n",
    "\"https://sillasybienestar.com/ergonomia/sillas-de-rodillas/review-individual/varier/\",\n",
    "\"https://sillasybienestar.com/ergonomia/sillas-de-rodillas/review-individual/cinius/\"\n",
    "]"
   ]
  },
  {
   "cell_type": "code",
   "execution_count": 8,
   "id": "0b5c211f",
   "metadata": {},
   "outputs": [],
   "source": [
    "#If want to add a new URL to the \"rodilla\" category\n",
    "def new_url_rodilla(new_url):\n",
    "    urls_rodilla.append(new_url)\n",
    "    return \"new url 'rodilla' added\""
   ]
  },
  {
   "cell_type": "code",
   "execution_count": 9,
   "id": "eeebee12",
   "metadata": {},
   "outputs": [],
   "source": [
    "urls_gaming = [\n",
    "\"https://sillasybienestar.com/gaming/sillas-gaming/review-individual/gtplayer-rosa/\",\n",
    "\"https://sillasybienestar.com/gaming/sillas-gaming/review-individual/diablo-x-gamer-2-0/\",\n",
    "\"https://sillasybienestar.com/gaming/sillas-gaming/review-individual/intimate-wm-heart-silla-gamer-barata/\",\n",
    "\"https://sillasybienestar.com/gaming/sillas-gaming/review-individual/nokaxus-yk-6008-rosa/\",\n",
    "\"https://sillasybienestar.com/gaming/sillas-gaming/review-individual/newskill-nayuki/\",\n",
    "\"https://sillasybienestar.com/gaming/sillas-gaming/review-individual/silla-gamer-bgeu-a136-sencillez-y-buen-precio-ofertas-2021/\",\n",
    "\"https://sillasybienestar.com/gaming/sillas-gaming/review-individual/autofull-pink-bunny/\",\n",
    "\"https://sillasybienestar.com/gaming/sillas-gaming/review-individual/adec-drw/\",\n",
    "\"https://sillasybienestar.com/gaming/sillas-gaming/review-individual/femor-gaming/\",\n",
    "\"https://sillasybienestar.com/gaming/sillas-gaming/review-individual/hbada-gaming-hdjy001bmj-cb/\",\n",
    "\"https://sillasybienestar.com/gaming/sillas-gaming/review-individual/intimate-wm-heart-gaming/\",\n",
    "\"https://sillasybienestar.com/gaming/sillas-gaming/review-individual/corsair-t3-rush/\",\n",
    "\"https://sillasybienestar.com/gaming/sillas-gaming/review-individual/dxracer-king-ks06/\",\n",
    "\"https://sillasybienestar.com/gaming/sillas-gaming/review-individual/diablo-x-horn/\",\n",
    "\"https://sillasybienestar.com/gaming/sillas-gaming/review-individual/diablo-x-ray/\",\n",
    "\"https://sillasybienestar.com/gaming/sillas-gaming/review-individual/dxracer-formula-f08/\",\n",
    "\"https://sillasybienestar.com/gaming/sillas-gaming/review-individual/newskill-kitsune/\",\n",
    "\"https://sillasybienestar.com/gaming/sillas-gaming/review-individual/newskill-takamikura/\"\n",
    "#\"https://sillasybienestar.com/gaming/sillas-gaming/review-individual/songmics-racing/\" - no usamos\n",
    "]"
   ]
  },
  {
   "cell_type": "code",
   "execution_count": 10,
   "id": "761b99b2",
   "metadata": {},
   "outputs": [],
   "source": [
    "#If want to add a new URL to the \"gaming\" category\n",
    "def new_url_gaming(new_url):\n",
    "    urls_gaming.append(new_url)\n",
    "    return \"new url 'gaming' added\""
   ]
  },
  {
   "cell_type": "code",
   "execution_count": 11,
   "id": "452bfa88",
   "metadata": {},
   "outputs": [],
   "source": [
    "#JOIN all the urls\n",
    "def full_urls(urls_ergonomia, urls_oficina, urls_rodilla, urls_gaming):\n",
    "    urls_products_list_list = urls_ergonomia + urls_oficina + urls_rodilla + urls_gaming\n",
    "    return urls_products_list_list\n",
    "    \n",
    "urls_products_list = full_urls(urls_ergonomia, urls_oficina, urls_rodilla, urls_gaming)"
   ]
  },
  {
   "cell_type": "markdown",
   "id": "5c6a9d74",
   "metadata": {},
   "source": [
    "### web scrapping"
   ]
  },
  {
   "cell_type": "markdown",
   "id": "4e8fba5a",
   "metadata": {},
   "source": [
    "Obtain the HTML of all our URLs"
   ]
  },
  {
   "cell_type": "code",
   "execution_count": 12,
   "id": "e9c25fd4",
   "metadata": {},
   "outputs": [],
   "source": [
    "def parsed_content(urls_products_list):\n",
    "    parsed_products_content_list = [bs4.BeautifulSoup(requests.get(i).content, \"html.parser\") for i in urls_products_list]\n",
    "    return parsed_products_content_list\n",
    "\n",
    "parsed_products_content_list = parsed_content(urls_products_list)"
   ]
  },
  {
   "cell_type": "markdown",
   "id": "d7f339b5",
   "metadata": {},
   "source": [
    "Obtain the price info of its class"
   ]
  },
  {
   "cell_type": "code",
   "execution_count": 13,
   "id": "2aec7909",
   "metadata": {},
   "outputs": [],
   "source": [
    "def parsed_price_class(parsed_products_content_list):\n",
    "    parsed_products_price_class = [i.find_all(\"span\",{\"class\":\"aawp-product__price aawp-product__price--current\"})[0].text for i in parsed_products_content_list]\n",
    "    return parsed_products_price_class\n",
    "\n",
    "parsed_products_price_class = parsed_price_class(parsed_products_content_list)"
   ]
  },
  {
   "cell_type": "markdown",
   "id": "ef4135f8",
   "metadata": {},
   "source": [
    "Obtain the final price"
   ]
  },
  {
   "cell_type": "code",
   "execution_count": 14,
   "id": "16c6b4ac",
   "metadata": {},
   "outputs": [],
   "source": [
    "def product_price(parsed_products_content_list,urls_products_list):\n",
    "    final_price_products_list =[]\n",
    "    for i,e in zip(parsed_products_content_list, range(len(urls_products_list))):\n",
    "        try:\n",
    "            i.find_all(\"div\",{\"class\":\"wp-block-media-text__content\"})[0]\n",
    "            #if it fails the except is executed\n",
    "        except:\n",
    "            if  urls_products_list[e] == \"https://sillasybienestar.com/ergonomia/sillas-ergonomicas/review-individual/mfavour/\":\n",
    "                price_supuesto_0 = i.find_all(\"span\",{\"class\":\"aawp-product__price aawp-product__price--current\"})[0].text\n",
    "                price_supuesto_0_cleaned = re.sub(\"[^\\d|\\,]\",\"\",str(price_supuesto_0)).replace(\",\",\".\")\n",
    "                final_price_products_list.append(float(price_supuesto_0_cleaned))\n",
    "            else:\n",
    "                final_price_products_list.append(-1)\n",
    "                print(\"revisar funcion price, valor con -1\")\n",
    "        else:\n",
    "            if i.find_all(\"div\",{\"class\":\"wp-block-media-text__content\"})[0].text.strip() == \"No products found.\":\n",
    "                final_price_products_list.append(0)\n",
    "            elif i.find_all(\"span\",{\"class\":\"aawp-product__price aawp-product__price--current\"})[0].text == \"\":\n",
    "                final_price_products_list.append(0)\n",
    "            elif i.find_all(\"span\",{\"class\":\"aawp-product__price aawp-product__price--current\"})[0].text != \"\":\n",
    "                price_supuesto_1 = i.find_all(\"span\",{\"class\":\"aawp-product__price aawp-product__price--current\"})[0].text\n",
    "                price_supuesto_1_cleaned = re.sub(\"[^\\d|\\,]\",\"\",str(price_supuesto_1)).replace(\",\",\".\")\n",
    "                final_price_products_list.append(float(price_supuesto_1_cleaned))\n",
    "            else:\n",
    "                print(\"revisar funcion price\")\n",
    "    return final_price_products_list\n",
    "\n",
    "final_price_products_list = product_price(parsed_products_content_list,urls_products_list)"
   ]
  },
  {
   "cell_type": "markdown",
   "id": "9d13e23f",
   "metadata": {},
   "source": [
    "Obtain if the product is out of stock or discontinued"
   ]
  },
  {
   "cell_type": "code",
   "execution_count": 15,
   "id": "ff467b8a",
   "metadata": {},
   "outputs": [],
   "source": [
    "def product_status(parsed_products_content_list,urls_products_list):\n",
    "    final_price_products_status =[]\n",
    "    for i,e in zip(parsed_products_content_list, range(len(urls_products_list))):\n",
    "        try:\n",
    "            i.find_all(\"div\",{\"class\":\"wp-block-media-text__content\"})[0]\n",
    "            #if it fails the except is executed\n",
    "        except:\n",
    "            if  urls_products_list[e] == \"https://sillasybienestar.com/ergonomia/sillas-ergonomicas/review-individual/mfavour/\":\n",
    "                final_price_products_status.append(\"correcto\")\n",
    "            else:\n",
    "                print(\"revisar funcion price, valor con -1\")\n",
    "                final_price_products_status.append(\"revisar\")\n",
    "        else:\n",
    "            if i.find_all(\"div\",{\"class\":\"wp-block-media-text__content\"})[0].text.strip() == \"No products found.\":\n",
    "                final_price_products_status.append(\"descatalogado\")\n",
    "            elif i.find_all(\"span\",{\"class\":\"aawp-product__price aawp-product__price--current\"})[0].text == \"\":\n",
    "                final_price_products_status.append(\"sin_stock\")\n",
    "            elif i.find_all(\"span\",{\"class\":\"aawp-product__price aawp-product__price--current\"})[0].text != \"\":\n",
    "                final_price_products_status.append(\"correcto\")\n",
    "            else:\n",
    "                print(\"revisar funcion price\")\n",
    "    return final_price_products_status\n",
    "\n",
    "final_price_products_status = product_status(parsed_products_content_list,urls_products_list)"
   ]
  },
  {
   "cell_type": "markdown",
   "id": "1658e9f1",
   "metadata": {},
   "source": [
    "Create a function to handle possible erros in the product information"
   ]
  },
  {
   "cell_type": "code",
   "execution_count": 16,
   "id": "4c9b6ccc",
   "metadata": {},
   "outputs": [],
   "source": [
    "def handling_error_vars_product(i,text):\n",
    "    try:\n",
    "        str(i).split(text)[1]\n",
    "    except:\n",
    "        return \"none\"\n",
    "    else:\n",
    "        return str(i).split(text)[1].split(\"';\")[0].strip()"
   ]
  },
  {
   "cell_type": "markdown",
   "id": "e66a4a5b",
   "metadata": {},
   "source": [
    "Obtain the NAME of the different products"
   ]
  },
  {
   "cell_type": "code",
   "execution_count": 17,
   "id": "244c899e",
   "metadata": {},
   "outputs": [],
   "source": [
    "def product_name(parsed_products_content_list):\n",
    "    \n",
    "    def handling_error_vars_product(i,text):\n",
    "        try:\n",
    "            str(i).split(text)[1]\n",
    "        except:\n",
    "            return \"none\"\n",
    "        else:\n",
    "            return str(i).split(text)[1].split(\"';\")[0].strip()\n",
    "    \n",
    "    final_name_products = [handling_error_vars_product(i,\"ficha_product_name='\") for i in parsed_products_content_list]\n",
    "    return final_name_products\n",
    "\n",
    "final_name_products = product_name(parsed_products_content_list)"
   ]
  },
  {
   "cell_type": "markdown",
   "id": "1a4058aa",
   "metadata": {},
   "source": [
    "Obtain the ID of the different products"
   ]
  },
  {
   "cell_type": "code",
   "execution_count": 18,
   "id": "b1f9f8c8",
   "metadata": {},
   "outputs": [],
   "source": [
    "def product_id(parsed_products_content_list):\n",
    "\n",
    "    def handling_error_vars_product(i,text):\n",
    "        try:\n",
    "            str(i).split(text)[1]\n",
    "        except:\n",
    "            return \"none\"\n",
    "        else:\n",
    "            return str(i).split(text)[1].split(\"';\")[0].strip()\n",
    "        \n",
    "    final_id_products = [handling_error_vars_product(i,\"ficha_product_id='\") for i in parsed_products_content_list]\n",
    "    return final_id_products\n",
    "\n",
    "final_id_products = product_id(parsed_products_content_list)"
   ]
  },
  {
   "cell_type": "markdown",
   "id": "5d87e7b6",
   "metadata": {},
   "source": [
    "Obtain the BRAND of the different products"
   ]
  },
  {
   "cell_type": "code",
   "execution_count": 19,
   "id": "dede00ce",
   "metadata": {},
   "outputs": [],
   "source": [
    "def product_brand(parsed_products_content_list):\n",
    "\n",
    "    def handling_error_vars_product(i,text):\n",
    "        try:\n",
    "            str(i).split(text)[1]\n",
    "        except:\n",
    "            return \"none\"\n",
    "        else:\n",
    "            return str(i).split(text)[1].split(\"';\")[0].strip()\n",
    "    \n",
    "    final_brand_products = [handling_error_vars_product(i,\"ficha_product_brand='\") for i in parsed_products_content_list]\n",
    "    return final_brand_products\n",
    "\n",
    "final_brand_products = product_brand(parsed_products_content_list)"
   ]
  },
  {
   "cell_type": "markdown",
   "id": "91618aa6",
   "metadata": {},
   "source": [
    "Obtain the DATE of the current day in different formats"
   ]
  },
  {
   "cell_type": "markdown",
   "id": "416f22eb",
   "metadata": {},
   "source": [
    "1. With HYPHEN. Ex: 2022-04-14"
   ]
  },
  {
   "cell_type": "code",
   "execution_count": 20,
   "id": "856ce5eb",
   "metadata": {},
   "outputs": [],
   "source": [
    "def product_date_hyphen(parsed_products_content_list):\n",
    "\n",
    "    def handling_error_vars_product(i,text):\n",
    "        try:\n",
    "            str(i).split(text)[1]\n",
    "        except:\n",
    "            return \"none\"\n",
    "        else:\n",
    "            return str(i).split(text)[1].split(\"';\")[0].strip()\n",
    "        \n",
    "    final_date_hyphen_products = [datetime.today().strftime('%Y-%m-%d') for i in range(len(urls_products_list))]\n",
    "    return final_date_hyphen_products\n",
    "\n",
    "final_date_hyphen_products = product_date_hyphen(parsed_products_content_list)"
   ]
  },
  {
   "cell_type": "markdown",
   "id": "30834949",
   "metadata": {},
   "source": [
    "2. With SLASH. Ex: 2022/04/14"
   ]
  },
  {
   "cell_type": "code",
   "execution_count": 21,
   "id": "d461fea5",
   "metadata": {},
   "outputs": [],
   "source": [
    "def product_date_slash(parsed_products_content_list):\n",
    "\n",
    "    def handling_error_vars_product(i,text):\n",
    "        try:\n",
    "            str(i).split(text)[1]\n",
    "        except:\n",
    "            return \"none\"\n",
    "        else:\n",
    "            return str(i).split(text)[1].split(\"';\")[0].strip()\n",
    "        \n",
    "    final_date_slash_products = [datetime.today().strftime('%Y/%m/%d') for i in range(len(urls_products_list))]\n",
    "    return final_date_slash_products\n",
    "\n",
    "final_date_slash_products = product_date_slash(parsed_products_content_list)"
   ]
  },
  {
   "cell_type": "markdown",
   "id": "d2168b16",
   "metadata": {},
   "source": [
    "3. Without symbols. Ex: 20220414"
   ]
  },
  {
   "cell_type": "code",
   "execution_count": 22,
   "id": "f146ec73",
   "metadata": {},
   "outputs": [],
   "source": [
    "def product_date_number(parsed_products_content_list):\n",
    "\n",
    "    def handling_error_vars_product(i,text):\n",
    "        try:\n",
    "            str(i).split(text)[1]\n",
    "        except:\n",
    "            return \"none\"\n",
    "        else:\n",
    "            return str(i).split(text)[1].split(\"';\")[0].strip()\n",
    "        \n",
    "    final_date_number_products = [int(datetime.today().strftime('%Y%m%d')) for i in range(len(urls_products_list))]\n",
    "    return final_date_number_products\n",
    "\n",
    "final_date_number_products = product_date_number(parsed_products_content_list)"
   ]
  },
  {
   "cell_type": "markdown",
   "id": "1523001e",
   "metadata": {},
   "source": [
    "# B. p_wrangling"
   ]
  },
  {
   "cell_type": "markdown",
   "id": "82ef17ba",
   "metadata": {},
   "source": [
    "## Create the DATAFRAME"
   ]
  },
  {
   "cell_type": "markdown",
   "id": "e58731bf",
   "metadata": {},
   "source": [
    "### a) Full DataFrame with a daily injection of the new scraped data"
   ]
  },
  {
   "cell_type": "code",
   "execution_count": 23,
   "id": "6931cf55",
   "metadata": {},
   "outputs": [
    {
     "name": "stdout",
     "output_type": "stream",
     "text": [
      "spreadsheet conection done\n"
     ]
    }
   ],
   "source": [
    "def conection_spreadsheet(scopes, credentials_location):\n",
    "    scopes = scopes\n",
    "    credentials = Credentials.from_service_account_file(\n",
    "        credentials_location,\n",
    "        scopes=scopes\n",
    "    )\n",
    "    gc = gspread.authorize(credentials)\n",
    "    #If we want to host our credentials in a server we have to do the next code:\n",
    "    # gc = gspread.service_account(filename='https://www.path/to/the/downloaded/file.json')\n",
    "    print(\"spreadsheet conection done\")\n",
    "    return gc\n",
    "\n",
    "gc = conection_spreadsheet([\"https://spreadsheets.google.com/feeds\",\n",
    "         'https://www.googleapis.com/auth/spreadsheets',\n",
    "         \"https://www.googleapis.com/auth/drive.file\",\n",
    "         \"https://www.googleapis.com/auth/drive\"], '../credentials/credentials.json')"
   ]
  },
  {
   "cell_type": "markdown",
   "id": "16f8715a",
   "metadata": {},
   "source": [
    "#### Step 1: Create or define the dataFrame\n",
    "\n",
    " - From a CSV if it exists\n",
    " - If not, from spreadsheets\n",
    " - If not, from this notebook\n",
    " - If not, we have to create a empty dataFrame"
   ]
  },
  {
   "cell_type": "code",
   "execution_count": 24,
   "id": "32133a3c",
   "metadata": {},
   "outputs": [
    {
     "name": "stdout",
     "output_type": "stream",
     "text": [
      "df_single created through csv\n"
     ]
    }
   ],
   "source": [
    "def main_df(location,gc):\n",
    "#1. From a CSV if it exists\n",
    "    try:\n",
    "        df_single = pd.read_csv(location)\n",
    "        print(\"df_single created through csv\")\n",
    "        return df_single\n",
    "    \n",
    "#2. If not, from spreadsheets    \n",
    "    except: #if the except is executed, the try has given an error, so it does not exist in csv (we use the spreadsheets backup)   \n",
    "        try:\n",
    "            sheet = gc.open(\"business_afi_scraping_df_single\").sheet1  #Abrir spreadhseet\n",
    "            data_from_spreadsheets = sheet.get_all_records()  #Obtener todos los registros\n",
    "            df_single = pd.DataFrame(data_from_spreadsheets)\n",
    "            print(\"df_single created through spreadsheet\")\n",
    "            return df_single\n",
    "        \n",
    "#3. If not, from this notebook\n",
    "        except: #if the except is executed, the try has given an error, so let's see if it was already created in the notebook       \n",
    "            try:\n",
    "                df_single.head()\n",
    "                print(\"df_single created through this notebook\")\n",
    "                return df_single\n",
    "            \n",
    "#4. If not, we have to create a empty dataFrame\n",
    "            except: #if it gives an error, it does not exist in the notebook and we will create it from scratch\n",
    "                columns = [\"date_hyphen\",\"date_slash\",\"date_number\",\"product_name\",\"product_id\",\"product_brand\",\"price\",\"status\",\"url\"]\n",
    "                df_single = pd.DataFrame(columns=columns)\n",
    "                print(\"df_single created through zero\")\n",
    "                return df_single\n",
    "            else: #if there is no error, it exists in the notebook and we will do nothing\n",
    "                pass\n",
    "            \n",
    "        else: #if it doesn't give an error, it exists in spreadsheets and we won't do anything\n",
    "            pass\n",
    "            \n",
    "    else: #f it doesn't give an error, it exists in csv and we won't do anything\n",
    "        pass\n",
    "\n",
    "df_single = main_df(\"../files/df_single.csv\",gc)"
   ]
  },
  {
   "cell_type": "markdown",
   "id": "f784fb5b",
   "metadata": {},
   "source": [
    "#### Step 2: Append new records in the df_single dataFrame - pd.concat()"
   ]
  },
  {
   "cell_type": "code",
   "execution_count": 25,
   "id": "31cb3825",
   "metadata": {},
   "outputs": [],
   "source": [
    "def df_append_new_files(final_date_hyphen_products,final_date_slash_products,final_date_number_products,final_name_products,final_id_products,final_brand_products,final_price_products_list,final_price_products_status,urls_products_list):\n",
    "    df_append_new_files = pd.DataFrame({\n",
    "        \"date_hyphen\":final_date_hyphen_products,\n",
    "        \"date_slash\":final_date_slash_products,\n",
    "        \"date_number\":final_date_number_products,\n",
    "        \"product_name\":final_name_products,\n",
    "        \"product_id\":final_id_products,\n",
    "        \"product_brand\":final_brand_products,\n",
    "        \"price\":final_price_products_list,\n",
    "        \"status\":final_price_products_status,\n",
    "        \"url\": urls_products_list\n",
    "    })\n",
    "    df_append_new_files[\"price\"] = df_append_new_files[\"price\"].astype(\"int64\")\n",
    "    \n",
    "    return df_append_new_files\n",
    "\n",
    "df_append_new_files = df_append_new_files(final_date_hyphen_products,final_date_slash_products,final_date_number_products,final_name_products,final_id_products,final_brand_products,final_price_products_list,final_price_products_status,urls_products_list)"
   ]
  },
  {
   "cell_type": "code",
   "execution_count": 26,
   "id": "94015d3c",
   "metadata": {},
   "outputs": [],
   "source": [
    "def concat_df(df_single,df_append_new_files):\n",
    "    if df_single.empty == True:\n",
    "        df_single = pd.concat([df_single, df_append_new_files], ignore_index=True)\n",
    "        return df_single\n",
    "    elif df_append_new_files[\"date_hyphen\"][0] == df_single[\"date_hyphen\"][len(df_single)-1]:\n",
    "        return df_single\n",
    "    elif df_append_new_files[\"date_hyphen\"][0] != df_single[\"date_hyphen\"][len(df_single)-1]:\n",
    "        df_single = pd.concat([df_single, df_append_new_files], ignore_index=True)\n",
    "        return df_single\n",
    "    \n",
    "df_single = concat_df(df_single,df_append_new_files)"
   ]
  },
  {
   "cell_type": "markdown",
   "id": "a7d5d73f",
   "metadata": {},
   "source": [
    "### b) Clean and Prepare the dataFrame"
   ]
  },
  {
   "cell_type": "code",
   "execution_count": 27,
   "id": "fda3b008",
   "metadata": {},
   "outputs": [],
   "source": [
    "def corregir_gam_name(url,product_name):\n",
    "    if url == \"https://sillasybienestar.com/gaming/sillas-gaming/review-individual/intimate-wm-heart-gaming/\" and product_name == \"none\":\n",
    "        return \"intimate wm heat  Racing Silla Gamer\"\n",
    "    else:\n",
    "        return product_name\n",
    "        \n",
    "def corregir_gam_id(url,product_id):\n",
    "    if url == \"https://sillasybienestar.com/gaming/sillas-gaming/review-individual/intimate-wm-heart-gaming/\" and product_id == \"none\":\n",
    "        return \"B075CK3GVJ\"\n",
    "    else:\n",
    "        return product_id\n",
    "        \n",
    "def corregir_gam_brand(url,product_brand):\n",
    "    if url == \"https://sillasybienestar.com/gaming/sillas-gaming/review-individual/intimate-wm-heart-gaming/\" and product_brand == \"none\":\n",
    "        return \"intimate wm heat\"\n",
    "    else:\n",
    "        return product_brand\n",
    "\n",
    "    \n",
    "def corregir_gam_name_hbada_rep(url,product_name):\n",
    "    if url == \"https://sillasybienestar.com/ergonomia/sillas-ergonomicas/review-individual/hbada-reposabrazos/\" and product_name == \"none\":\n",
    "        return \"Hbada B07V51M94R\"\n",
    "    else:\n",
    "        return product_name\n",
    "        \n",
    "def corregir_gam_id_hbada_rep(url,product_id):\n",
    "    if url == \"https://sillasybienestar.com/ergonomia/sillas-ergonomicas/review-individual/hbada-reposabrazos/\" and product_id == \"none\":\n",
    "        return \"B07V51M94R\"\n",
    "    else:\n",
    "        return product_id\n",
    "        \n",
    "def corregir_gam_brand_hbada_rep(url,product_brand):\n",
    "    if url == \"https://sillasybienestar.com/ergonomia/sillas-ergonomicas/review-individual/hbada-reposabrazos/\" and product_brand == \"none\":\n",
    "        return \"Hbada\"\n",
    "    else:\n",
    "        return product_brand"
   ]
  },
  {
   "cell_type": "code",
   "execution_count": 28,
   "id": "f84afb7c",
   "metadata": {},
   "outputs": [],
   "source": [
    "def correction_df_single(df_single):\n",
    "    #intimate wm heat  Racing Silla Gamer\n",
    "    df_single[\"product_name\"] = df_single.apply(lambda df_single: corregir_gam_name(df_single[\"url\"], df_single[\"product_name\"]), axis=1)\n",
    "    df_single[\"product_id\"] = df_single.apply(lambda df_single: corregir_gam_id(df_single[\"url\"], df_single[\"product_id\"]), axis=1)\n",
    "    df_single[\"product_brand\"] = df_single.apply(lambda df_single: corregir_gam_brand(df_single[\"url\"], df_single[\"product_brand\"]), axis=1)\n",
    "\n",
    "    #Hbada B07V51M94R\n",
    "    df_single[\"product_name\"] = df_single.apply(lambda df_single: corregir_gam_name_hbada_rep(df_single[\"url\"], df_single[\"product_name\"]), axis=1)\n",
    "    df_single[\"product_id\"] = df_single.apply(lambda df_single: corregir_gam_id_hbada_rep(df_single[\"url\"], df_single[\"product_id\"]), axis=1)\n",
    "    df_single[\"product_brand\"] = df_single.apply(lambda df_single: corregir_gam_brand_hbada_rep(df_single[\"url\"], df_single[\"product_brand\"]), axis=1)\n",
    "\n",
    "    return df_single\n",
    "\n",
    "df_single = correction_df_single(df_single)"
   ]
  },
  {
   "cell_type": "markdown",
   "id": "9e094f2c",
   "metadata": {},
   "source": [
    "### c) Create the price main of each product"
   ]
  },
  {
   "cell_type": "code",
   "execution_count": 29,
   "id": "88422231",
   "metadata": {},
   "outputs": [],
   "source": [
    "def product_mean_dic(df_single):\n",
    "    product_id_list_mean = df_single[\"product_id\"].unique().tolist()\n",
    "    mean_dic = {}\n",
    "    for i in product_id_list_mean:\n",
    "        mean_dic[i] = int(round(df_single[df_single[\"product_id\"] == i][\"price\"].mean(),0))\n",
    "    return mean_dic\n",
    "\n",
    "product_mean = product_mean_dic(df_single### b) Clean and Prepare the dataFrame\n",
    ")"
   ]
  },
  {
   "cell_type": "code",
   "execution_count": 30,
   "id": "25b9a57f",
   "metadata": {},
   "outputs": [],
   "source": [
    "def product_mean_dic_to_df(df_single,product_mean):\n",
    "    df_single[\"product_mean\"] = df_single[\"product_id\"].apply(lambda x: product_mean[x])\n",
    "    return df_single\n",
    "\n",
    "df_single = product_mean_dic_to_df(df_single,product_mean)"
   ]
  },
  {
   "cell_type": "code",
   "execution_count": 31,
   "id": "9a60043d",
   "metadata": {},
   "outputs": [],
   "source": [
    "def product_mean_status_func_values(product_price,product_mean):\n",
    "    if product_price < product_mean and product_price > 0:\n",
    "        return \"precio por debajo de la media\"\n",
    "    elif product_price > product_mean and product_price > 0:\n",
    "        return \"precio por encima de la media\"\n",
    "    elif product_price == product_mean and product_price > 0:\n",
    "        return \"precio igual que la media\"\n",
    "    elif product_price == 0:\n",
    "        return \"producto descatalogado o sin stock\"\n",
    "    else:\n",
    "        return \"revisar, aviso\""
   ]
  },
  {
   "cell_type": "code",
   "execution_count": 32,
   "id": "255a9f80",
   "metadata": {},
   "outputs": [],
   "source": [
    "def product_mean_status_func_apply(df_single):\n",
    "    df_single[\"product_mean_status\"] = df_single.apply(lambda x: product_mean_status_func_values(x[\"price\"], x[\"product_mean\"]), axis=1)\n",
    "    return df_single\n",
    "\n",
    "df_single = product_mean_status_func_apply(df_single)"
   ]
  },
  {
   "cell_type": "markdown",
   "id": "42f0aaff",
   "metadata": {},
   "source": [
    "### d) Create the category of each product"
   ]
  },
  {
   "cell_type": "code",
   "execution_count": 33,
   "id": "06cfe53d",
   "metadata": {},
   "outputs": [],
   "source": [
    "def categories_url(product_url):\n",
    "    if \"/ergonomia/sillas-ergonomicas/review-individual/\" in product_url:\n",
    "        return \"ergonomia\"\n",
    "    elif \"/oficina-y-escritorio/sillas-de-oficina/review-individual/\" in product_url:\n",
    "        return \"oficina\"\n",
    "    elif \"/ergonomia/sillas-de-rodillas/review-individual/\" in product_url:\n",
    "        return \"rodilla\"\n",
    "    elif \"/gaming/sillas-gaming/review-individual/\" in product_url:\n",
    "        return \"gaming\"\n",
    "    else:\n",
    "        return \"alerta sin categoria\""
   ]
  },
  {
   "cell_type": "code",
   "execution_count": 34,
   "id": "318e10d8",
   "metadata": {},
   "outputs": [],
   "source": [
    "def product_category(df_single):\n",
    "    df_single[\"product_category\"] = df_single[\"url\"].apply(categories_url)\n",
    "    return df_single\n",
    "\n",
    "df_single = product_category(df_single)"
   ]
  },
  {
   "cell_type": "markdown",
   "id": "55532e1e",
   "metadata": {},
   "source": [
    "## EXPORT the dataFrames to CSVs"
   ]
  },
  {
   "cell_type": "code",
   "execution_count": 35,
   "id": "88d29e74",
   "metadata": {},
   "outputs": [
    {
     "data": {
      "text/plain": [
       "'files exported successfully'"
      ]
     },
     "execution_count": 35,
     "metadata": {},
     "output_type": "execute_result"
    }
   ],
   "source": [
    "def export_files(df_single, df_append_new_files):\n",
    "    df_single_to_csv = df_single.to_csv(\"../files/df_single.csv\", sep=\",\", index=False)\n",
    "    df_append_new_files_to_csv = df_append_new_files.to_csv(\"../files/df_append_new_files_last_day.csv\", sep=\",\", index=False)#+str(datetime.today().strftime('%Y-%m-%d'))+\".csv\", sep=\",\", index=False)\n",
    "    out_of_stock_df = df_append_new_files[df_append_new_files[\"status\"] != \"correcto\"]\n",
    "    out_of_stock_df_to_csv = out_of_stock_df.to_csv(\"../files/out_of_stock_last_day.csv\", sep=\",\", index=False)\n",
    "    \n",
    "    none_values = df_single[df_single[\"product_name\"]==\"none\"].any().unique().tolist()\n",
    "    if none_values == [True]:\n",
    "        none_values_df = df_single[df_single[\"product_name\"]==\"none\"]\n",
    "        none_values_df_to_csv = none_values_df.to_csv(\"../files/non_values_last_day.csv\", sep=\",\", index=False)\n",
    "    \n",
    "    return \"files exported successfully\"\n",
    "\n",
    "export = export_files(df_single, df_append_new_files)\n",
    "export"
   ]
  },
  {
   "cell_type": "markdown",
   "id": "61347c3a",
   "metadata": {},
   "source": [
    "# C. p_analysis"
   ]
  },
  {
   "cell_type": "markdown",
   "id": "3c28008b",
   "metadata": {},
   "source": [
    "We are going to study the values looking for errors to create alerts via email"
   ]
  },
  {
   "cell_type": "markdown",
   "id": "943bb8a7",
   "metadata": {},
   "source": [
    "### - EMAIL ALERTS"
   ]
  },
  {
   "cell_type": "code",
   "execution_count": 50,
   "id": "d9db06ad",
   "metadata": {},
   "outputs": [],
   "source": [
    "def business_afi_email_sender(receiver_email, filename_location, csv_name, body_email):\n",
    "\n",
    "    subject = \"sillas y bienestar | \"+ csv_name + \" | \" + str(datetime.today().strftime('%Y-%m-%d'))\n",
    "    body = body_email \n",
    "    sender_email = \"businessafiliacion@gmail.com\"\n",
    "    receiver_email = receiver_email\n",
    "    password = email_key\n",
    "    \n",
    "    # Create a multipart message and set headers\n",
    "    message = MIMEMultipart()\n",
    "    message[\"From\"] = sender_email\n",
    "    message[\"To\"] = receiver_email\n",
    "    message[\"Subject\"] = subject\n",
    "    message[\"Bcc\"] = receiver_email  # Recommended for mass emails\n",
    "    \n",
    "    # Add body to email\n",
    "    message.attach(MIMEText(body, \"plain\"))\n",
    "    \n",
    "    filename = filename_location\n",
    "    \n",
    "    # Open PDF file in binary mode\n",
    "    with open(filename, \"rb\") as attachment:\n",
    "        # Add file as application/octet-stream\n",
    "        # Email client can usually download this automatically as attachment\n",
    "        part = MIMEBase(\"application\", \"octet-stream\")\n",
    "        part.set_payload(attachment.read())\n",
    "    \n",
    "    # Encode file in ASCII characters to send by email    \n",
    "    encoders.encode_base64(part)\n",
    "    \n",
    "    # Add header as key/value pair to attachment part\n",
    "    part.add_header(\n",
    "        \"Content-Disposition\",\n",
    "        f\"attachment; filename= {filename}\",\n",
    "    )     \n",
    "    \n",
    "    # Add attachment to message and convert message to string\n",
    "    message.attach(part)\n",
    "    text = message.as_string()\n",
    "\n",
    "    # Log in to server using secure context and send email\n",
    "    context = ssl.create_default_context()\n",
    "    with smtplib.SMTP_SSL(\"smtp.gmail.com\", 465, context=context) as server:\n",
    "        server.login(sender_email, password)\n",
    "        server.sendmail(sender_email, receiver_email, text)\n",
    "        \n",
    "    return \"email \" + csv_name + \" sended\""
   ]
  },
  {
   "cell_type": "markdown",
   "id": "362a6796",
   "metadata": {},
   "source": [
    "#### 1) out of stock or discontinued"
   ]
  },
  {
   "cell_type": "code",
   "execution_count": 69,
   "id": "4a45ee5b",
   "metadata": {},
   "outputs": [
    {
     "data": {
      "text/plain": [
       "'email out_of_stock_last_day.csv sended'"
      ]
     },
     "execution_count": 69,
     "metadata": {},
     "output_type": "execute_result"
    }
   ],
   "source": [
    "business_afi_email_sender(\"businessafiliacion@gmail.com\",\"../files/out_of_stock_last_day.csv\", \"out_of_stock_last_day.csv\", \"CSV con productos descatalogados o fuera de stock\")"
   ]
  },
  {
   "cell_type": "markdown",
   "id": "2e96ba6f",
   "metadata": {},
   "source": [
    "#### 2) none values"
   ]
  },
  {
   "cell_type": "code",
   "execution_count": 70,
   "id": "9254b744",
   "metadata": {},
   "outputs": [],
   "source": [
    "def email_none_values(df_single, df_append_new_files):\n",
    "    none_values = df_single[df_single[\"product_name\"]==\"none\"].any().unique().tolist()\n",
    "    if none_values == [True]:       \n",
    "        business_afi_email_sender(\"businessafiliacion@gmail.com\", \"../files/non_values_last_day.csv\", \"non_values_last_day.csv\", \"CSV con valores none\")       \n",
    "        return \"ALERT ALVARO, exists none values\"\n",
    "    else:\n",
    "        return \"does not exist none values\""
   ]
  },
  {
   "cell_type": "code",
   "execution_count": 71,
   "id": "29758b4a",
   "metadata": {},
   "outputs": [
    {
     "data": {
      "text/plain": [
       "'does not exist none values'"
      ]
     },
     "execution_count": 71,
     "metadata": {},
     "output_type": "execute_result"
    }
   ],
   "source": [
    "email_none_values(df_single, df_append_new_files)"
   ]
  },
  {
   "cell_type": "markdown",
   "id": "2f3eaf6d",
   "metadata": {},
   "source": [
    "#### 3) send the csv to have a backup"
   ]
  },
  {
   "cell_type": "code",
   "execution_count": 72,
   "id": "2365e078",
   "metadata": {},
   "outputs": [
    {
     "data": {
      "text/plain": [
       "'email df_single.csv sended'"
      ]
     },
     "execution_count": 72,
     "metadata": {},
     "output_type": "execute_result"
    }
   ],
   "source": [
    "business_afi_email_sender(\"businessafiliacion@gmail.com\", \"../files/df_single.csv\", \"df_single.csv\", \"CSV PRINCIPAL como backup con el dataframe diario con todos los datos en formato csv\")"
   ]
  },
  {
   "cell_type": "code",
   "execution_count": 73,
   "id": "955d2ee9",
   "metadata": {},
   "outputs": [
    {
     "data": {
      "text/plain": [
       "'email df_append_new_files_last_day.csv sended'"
      ]
     },
     "execution_count": 73,
     "metadata": {},
     "output_type": "execute_result"
    }
   ],
   "source": [
    "business_afi_email_sender(\"businessafiliacion@gmail.com\", \"../files/df_append_new_files_last_day.csv\", \"df_append_new_files_last_day.csv\", \"CSV CON DATOS DEL DIA como backup con el dataframe diario en formato csv\")"
   ]
  },
  {
   "cell_type": "markdown",
   "id": "078fc622",
   "metadata": {},
   "source": [
    "# D. p_reporting"
   ]
  },
  {
   "cell_type": "markdown",
   "id": "463bc2b6",
   "metadata": {},
   "source": [
    "We are going to send the different DataFrames to spreadsheet\n",
    "\n",
    "#### INDEX LIBRARY\n",
    "https://docs.gspread.org/en/latest/\n",
    "\n",
    "#### USER GUIDE\n",
    "https://docs.gspread.org/en/latest/user-guide.html"
   ]
  },
  {
   "cell_type": "markdown",
   "id": "975a63bb",
   "metadata": {},
   "source": [
    "The conection has been done in the \"p_wrangling\" module. The output is located in the variable \"gc\""
   ]
  },
  {
   "cell_type": "code",
   "execution_count": 74,
   "id": "42de0159",
   "metadata": {},
   "outputs": [],
   "source": [
    "def update_spreadsheet(gc, spreadsheet_name, worksheet_name, dataframe):\n",
    "    #Open the spreadhseet\n",
    "    sheet = gc.open(spreadsheet_name).worksheet(worksheet_name)\n",
    "    \n",
    "    #Clear and Update the Worksheet\n",
    "    sheet.clear()\n",
    "    sheet.update('A1:L1',[dataframe.columns.tolist()])\n",
    "    sheet.update('A2:L' + str(len(dataframe)+1), dataframe.values.tolist())\n",
    "    \n",
    "    return \"worksheet updated\""
   ]
  },
  {
   "cell_type": "code",
   "execution_count": 75,
   "id": "c2502dcb",
   "metadata": {},
   "outputs": [
    {
     "data": {
      "text/plain": [
       "'worksheet updated'"
      ]
     },
     "execution_count": 75,
     "metadata": {},
     "output_type": "execute_result"
    }
   ],
   "source": [
    "#sheet1 - df_single\n",
    "update_spreadsheet(gc, \"business_afi_scraping_df_single\", \"df_single\", df_single)"
   ]
  },
  {
   "cell_type": "code",
   "execution_count": 76,
   "id": "5cf51d61",
   "metadata": {},
   "outputs": [
    {
     "data": {
      "text/plain": [
       "'worksheet updated'"
      ]
     },
     "execution_count": 76,
     "metadata": {},
     "output_type": "execute_result"
    }
   ],
   "source": [
    "#sheet2 - df_append_new_files\n",
    "update_spreadsheet(gc, \"business_afi_scraping_last_day_files\", \"df_append_new_files\", df_append_new_files)"
   ]
  },
  {
   "cell_type": "code",
   "execution_count": 77,
   "id": "a24777c7",
   "metadata": {},
   "outputs": [
    {
     "data": {
      "text/plain": [
       "'worksheet updated'"
      ]
     },
     "execution_count": 77,
     "metadata": {},
     "output_type": "execute_result"
    }
   ],
   "source": [
    "#sheet3 - out_of_stock_df\n",
    "def out_of_stock_spreadsheet(df_append_new_files):\n",
    "    out_of_stock_df = df_append_new_files[df_append_new_files[\"status\"] != \"correcto\"]\n",
    "    update_spreadsheet(gc, \"business_afi_scraping_last_day_files\", \"out_of_stock_df\", out_of_stock_df)\n",
    "    \n",
    "    return \"worksheet updated\"\n",
    "out_of_stock_spreadsheet(df_append_new_files)"
   ]
  },
  {
   "cell_type": "code",
   "execution_count": 78,
   "id": "6e4f74a4",
   "metadata": {},
   "outputs": [
    {
     "data": {
      "text/plain": [
       "'worksheet updated, but there is no any none value'"
      ]
     },
     "execution_count": 78,
     "metadata": {},
     "output_type": "execute_result"
    }
   ],
   "source": [
    "#sheet4 - none_values_df\n",
    "def non_values_spreadsheet(df_single):\n",
    "    none_values = df_single[df_single[\"product_name\"]==\"none\"].any().unique().tolist()\n",
    "    if none_values == [True]:\n",
    "        none_values_df = df_single[df_single[\"product_name\"]==\"none\"]\n",
    "        update_spreadsheet(gc, \"business_afi_scraping_last_day_files\", \"none_values_df\", none_values_df)\n",
    "        \n",
    "        return \"worksheet updated\"\n",
    "    else:\n",
    "        return \"worksheet updated, but there is no any none value\"\n",
    "    \n",
    "non_values_spreadsheet(df_single)"
   ]
  },
  {
   "cell_type": "code",
   "execution_count": 80,
   "id": "20a6b562",
   "metadata": {},
   "outputs": [
    {
     "data": {
      "text/html": [
       "<div>\n",
       "<style scoped>\n",
       "    .dataframe tbody tr th:only-of-type {\n",
       "        vertical-align: middle;\n",
       "    }\n",
       "\n",
       "    .dataframe tbody tr th {\n",
       "        vertical-align: top;\n",
       "    }\n",
       "\n",
       "    .dataframe thead th {\n",
       "        text-align: right;\n",
       "    }\n",
       "</style>\n",
       "<table border=\"1\" class=\"dataframe\">\n",
       "  <thead>\n",
       "    <tr style=\"text-align: right;\">\n",
       "      <th></th>\n",
       "      <th>date_hyphen</th>\n",
       "      <th>date_slash</th>\n",
       "      <th>date_number</th>\n",
       "      <th>product_name</th>\n",
       "      <th>product_id</th>\n",
       "      <th>product_brand</th>\n",
       "      <th>price</th>\n",
       "      <th>status</th>\n",
       "      <th>url</th>\n",
       "      <th>product_mean</th>\n",
       "      <th>product_mean_status</th>\n",
       "      <th>product_category</th>\n",
       "    </tr>\n",
       "  </thead>\n",
       "  <tbody>\n",
       "    <tr>\n",
       "      <th>0</th>\n",
       "      <td>2022-04-14</td>\n",
       "      <td>2022/04/14</td>\n",
       "      <td>20220414</td>\n",
       "      <td>TLV TLV-MYX-801-1</td>\n",
       "      <td>B08T1TSMQQ</td>\n",
       "      <td>TLV</td>\n",
       "      <td>89</td>\n",
       "      <td>correcto</td>\n",
       "      <td>https://sillasybienestar.com/ergonomia/sillas-ergonomicas/review-individual/tlv-myx-801-1/</td>\n",
       "      <td>89</td>\n",
       "      <td>precio igual que la media</td>\n",
       "      <td>ergonomia</td>\n",
       "    </tr>\n",
       "    <tr>\n",
       "      <th>1</th>\n",
       "      <td>2022-04-14</td>\n",
       "      <td>2022/04/14</td>\n",
       "      <td>20220414</td>\n",
       "      <td>Songmics OBN55BK</td>\n",
       "      <td>B07ZCJVFDJ</td>\n",
       "      <td>Songmics</td>\n",
       "      <td>0</td>\n",
       "      <td>sin_stock</td>\n",
       "      <td>https://sillasybienestar.com/ergonomia/sillas-ergonomicas/review-individual/songmics-obn55bk/</td>\n",
       "      <td>98</td>\n",
       "      <td>producto descatalogado o sin stock</td>\n",
       "      <td>ergonomia</td>\n",
       "    </tr>\n",
       "    <tr>\n",
       "      <th>2</th>\n",
       "      <td>2022-04-14</td>\n",
       "      <td>2022/04/14</td>\n",
       "      <td>20220414</td>\n",
       "      <td>Cashoffice B081QDV9VR</td>\n",
       "      <td>B081QDV9VR</td>\n",
       "      <td>Cashoffice</td>\n",
       "      <td>83</td>\n",
       "      <td>correcto</td>\n",
       "      <td>https://sillasybienestar.com/ergonomia/sillas-ergonomicas/review-individual/cashoffice-silla-ergonomica/</td>\n",
       "      <td>83</td>\n",
       "      <td>precio igual que la media</td>\n",
       "      <td>ergonomia</td>\n",
       "    </tr>\n",
       "    <tr>\n",
       "      <th>3</th>\n",
       "      <td>2022-04-14</td>\n",
       "      <td>2022/04/14</td>\n",
       "      <td>20220414</td>\n",
       "      <td>Cedric B07SRYBJ6L</td>\n",
       "      <td>B07SRYBJ6L</td>\n",
       "      <td>Cedric</td>\n",
       "      <td>252</td>\n",
       "      <td>correcto</td>\n",
       "      <td>https://sillasybienestar.com/ergonomia/sillas-ergonomicas/review-individual/cedric/</td>\n",
       "      <td>252</td>\n",
       "      <td>precio igual que la media</td>\n",
       "      <td>ergonomia</td>\n",
       "    </tr>\n",
       "    <tr>\n",
       "      <th>4</th>\n",
       "      <td>2022-04-14</td>\n",
       "      <td>2022/04/14</td>\n",
       "      <td>20220414</td>\n",
       "      <td>Noblewell B08DR42HFV</td>\n",
       "      <td>B08DR42HFV</td>\n",
       "      <td>Noblewell</td>\n",
       "      <td>139</td>\n",
       "      <td>correcto</td>\n",
       "      <td>https://sillasybienestar.com/ergonomia/sillas-ergonomicas/review-individual/noblewell/</td>\n",
       "      <td>139</td>\n",
       "      <td>precio igual que la media</td>\n",
       "      <td>ergonomia</td>\n",
       "    </tr>\n",
       "  </tbody>\n",
       "</table>\n",
       "</div>"
      ],
      "text/plain": [
       "  date_hyphen  date_slash  date_number           product_name  product_id  \\\n",
       "0  2022-04-14  2022/04/14     20220414      TLV TLV-MYX-801-1  B08T1TSMQQ   \n",
       "1  2022-04-14  2022/04/14     20220414       Songmics OBN55BK  B07ZCJVFDJ   \n",
       "2  2022-04-14  2022/04/14     20220414  Cashoffice B081QDV9VR  B081QDV9VR   \n",
       "3  2022-04-14  2022/04/14     20220414      Cedric B07SRYBJ6L  B07SRYBJ6L   \n",
       "4  2022-04-14  2022/04/14     20220414   Noblewell B08DR42HFV  B08DR42HFV   \n",
       "\n",
       "  product_brand  price     status  \\\n",
       "0           TLV     89   correcto   \n",
       "1      Songmics      0  sin_stock   \n",
       "2    Cashoffice     83   correcto   \n",
       "3        Cedric    252   correcto   \n",
       "4     Noblewell    139   correcto   \n",
       "\n",
       "                                                                                                        url  \\\n",
       "0                https://sillasybienestar.com/ergonomia/sillas-ergonomicas/review-individual/tlv-myx-801-1/   \n",
       "1             https://sillasybienestar.com/ergonomia/sillas-ergonomicas/review-individual/songmics-obn55bk/   \n",
       "2  https://sillasybienestar.com/ergonomia/sillas-ergonomicas/review-individual/cashoffice-silla-ergonomica/   \n",
       "3                       https://sillasybienestar.com/ergonomia/sillas-ergonomicas/review-individual/cedric/   \n",
       "4                    https://sillasybienestar.com/ergonomia/sillas-ergonomicas/review-individual/noblewell/   \n",
       "\n",
       "   product_mean                 product_mean_status product_category  \n",
       "0            89           precio igual que la media        ergonomia  \n",
       "1            98  producto descatalogado o sin stock        ergonomia  \n",
       "2            83           precio igual que la media        ergonomia  \n",
       "3           252           precio igual que la media        ergonomia  \n",
       "4           139           precio igual que la media        ergonomia  "
      ]
     },
     "execution_count": 80,
     "metadata": {},
     "output_type": "execute_result"
    }
   ],
   "source": [
    "df_single.head()"
   ]
  },
  {
   "cell_type": "code",
   "execution_count": 81,
   "id": "9878584f",
   "metadata": {},
   "outputs": [
    {
     "data": {
      "text/html": [
       "<div>\n",
       "<style scoped>\n",
       "    .dataframe tbody tr th:only-of-type {\n",
       "        vertical-align: middle;\n",
       "    }\n",
       "\n",
       "    .dataframe tbody tr th {\n",
       "        vertical-align: top;\n",
       "    }\n",
       "\n",
       "    .dataframe thead th {\n",
       "        text-align: right;\n",
       "    }\n",
       "</style>\n",
       "<table border=\"1\" class=\"dataframe\">\n",
       "  <thead>\n",
       "    <tr style=\"text-align: right;\">\n",
       "      <th></th>\n",
       "      <th>date_hyphen</th>\n",
       "      <th>date_slash</th>\n",
       "      <th>date_number</th>\n",
       "      <th>product_name</th>\n",
       "      <th>product_id</th>\n",
       "      <th>product_brand</th>\n",
       "      <th>price</th>\n",
       "      <th>status</th>\n",
       "      <th>url</th>\n",
       "      <th>product_mean</th>\n",
       "      <th>product_mean_status</th>\n",
       "      <th>product_category</th>\n",
       "    </tr>\n",
       "  </thead>\n",
       "  <tbody>\n",
       "    <tr>\n",
       "      <th>363</th>\n",
       "      <td>2022-04-21</td>\n",
       "      <td>2022/04/21</td>\n",
       "      <td>20220421</td>\n",
       "      <td>diablo X-horn</td>\n",
       "      <td>B07Z9CTB5C</td>\n",
       "      <td>diablo</td>\n",
       "      <td>274</td>\n",
       "      <td>correcto</td>\n",
       "      <td>https://sillasybienestar.com/gaming/sillas-gaming/review-individual/diablo-x-horn/</td>\n",
       "      <td>259</td>\n",
       "      <td>precio por encima de la media</td>\n",
       "      <td>gaming</td>\n",
       "    </tr>\n",
       "    <tr>\n",
       "      <th>364</th>\n",
       "      <td>2022-04-21</td>\n",
       "      <td>2022/04/21</td>\n",
       "      <td>20220421</td>\n",
       "      <td>diablo X-Ray</td>\n",
       "      <td>B07Q57WD7S</td>\n",
       "      <td>diablo</td>\n",
       "      <td>279</td>\n",
       "      <td>correcto</td>\n",
       "      <td>https://sillasybienestar.com/gaming/sillas-gaming/review-individual/diablo-x-ray/</td>\n",
       "      <td>264</td>\n",
       "      <td>precio por encima de la media</td>\n",
       "      <td>gaming</td>\n",
       "    </tr>\n",
       "    <tr>\n",
       "      <th>365</th>\n",
       "      <td>2022-04-21</td>\n",
       "      <td>2022/04/21</td>\n",
       "      <td>20220421</td>\n",
       "      <td>DXRacer Formula F08</td>\n",
       "      <td>B073GF2L1H</td>\n",
       "      <td>dxracer</td>\n",
       "      <td>349</td>\n",
       "      <td>correcto</td>\n",
       "      <td>https://sillasybienestar.com/gaming/sillas-gaming/review-individual/dxracer-formula-f08/</td>\n",
       "      <td>355</td>\n",
       "      <td>precio por debajo de la media</td>\n",
       "      <td>gaming</td>\n",
       "    </tr>\n",
       "    <tr>\n",
       "      <th>366</th>\n",
       "      <td>2022-04-21</td>\n",
       "      <td>2022/04/21</td>\n",
       "      <td>20220421</td>\n",
       "      <td>Newskill Kitsune</td>\n",
       "      <td>B073TWN367</td>\n",
       "      <td>Newskill</td>\n",
       "      <td>169</td>\n",
       "      <td>correcto</td>\n",
       "      <td>https://sillasybienestar.com/gaming/sillas-gaming/review-individual/newskill-kitsune/</td>\n",
       "      <td>169</td>\n",
       "      <td>precio igual que la media</td>\n",
       "      <td>gaming</td>\n",
       "    </tr>\n",
       "    <tr>\n",
       "      <th>367</th>\n",
       "      <td>2022-04-21</td>\n",
       "      <td>2022/04/21</td>\n",
       "      <td>20220421</td>\n",
       "      <td>Newskill Takamikura</td>\n",
       "      <td>B019HA9MKM</td>\n",
       "      <td>Newskill</td>\n",
       "      <td>189</td>\n",
       "      <td>correcto</td>\n",
       "      <td>https://sillasybienestar.com/gaming/sillas-gaming/review-individual/newskill-takamikura/</td>\n",
       "      <td>189</td>\n",
       "      <td>precio igual que la media</td>\n",
       "      <td>gaming</td>\n",
       "    </tr>\n",
       "  </tbody>\n",
       "</table>\n",
       "</div>"
      ],
      "text/plain": [
       "    date_hyphen  date_slash  date_number         product_name  product_id  \\\n",
       "363  2022-04-21  2022/04/21     20220421        diablo X-horn  B07Z9CTB5C   \n",
       "364  2022-04-21  2022/04/21     20220421         diablo X-Ray  B07Q57WD7S   \n",
       "365  2022-04-21  2022/04/21     20220421  DXRacer Formula F08  B073GF2L1H   \n",
       "366  2022-04-21  2022/04/21     20220421     Newskill Kitsune  B073TWN367   \n",
       "367  2022-04-21  2022/04/21     20220421  Newskill Takamikura  B019HA9MKM   \n",
       "\n",
       "    product_brand  price    status  \\\n",
       "363        diablo    274  correcto   \n",
       "364        diablo    279  correcto   \n",
       "365       dxracer    349  correcto   \n",
       "366      Newskill    169  correcto   \n",
       "367      Newskill    189  correcto   \n",
       "\n",
       "                                                                                          url  \\\n",
       "363        https://sillasybienestar.com/gaming/sillas-gaming/review-individual/diablo-x-horn/   \n",
       "364         https://sillasybienestar.com/gaming/sillas-gaming/review-individual/diablo-x-ray/   \n",
       "365  https://sillasybienestar.com/gaming/sillas-gaming/review-individual/dxracer-formula-f08/   \n",
       "366     https://sillasybienestar.com/gaming/sillas-gaming/review-individual/newskill-kitsune/   \n",
       "367  https://sillasybienestar.com/gaming/sillas-gaming/review-individual/newskill-takamikura/   \n",
       "\n",
       "     product_mean            product_mean_status product_category  \n",
       "363           259  precio por encima de la media           gaming  \n",
       "364           264  precio por encima de la media           gaming  \n",
       "365           355  precio por debajo de la media           gaming  \n",
       "366           169      precio igual que la media           gaming  \n",
       "367           189      precio igual que la media           gaming  "
      ]
     },
     "execution_count": 81,
     "metadata": {},
     "output_type": "execute_result"
    }
   ],
   "source": [
    "df_single.tail(5)"
   ]
  },
  {
   "cell_type": "code",
   "execution_count": 82,
   "id": "8bca57e3",
   "metadata": {},
   "outputs": [
    {
     "data": {
      "text/plain": [
       "368"
      ]
     },
     "execution_count": 82,
     "metadata": {},
     "output_type": "execute_result"
    }
   ],
   "source": [
    "len(df_single)"
   ]
  },
  {
   "cell_type": "code",
   "execution_count": null,
   "id": "7ae7208f",
   "metadata": {},
   "outputs": [],
   "source": []
  }
 ],
 "metadata": {
  "kernelspec": {
   "display_name": "Python [conda env:ironhack]",
   "language": "python",
   "name": "conda-env-ironhack-py"
  },
  "language_info": {
   "codemirror_mode": {
    "name": "ipython",
    "version": 3
   },
   "file_extension": ".py",
   "mimetype": "text/x-python",
   "name": "python",
   "nbconvert_exporter": "python",
   "pygments_lexer": "ipython3",
   "version": "3.7.11"
  }
 },
 "nbformat": 4,
 "nbformat_minor": 5
}
