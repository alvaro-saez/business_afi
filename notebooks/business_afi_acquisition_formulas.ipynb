{
 "cells": [
  {
   "cell_type": "code",
   "execution_count": 138,
   "id": "127cce9c",
   "metadata": {},
   "outputs": [],
   "source": [
    "import pandas as pd\n",
    "import numpy as np\n",
    "import requests\n",
    "import bs4\n",
    "import re\n",
    "from datetime import datetime\n",
    "pd.set_option('display.max_rows', 1000)\n",
    "pd.options.display.max_colwidth = 1000\n",
    "\n",
    "import email, smtplib, ssl\n",
    "from email import encoders\n",
    "from email.mime.base import MIMEBase\n",
    "from email.mime.multipart import MIMEMultipart\n",
    "from email.mime.text import MIMEText"
   ]
  },
  {
   "cell_type": "markdown",
   "id": "67d7cee9",
   "metadata": {},
   "source": [
    "# A. p_acquisition"
   ]
  },
  {
   "cell_type": "markdown",
   "id": "213dd43e",
   "metadata": {},
   "source": [
    "### OBTENCIÓN DE VARIABLES"
   ]
  },
  {
   "cell_type": "code",
   "execution_count": 222,
   "id": "0366b94e",
   "metadata": {},
   "outputs": [],
   "source": [
    "urls_ergonomia = [\n",
    "\"https://sillasybienestar.com/ergonomia/sillas-ergonomicas/review-individual/tlv-myx-801-1/\",\n",
    "\"https://sillasybienestar.com/ergonomia/sillas-ergonomicas/review-individual/songmics-obn55bk/\",\n",
    "\"https://sillasybienestar.com/ergonomia/sillas-ergonomicas/review-individual/cashoffice-silla-ergonomica/\",\n",
    "\"https://sillasybienestar.com/ergonomia/sillas-ergonomicas/review-individual/cedric/\",\n",
    "\"https://sillasybienestar.com/ergonomia/sillas-ergonomicas/review-individual/noblewell/\",\n",
    "\"https://sillasybienestar.com/ergonomia/sillas-ergonomicas/review-individual/sihoo-lb14/\",\n",
    "\"https://sillasybienestar.com/ergonomia/sillas-ergonomicas/review-individual/ronda-silla-espanola/\",\n",
    "\"https://sillasybienestar.com/ergonomia/sillas-ergonomicas/review-individual/diablo-v-master/\",\n",
    "\"https://sillasybienestar.com/ergonomia/sillas-ergonomicas/review-individual/diablo-v-basic/\",\n",
    "\"https://sillasybienestar.com/ergonomia/sillas-ergonomicas/review-individual/songmics-obn61bkv1/\",\n",
    "\"https://sillasybienestar.com/ergonomia/sillas-ergonomicas/review-individual/hbada-reposapies/\",\n",
    "\"https://sillasybienestar.com/ergonomia/sillas-ergonomicas/review-individual/songmics-obn86bk/\",\n",
    "\"https://sillasybienestar.com/ergonomia/sillas-ergonomicas/review-individual/femor/\",\n",
    "\"https://sillasybienestar.com/ergonomia/sillas-ergonomicas/review-individual/hbada-reposabrazos/\",\n",
    "\"https://sillasybienestar.com/ergonomia/sillas-ergonomicas/review-individual/mfavour/\",\n",
    "\"https://sillasybienestar.com/ergonomia/sillas-ergonomicas/review-individual/umi/\"   \n",
    "]"
   ]
  },
  {
   "cell_type": "code",
   "execution_count": 223,
   "id": "3598e7e1",
   "metadata": {},
   "outputs": [],
   "source": [
    "def new_url_ergo(new_url):\n",
    "    urls_ergonomia.append(new_url)\n",
    "    return \"new url 'ergonomía' added\""
   ]
  },
  {
   "cell_type": "code",
   "execution_count": 224,
   "id": "31433083",
   "metadata": {},
   "outputs": [],
   "source": [
    "urls_oficina = [\n",
    "\"https://sillasybienestar.com/oficina-y-escritorio/sillas-de-oficina/review-individual/songmics-obn52bk/\",\n",
    "\"https://sillasybienestar.com/oficina-y-escritorio/sillas-de-oficina/review-individual/songmics-obn22bk/\",\n",
    "\"https://sillasybienestar.com/oficina-y-escritorio/sillas-de-oficina/review-individual/allguest-cedric/\",\n",
    "\"https://sillasybienestar.com/oficina-y-escritorio/sillas-de-oficina/review-individual/hbada-hdny108bm-eu/\",\n",
    "\"https://sillasybienestar.com/oficina-y-escritorio/sillas-de-oficina/review-individual/intimate-wm-heart-sillon-b07x8tqh96/\",\n",
    "\"https://sillasybienestar.com/oficina-y-escritorio/sillas-de-oficina/review-individual/vinsetto-sillon-de-oficina-azul-claro/\",\n",
    "\"https://sillasybienestar.com/oficina-y-escritorio/sillas-de-oficina/review-individual/exofcer-mc6310/\",\n",
    "\"https://sillasybienestar.com/oficina-y-escritorio/sillas-de-oficina/review-individual/songmics-obg24b/\"\n",
    "]"
   ]
  },
  {
   "cell_type": "code",
   "execution_count": 225,
   "id": "41f22be2",
   "metadata": {},
   "outputs": [],
   "source": [
    "def new_url_oficina(new_url):\n",
    "    urls_oficina.append(new_url)\n",
    "    return \"new url 'oficina' added\""
   ]
  },
  {
   "cell_type": "code",
   "execution_count": 226,
   "id": "9534bd6b",
   "metadata": {},
   "outputs": [],
   "source": [
    "urls_rodilla = [\n",
    "\"https://sillasybienestar.com/ergonomia/sillas-de-rodillas/review-individual/duehome/\",\n",
    "\"https://sillasybienestar.com/ergonomia/sillas-de-rodillas/review-individual/himimi-silla-de-rodillas/\",\n",
    "\"https://sillasybienestar.com/ergonomia/sillas-de-rodillas/review-individual/varier/\",\n",
    "\"https://sillasybienestar.com/ergonomia/sillas-de-rodillas/review-individual/cinius/\"\n",
    "]"
   ]
  },
  {
   "cell_type": "code",
   "execution_count": 227,
   "id": "fba4d069",
   "metadata": {},
   "outputs": [],
   "source": [
    "def new_url_rodilla(new_url):\n",
    "    urls_rodilla.append(new_url)\n",
    "    return \"new url 'rodilla' added\""
   ]
  },
  {
   "cell_type": "code",
   "execution_count": 228,
   "id": "eeebee12",
   "metadata": {},
   "outputs": [],
   "source": [
    "urls_gaming = [\n",
    "\"https://sillasybienestar.com/gaming/sillas-gaming/review-individual/gtplayer-rosa/\",\n",
    "\"https://sillasybienestar.com/gaming/sillas-gaming/review-individual/diablo-x-gamer-2-0/\",\n",
    "\"https://sillasybienestar.com/gaming/sillas-gaming/review-individual/intimate-wm-heart-silla-gamer-barata/\",\n",
    "\"https://sillasybienestar.com/gaming/sillas-gaming/review-individual/nokaxus-yk-6008-rosa/\",\n",
    "\"https://sillasybienestar.com/gaming/sillas-gaming/review-individual/newskill-nayuki/\",\n",
    "\"https://sillasybienestar.com/gaming/sillas-gaming/review-individual/silla-gamer-bgeu-a136-sencillez-y-buen-precio-ofertas-2021/\",\n",
    "\"https://sillasybienestar.com/gaming/sillas-gaming/review-individual/autofull-pink-bunny/\",\n",
    "\"https://sillasybienestar.com/gaming/sillas-gaming/review-individual/adec-drw/\",\n",
    "\"https://sillasybienestar.com/gaming/sillas-gaming/review-individual/femor-gaming/\",\n",
    "\"https://sillasybienestar.com/gaming/sillas-gaming/review-individual/hbada-gaming-hdjy001bmj-cb/\",\n",
    "\"https://sillasybienestar.com/gaming/sillas-gaming/review-individual/intimate-wm-heart-gaming/\",\n",
    "\"https://sillasybienestar.com/gaming/sillas-gaming/review-individual/corsair-t3-rush/\",\n",
    "\"https://sillasybienestar.com/gaming/sillas-gaming/review-individual/dxracer-king-ks06/\",\n",
    "\"https://sillasybienestar.com/gaming/sillas-gaming/review-individual/diablo-x-horn/\",\n",
    "\"https://sillasybienestar.com/gaming/sillas-gaming/review-individual/diablo-x-ray/\",\n",
    "\"https://sillasybienestar.com/gaming/sillas-gaming/review-individual/dxracer-formula-f08/\",\n",
    "\"https://sillasybienestar.com/gaming/sillas-gaming/review-individual/newskill-kitsune/\",\n",
    "\"https://sillasybienestar.com/gaming/sillas-gaming/review-individual/newskill-takamikura/\"\n",
    "#\"https://sillasybienestar.com/gaming/sillas-gaming/review-individual/songmics-racing/\" - no usamos\n",
    "]"
   ]
  },
  {
   "cell_type": "code",
   "execution_count": 229,
   "id": "8fc8fa62",
   "metadata": {},
   "outputs": [],
   "source": [
    "def new_url_gaming(new_url):\n",
    "    urls_gaming.append(new_url)\n",
    "    return \"new url 'gaming' added\""
   ]
  },
  {
   "cell_type": "code",
   "execution_count": 230,
   "id": "680e87b1",
   "metadata": {},
   "outputs": [],
   "source": [
    "def full_urls(urls_ergonomia, urls_oficina, urls_rodilla, urls_gaming):\n",
    "    urls_products_list_list = urls_ergonomia + urls_oficina + urls_rodilla + urls_gaming\n",
    "    return urls_products_list_list\n",
    "    \n",
    "urls_products_list = full_urls(urls_ergonomia, urls_oficina, urls_rodilla, urls_gaming)"
   ]
  },
  {
   "cell_type": "markdown",
   "id": "592ec8d3",
   "metadata": {},
   "source": [
    "### web scrapping"
   ]
  },
  {
   "cell_type": "code",
   "execution_count": 231,
   "id": "cc9fe8db",
   "metadata": {},
   "outputs": [],
   "source": [
    "def parsed_content(urls_products_list):\n",
    "    #contenido \"parseado\" para las siguientes variables\n",
    "    parsed_products_content_list = [bs4.BeautifulSoup(requests.get(i).content, \"html.parser\") for i in urls_products_list]\n",
    "    return parsed_products_content_list\n",
    "\n",
    "parsed_products_content_list = parsed_content(urls_products_list)"
   ]
  },
  {
   "cell_type": "code",
   "execution_count": 232,
   "id": "26d00a3c",
   "metadata": {},
   "outputs": [],
   "source": [
    "def parsed_price_class(parsed_products_content_list):\n",
    "    #contenido \"parseado\" para el precio\n",
    "    parsed_products_price_class = [i.find_all(\"span\",{\"class\":\"aawp-product__price aawp-product__price--current\"})[0].text for i in parsed_products_content_list]\n",
    "    return parsed_products_price_class\n",
    "\n",
    "parsed_products_price_class = parsed_price_class(parsed_products_content_list)"
   ]
  },
  {
   "cell_type": "code",
   "execution_count": 233,
   "id": "27eadc02",
   "metadata": {},
   "outputs": [],
   "source": [
    "def product_price(parsed_products_content_list,urls_products_list):\n",
    "    final_price_products_list =[]\n",
    "    for i,e in zip(parsed_products_content_list, range(len(urls_products_list))):\n",
    "        try:\n",
    "            i.find_all(\"div\",{\"class\":\"wp-block-media-text__content\"})[0]\n",
    "            #si da error se ejecuta el except, sino el else\n",
    "        except:\n",
    "            if  urls_products_list[e] == \"https://sillasybienestar.com/ergonomia/sillas-ergonomicas/review-individual/mfavour/\":\n",
    "                price_supuesto_0 = i.find_all(\"span\",{\"class\":\"aawp-product__price aawp-product__price--current\"})[0].text\n",
    "                price_supuesto_0_cleaned = re.sub(\"[^\\d|\\,]\",\"\",str(price_supuesto_0)).replace(\",\",\".\")\n",
    "                final_price_products_list.append(float(price_supuesto_0_cleaned))\n",
    "                #final_price_products_status.append(\"correcto\")\n",
    "            else:\n",
    "                final_price_products_list.append(-1)\n",
    "                print(\"revisar funcion price, valor con -1\")\n",
    "                #final_price_products_status.append(\"revisar\")\n",
    "        else:\n",
    "            if i.find_all(\"div\",{\"class\":\"wp-block-media-text__content\"})[0].text.strip() == \"No products found.\":\n",
    "                final_price_products_list.append(0)\n",
    "                #final_price_products_status.append(\"descatalogado\")\n",
    "            elif i.find_all(\"span\",{\"class\":\"aawp-product__price aawp-product__price--current\"})[0].text == \"\":\n",
    "                final_price_products_list.append(0)\n",
    "                #final_price_products_status.append(\"sin_stock\")\n",
    "            elif i.find_all(\"span\",{\"class\":\"aawp-product__price aawp-product__price--current\"})[0].text != \"\":\n",
    "                price_supuesto_1 = i.find_all(\"span\",{\"class\":\"aawp-product__price aawp-product__price--current\"})[0].text\n",
    "                price_supuesto_1_cleaned = re.sub(\"[^\\d|\\,]\",\"\",str(price_supuesto_1)).replace(\",\",\".\")\n",
    "                final_price_products_list.append(float(price_supuesto_1_cleaned))\n",
    "                #final_price_products_status.append(\"correcto\")\n",
    "            else:\n",
    "                print(\"revisar funcion price\")\n",
    "    return final_price_products_list\n",
    "\n",
    "final_price_products_list = product_price(parsed_products_content_list,urls_products_list)"
   ]
  },
  {
   "cell_type": "code",
   "execution_count": 234,
   "id": "ae6fe938",
   "metadata": {},
   "outputs": [],
   "source": [
    "def product_status(parsed_products_content_list,urls_products_list):\n",
    "    final_price_products_status =[]\n",
    "    for i,e in zip(parsed_products_content_list, range(len(urls_products_list))):\n",
    "        try:\n",
    "            i.find_all(\"div\",{\"class\":\"wp-block-media-text__content\"})[0]\n",
    "            #si da error se ejecuta el except, sino el else\n",
    "        except:\n",
    "            if  urls_products_list[e] == \"https://sillasybienestar.com/ergonomia/sillas-ergonomicas/review-individual/mfavour/\":\n",
    "                #price_supuesto_0 = i.find_all(\"span\",{\"class\":\"aawp-product__price aawp-product__price--current\"})[0].text\n",
    "                #price_supuesto_0_cleaned = re.sub(\"[^\\d|\\,]\",\"\",str(price_supuesto_0)).replace(\",\",\".\")\n",
    "                #final_price_products_list.append(float(price_supuesto_0_cleaned))\n",
    "                final_price_products_status.append(\"correcto\")\n",
    "            else:\n",
    "                #final_price_products_list.append(-1)\n",
    "                print(\"revisar funcion price, valor con -1\")\n",
    "                final_price_products_status.append(\"revisar\")\n",
    "        else:\n",
    "            if i.find_all(\"div\",{\"class\":\"wp-block-media-text__content\"})[0].text.strip() == \"No products found.\":\n",
    "                #final_price_products_list.append(0)\n",
    "                final_price_products_status.append(\"descatalogado\")\n",
    "            elif i.find_all(\"span\",{\"class\":\"aawp-product__price aawp-product__price--current\"})[0].text == \"\":\n",
    "                #final_price_products_list.append(0)\n",
    "                final_price_products_status.append(\"sin_stock\")\n",
    "            elif i.find_all(\"span\",{\"class\":\"aawp-product__price aawp-product__price--current\"})[0].text != \"\":\n",
    "                #price_supuesto_1 = i.find_all(\"span\",{\"class\":\"aawp-product__price aawp-product__price--current\"})[0].text\n",
    "                #price_supuesto_1_cleaned = re.sub(\"[^\\d|\\,]\",\"\",str(price_supuesto_1)).replace(\",\",\".\")\n",
    "                #final_price_products_list.append(float(price_supuesto_1_cleaned))\n",
    "                final_price_products_status.append(\"correcto\")\n",
    "            else:\n",
    "                print(\"revisar funcion price\")\n",
    "    return final_price_products_status\n",
    "\n",
    "final_price_products_status = product_status(parsed_products_content_list,urls_products_list)"
   ]
  },
  {
   "cell_type": "code",
   "execution_count": 235,
   "id": "bea84934",
   "metadata": {},
   "outputs": [],
   "source": [
    "#funcionpara handling error\n",
    "def handling_error_vars_product(i,text):\n",
    "    try:\n",
    "        str(i).split(text)[1]\n",
    "    except:\n",
    "        return \"none\"\n",
    "    else:\n",
    "        return str(i).split(text)[1].split(\"';\")[0].strip()"
   ]
  },
  {
   "cell_type": "code",
   "execution_count": 236,
   "id": "233667ab",
   "metadata": {},
   "outputs": [],
   "source": [
    "#NAME\n",
    "#final_name_products = [str(i).split(\"ficha_product_name='\")[1].split(\"';\")[0].strip() for i in parsed_products_content_list]\n",
    "def product_name(parsed_products_content_list):\n",
    "    \n",
    "    def handling_error_vars_product(i,text):\n",
    "        try:\n",
    "            str(i).split(text)[1]\n",
    "        except:\n",
    "            return \"none\"\n",
    "        else:\n",
    "            return str(i).split(text)[1].split(\"';\")[0].strip()\n",
    "    \n",
    "    final_name_products = [handling_error_vars_product(i,\"ficha_product_name='\") for i in parsed_products_content_list]\n",
    "    return final_name_products\n",
    "\n",
    "final_name_products = product_name(parsed_products_content_list)"
   ]
  },
  {
   "cell_type": "code",
   "execution_count": 237,
   "id": "84038594",
   "metadata": {},
   "outputs": [],
   "source": [
    "#ID\n",
    "#final_id_products = [str(i).split(\"ficha_product_id='\")[1].split(\"';\")[0].strip() for i in parsed_products_content_list]\n",
    "def product_id(parsed_products_content_list):\n",
    "\n",
    "    def handling_error_vars_product(i,text):\n",
    "        try:\n",
    "            str(i).split(text)[1]\n",
    "        except:\n",
    "            return \"none\"\n",
    "        else:\n",
    "            return str(i).split(text)[1].split(\"';\")[0].strip()\n",
    "        \n",
    "    final_id_products = [handling_error_vars_product(i,\"ficha_product_id='\") for i in parsed_products_content_list]\n",
    "    return final_id_products\n",
    "\n",
    "final_id_products = product_id(parsed_products_content_list)"
   ]
  },
  {
   "cell_type": "code",
   "execution_count": 238,
   "id": "95540104",
   "metadata": {},
   "outputs": [],
   "source": [
    "#BRAND\n",
    "#final_brand_products = [str(i).split(\"ficha_product_brand='\")[1].split(\"';\")[0].strip() for i in parsed_products_content_list]\n",
    "def product_brand(parsed_products_content_list):\n",
    "\n",
    "    def handling_error_vars_product(i,text):\n",
    "        try:\n",
    "            str(i).split(text)[1]\n",
    "        except:\n",
    "            return \"none\"\n",
    "        else:\n",
    "            return str(i).split(text)[1].split(\"';\")[0].strip()\n",
    "    \n",
    "    final_brand_products = [handling_error_vars_product(i,\"ficha_product_brand='\") for i in parsed_products_content_list]\n",
    "    return final_brand_products\n",
    "\n",
    "final_brand_products = product_brand(parsed_products_content_list)"
   ]
  },
  {
   "cell_type": "code",
   "execution_count": 239,
   "id": "562c9bd1",
   "metadata": {},
   "outputs": [],
   "source": [
    "#DATES\n",
    "def product_date_hyphen(parsed_products_content_list):\n",
    "\n",
    "    def handling_error_vars_product(i,text):\n",
    "        try:\n",
    "            str(i).split(text)[1]\n",
    "        except:\n",
    "            return \"none\"\n",
    "        else:\n",
    "            return str(i).split(text)[1].split(\"';\")[0].strip()\n",
    "        \n",
    "    final_date_hyphen_products = [datetime.today().strftime('%Y-%m-%d') for i in range(len(urls_products_list))]\n",
    "    return final_date_hyphen_products\n",
    "\n",
    "final_date_hyphen_products = product_date_hyphen(parsed_products_content_list)"
   ]
  },
  {
   "cell_type": "code",
   "execution_count": 240,
   "id": "869ab35f",
   "metadata": {},
   "outputs": [],
   "source": [
    "def product_date_slash(parsed_products_content_list):\n",
    "\n",
    "    def handling_error_vars_product(i,text):\n",
    "        try:\n",
    "            str(i).split(text)[1]\n",
    "        except:\n",
    "            return \"none\"\n",
    "        else:\n",
    "            return str(i).split(text)[1].split(\"';\")[0].strip()\n",
    "        \n",
    "    final_date_slash_products = [datetime.today().strftime('%Y/%m/%d') for i in range(len(urls_products_list))]\n",
    "    return final_date_slash_products\n",
    "\n",
    "final_date_slash_products = product_date_slash(parsed_products_content_list)"
   ]
  },
  {
   "cell_type": "code",
   "execution_count": 241,
   "id": "29f10e4f",
   "metadata": {},
   "outputs": [],
   "source": [
    "def product_date_number(parsed_products_content_list):\n",
    "\n",
    "    def handling_error_vars_product(i,text):\n",
    "        try:\n",
    "            str(i).split(text)[1]\n",
    "        except:\n",
    "            return \"none\"\n",
    "        else:\n",
    "            return str(i).split(text)[1].split(\"';\")[0].strip()\n",
    "        \n",
    "    final_date_number_products = [int(datetime.today().strftime('%Y%m%d')) for i in range(len(urls_products_list))]\n",
    "    return final_date_number_products\n",
    "\n",
    "final_date_number_products = product_date_number(parsed_products_content_list)"
   ]
  },
  {
   "cell_type": "markdown",
   "id": "970d0f20",
   "metadata": {},
   "source": [
    "# B. p_analysis"
   ]
  },
  {
   "cell_type": "markdown",
   "id": "82ef17ba",
   "metadata": {},
   "source": [
    "## Create the DATAFRAME"
   ]
  },
  {
   "cell_type": "markdown",
   "id": "e58731bf",
   "metadata": {},
   "source": [
    "### a) un único DF:"
   ]
  },
  {
   "cell_type": "markdown",
   "id": "16f8715a",
   "metadata": {},
   "source": [
    "#### paso 1: beber del csv o crear un DF vacío"
   ]
  },
  {
   "cell_type": "code",
   "execution_count": 242,
   "id": "32133a3c",
   "metadata": {},
   "outputs": [],
   "source": [
    "def main_df(location):\n",
    "    try:\n",
    "        df_single = pd.read_csv(location)\n",
    "        return df_single\n",
    "    except: #si da error es que no existe, por lo que tendremos que crear el dataframe de cero\n",
    "        try:\n",
    "            df_single.head()\n",
    "            return df_single\n",
    "        except: #si da error es que no existe y lo crearemos\n",
    "            columns = [\"date_hyphen\",\"date_slash\",\"date_number\",\"product_name\",\"product_id\",\"product_brand\",\"price\",\"status\",\"url\"]\n",
    "            df_single = pd.DataFrame(columns=columns)\n",
    "            return df_single\n",
    "            #df_single[\"date_hyphen\"] = df_single[\"date_hyphen\"].astype(\"datetime64\")\n",
    "        else: #si no da error es que existe y no haremos nada\n",
    "            pass\n",
    "    else: #si no da error es que existe y no haremos nada\n",
    "        pass\n",
    "\n",
    "df_single = main_df(\"../files/df_single.csv\")"
   ]
  },
  {
   "cell_type": "markdown",
   "id": "f784fb5b",
   "metadata": {},
   "source": [
    "#### paso 2: insertar nuevas filas en df_single - pd.concat()"
   ]
  },
  {
   "cell_type": "code",
   "execution_count": 243,
   "id": "31cb3825",
   "metadata": {},
   "outputs": [],
   "source": [
    "def df_append_new_files(final_date_hyphen_products,final_date_slash_products,final_date_number_products,final_name_products,final_id_products,final_brand_products,final_price_products_list,final_price_products_status,urls_products_list):\n",
    "    df_append_new_files = pd.DataFrame({\n",
    "        \"date_hyphen\":final_date_hyphen_products,\n",
    "        \"date_slash\":final_date_slash_products,\n",
    "        \"date_number\":final_date_number_products,\n",
    "        \"product_name\":final_name_products,\n",
    "        \"product_id\":final_id_products,\n",
    "        \"product_brand\":final_brand_products,\n",
    "        \"price\":final_price_products_list,\n",
    "        \"status\":final_price_products_status,\n",
    "        \"url\": urls_products_list\n",
    "    })\n",
    "    #df_append_new_files[\"date_hyphen\"] = df_append_new_files[\"date_hyphen\"].astype(\"datetime64\")\n",
    "    df_append_new_files[\"price\"] = df_append_new_files[\"price\"].astype(\"int64\")\n",
    "    \n",
    "    return df_append_new_files\n",
    "\n",
    "df_append_new_files = df_append_new_files(final_date_hyphen_products,final_date_slash_products,final_date_number_products,final_name_products,final_id_products,final_brand_products,final_price_products_list,final_price_products_status,urls_products_list)"
   ]
  },
  {
   "cell_type": "code",
   "execution_count": 244,
   "id": "94015d3c",
   "metadata": {},
   "outputs": [],
   "source": [
    "def concat_df(df_single,df_append_new_files):\n",
    "    if df_single.empty == True:\n",
    "        df_single = pd.concat([df_single, df_append_new_files], ignore_index=True)\n",
    "        return df_single\n",
    "    elif df_append_new_files[\"date_hyphen\"][0] == df_single[\"date_hyphen\"][0]:\n",
    "        pass\n",
    "    elif df_append_new_files[\"date_hyphen\"][0] != df_single[\"date_hyphen\"][0]:\n",
    "        df_single = pd.concat([df_single, df_append_new_files], ignore_index=True)\n",
    "        return df_single\n",
    "    \n",
    "df_single = concat_df(df_single,df_append_new_files)"
   ]
  },
  {
   "cell_type": "markdown",
   "id": "a7d5d73f",
   "metadata": {},
   "source": [
    "## corrección de valores"
   ]
  },
  {
   "cell_type": "code",
   "execution_count": 245,
   "id": "bd4d1ab2",
   "metadata": {},
   "outputs": [],
   "source": [
    "#df_single[\"date_hyphen\"] =df_single[\"date_hyphen\"].replace(\"2022-04-16 00:00:00\",\"2022-04-16\")"
   ]
  },
  {
   "cell_type": "code",
   "execution_count": 246,
   "id": "e6db52f7",
   "metadata": {},
   "outputs": [],
   "source": [
    "#df_single[df_single[\"product_brand\"] == \"none\"]"
   ]
  },
  {
   "cell_type": "markdown",
   "id": "73c4549e",
   "metadata": {},
   "source": [
    "valores con \"none\""
   ]
  },
  {
   "cell_type": "code",
   "execution_count": 247,
   "id": "fda3b008",
   "metadata": {},
   "outputs": [],
   "source": [
    "def corregir_gam_name(url,product_name):\n",
    "    if url == \"https://sillasybienestar.com/gaming/sillas-gaming/review-individual/intimate-wm-heart-gaming/\" and product_name == \"none\":\n",
    "        return \"intimate wm heat  Racing Silla Gamer\"\n",
    "    else:\n",
    "        return product_name\n",
    "        \n",
    "def corregir_gam_id(url,product_id):\n",
    "    if url == \"https://sillasybienestar.com/gaming/sillas-gaming/review-individual/intimate-wm-heart-gaming/\" and product_id == \"none\":\n",
    "        return \"B075CK3GVJ\"\n",
    "    else:\n",
    "        return product_id\n",
    "        \n",
    "def corregir_gam_brand(url,product_brand):\n",
    "    if url == \"https://sillasybienestar.com/gaming/sillas-gaming/review-individual/intimate-wm-heart-gaming/\" and product_brand == \"none\":\n",
    "        return \"intimate wm heat\"\n",
    "    else:\n",
    "        return product_brand\n",
    "\n",
    "    \n",
    "    \n",
    "def corregir_gam_name_hbada_rep(url,product_name):\n",
    "    if url == \"https://sillasybienestar.com/ergonomia/sillas-ergonomicas/review-individual/hbada-reposabrazos/\" and product_name == \"none\":\n",
    "        return \"Hbada B07V51M94R\"\n",
    "    else:\n",
    "        return product_name\n",
    "        \n",
    "def corregir_gam_id_hbada_rep(url,product_id):\n",
    "    if url == \"https://sillasybienestar.com/ergonomia/sillas-ergonomicas/review-individual/hbada-reposabrazos/\" and product_id == \"none\":\n",
    "        return \"B07V51M94R\"\n",
    "    else:\n",
    "        return product_id\n",
    "        \n",
    "def corregir_gam_brand_hbada_rep(url,product_brand):\n",
    "    if url == \"https://sillasybienestar.com/ergonomia/sillas-ergonomicas/review-individual/hbada-reposabrazos/\" and product_brand == \"none\":\n",
    "        return \"Hbada\"\n",
    "    else:\n",
    "        return product_brand"
   ]
  },
  {
   "cell_type": "code",
   "execution_count": 248,
   "id": "f84afb7c",
   "metadata": {},
   "outputs": [],
   "source": [
    "def correction_df_single(df_single):\n",
    "    #intimate wm heat  Racing Silla Gamer\n",
    "    df_single[\"product_name\"] = df_single.apply(lambda df_single: corregir_gam_name(df_single[\"url\"], df_single[\"product_name\"]), axis=1)\n",
    "    df_single[\"product_id\"] = df_single.apply(lambda df_single: corregir_gam_id(df_single[\"url\"], df_single[\"product_id\"]), axis=1)\n",
    "    df_single[\"product_brand\"] = df_single.apply(lambda df_single: corregir_gam_brand(df_single[\"url\"], df_single[\"product_brand\"]), axis=1)\n",
    "\n",
    "    #Hbada B07V51M94R\n",
    "    df_single[\"product_name\"] = df_single.apply(lambda df_single: corregir_gam_name_hbada_rep(df_single[\"url\"], df_single[\"product_name\"]), axis=1)\n",
    "    df_single[\"product_id\"] = df_single.apply(lambda df_single: corregir_gam_id_hbada_rep(df_single[\"url\"], df_single[\"product_id\"]), axis=1)\n",
    "    df_single[\"product_brand\"] = df_single.apply(lambda df_single: corregir_gam_brand_hbada_rep(df_single[\"url\"], df_single[\"product_brand\"]), axis=1)\n",
    "\n",
    "    return df_single\n",
    "\n",
    "df_single = correction_df_single(df_single)"
   ]
  },
  {
   "cell_type": "markdown",
   "id": "5c53122f",
   "metadata": {},
   "source": [
    "## crear la media de cada producto"
   ]
  },
  {
   "cell_type": "code",
   "execution_count": 249,
   "id": "124b82f5",
   "metadata": {},
   "outputs": [],
   "source": [
    "def product_mean_dic(df_single):\n",
    "    product_id_list_mean = df_single[\"product_id\"].unique().tolist()\n",
    "    mean_dic = {}\n",
    "    for i in product_id_list_mean:\n",
    "        mean_dic[i] = int(round(df_single[df_single[\"product_id\"] == i][\"price\"].mean(),0))\n",
    "    return mean_dic\n",
    "\n",
    "product_mean = product_mean_dic(df_single)"
   ]
  },
  {
   "cell_type": "code",
   "execution_count": 250,
   "id": "ffaf623a",
   "metadata": {},
   "outputs": [],
   "source": [
    "def product_mean_dic_to_df(df_single,product_mean):\n",
    "    df_single[\"product_mean\"] = df_single[\"product_id\"].apply(lambda x: product_mean[x])\n",
    "    return df_single\n",
    "\n",
    "df_single = product_mean_dic_to_df(df_single,product_mean)"
   ]
  },
  {
   "cell_type": "code",
   "execution_count": 251,
   "id": "ef915d2a",
   "metadata": {},
   "outputs": [],
   "source": [
    "def product_mean_status_func_values(product_price,product_mean):\n",
    "    if product_price < product_mean and product_price > 0:\n",
    "        return \"precio por debajo de la media\"\n",
    "    elif product_price > product_mean and product_price > 0:\n",
    "        return \"precio por encima de la media\"\n",
    "    elif product_price == product_mean and product_price > 0:\n",
    "        return \"precio igual que la media\"\n",
    "    elif product_price == 0:\n",
    "        return \"producto descatalogado o sin stock\"\n",
    "    else:\n",
    "        return \"revisar, aviso\""
   ]
  },
  {
   "cell_type": "code",
   "execution_count": 252,
   "id": "7f076bec",
   "metadata": {},
   "outputs": [],
   "source": [
    "def product_mean_status_func_apply(df_single):\n",
    "    df_single[\"product_mean_status\"] = df_single.apply(lambda x: product_mean_status_func_values(x[\"price\"], x[\"product_mean\"]), axis=1)\n",
    "    return df_single\n",
    "\n",
    "df_single = product_mean_status_func_apply(df_single)"
   ]
  },
  {
   "cell_type": "markdown",
   "id": "2508d705",
   "metadata": {},
   "source": [
    "## crear la categoría de cada producto"
   ]
  },
  {
   "cell_type": "code",
   "execution_count": 270,
   "id": "8a35953e",
   "metadata": {},
   "outputs": [],
   "source": [
    "def categories_url(product_url):\n",
    "    if \"/ergonomia/sillas-ergonomicas/review-individual/\" in product_url:\n",
    "        return \"ergonomia\"\n",
    "    elif \"/oficina-y-escritorio/sillas-de-oficina/review-individual/\" in product_url:\n",
    "        return \"oficina\"\n",
    "    elif \"/ergonomia/sillas-de-rodillas/review-individual/\" in product_url:\n",
    "        return \"rodilla\"\n",
    "    elif \"/gaming/sillas-gaming/review-individual/\" in product_url:\n",
    "        return \"gaming\"\n",
    "    else:\n",
    "        return \"alerta sin categoria\""
   ]
  },
  {
   "cell_type": "code",
   "execution_count": 274,
   "id": "9039ea74",
   "metadata": {},
   "outputs": [],
   "source": [
    "def product_category(df_single):\n",
    "    #df_single[\"product_category\"] = df_single.apply(lambda x: categories_url(x[\"url\"], axis=1))\n",
    "    df_single[\"product_category\"] = df_single[\"url\"].apply(categories_url)\n",
    "    return df_single\n",
    "\n",
    "df_single = product_category(df_single)"
   ]
  },
  {
   "cell_type": "markdown",
   "id": "55532e1e",
   "metadata": {},
   "source": [
    "## exportar a csv"
   ]
  },
  {
   "cell_type": "code",
   "execution_count": 276,
   "id": "aee7cd82",
   "metadata": {},
   "outputs": [
    {
     "data": {
      "text/plain": [
       "'files exported successfully'"
      ]
     },
     "execution_count": 276,
     "metadata": {},
     "output_type": "execute_result"
    }
   ],
   "source": [
    "def export_files(df_single, df_append_new_files):\n",
    "    df_single_to_csv = df_single.to_csv(\"../files/df_single.csv\", sep=\",\", index=False)\n",
    "    df_append_new_files_to_csv = df_append_new_files.to_csv(\"../files/df_append_new_files_last_day.csv\", sep=\",\", index=False)#+str(datetime.today().strftime('%Y-%m-%d'))+\".csv\", sep=\",\", index=False)\n",
    "    out_of_stock_df = df_append_new_files[df_append_new_files[\"status\"] != \"correcto\"]\n",
    "    out_of_stock_df_to_csv = out_of_stock_df.to_csv(\"../files/out_of_stock_last_day.csv\", sep=\",\", index=False)\n",
    "    \n",
    "    none_values = df_single[df_single[\"product_name\"]==\"none\"].any().unique().tolist()\n",
    "    if none_values == [True]:\n",
    "        none_values_df = df_single[df_single[\"product_name\"]==\"none\"]\n",
    "        none_values_df_to_csv = none_values_df.to_csv(\"../files/non_values_last_day.csv\", sep=\",\", index=False)\n",
    "    \n",
    "    return \"files exported successfully\"\n",
    "\n",
    "export = export_files(df_single, df_append_new_files)\n",
    "export"
   ]
  },
  {
   "cell_type": "code",
   "execution_count": 279,
   "id": "f6f6fa35",
   "metadata": {},
   "outputs": [
    {
     "data": {
      "text/html": [
       "<div>\n",
       "<style scoped>\n",
       "    .dataframe tbody tr th:only-of-type {\n",
       "        vertical-align: middle;\n",
       "    }\n",
       "\n",
       "    .dataframe tbody tr th {\n",
       "        vertical-align: top;\n",
       "    }\n",
       "\n",
       "    .dataframe thead th {\n",
       "        text-align: right;\n",
       "    }\n",
       "</style>\n",
       "<table border=\"1\" class=\"dataframe\">\n",
       "  <thead>\n",
       "    <tr style=\"text-align: right;\">\n",
       "      <th></th>\n",
       "      <th>date_hyphen</th>\n",
       "      <th>date_slash</th>\n",
       "      <th>date_number</th>\n",
       "      <th>product_name</th>\n",
       "      <th>product_id</th>\n",
       "      <th>product_brand</th>\n",
       "      <th>price</th>\n",
       "      <th>status</th>\n",
       "      <th>url</th>\n",
       "      <th>product_mean</th>\n",
       "      <th>product_mean_status</th>\n",
       "      <th>product_category</th>\n",
       "    </tr>\n",
       "  </thead>\n",
       "  <tbody>\n",
       "    <tr>\n",
       "      <th>0</th>\n",
       "      <td>2022-04-14</td>\n",
       "      <td>2022/04/14</td>\n",
       "      <td>20220414</td>\n",
       "      <td>TLV TLV-MYX-801-1</td>\n",
       "      <td>B08T1TSMQQ</td>\n",
       "      <td>TLV</td>\n",
       "      <td>89</td>\n",
       "      <td>correcto</td>\n",
       "      <td>https://sillasybienestar.com/ergonomia/sillas-ergonomicas/review-individual/tlv-myx-801-1/</td>\n",
       "      <td>89</td>\n",
       "      <td>precio igual que la media</td>\n",
       "      <td>ergonomia</td>\n",
       "    </tr>\n",
       "    <tr>\n",
       "      <th>1</th>\n",
       "      <td>2022-04-14</td>\n",
       "      <td>2022/04/14</td>\n",
       "      <td>20220414</td>\n",
       "      <td>Songmics OBN55BK</td>\n",
       "      <td>B07ZCJVFDJ</td>\n",
       "      <td>Songmics</td>\n",
       "      <td>0</td>\n",
       "      <td>sin_stock</td>\n",
       "      <td>https://sillasybienestar.com/ergonomia/sillas-ergonomicas/review-individual/songmics-obn55bk/</td>\n",
       "      <td>94</td>\n",
       "      <td>producto descatalogado o sin stock</td>\n",
       "      <td>ergonomia</td>\n",
       "    </tr>\n",
       "    <tr>\n",
       "      <th>2</th>\n",
       "      <td>2022-04-14</td>\n",
       "      <td>2022/04/14</td>\n",
       "      <td>20220414</td>\n",
       "      <td>Cashoffice B081QDV9VR</td>\n",
       "      <td>B081QDV9VR</td>\n",
       "      <td>Cashoffice</td>\n",
       "      <td>83</td>\n",
       "      <td>correcto</td>\n",
       "      <td>https://sillasybienestar.com/ergonomia/sillas-ergonomicas/review-individual/cashoffice-silla-ergonomica/</td>\n",
       "      <td>83</td>\n",
       "      <td>precio igual que la media</td>\n",
       "      <td>ergonomia</td>\n",
       "    </tr>\n",
       "    <tr>\n",
       "      <th>3</th>\n",
       "      <td>2022-04-14</td>\n",
       "      <td>2022/04/14</td>\n",
       "      <td>20220414</td>\n",
       "      <td>Cedric B07SRYBJ6L</td>\n",
       "      <td>B07SRYBJ6L</td>\n",
       "      <td>Cedric</td>\n",
       "      <td>252</td>\n",
       "      <td>correcto</td>\n",
       "      <td>https://sillasybienestar.com/ergonomia/sillas-ergonomicas/review-individual/cedric/</td>\n",
       "      <td>252</td>\n",
       "      <td>precio igual que la media</td>\n",
       "      <td>ergonomia</td>\n",
       "    </tr>\n",
       "    <tr>\n",
       "      <th>4</th>\n",
       "      <td>2022-04-14</td>\n",
       "      <td>2022/04/14</td>\n",
       "      <td>20220414</td>\n",
       "      <td>Noblewell B08DR42HFV</td>\n",
       "      <td>B08DR42HFV</td>\n",
       "      <td>Noblewell</td>\n",
       "      <td>139</td>\n",
       "      <td>correcto</td>\n",
       "      <td>https://sillasybienestar.com/ergonomia/sillas-ergonomicas/review-individual/noblewell/</td>\n",
       "      <td>139</td>\n",
       "      <td>precio igual que la media</td>\n",
       "      <td>ergonomia</td>\n",
       "    </tr>\n",
       "  </tbody>\n",
       "</table>\n",
       "</div>"
      ],
      "text/plain": [
       "  date_hyphen  date_slash  date_number           product_name  product_id  \\\n",
       "0  2022-04-14  2022/04/14     20220414      TLV TLV-MYX-801-1  B08T1TSMQQ   \n",
       "1  2022-04-14  2022/04/14     20220414       Songmics OBN55BK  B07ZCJVFDJ   \n",
       "2  2022-04-14  2022/04/14     20220414  Cashoffice B081QDV9VR  B081QDV9VR   \n",
       "3  2022-04-14  2022/04/14     20220414      Cedric B07SRYBJ6L  B07SRYBJ6L   \n",
       "4  2022-04-14  2022/04/14     20220414   Noblewell B08DR42HFV  B08DR42HFV   \n",
       "\n",
       "  product_brand  price     status  \\\n",
       "0           TLV     89   correcto   \n",
       "1      Songmics      0  sin_stock   \n",
       "2    Cashoffice     83   correcto   \n",
       "3        Cedric    252   correcto   \n",
       "4     Noblewell    139   correcto   \n",
       "\n",
       "                                                                                                        url  \\\n",
       "0                https://sillasybienestar.com/ergonomia/sillas-ergonomicas/review-individual/tlv-myx-801-1/   \n",
       "1             https://sillasybienestar.com/ergonomia/sillas-ergonomicas/review-individual/songmics-obn55bk/   \n",
       "2  https://sillasybienestar.com/ergonomia/sillas-ergonomicas/review-individual/cashoffice-silla-ergonomica/   \n",
       "3                       https://sillasybienestar.com/ergonomia/sillas-ergonomicas/review-individual/cedric/   \n",
       "4                    https://sillasybienestar.com/ergonomia/sillas-ergonomicas/review-individual/noblewell/   \n",
       "\n",
       "   product_mean                 product_mean_status product_category  \n",
       "0            89           precio igual que la media        ergonomia  \n",
       "1            94  producto descatalogado o sin stock        ergonomia  \n",
       "2            83           precio igual que la media        ergonomia  \n",
       "3           252           precio igual que la media        ergonomia  \n",
       "4           139           precio igual que la media        ergonomia  "
      ]
     },
     "execution_count": 279,
     "metadata": {},
     "output_type": "execute_result"
    }
   ],
   "source": [
    "df_single.head()"
   ]
  },
  {
   "cell_type": "code",
   "execution_count": 280,
   "id": "84f97250",
   "metadata": {},
   "outputs": [
    {
     "data": {
      "text/plain": [
       "322"
      ]
     },
     "execution_count": 280,
     "metadata": {},
     "output_type": "execute_result"
    }
   ],
   "source": [
    "len(df_single)"
   ]
  },
  {
   "cell_type": "markdown",
   "id": "0152df86",
   "metadata": {},
   "source": [
    "# C. p_reporting"
   ]
  },
  {
   "cell_type": "markdown",
   "id": "c1fc0ebb",
   "metadata": {},
   "source": [
    "### A) conexión api spreadsheets"
   ]
  },
  {
   "cell_type": "markdown",
   "id": "4068d3e0",
   "metadata": {},
   "source": [
    "### B) alertas vía email"
   ]
  },
  {
   "cell_type": "code",
   "execution_count": 257,
   "id": "9ff9bdbc",
   "metadata": {},
   "outputs": [],
   "source": [
    "#funcion para enviar emails\n",
    "def business_afi_email_sender(receiver_email, filename_location, csv_name, body_email):\n",
    "\n",
    "    subject = \"sillas y bienestar | \"+ csv_name + \" | \" + str(datetime.today().strftime('%Y-%m-%d'))\n",
    "    body = body_email #\"CSV como backup con el dataframe diario en formato csv\"\n",
    "    sender_email = \"businessafiliacion@gmail.com\"\n",
    "    receiver_email = receiver_email\n",
    "    password = \"kwjyhhdbgnemzhhp\"\n",
    "    \n",
    "    # Create a multipart message and set headers\n",
    "    message = MIMEMultipart()\n",
    "    message[\"From\"] = sender_email\n",
    "    message[\"To\"] = receiver_email\n",
    "    message[\"Subject\"] = subject\n",
    "    message[\"Bcc\"] = receiver_email  # Recommended for mass emails\n",
    "    \n",
    "    # Add body to email\n",
    "    message.attach(MIMEText(body, \"plain\"))\n",
    "    \n",
    "    filename = filename_location\n",
    "    \n",
    "    # Open PDF file in binary mode\n",
    "    with open(filename, \"rb\") as attachment:\n",
    "        # Add file as application/octet-stream\n",
    "        # Email client can usually download this automatically as attachment\n",
    "        part = MIMEBase(\"application\", \"octet-stream\")\n",
    "        part.set_payload(attachment.read())\n",
    "    \n",
    "    # Encode file in ASCII characters to send by email    \n",
    "    encoders.encode_base64(part)\n",
    "    \n",
    "    # Add header as key/value pair to attachment part\n",
    "    part.add_header(\n",
    "        \"Content-Disposition\",\n",
    "        f\"attachment; filename= {filename}\",\n",
    "    )     \n",
    "    \n",
    "    # Add attachment to message and convert message to string\n",
    "    message.attach(part)\n",
    "    text = message.as_string()\n",
    "\n",
    "    # Log in to server using secure context and send email\n",
    "    context = ssl.create_default_context()\n",
    "    with smtplib.SMTP_SSL(\"smtp.gmail.com\", 465, context=context) as server:\n",
    "        server.login(sender_email, password)\n",
    "        server.sendmail(sender_email, receiver_email, text)\n",
    "        \n",
    "    return \"email \" + csv_name + \" sended\""
   ]
  },
  {
   "cell_type": "markdown",
   "id": "20d1f30f",
   "metadata": {},
   "source": [
    "#### b.1) out of stock o descatalogado"
   ]
  },
  {
   "cell_type": "code",
   "execution_count": 258,
   "id": "e1088944",
   "metadata": {},
   "outputs": [
    {
     "data": {
      "text/plain": [
       "'email out_of_stock_last_day.csv sended'"
      ]
     },
     "execution_count": 258,
     "metadata": {},
     "output_type": "execute_result"
    }
   ],
   "source": [
    "#out of stock o descatalogado\n",
    "business_afi_email_sender(\"businessafiliacion@gmail.com\",\"../files/out_of_stock_last_day.csv\", \"out_of_stock_last_day.csv\", \"CSV con productos descatalogados o fuera de stock\")"
   ]
  },
  {
   "cell_type": "markdown",
   "id": "d3084db8",
   "metadata": {},
   "source": [
    "#### b.2) none values"
   ]
  },
  {
   "cell_type": "code",
   "execution_count": 261,
   "id": "18cd3385",
   "metadata": {},
   "outputs": [],
   "source": [
    "def email_none_values(df_single, df_append_new_files):\n",
    "    none_values = df_single[df_single[\"product_name\"]==\"none\"].any().unique().tolist()\n",
    "    if none_values == [True]:       \n",
    "        business_afi_email_sender(\"businessafiliacion@gmail.com\", \"../files/non_values_last_day.csv\", \"non_values_last_day.csv\", \"CSV con valores none\")       \n",
    "        return \"ALERT ALVARO, exists none values\"\n",
    "    else:\n",
    "        return \"does not exist none values\""
   ]
  },
  {
   "cell_type": "code",
   "execution_count": 262,
   "id": "2fa0cd38",
   "metadata": {},
   "outputs": [
    {
     "data": {
      "text/plain": [
       "'does not exist none values'"
      ]
     },
     "execution_count": 262,
     "metadata": {},
     "output_type": "execute_result"
    }
   ],
   "source": [
    "email_none_values(df_single, df_append_new_files)"
   ]
  },
  {
   "cell_type": "markdown",
   "id": "d7ef9b63",
   "metadata": {},
   "source": [
    "### C) envío de csv vía email"
   ]
  },
  {
   "cell_type": "code",
   "execution_count": 266,
   "id": "8ed5ac52",
   "metadata": {},
   "outputs": [
    {
     "data": {
      "text/plain": [
       "'email df_single.csv sended'"
      ]
     },
     "execution_count": 266,
     "metadata": {},
     "output_type": "execute_result"
    }
   ],
   "source": [
    "business_afi_email_sender(\"businessafiliacion@gmail.com\", \"../files/df_single.csv\", \"df_single.csv\", \"CSV PRINCIPAL como backup con el dataframe diario con todos los datos en formato csv\")"
   ]
  },
  {
   "cell_type": "code",
   "execution_count": 267,
   "id": "715e1b7b",
   "metadata": {},
   "outputs": [
    {
     "data": {
      "text/plain": [
       "'email df_append_new_files_last_day.csv sended'"
      ]
     },
     "execution_count": 267,
     "metadata": {},
     "output_type": "execute_result"
    }
   ],
   "source": [
    "business_afi_email_sender(\"businessafiliacion@gmail.com\", \"../files/df_append_new_files_last_day.csv\", \"df_append_new_files_last_day.csv\", \"CSV CON DATOS DEL DIA como backup con el dataframe diario en formato csv\")"
   ]
  },
  {
   "cell_type": "code",
   "execution_count": null,
   "id": "4a2771cd",
   "metadata": {},
   "outputs": [],
   "source": []
  }
 ],
 "metadata": {
  "kernelspec": {
   "display_name": "Python [conda env:ironhack]",
   "language": "python",
   "name": "conda-env-ironhack-py"
  },
  "language_info": {
   "codemirror_mode": {
    "name": "ipython",
    "version": 3
   },
   "file_extension": ".py",
   "mimetype": "text/x-python",
   "name": "python",
   "nbconvert_exporter": "python",
   "pygments_lexer": "ipython3",
   "version": "3.7.11"
  }
 },
 "nbformat": 4,
 "nbformat_minor": 5
}
