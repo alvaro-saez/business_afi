{
 "cells": [
  {
   "cell_type": "code",
   "execution_count": 1,
   "id": "9c564e69",
   "metadata": {},
   "outputs": [],
   "source": [
    "import pandas as pd\n",
    "import numpy as np\n",
    "import requests\n",
    "import bs4\n",
    "import re\n",
    "from datetime import datetime"
   ]
  },
  {
   "cell_type": "markdown",
   "id": "8b121bac",
   "metadata": {},
   "source": [
    "### datos necesarios para el dataframe:\n",
    "\n",
    "- web scrapping: price, product_name, product_id, product_brand\n",
    "- url\n",
    "- fecha del dia\n",
    "\n",
    "--> el dataframe solo podrá tener una entrada por dia y por producto (poner consiciones de si ya existe la fecha de hoy para ese nombre de producto no añadir nada)\n",
    "\n",
    "\n",
    "--> columnas (url, brand, name, id, price)\n"
   ]
  },
  {
   "cell_type": "markdown",
   "id": "cb9c1c8d",
   "metadata": {},
   "source": [
    "### output a) un único DF:\n",
    "\n",
    "Un dataframe con las siguientes caracteristicas:\n",
    "\n",
    "- el dataframe solo podrá tener una entrada por cada producto al día (poner condiciones de si ya existe la fecha de hoy para ese nombre de producto no añadir nada)\n",
    "\n",
    "- columnas (date_hyphen, date_slash, date_number, url, brand, name, id, price)"
   ]
  },
  {
   "cell_type": "markdown",
   "id": "8c93206c",
   "metadata": {},
   "source": [
    "### output B) un DF por cada producto:\n",
    "\n",
    "De esta manera cada dia sería una única entrada por cada DF"
   ]
  },
  {
   "cell_type": "markdown",
   "id": "e2d11dd4",
   "metadata": {},
   "source": [
    "###  supuesto 1. test con una silla en la que hay stock y precio"
   ]
  },
  {
   "cell_type": "code",
   "execution_count": 2,
   "id": "33412555",
   "metadata": {},
   "outputs": [],
   "source": [
    "url_cedric = 'https://sillasybienestar.com/ergonomia/sillas-ergonomicas/review-individual/cedric/'"
   ]
  },
  {
   "cell_type": "code",
   "execution_count": 3,
   "id": "9c920807",
   "metadata": {},
   "outputs": [],
   "source": [
    "response_cedric = requests.get(url_cedric)\n",
    "html_cedric = response_cedric.content\n",
    "parsed_content_cedric = bs4.BeautifulSoup(html_cedric, \"html.parser\")"
   ]
  },
  {
   "cell_type": "code",
   "execution_count": 4,
   "id": "a5f53b72",
   "metadata": {},
   "outputs": [],
   "source": [
    "price_cedric_class = parsed_content_cedric.find_all(\"span\",{\"class\":\"aawp-product__price aawp-product__price--current\"})[0]"
   ]
  },
  {
   "cell_type": "code",
   "execution_count": 5,
   "id": "82eea0d6",
   "metadata": {},
   "outputs": [
    {
     "data": {
      "text/plain": [
       "'252.74'"
      ]
     },
     "execution_count": 5,
     "metadata": {},
     "output_type": "execute_result"
    }
   ],
   "source": [
    "#final_price_cedric = price_cedric_class.text.replace(\"€\",\"\").strip().replace(\",\",\".\")\n",
    "final_price_cedric = re.sub(\"[^\\d|\\,]\",\"\",price_cedric_class.text).replace(\",\",\".\")\n",
    "final_price_cedric"
   ]
  },
  {
   "cell_type": "code",
   "execution_count": 6,
   "id": "bd7c284e",
   "metadata": {},
   "outputs": [
    {
     "data": {
      "text/plain": [
       "'Cedric B07SRYBJ6L'"
      ]
     },
     "execution_count": 6,
     "metadata": {},
     "output_type": "execute_result"
    }
   ],
   "source": [
    "final_name_cedric = str(parsed_content_cedric).split(\"ficha_product_name='\")[1].split(\"';\")[0].strip()\n",
    "final_name_cedric"
   ]
  },
  {
   "cell_type": "code",
   "execution_count": 7,
   "id": "2d246a6a",
   "metadata": {},
   "outputs": [
    {
     "data": {
      "text/plain": [
       "'B07SRYBJ6L'"
      ]
     },
     "execution_count": 7,
     "metadata": {},
     "output_type": "execute_result"
    }
   ],
   "source": [
    "final_id_cedric = str(parsed_content_cedric).split(\"ficha_product_id='\")[1].split(\"';\")[0].strip()\n",
    "final_id_cedric"
   ]
  },
  {
   "cell_type": "code",
   "execution_count": 8,
   "id": "82abc901",
   "metadata": {},
   "outputs": [
    {
     "data": {
      "text/plain": [
       "'Cedric'"
      ]
     },
     "execution_count": 8,
     "metadata": {},
     "output_type": "execute_result"
    }
   ],
   "source": [
    "final_brand_cedric = str(parsed_content_cedric).split(\"ficha_product_brand='\")[1].split(\"';\")[0].strip()\n",
    "final_brand_cedric"
   ]
  },
  {
   "cell_type": "code",
   "execution_count": 9,
   "id": "e9b03cd3",
   "metadata": {},
   "outputs": [
    {
     "data": {
      "text/plain": [
       "'2022-04-13'"
      ]
     },
     "execution_count": 9,
     "metadata": {},
     "output_type": "execute_result"
    }
   ],
   "source": [
    "date_hyphen = datetime.today().strftime('%Y-%m-%d')\n",
    "date_hyphen"
   ]
  },
  {
   "cell_type": "code",
   "execution_count": 10,
   "id": "469fbd33",
   "metadata": {},
   "outputs": [
    {
     "data": {
      "text/plain": [
       "'2022/04/13'"
      ]
     },
     "execution_count": 10,
     "metadata": {},
     "output_type": "execute_result"
    }
   ],
   "source": [
    "date_slash = datetime.today().strftime('%Y/%m/%d')\n",
    "date_slash"
   ]
  },
  {
   "cell_type": "code",
   "execution_count": 11,
   "id": "8df0ef39",
   "metadata": {},
   "outputs": [
    {
     "data": {
      "text/plain": [
       "20220413"
      ]
     },
     "execution_count": 11,
     "metadata": {},
     "output_type": "execute_result"
    }
   ],
   "source": [
    "date_number = int(datetime.today().strftime('%Y%m%d'))\n",
    "date_number"
   ]
  },
  {
   "cell_type": "markdown",
   "id": "d4860378",
   "metadata": {},
   "source": [
    "###  supuesto 2. test cuando no hay stock"
   ]
  },
  {
   "cell_type": "code",
   "execution_count": 12,
   "id": "399fdda6",
   "metadata": {},
   "outputs": [],
   "source": [
    "url_no_price = \"https://sillasybienestar.com/gaming/sillas-gaming/review-individual/silla-gamer-bgeu-a136-sencillez-y-buen-precio-ofertas-2021/\""
   ]
  },
  {
   "cell_type": "code",
   "execution_count": 13,
   "id": "13710a1a",
   "metadata": {},
   "outputs": [],
   "source": [
    "response_np = requests.get(url_no_price)\n",
    "html_np = response_np.content\n",
    "parsed_content_np = bs4.BeautifulSoup(html_np, \"html.parser\")\n",
    "price_cedric_np = parsed_content_np.find_all(\"span\",{\"class\":\"aawp-product__price aawp-product__price--current\"})[0].text"
   ]
  },
  {
   "cell_type": "code",
   "execution_count": 14,
   "id": "847ef5a5",
   "metadata": {},
   "outputs": [
    {
     "data": {
      "text/plain": [
       "''"
      ]
     },
     "execution_count": 14,
     "metadata": {},
     "output_type": "execute_result"
    }
   ],
   "source": [
    "price_cedric_np"
   ]
  },
  {
   "cell_type": "code",
   "execution_count": 15,
   "id": "bef57eda",
   "metadata": {},
   "outputs": [],
   "source": [
    "#si está sin stock aparecerá \"\" --> ponerle condicion para que cuando pase sea un \"0\""
   ]
  },
  {
   "cell_type": "code",
   "execution_count": 16,
   "id": "68b757ed",
   "metadata": {},
   "outputs": [
    {
     "name": "stdout",
     "output_type": "stream",
     "text": [
      "0\n"
     ]
    }
   ],
   "source": [
    "if price_cedric_np == \"\":\n",
    "    print(0)"
   ]
  },
  {
   "cell_type": "code",
   "execution_count": 17,
   "id": "5fbf5088",
   "metadata": {},
   "outputs": [],
   "source": [
    "#hay que pasarlo al list comprenhension (una opcion sería que cuando esté el dataframe ponerle un apply(función para susitituirlo))"
   ]
  },
  {
   "cell_type": "markdown",
   "id": "2a87a2d5",
   "metadata": {},
   "source": [
    "### supuesto 3. test cuando ya no existe el producto"
   ]
  },
  {
   "cell_type": "code",
   "execution_count": 18,
   "id": "eae99c6a",
   "metadata": {},
   "outputs": [],
   "source": [
    "url_wrong = \"https://sillasybienestar.com/ergonomia/sillas-ergonomicas/review-individual/femor/\""
   ]
  },
  {
   "cell_type": "code",
   "execution_count": 19,
   "id": "d56ed3a9",
   "metadata": {},
   "outputs": [],
   "source": [
    "# ¡OJO! que como tenemos un plugin al final, en este caso si que detecta un producto, y no es el que queremos, es el [0 de los bestseleers]"
   ]
  },
  {
   "cell_type": "code",
   "execution_count": 20,
   "id": "d1240eb7",
   "metadata": {},
   "outputs": [],
   "source": [
    "response_wrong = requests.get(url_wrong)\n",
    "html_wrong = response_wrong.content\n",
    "parsed_content_wrong = bs4.BeautifulSoup(html_wrong, \"html.parser\")\n",
    "price_wrong_class = parsed_content_wrong.find_all(\"div\",{\"class\":\"wp-block-media-text__content\"})[0].text.strip()"
   ]
  },
  {
   "cell_type": "code",
   "execution_count": 21,
   "id": "56cd81ab",
   "metadata": {},
   "outputs": [
    {
     "data": {
      "text/plain": [
       "'No products found.'"
      ]
     },
     "execution_count": 21,
     "metadata": {},
     "output_type": "execute_result"
    }
   ],
   "source": [
    "price_wrong_class"
   ]
  },
  {
   "cell_type": "markdown",
   "id": "971baa7e",
   "metadata": {},
   "source": [
    "##### vamos a ver si esta clase existe en los supuestos 1. y 2."
   ]
  },
  {
   "cell_type": "code",
   "execution_count": 22,
   "id": "3737a129",
   "metadata": {},
   "outputs": [
    {
     "data": {
      "text/plain": [
       "'(559)\\n \\n\\n\\n\\n252,74 €\\n\\nVer Precio en Amazon\\n\\n\\n\\n\\n\\nÚltima actualización el 2022-04-13'"
      ]
     },
     "execution_count": 22,
     "metadata": {},
     "output_type": "execute_result"
    }
   ],
   "source": [
    "#nos vamos al supuesto de que hay stock y precio\n",
    "price_cedric_np0 = parsed_content_cedric.find_all(\"div\",{\"class\":\"wp-block-media-text__content\"})[0].text.strip()\n",
    "price_cedric_np0"
   ]
  },
  {
   "cell_type": "code",
   "execution_count": 23,
   "id": "68b54b92",
   "metadata": {},
   "outputs": [
    {
     "data": {
      "text/plain": [
       "'Silla Racing BGEU-A136 \\n\\n\\n\\n\\n\\n\\n\\nVer en Amazon\\n\\n\\n\\n\\n\\nÚltima actualización el 2021-08-09'"
      ]
     },
     "execution_count": 23,
     "metadata": {},
     "output_type": "execute_result"
    }
   ],
   "source": [
    "#nos vamos al supuesto de cuando no hay stock y aplicamos la clase a ver si existe\n",
    "price_cedric_np2 = parsed_content_np.find_all(\"div\",{\"class\":\"wp-block-media-text__content\"})[0].text.strip()\n",
    "price_cedric_np2"
   ]
  },
  {
   "cell_type": "code",
   "execution_count": 24,
   "id": "9c5546ea",
   "metadata": {},
   "outputs": [],
   "source": [
    "#si existe, por lo que podemos empezar con esta condicion para todos los uspuestos a la hora de obtener el precio"
   ]
  },
  {
   "cell_type": "markdown",
   "id": "8ecf788c",
   "metadata": {},
   "source": [
    "### OBTENCIÓN DE VARIABLES"
   ]
  },
  {
   "cell_type": "code",
   "execution_count": null,
   "id": "f1430bcf",
   "metadata": {},
   "outputs": [],
   "source": [
    "# FALTARIA CREAR UN HANDLING EXPRESSION PARA SI LA URL NO ES DE REVIEW INDIVIDUAL"
   ]
  },
  {
   "cell_type": "code",
   "execution_count": 74,
   "id": "51f3a1c3",
   "metadata": {},
   "outputs": [],
   "source": [
    "urls_products_list = [\n",
    "\"https://sillasybienestar.com/ergonomia/sillas-ergonomicas/review-individual/cedric/\",\n",
    "\"https://sillasybienestar.com/ergonomia/sillas-ergonomicas/review-individual/tlv-myx-801-1/\",\n",
    "\"https://sillasybienestar.com/ergonomia/sillas-ergonomicas/review-individual/songmics-obn55bk/\",\n",
    "\"https://sillasybienestar.com/gaming/sillas-gaming/review-individual/silla-gamer-bgeu-a136-sencillez-y-buen-precio-ofertas-2021/\", #SUPUESTO 2. url en el que no hay stock del producto\n",
    "\"https://sillasybienestar.com/ergonomia/sillas-ergonomicas/review-individual/femor/\" #SUPUESTO 3. url en el que ya no existe el producto en amazon\n",
    "]"
   ]
  },
  {
   "cell_type": "code",
   "execution_count": 69,
   "id": "4a148565",
   "metadata": {},
   "outputs": [],
   "source": [
    "#contenido \"parseado\" para las siguientes variables\n",
    "parsed_products_content_list = [bs4.BeautifulSoup(requests.get(i).content, \"html.parser\") for i in urls_products_list]\n",
    "\n",
    "#contenido \"parseado\" para el precio\n",
    "parsed_products_price_class = [i.find_all(\"span\",{\"class\":\"aawp-product__price aawp-product__price--current\"})[0].text for i in parsed_products_content_list]\n",
    "\n",
    "#PRECIO\n",
    "#final_price_products = [re.sub(\"[^\\d|\\,]\",\"\",i).replace(\",\",\".\") for i in parsed_products_price_class]\n",
    "final_price_products_list =[]\n",
    "def price_list(parsed_products_content_list):\n",
    "    for i in parsed_products_content_list:\n",
    "        if i.find_all(\"div\",{\"class\":\"wp-block-media-text__content\"})[0].text.strip() == \"No products found.\":\n",
    "            final_price_products_list.append(0)\n",
    "        elif i.find_all(\"span\",{\"class\":\"aawp-product__price aawp-product__price--current\"})[0].text == \"\":\n",
    "            final_price_products_list.append(0)\n",
    "        elif i.find_all(\"span\",{\"class\":\"aawp-product__price aawp-product__price--current\"})[0].text != \"\":\n",
    "            price_supuesto_1 = i.find_all(\"span\",{\"class\":\"aawp-product__price aawp-product__price--current\"})[0].text\n",
    "            price_supuesto_1_cleaned = re.sub(\"[^\\d|\\,]\",\"\",str(price_supuesto_1)).replace(\",\",\".\")\n",
    "            final_price_products_list.append(float(price_supuesto_1_cleaned))\n",
    "        else:\n",
    "            print(\"revisar funcion price\")\n",
    "price_list(parsed_products_content_list)\n",
    "\n",
    "#funcionpara handling error\n",
    "def handling_error_vars_product(i,text):\n",
    "    try:\n",
    "        str(i).split(text)[1]\n",
    "    except:\n",
    "        return \"none\"\n",
    "    else:\n",
    "        return str(i).split(text)[1].split(\"';\")[0].strip()\n",
    "    \n",
    "#NAME\n",
    "#final_name_products = [str(i).split(\"ficha_product_name='\")[1].split(\"';\")[0].strip() for i in parsed_products_content_list]\n",
    "final_name_products = [handling_error_vars_product(i,\"ficha_product_name='\") for i in parsed_products_content_list]\n",
    "\n",
    "#ID\n",
    "#final_id_products = [str(i).split(\"ficha_product_id='\")[1].split(\"';\")[0].strip() for i in parsed_products_content_list]\n",
    "final_id_products = [handling_error_vars_product(i,\"ficha_product_id='\") for i in parsed_products_content_list]\n",
    "\n",
    "\n",
    "#BRAND\n",
    "#final_brand_products = [str(i).split(\"ficha_product_brand='\")[1].split(\"';\")[0].strip() for i in parsed_products_content_list]\n",
    "final_brand_products = [handling_error_vars_product(i,\"ficha_product_brand='\") for i in parsed_products_content_list]\n",
    "\n",
    "\n",
    "#DATES\n",
    "final_date_hyphen_products = [datetime.today().strftime('%Y-%m-%d') for i in range(len(urls_products_list))]\n",
    "final_date_slash_products = [datetime.today().strftime('%Y/%m/%d') for i in range(len(urls_products_list))]\n",
    "final_date_number_products = [int(datetime.today().strftime('%Y%m%d')) for i in range(len(urls_products_list))]"
   ]
  },
  {
   "cell_type": "code",
   "execution_count": 73,
   "id": "b16134e7",
   "metadata": {},
   "outputs": [
    {
     "data": {
      "text/plain": [
       "[252.74, 89.99, 131.99, 0, 0]"
      ]
     },
     "execution_count": 73,
     "metadata": {},
     "output_type": "execute_result"
    }
   ],
   "source": [
    "final_price_products_list"
   ]
  }
 ],
 "metadata": {
  "kernelspec": {
   "display_name": "Python [conda env:ironhack]",
   "language": "python",
   "name": "conda-env-ironhack-py"
  },
  "language_info": {
   "codemirror_mode": {
    "name": "ipython",
    "version": 3
   },
   "file_extension": ".py",
   "mimetype": "text/x-python",
   "name": "python",
   "nbconvert_exporter": "python",
   "pygments_lexer": "ipython3",
   "version": "3.7.11"
  }
 },
 "nbformat": 4,
 "nbformat_minor": 5
}
