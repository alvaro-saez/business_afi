{
 "cells": [
  {
   "cell_type": "code",
   "execution_count": 1,
   "id": "8e519a5b",
   "metadata": {},
   "outputs": [],
   "source": [
    "import pandas as pd\n",
    "import numpy as np\n",
    "import requests\n",
    "import bs4\n",
    "import re\n",
    "from datetime import datetime\n",
    "pd.set_option('display.max_rows', 1000)\n",
    "pd.options.display.max_colwidth = 1000\n",
    "\n",
    "#to send emails\n",
    "import email, smtplib, ssl\n",
    "from email import encoders\n",
    "from email.mime.base import MIMEBase\n",
    "from email.mime.multipart import MIMEMultipart\n",
    "from email.mime.text import MIMEText\n",
    "\n",
    "#to make the conection with spreadsheets\n",
    "import gspread\n",
    "from google.oauth2.service_account import Credentials\n",
    "\n",
    "#for passwords\n",
    "import os\n",
    "from dotenv import load_dotenv, find_dotenv\n",
    "\n",
    "load_dotenv(find_dotenv(\"../credentials/.env\"))\n",
    "email_key = os.environ.get(\"EMAIL_KEY\") #EMAIL PASSWORD"
   ]
  },
  {
   "cell_type": "markdown",
   "id": "07ffd5da",
   "metadata": {},
   "source": [
    "# C. p_analysis"
   ]
  },
  {
   "cell_type": "markdown",
   "id": "805060ea",
   "metadata": {},
   "source": [
    "We are going to study the values looking for errors to create alerts via email"
   ]
  },
  {
   "cell_type": "markdown",
   "id": "e317b2c8",
   "metadata": {},
   "source": [
    "### - EMAIL ALERTS"
   ]
  },
  {
   "cell_type": "code",
   "execution_count": 86,
   "id": "73a79367",
   "metadata": {},
   "outputs": [],
   "source": [
    "def business_afi_email_sender(receiver_email, filename_location, csv_name, body_email):\n",
    "\n",
    "    subject = \"sillas y bienestar | \"+ csv_name + \" | \" + str(datetime.today().strftime('%Y-%m-%d'))\n",
    "    body = body_email \n",
    "    sender_email = \"businessafiliacion@gmail.com\"\n",
    "    receiver_email = receiver_email\n",
    "    password = email_key\n",
    "    \n",
    "    # Create a multipart message and set headers\n",
    "    message = MIMEMultipart()\n",
    "    message[\"From\"] = sender_email\n",
    "    message[\"To\"] = receiver_email\n",
    "    message[\"Subject\"] = subject\n",
    "    message[\"Bcc\"] = receiver_email  # Recommended for mass emails\n",
    "    \n",
    "    # Add body to email\n",
    "    message.attach(MIMEText(body, \"plain\"))\n",
    "    \n",
    "    filename = filename_location\n",
    "    \n",
    "    # Open PDF file in binary mode\n",
    "    with open(filename, \"rb\") as attachment:\n",
    "        # Add file as application/octet-stream\n",
    "        # Email client can usually download this automatically as attachment\n",
    "        part = MIMEBase(\"application\", \"octet-stream\")\n",
    "        part.set_payload(attachment.read())\n",
    "    \n",
    "    # Encode file in ASCII characters to send by email    \n",
    "    encoders.encode_base64(part)\n",
    "    \n",
    "    # Add header as key/value pair to attachment part\n",
    "    part.add_header(\n",
    "        \"Content-Disposition\",\n",
    "        f\"attachment; filename= {filename}\",\n",
    "    )     \n",
    "    \n",
    "    # Add attachment to message and convert message to string\n",
    "    message.attach(part)\n",
    "    text = message.as_string()\n",
    "\n",
    "    # Log in to server using secure context and send email\n",
    "    context = ssl.create_default_context()\n",
    "    with smtplib.SMTP_SSL(\"smtp.gmail.com\", 465, context=context) as server:\n",
    "        server.login(sender_email, password)\n",
    "        server.sendmail(sender_email, receiver_email, text)\n",
    "        \n",
    "    return \"email \" + csv_name + \" sended\""
   ]
  },
  {
   "cell_type": "markdown",
   "id": "79e3b58a",
   "metadata": {},
   "source": [
    "#### 1) out of stock or discontinued"
   ]
  },
  {
   "cell_type": "code",
   "execution_count": 87,
   "id": "b842db4c",
   "metadata": {},
   "outputs": [
    {
     "data": {
      "text/plain": [
       "'email out_of_stock_last_day.csv sended'"
      ]
     },
     "execution_count": 87,
     "metadata": {},
     "output_type": "execute_result"
    }
   ],
   "source": [
    "business_afi_email_sender(\"businessafiliacion@gmail.com\",\"../files/out_of_stock_last_day.csv\", \"out_of_stock_last_day.csv\", \"CSV con productos descatalogados o fuera de stock\")"
   ]
  },
  {
   "cell_type": "markdown",
   "id": "ed4aaa55",
   "metadata": {},
   "source": [
    "#### 2) none values"
   ]
  },
  {
   "cell_type": "code",
   "execution_count": 70,
   "id": "aa608ab3",
   "metadata": {},
   "outputs": [],
   "source": [
    "def email_none_values(df_single, df_append_new_files):\n",
    "    none_values = df_single[df_single[\"product_name\"]==\"none\"].any().unique().tolist()\n",
    "    if none_values == [True]:       \n",
    "        business_afi_email_sender(\"businessafiliacion@gmail.com\", \"../files/non_values_last_day.csv\", \"non_values_last_day.csv\", \"CSV con valores none\")       \n",
    "        return \"ALERT ALVARO, exists none values\"\n",
    "    else:\n",
    "        return \"does not exist none values\""
   ]
  },
  {
   "cell_type": "code",
   "execution_count": 71,
   "id": "28939d70",
   "metadata": {},
   "outputs": [
    {
     "data": {
      "text/plain": [
       "'does not exist none values'"
      ]
     },
     "execution_count": 71,
     "metadata": {},
     "output_type": "execute_result"
    }
   ],
   "source": [
    "email_none_values(df_single, df_append_new_files)"
   ]
  },
  {
   "cell_type": "markdown",
   "id": "5322d293",
   "metadata": {},
   "source": [
    "#### 3) send the csv to have a backup"
   ]
  },
  {
   "cell_type": "code",
   "execution_count": 72,
   "id": "4de3a50b",
   "metadata": {},
   "outputs": [
    {
     "data": {
      "text/plain": [
       "'email df_single.csv sended'"
      ]
     },
     "execution_count": 72,
     "metadata": {},
     "output_type": "execute_result"
    }
   ],
   "source": [
    "business_afi_email_sender(\"businessafiliacion@gmail.com\", \"../files/df_single.csv\", \"df_single.csv\", \"CSV PRINCIPAL como backup con el dataframe diario con todos los datos en formato csv\")"
   ]
  },
  {
   "cell_type": "code",
   "execution_count": 73,
   "id": "e0c6b8bc",
   "metadata": {},
   "outputs": [
    {
     "data": {
      "text/plain": [
       "'email df_append_new_files_last_day.csv sended'"
      ]
     },
     "execution_count": 73,
     "metadata": {},
     "output_type": "execute_result"
    }
   ],
   "source": [
    "business_afi_email_sender(\"businessafiliacion@gmail.com\", \"../files/df_append_new_files_last_day.csv\", \"df_append_new_files_last_day.csv\", \"CSV CON DATOS DEL DIA como backup con el dataframe diario en formato csv\")"
   ]
  },
  {
   "cell_type": "code",
   "execution_count": null,
   "id": "d5226aa2",
   "metadata": {},
   "outputs": [],
   "source": []
  }
 ],
 "metadata": {
  "kernelspec": {
   "display_name": "Python [conda env:ironhack]",
   "language": "python",
   "name": "conda-env-ironhack-py"
  },
  "language_info": {
   "codemirror_mode": {
    "name": "ipython",
    "version": 3
   },
   "file_extension": ".py",
   "mimetype": "text/x-python",
   "name": "python",
   "nbconvert_exporter": "python",
   "pygments_lexer": "ipython3",
   "version": "3.7.11"
  }
 },
 "nbformat": 4,
 "nbformat_minor": 5
}
