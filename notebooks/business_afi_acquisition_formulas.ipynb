{
 "cells": [
  {
   "cell_type": "code",
   "execution_count": 1,
   "id": "127cce9c",
   "metadata": {},
   "outputs": [],
   "source": [
    "import pandas as pd\n",
    "import numpy as np\n",
    "import requests\n",
    "import bs4\n",
    "import re\n",
    "from datetime import datetime\n",
    "pd.set_option('display.max_rows', 1000)\n",
    "pd.options.display.max_colwidth = 1000\n",
    "\n",
    "#to send emails\n",
    "import email, smtplib, ssl\n",
    "from email import encoders\n",
    "from email.mime.base import MIMEBase\n",
    "from email.mime.multipart import MIMEMultipart\n",
    "from email.mime.text import MIMEText\n",
    "\n",
    "#to make the conection with spreadsheets\n",
    "import gspread\n",
    "from google.oauth2.service_account import Credentials"
   ]
  },
  {
   "cell_type": "markdown",
   "id": "b5eb6865",
   "metadata": {},
   "source": [
    "# A. p_acquisition"
   ]
  },
  {
   "cell_type": "markdown",
   "id": "213dd43e",
   "metadata": {},
   "source": [
    "### SET THE URLS IN VARIABLES"
   ]
  },
  {
   "cell_type": "code",
   "execution_count": 2,
   "id": "0366b94e",
   "metadata": {},
   "outputs": [],
   "source": [
    "urls_ergonomia = [\n",
    "\"https://sillasybienestar.com/ergonomia/sillas-ergonomicas/review-individual/tlv-myx-801-1/\",\n",
    "\"https://sillasybienestar.com/ergonomia/sillas-ergonomicas/review-individual/songmics-obn55bk/\",\n",
    "\"https://sillasybienestar.com/ergonomia/sillas-ergonomicas/review-individual/cashoffice-silla-ergonomica/\",\n",
    "\"https://sillasybienestar.com/ergonomia/sillas-ergonomicas/review-individual/cedric/\",\n",
    "\"https://sillasybienestar.com/ergonomia/sillas-ergonomicas/review-individual/noblewell/\",\n",
    "\"https://sillasybienestar.com/ergonomia/sillas-ergonomicas/review-individual/sihoo-lb14/\",\n",
    "\"https://sillasybienestar.com/ergonomia/sillas-ergonomicas/review-individual/ronda-silla-espanola/\",\n",
    "\"https://sillasybienestar.com/ergonomia/sillas-ergonomicas/review-individual/diablo-v-master/\",\n",
    "\"https://sillasybienestar.com/ergonomia/sillas-ergonomicas/review-individual/diablo-v-basic/\",\n",
    "\"https://sillasybienestar.com/ergonomia/sillas-ergonomicas/review-individual/songmics-obn61bkv1/\",\n",
    "\"https://sillasybienestar.com/ergonomia/sillas-ergonomicas/review-individual/hbada-reposapies/\",\n",
    "\"https://sillasybienestar.com/ergonomia/sillas-ergonomicas/review-individual/songmics-obn86bk/\",\n",
    "\"https://sillasybienestar.com/ergonomia/sillas-ergonomicas/review-individual/femor/\",\n",
    "\"https://sillasybienestar.com/ergonomia/sillas-ergonomicas/review-individual/hbada-reposabrazos/\",\n",
    "\"https://sillasybienestar.com/ergonomia/sillas-ergonomicas/review-individual/mfavour/\",\n",
    "\"https://sillasybienestar.com/ergonomia/sillas-ergonomicas/review-individual/umi/\"   \n",
    "]"
   ]
  },
  {
   "cell_type": "code",
   "execution_count": 3,
   "id": "4a9370b0",
   "metadata": {},
   "outputs": [],
   "source": [
    "#If want to add a new URL to the \"ergonomia\" category\n",
    "def new_url_ergo(new_url):\n",
    "    urls_ergonomia.append(new_url)\n",
    "    return \"new url 'ergonomia' added\""
   ]
  },
  {
   "cell_type": "code",
   "execution_count": 4,
   "id": "31433083",
   "metadata": {},
   "outputs": [],
   "source": [
    "urls_oficina = [\n",
    "\"https://sillasybienestar.com/oficina-y-escritorio/sillas-de-oficina/review-individual/songmics-obn52bk/\",\n",
    "\"https://sillasybienestar.com/oficina-y-escritorio/sillas-de-oficina/review-individual/songmics-obn22bk/\",\n",
    "\"https://sillasybienestar.com/oficina-y-escritorio/sillas-de-oficina/review-individual/allguest-cedric/\",\n",
    "\"https://sillasybienestar.com/oficina-y-escritorio/sillas-de-oficina/review-individual/hbada-hdny108bm-eu/\",\n",
    "\"https://sillasybienestar.com/oficina-y-escritorio/sillas-de-oficina/review-individual/intimate-wm-heart-sillon-b07x8tqh96/\",\n",
    "\"https://sillasybienestar.com/oficina-y-escritorio/sillas-de-oficina/review-individual/vinsetto-sillon-de-oficina-azul-claro/\",\n",
    "\"https://sillasybienestar.com/oficina-y-escritorio/sillas-de-oficina/review-individual/exofcer-mc6310/\",\n",
    "\"https://sillasybienestar.com/oficina-y-escritorio/sillas-de-oficina/review-individual/songmics-obg24b/\"\n",
    "]"
   ]
  },
  {
   "cell_type": "code",
   "execution_count": 5,
   "id": "49bf3432",
   "metadata": {},
   "outputs": [],
   "source": [
    "#If want to add a new URL to the \"oficina\" category\n",
    "def new_url_oficina(new_url):\n",
    "    urls_oficina.append(new_url)\n",
    "    return \"new url 'oficina' added\""
   ]
  },
  {
   "cell_type": "code",
   "execution_count": 6,
   "id": "9534bd6b",
   "metadata": {},
   "outputs": [],
   "source": [
    "urls_rodilla = [\n",
    "\"https://sillasybienestar.com/ergonomia/sillas-de-rodillas/review-individual/duehome/\",\n",
    "\"https://sillasybienestar.com/ergonomia/sillas-de-rodillas/review-individual/himimi-silla-de-rodillas/\",\n",
    "\"https://sillasybienestar.com/ergonomia/sillas-de-rodillas/review-individual/varier/\",\n",
    "\"https://sillasybienestar.com/ergonomia/sillas-de-rodillas/review-individual/cinius/\"\n",
    "]"
   ]
  },
  {
   "cell_type": "code",
   "execution_count": 7,
   "id": "6780c19a",
   "metadata": {},
   "outputs": [],
   "source": [
    "#If want to add a new URL to the \"rodilla\" category\n",
    "def new_url_rodilla(new_url):\n",
    "    urls_rodilla.append(new_url)\n",
    "    return \"new url 'rodilla' added\""
   ]
  },
  {
   "cell_type": "code",
   "execution_count": 8,
   "id": "eeebee12",
   "metadata": {},
   "outputs": [],
   "source": [
    "urls_gaming = [\n",
    "\"https://sillasybienestar.com/gaming/sillas-gaming/review-individual/gtplayer-rosa/\",\n",
    "\"https://sillasybienestar.com/gaming/sillas-gaming/review-individual/diablo-x-gamer-2-0/\",\n",
    "\"https://sillasybienestar.com/gaming/sillas-gaming/review-individual/intimate-wm-heart-silla-gamer-barata/\",\n",
    "\"https://sillasybienestar.com/gaming/sillas-gaming/review-individual/nokaxus-yk-6008-rosa/\",\n",
    "\"https://sillasybienestar.com/gaming/sillas-gaming/review-individual/newskill-nayuki/\",\n",
    "\"https://sillasybienestar.com/gaming/sillas-gaming/review-individual/silla-gamer-bgeu-a136-sencillez-y-buen-precio-ofertas-2021/\",\n",
    "\"https://sillasybienestar.com/gaming/sillas-gaming/review-individual/autofull-pink-bunny/\",\n",
    "\"https://sillasybienestar.com/gaming/sillas-gaming/review-individual/adec-drw/\",\n",
    "\"https://sillasybienestar.com/gaming/sillas-gaming/review-individual/femor-gaming/\",\n",
    "\"https://sillasybienestar.com/gaming/sillas-gaming/review-individual/hbada-gaming-hdjy001bmj-cb/\",\n",
    "\"https://sillasybienestar.com/gaming/sillas-gaming/review-individual/intimate-wm-heart-gaming/\",\n",
    "\"https://sillasybienestar.com/gaming/sillas-gaming/review-individual/corsair-t3-rush/\",\n",
    "\"https://sillasybienestar.com/gaming/sillas-gaming/review-individual/dxracer-king-ks06/\",\n",
    "\"https://sillasybienestar.com/gaming/sillas-gaming/review-individual/diablo-x-horn/\",\n",
    "\"https://sillasybienestar.com/gaming/sillas-gaming/review-individual/diablo-x-ray/\",\n",
    "\"https://sillasybienestar.com/gaming/sillas-gaming/review-individual/dxracer-formula-f08/\",\n",
    "\"https://sillasybienestar.com/gaming/sillas-gaming/review-individual/newskill-kitsune/\",\n",
    "\"https://sillasybienestar.com/gaming/sillas-gaming/review-individual/newskill-takamikura/\"\n",
    "#\"https://sillasybienestar.com/gaming/sillas-gaming/review-individual/songmics-racing/\" - no usamos\n",
    "]"
   ]
  },
  {
   "cell_type": "code",
   "execution_count": 9,
   "id": "7ff15e83",
   "metadata": {},
   "outputs": [],
   "source": [
    "#If want to add a new URL to the \"gaming\" category\n",
    "def new_url_gaming(new_url):\n",
    "    urls_gaming.append(new_url)\n",
    "    return \"new url 'gaming' added\""
   ]
  },
  {
   "cell_type": "code",
   "execution_count": 10,
   "id": "686f12ff",
   "metadata": {},
   "outputs": [],
   "source": [
    "#JOIN all the urls\n",
    "def full_urls(urls_ergonomia, urls_oficina, urls_rodilla, urls_gaming):\n",
    "    urls_products_list_list = urls_ergonomia + urls_oficina + urls_rodilla + urls_gaming\n",
    "    return urls_products_list_list\n",
    "    \n",
    "urls_products_list = full_urls(urls_ergonomia, urls_oficina, urls_rodilla, urls_gaming)"
   ]
  },
  {
   "cell_type": "markdown",
   "id": "0a03eb25",
   "metadata": {},
   "source": [
    "### web scrapping"
   ]
  },
  {
   "cell_type": "markdown",
   "id": "8965b1d6",
   "metadata": {},
   "source": [
    "Obtain the HTML of all our URLs"
   ]
  },
  {
   "cell_type": "code",
   "execution_count": null,
   "id": "0e05adc0",
   "metadata": {},
   "outputs": [],
   "source": [
    "def parsed_content(urls_products_list):\n",
    "    parsed_products_content_list = [bs4.BeautifulSoup(requests.get(i).content, \"html.parser\") for i in urls_products_list]\n",
    "    return parsed_products_content_list\n",
    "\n",
    "parsed_products_content_list = parsed_content(urls_products_list)"
   ]
  },
  {
   "cell_type": "markdown",
   "id": "e8f37328",
   "metadata": {},
   "source": [
    "Obtain the price info of its class"
   ]
  },
  {
   "cell_type": "code",
   "execution_count": null,
   "id": "ed515810",
   "metadata": {},
   "outputs": [],
   "source": [
    "def parsed_price_class(parsed_products_content_list):\n",
    "    parsed_products_price_class = [i.find_all(\"span\",{\"class\":\"aawp-product__price aawp-product__price--current\"})[0].text for i in parsed_products_content_list]\n",
    "    return parsed_products_price_class\n",
    "\n",
    "parsed_products_price_class = parsed_price_class(parsed_products_content_list)"
   ]
  },
  {
   "cell_type": "markdown",
   "id": "be3c917c",
   "metadata": {},
   "source": [
    "Obtain the final price"
   ]
  },
  {
   "cell_type": "code",
   "execution_count": null,
   "id": "23f245ae",
   "metadata": {},
   "outputs": [],
   "source": [
    "def product_price(parsed_products_content_list,urls_products_list):\n",
    "    final_price_products_list =[]\n",
    "    for i,e in zip(parsed_products_content_list, range(len(urls_products_list))):\n",
    "        try:\n",
    "            i.find_all(\"div\",{\"class\":\"wp-block-media-text__content\"})[0]\n",
    "            #if it fails the except is executed\n",
    "        except:\n",
    "            if  urls_products_list[e] == \"https://sillasybienestar.com/ergonomia/sillas-ergonomicas/review-individual/mfavour/\":\n",
    "                price_supuesto_0 = i.find_all(\"span\",{\"class\":\"aawp-product__price aawp-product__price--current\"})[0].text\n",
    "                price_supuesto_0_cleaned = re.sub(\"[^\\d|\\,]\",\"\",str(price_supuesto_0)).replace(\",\",\".\")\n",
    "                final_price_products_list.append(float(price_supuesto_0_cleaned))\n",
    "            else:\n",
    "                final_price_products_list.append(-1)\n",
    "                print(\"revisar funcion price, valor con -1\")\n",
    "        else:\n",
    "            if i.find_all(\"div\",{\"class\":\"wp-block-media-text__content\"})[0].text.strip() == \"No products found.\":\n",
    "                final_price_products_list.append(0)\n",
    "            elif i.find_all(\"span\",{\"class\":\"aawp-product__price aawp-product__price--current\"})[0].text == \"\":\n",
    "                final_price_products_list.append(0)\n",
    "            elif i.find_all(\"span\",{\"class\":\"aawp-product__price aawp-product__price--current\"})[0].text != \"\":\n",
    "                price_supuesto_1 = i.find_all(\"span\",{\"class\":\"aawp-product__price aawp-product__price--current\"})[0].text\n",
    "                price_supuesto_1_cleaned = re.sub(\"[^\\d|\\,]\",\"\",str(price_supuesto_1)).replace(\",\",\".\")\n",
    "                final_price_products_list.append(float(price_supuesto_1_cleaned))\n",
    "            else:\n",
    "                print(\"revisar funcion price\")\n",
    "    return final_price_products_list\n",
    "\n",
    "final_price_products_list = product_price(parsed_products_content_list,urls_products_list)"
   ]
  },
  {
   "cell_type": "markdown",
   "id": "6bf754a9",
   "metadata": {},
   "source": [
    "Obtain if the product is out of stock or discontinued"
   ]
  },
  {
   "cell_type": "code",
   "execution_count": null,
   "id": "6407a8ef",
   "metadata": {},
   "outputs": [],
   "source": [
    "def product_status(parsed_products_content_list,urls_products_list):\n",
    "    final_price_products_status =[]\n",
    "    for i,e in zip(parsed_products_content_list, range(len(urls_products_list))):\n",
    "        try:\n",
    "            i.find_all(\"div\",{\"class\":\"wp-block-media-text__content\"})[0]\n",
    "            #if it fails the except is executed\n",
    "        except:\n",
    "            if  urls_products_list[e] == \"https://sillasybienestar.com/ergonomia/sillas-ergonomicas/review-individual/mfavour/\":\n",
    "                final_price_products_status.append(\"correcto\")\n",
    "            else:\n",
    "                print(\"revisar funcion price, valor con -1\")\n",
    "                final_price_products_status.append(\"revisar\")\n",
    "        else:\n",
    "            if i.find_all(\"div\",{\"class\":\"wp-block-media-text__content\"})[0].text.strip() == \"No products found.\":\n",
    "                final_price_products_status.append(\"descatalogado\")\n",
    "            elif i.find_all(\"span\",{\"class\":\"aawp-product__price aawp-product__price--current\"})[0].text == \"\":\n",
    "                final_price_products_status.append(\"sin_stock\")\n",
    "            elif i.find_all(\"span\",{\"class\":\"aawp-product__price aawp-product__price--current\"})[0].text != \"\":\n",
    "                final_price_products_status.append(\"correcto\")\n",
    "            else:\n",
    "                print(\"revisar funcion price\")\n",
    "    return final_price_products_status\n",
    "\n",
    "final_price_products_status = product_status(parsed_products_content_list,urls_products_list)"
   ]
  },
  {
   "cell_type": "markdown",
   "id": "64767b26",
   "metadata": {},
   "source": [
    "Create a function to handle possible erros in the product information"
   ]
  },
  {
   "cell_type": "code",
   "execution_count": null,
   "id": "4d00d414",
   "metadata": {},
   "outputs": [],
   "source": [
    "def handling_error_vars_product(i,text):\n",
    "    try:\n",
    "        str(i).split(text)[1]\n",
    "    except:\n",
    "        return \"none\"\n",
    "    else:\n",
    "        return str(i).split(text)[1].split(\"';\")[0].strip()"
   ]
  },
  {
   "cell_type": "markdown",
   "id": "8f3142a6",
   "metadata": {},
   "source": [
    "Obtain the NAME of the different products"
   ]
  },
  {
   "cell_type": "code",
   "execution_count": null,
   "id": "7fe67c9a",
   "metadata": {},
   "outputs": [],
   "source": [
    "def product_name(parsed_products_content_list):\n",
    "    \n",
    "    def handling_error_vars_product(i,text):\n",
    "        try:\n",
    "            str(i).split(text)[1]\n",
    "        except:\n",
    "            return \"none\"\n",
    "        else:\n",
    "            return str(i).split(text)[1].split(\"';\")[0].strip()\n",
    "    \n",
    "    final_name_products = [handling_error_vars_product(i,\"ficha_product_name='\") for i in parsed_products_content_list]\n",
    "    return final_name_products\n",
    "\n",
    "final_name_products = product_name(parsed_products_content_list)"
   ]
  },
  {
   "cell_type": "markdown",
   "id": "b1ef6bcd",
   "metadata": {},
   "source": [
    "Obtain the ID of the different products"
   ]
  },
  {
   "cell_type": "code",
   "execution_count": null,
   "id": "3e72f849",
   "metadata": {},
   "outputs": [],
   "source": [
    "def product_id(parsed_products_content_list):\n",
    "\n",
    "    def handling_error_vars_product(i,text):\n",
    "        try:\n",
    "            str(i).split(text)[1]\n",
    "        except:\n",
    "            return \"none\"\n",
    "        else:\n",
    "            return str(i).split(text)[1].split(\"';\")[0].strip()\n",
    "        \n",
    "    final_id_products = [handling_error_vars_product(i,\"ficha_product_id='\") for i in parsed_products_content_list]\n",
    "    return final_id_products\n",
    "\n",
    "final_id_products = product_id(parsed_products_content_list)"
   ]
  },
  {
   "cell_type": "markdown",
   "id": "370da527",
   "metadata": {},
   "source": [
    "Obtain the BRAND of the different products"
   ]
  },
  {
   "cell_type": "code",
   "execution_count": null,
   "id": "7563c3f5",
   "metadata": {},
   "outputs": [],
   "source": [
    "def product_brand(parsed_products_content_list):\n",
    "\n",
    "    def handling_error_vars_product(i,text):\n",
    "        try:\n",
    "            str(i).split(text)[1]\n",
    "        except:\n",
    "            return \"none\"\n",
    "        else:\n",
    "            return str(i).split(text)[1].split(\"';\")[0].strip()\n",
    "    \n",
    "    final_brand_products = [handling_error_vars_product(i,\"ficha_product_brand='\") for i in parsed_products_content_list]\n",
    "    return final_brand_products\n",
    "\n",
    "final_brand_products = product_brand(parsed_products_content_list)"
   ]
  },
  {
   "cell_type": "markdown",
   "id": "de49b7a5",
   "metadata": {},
   "source": [
    "Obtain the DATE of the current day in different formats"
   ]
  },
  {
   "cell_type": "markdown",
   "id": "d9a24618",
   "metadata": {},
   "source": [
    "1. With HYPHEN. Ex: 2022-04-14"
   ]
  },
  {
   "cell_type": "code",
   "execution_count": null,
   "id": "c6a9fb4b",
   "metadata": {},
   "outputs": [],
   "source": [
    "def product_date_hyphen(parsed_products_content_list):\n",
    "\n",
    "    def handling_error_vars_product(i,text):\n",
    "        try:\n",
    "            str(i).split(text)[1]\n",
    "        except:\n",
    "            return \"none\"\n",
    "        else:\n",
    "            return str(i).split(text)[1].split(\"';\")[0].strip()\n",
    "        \n",
    "    final_date_hyphen_products = [datetime.today().strftime('%Y-%m-%d') for i in range(len(urls_products_list))]\n",
    "    return final_date_hyphen_products\n",
    "\n",
    "final_date_hyphen_products = product_date_hyphen(parsed_products_content_list)"
   ]
  },
  {
   "cell_type": "markdown",
   "id": "0e091784",
   "metadata": {},
   "source": [
    "2. With SLASH. Ex: 2022/04/14"
   ]
  },
  {
   "cell_type": "code",
   "execution_count": null,
   "id": "be7418bd",
   "metadata": {},
   "outputs": [],
   "source": [
    "def product_date_slash(parsed_products_content_list):\n",
    "\n",
    "    def handling_error_vars_product(i,text):\n",
    "        try:\n",
    "            str(i).split(text)[1]\n",
    "        except:\n",
    "            return \"none\"\n",
    "        else:\n",
    "            return str(i).split(text)[1].split(\"';\")[0].strip()\n",
    "        \n",
    "    final_date_slash_products = [datetime.today().strftime('%Y/%m/%d') for i in range(len(urls_products_list))]\n",
    "    return final_date_slash_products\n",
    "\n",
    "final_date_slash_products = product_date_slash(parsed_products_content_list)"
   ]
  },
  {
   "cell_type": "markdown",
   "id": "9cf40523",
   "metadata": {},
   "source": [
    "3. Without symbols. Ex: 20220414"
   ]
  },
  {
   "cell_type": "code",
   "execution_count": null,
   "id": "c4c825b0",
   "metadata": {},
   "outputs": [],
   "source": [
    "def product_date_number(parsed_products_content_list):\n",
    "\n",
    "    def handling_error_vars_product(i,text):\n",
    "        try:\n",
    "            str(i).split(text)[1]\n",
    "        except:\n",
    "            return \"none\"\n",
    "        else:\n",
    "            return str(i).split(text)[1].split(\"';\")[0].strip()\n",
    "        \n",
    "    final_date_number_products = [int(datetime.today().strftime('%Y%m%d')) for i in range(len(urls_products_list))]\n",
    "    return final_date_number_products\n",
    "\n",
    "final_date_number_products = product_date_number(parsed_products_content_list)"
   ]
  },
  {
   "cell_type": "markdown",
   "id": "a5093656",
   "metadata": {},
   "source": [
    "# B. p_wrangling"
   ]
  },
  {
   "cell_type": "markdown",
   "id": "82ef17ba",
   "metadata": {},
   "source": [
    "## Create the DATAFRAME"
   ]
  },
  {
   "cell_type": "markdown",
   "id": "e58731bf",
   "metadata": {},
   "source": [
    "### a) Full DataFrame with a daily injection of the new scraped data"
   ]
  },
  {
   "cell_type": "code",
   "execution_count": null,
   "id": "64ce9a69",
   "metadata": {},
   "outputs": [],
   "source": [
    "def conection_spreadsheet(scopes, credentials_location):\n",
    "    scopes = scopes\n",
    "    credentials = Credentials.from_service_account_file(\n",
    "        credentials_location,\n",
    "        scopes=scopes\n",
    "    )\n",
    "    gc = gspread.authorize(credentials)\n",
    "    #If we want to host our credentials in a server we have to do the next code:\n",
    "    # gc = gspread.service_account(filename='https://www.path/to/the/downloaded/file.json')\n",
    "    print(\"conexion con spreadsheet realizada\")\n",
    "    return gc\n",
    "\n",
    "gc = conection_spreadsheet([\"https://spreadsheets.google.com/feeds\",\n",
    "         'https://www.googleapis.com/auth/spreadsheets',\n",
    "         \"https://www.googleapis.com/auth/drive.file\",\n",
    "         \"https://www.googleapis.com/auth/drive\"], '../spreadsheets/json/credentials.json')"
   ]
  },
  {
   "cell_type": "markdown",
   "id": "16f8715a",
   "metadata": {},
   "source": [
    "#### Step 1: Create or define the dataFrame\n",
    "\n",
    " - From a CSV if it exists\n",
    " - If not, from spreadsheets\n",
    " - If not, from this notebook\n",
    " - If not, we have to create a empty dataFrame"
   ]
  },
  {
   "cell_type": "code",
   "execution_count": null,
   "id": "32133a3c",
   "metadata": {},
   "outputs": [],
   "source": [
    "def main_df(location,gc):\n",
    "#1. From a CSV if it exists\n",
    "    try:\n",
    "        df_single = pd.read_csv(location)\n",
    "        print(\"df_single created through csv\")\n",
    "        return df_single\n",
    "    \n",
    "#2. If not, from spreadsheets    \n",
    "    except: #if the except is executed, the try has given an error, so it does not exist in csv (we use the spreadsheets backup)   \n",
    "        try:\n",
    "            sheet = gc.open(\"business_afi_scraping_df_single\").sheet1  #Abrir spreadhseet\n",
    "            data_from_spreadsheets = sheet.get_all_records()  #Obtener todos los registros\n",
    "            df_single = pd.DataFrame(data_from_spreadsheets)\n",
    "            print(\"df_single created through spreadsheet\")\n",
    "            return df_single\n",
    "        \n",
    "#3. If not, from this notebook\n",
    "        except: #if the except is executed, the try has given an error, so let's see if it was already created in the notebook       \n",
    "            try:\n",
    "                df_single.head()\n",
    "                print(\"df_single created through this notebook\")\n",
    "                return df_single\n",
    "            \n",
    "#4. If not, we have to create a empty dataFrame\n",
    "            except: #if it gives an error, it does not exist in the notebook and we will create it from scratch\n",
    "                columns = [\"date_hyphen\",\"date_slash\",\"date_number\",\"product_name\",\"product_id\",\"product_brand\",\"price\",\"status\",\"url\"]\n",
    "                df_single = pd.DataFrame(columns=columns)\n",
    "                print(\"df_single created through zero\")\n",
    "                return df_single\n",
    "            else: #if there is no error, it exists in the notebook and we will do nothing\n",
    "                pass\n",
    "            \n",
    "        else: #if it doesn't give an error, it exists in spreadsheets and we won't do anything\n",
    "            pass\n",
    "            \n",
    "    else: #f it doesn't give an error, it exists in csv and we won't do anything\n",
    "        pass\n",
    "\n",
    "df_single = main_df(\"../files/df_single.csv\",gc)"
   ]
  },
  {
   "cell_type": "markdown",
   "id": "f784fb5b",
   "metadata": {},
   "source": [
    "#### Step 2: Append new records in the df_single dataFrame - pd.concat()"
   ]
  },
  {
   "cell_type": "code",
   "execution_count": null,
   "id": "31cb3825",
   "metadata": {},
   "outputs": [],
   "source": [
    "def df_append_new_files(final_date_hyphen_products,final_date_slash_products,final_date_number_products,final_name_products,final_id_products,final_brand_products,final_price_products_list,final_price_products_status,urls_products_list):\n",
    "    df_append_new_files = pd.DataFrame({\n",
    "        \"date_hyphen\":final_date_hyphen_products,\n",
    "        \"date_slash\":final_date_slash_products,\n",
    "        \"date_number\":final_date_number_products,\n",
    "        \"product_name\":final_name_products,\n",
    "        \"product_id\":final_id_products,\n",
    "        \"product_brand\":final_brand_products,\n",
    "        \"price\":final_price_products_list,\n",
    "        \"status\":final_price_products_status,\n",
    "        \"url\": urls_products_list\n",
    "    })\n",
    "    df_append_new_files[\"price\"] = df_append_new_files[\"price\"].astype(\"int64\")\n",
    "    \n",
    "    return df_append_new_files\n",
    "\n",
    "df_append_new_files = df_append_new_files(final_date_hyphen_products,final_date_slash_products,final_date_number_products,final_name_products,final_id_products,final_brand_products,final_price_products_list,final_price_products_status,urls_products_list)"
   ]
  },
  {
   "cell_type": "code",
   "execution_count": null,
   "id": "94015d3c",
   "metadata": {},
   "outputs": [],
   "source": [
    "def concat_df(df_single,df_append_new_files):\n",
    "    if df_single.empty == True:\n",
    "        df_single = pd.concat([df_single, df_append_new_files], ignore_index=True)\n",
    "        return df_single\n",
    "    elif df_append_new_files[\"date_hyphen\"][0] == df_single[\"date_hyphen\"][len(df_single)-1]:\n",
    "        return df_single\n",
    "    elif df_append_new_files[\"date_hyphen\"][0] != df_single[\"date_hyphen\"][len(df_single)-1]:\n",
    "        df_single = pd.concat([df_single, df_append_new_files], ignore_index=True)\n",
    "        return df_single\n",
    "    \n",
    "df_single = concat_df(df_single,df_append_new_files)"
   ]
  },
  {
   "cell_type": "markdown",
   "id": "a7d5d73f",
   "metadata": {},
   "source": [
    "### b) Clean and Prepare the dataFrame"
   ]
  },
  {
   "cell_type": "code",
   "execution_count": null,
   "id": "fda3b008",
   "metadata": {},
   "outputs": [],
   "source": [
    "def corregir_gam_name(url,product_name):\n",
    "    if url == \"https://sillasybienestar.com/gaming/sillas-gaming/review-individual/intimate-wm-heart-gaming/\" and product_name == \"none\":\n",
    "        return \"intimate wm heat  Racing Silla Gamer\"\n",
    "    else:\n",
    "        return product_name\n",
    "        \n",
    "def corregir_gam_id(url,product_id):\n",
    "    if url == \"https://sillasybienestar.com/gaming/sillas-gaming/review-individual/intimate-wm-heart-gaming/\" and product_id == \"none\":\n",
    "        return \"B075CK3GVJ\"\n",
    "    else:\n",
    "        return product_id\n",
    "        \n",
    "def corregir_gam_brand(url,product_brand):\n",
    "    if url == \"https://sillasybienestar.com/gaming/sillas-gaming/review-individual/intimate-wm-heart-gaming/\" and product_brand == \"none\":\n",
    "        return \"intimate wm heat\"\n",
    "    else:\n",
    "        return product_brand\n",
    "\n",
    "    \n",
    "def corregir_gam_name_hbada_rep(url,product_name):\n",
    "    if url == \"https://sillasybienestar.com/ergonomia/sillas-ergonomicas/review-individual/hbada-reposabrazos/\" and product_name == \"none\":\n",
    "        return \"Hbada B07V51M94R\"\n",
    "    else:\n",
    "        return product_name\n",
    "        \n",
    "def corregir_gam_id_hbada_rep(url,product_id):\n",
    "    if url == \"https://sillasybienestar.com/ergonomia/sillas-ergonomicas/review-individual/hbada-reposabrazos/\" and product_id == \"none\":\n",
    "        return \"B07V51M94R\"\n",
    "    else:\n",
    "        return product_id\n",
    "        \n",
    "def corregir_gam_brand_hbada_rep(url,product_brand):\n",
    "    if url == \"https://sillasybienestar.com/ergonomia/sillas-ergonomicas/review-individual/hbada-reposabrazos/\" and product_brand == \"none\":\n",
    "        return \"Hbada\"\n",
    "    else:\n",
    "        return product_brand"
   ]
  },
  {
   "cell_type": "code",
   "execution_count": null,
   "id": "b6e634f9",
   "metadata": {},
   "outputs": [],
   "source": [
    "df_append_new_files"
   ]
  },
  {
   "cell_type": "code",
   "execution_count": null,
   "id": "3a117630",
   "metadata": {},
   "outputs": [],
   "source": [
    "df_single"
   ]
  },
  {
   "cell_type": "code",
   "execution_count": null,
   "id": "f84afb7c",
   "metadata": {},
   "outputs": [],
   "source": [
    "def correction_df_single(df_single):\n",
    "    #intimate wm heat  Racing Silla Gamer\n",
    "    df_single[\"product_name\"] = df_single.apply(lambda df_single: corregir_gam_name(df_single[\"url\"], df_single[\"product_name\"]), axis=1)\n",
    "    df_single[\"product_id\"] = df_single.apply(lambda df_single: corregir_gam_id(df_single[\"url\"], df_single[\"product_id\"]), axis=1)\n",
    "    df_single[\"product_brand\"] = df_single.apply(lambda df_single: corregir_gam_brand(df_single[\"url\"], df_single[\"product_brand\"]), axis=1)\n",
    "\n",
    "    #Hbada B07V51M94R\n",
    "    df_single[\"product_name\"] = df_single.apply(lambda df_single: corregir_gam_name_hbada_rep(df_single[\"url\"], df_single[\"product_name\"]), axis=1)\n",
    "    df_single[\"product_id\"] = df_single.apply(lambda df_single: corregir_gam_id_hbada_rep(df_single[\"url\"], df_single[\"product_id\"]), axis=1)\n",
    "    df_single[\"product_brand\"] = df_single.apply(lambda df_single: corregir_gam_brand_hbada_rep(df_single[\"url\"], df_single[\"product_brand\"]), axis=1)\n",
    "\n",
    "    return df_single\n",
    "\n",
    "df_single = correction_df_single(df_single)"
   ]
  },
  {
   "cell_type": "markdown",
   "id": "bd4bc437",
   "metadata": {},
   "source": [
    "### c) Create the price main of each product"
   ]
  },
  {
   "cell_type": "code",
   "execution_count": null,
   "id": "5f9a3ee0",
   "metadata": {},
   "outputs": [],
   "source": [
    "def product_mean_dic(df_single):\n",
    "    product_id_list_mean = df_single[\"product_id\"].unique().tolist()\n",
    "    mean_dic = {}\n",
    "    for i in product_id_list_mean:\n",
    "        mean_dic[i] = int(round(df_single[df_single[\"product_id\"] == i][\"price\"].mean(),0))\n",
    "    return mean_dic\n",
    "\n",
    "product_mean = product_mean_dic(df_single### b) Clean and Prepare the dataFrame\n",
    ")"
   ]
  },
  {
   "cell_type": "code",
   "execution_count": null,
   "id": "3108a9ff",
   "metadata": {},
   "outputs": [],
   "source": [
    "def product_mean_dic_to_df(df_single,product_mean):\n",
    "    df_single[\"product_mean\"] = df_single[\"product_id\"].apply(lambda x: product_mean[x])\n",
    "    return df_single\n",
    "\n",
    "df_single = product_mean_dic_to_df(df_single,product_mean)"
   ]
  },
  {
   "cell_type": "code",
   "execution_count": null,
   "id": "f5c651f5",
   "metadata": {},
   "outputs": [],
   "source": [
    "def product_mean_status_func_values(product_price,product_mean):\n",
    "    if product_price < product_mean and product_price > 0:\n",
    "        return \"precio por debajo de la media\"\n",
    "    elif product_price > product_mean and product_price > 0:\n",
    "        return \"precio por encima de la media\"\n",
    "    elif product_price == product_mean and product_price > 0:\n",
    "        return \"precio igual que la media\"\n",
    "    elif product_price == 0:\n",
    "        return \"producto descatalogado o sin stock\"\n",
    "    else:\n",
    "        return \"revisar, aviso\""
   ]
  },
  {
   "cell_type": "code",
   "execution_count": null,
   "id": "e29d12c0",
   "metadata": {},
   "outputs": [],
   "source": [
    "def product_mean_status_func_apply(df_single):\n",
    "    df_single[\"product_mean_status\"] = df_single.apply(lambda x: product_mean_status_func_values(x[\"price\"], x[\"product_mean\"]), axis=1)\n",
    "    return df_single\n",
    "\n",
    "df_single = product_mean_status_func_apply(df_single)"
   ]
  },
  {
   "cell_type": "markdown",
   "id": "66e67ad5",
   "metadata": {},
   "source": [
    "### d) Create the category of each product"
   ]
  },
  {
   "cell_type": "code",
   "execution_count": null,
   "id": "01735794",
   "metadata": {},
   "outputs": [],
   "source": [
    "def categories_url(product_url):\n",
    "    if \"/ergonomia/sillas-ergonomicas/review-individual/\" in product_url:\n",
    "        return \"ergonomia\"\n",
    "    elif \"/oficina-y-escritorio/sillas-de-oficina/review-individual/\" in product_url:\n",
    "        return \"oficina\"\n",
    "    elif \"/ergonomia/sillas-de-rodillas/review-individual/\" in product_url:\n",
    "        return \"rodilla\"\n",
    "    elif \"/gaming/sillas-gaming/review-individual/\" in product_url:\n",
    "        return \"gaming\"\n",
    "    else:\n",
    "        return \"alerta sin categoria\""
   ]
  },
  {
   "cell_type": "code",
   "execution_count": null,
   "id": "3df0f1d1",
   "metadata": {},
   "outputs": [],
   "source": [
    "def product_category(df_single):\n",
    "    df_single[\"product_category\"] = df_single[\"url\"].apply(categories_url)\n",
    "    return df_single\n",
    "\n",
    "df_single = product_category(df_single)"
   ]
  },
  {
   "cell_type": "markdown",
   "id": "55532e1e",
   "metadata": {},
   "source": [
    "## EXPORT the dataFrames to CSVs"
   ]
  },
  {
   "cell_type": "code",
   "execution_count": null,
   "id": "9940859e",
   "metadata": {},
   "outputs": [],
   "source": [
    "def export_files(df_single, df_append_new_files):\n",
    "    df_single_to_csv = df_single.to_csv(\"../files/df_single.csv\", sep=\",\", index=False)\n",
    "    df_append_new_files_to_csv = df_append_new_files.to_csv(\"../files/df_append_new_files_last_day.csv\", sep=\",\", index=False)#+str(datetime.today().strftime('%Y-%m-%d'))+\".csv\", sep=\",\", index=False)\n",
    "    out_of_stock_df = df_append_new_files[df_append_new_files[\"status\"] != \"correcto\"]\n",
    "    out_of_stock_df_to_csv = out_of_stock_df.to_csv(\"../files/out_of_stock_last_day.csv\", sep=\",\", index=False)\n",
    "    \n",
    "    none_values = df_single[df_single[\"product_name\"]==\"none\"].any().unique().tolist()\n",
    "    if none_values == [True]:\n",
    "        none_values_df = df_single[df_single[\"product_name\"]==\"none\"]\n",
    "        none_values_df_to_csv = none_values_df.to_csv(\"../files/non_values_last_day.csv\", sep=\",\", index=False)\n",
    "    \n",
    "    return \"files exported successfully\"\n",
    "\n",
    "export = export_files(df_single, df_append_new_files)\n",
    "export"
   ]
  },
  {
   "cell_type": "code",
   "execution_count": null,
   "id": "dab53c1d",
   "metadata": {},
   "outputs": [],
   "source": [
    "df_single.head()"
   ]
  },
  {
   "cell_type": "code",
   "execution_count": null,
   "id": "93a6c1df",
   "metadata": {},
   "outputs": [],
   "source": [
    "df_single.tail(5)"
   ]
  },
  {
   "cell_type": "code",
   "execution_count": null,
   "id": "530a7241",
   "metadata": {},
   "outputs": [],
   "source": [
    "len(df_single)"
   ]
  },
  {
   "cell_type": "markdown",
   "id": "682fd667",
   "metadata": {},
   "source": [
    "# C. p_analysis"
   ]
  },
  {
   "cell_type": "markdown",
   "id": "e73db92c",
   "metadata": {},
   "source": [
    "We are going to study the values looking for errors to create alerts via email"
   ]
  },
  {
   "cell_type": "markdown",
   "id": "b7bcaaa1",
   "metadata": {},
   "source": [
    "### - EMAIL ALERTS"
   ]
  },
  {
   "cell_type": "code",
   "execution_count": null,
   "id": "83c7d738",
   "metadata": {},
   "outputs": [],
   "source": [
    "def business_afi_email_sender(receiver_email, filename_location, csv_name, body_email):\n",
    "\n",
    "    subject = \"sillas y bienestar | \"+ csv_name + \" | \" + str(datetime.today().strftime('%Y-%m-%d'))\n",
    "    body = body_email \n",
    "    sender_email = \"businessafiliacion@gmail.com\"\n",
    "    receiver_email = receiver_email\n",
    "    password = \"kwjyhhdbgnemzhhp\"\n",
    "    \n",
    "    # Create a multipart message and set headers\n",
    "    message = MIMEMultipart()\n",
    "    message[\"From\"] = sender_email\n",
    "    message[\"To\"] = receiver_email\n",
    "    message[\"Subject\"] = subject\n",
    "    message[\"Bcc\"] = receiver_email  # Recommended for mass emails\n",
    "    \n",
    "    # Add body to email\n",
    "    message.attach(MIMEText(body, \"plain\"))\n",
    "    \n",
    "    filename = filename_location\n",
    "    \n",
    "    # Open PDF file in binary mode\n",
    "    with open(filename, \"rb\") as attachment:\n",
    "        # Add file as application/octet-stream\n",
    "        # Email client can usually download this automatically as attachment\n",
    "        part = MIMEBase(\"application\", \"octet-stream\")\n",
    "        part.set_payload(attachment.read())\n",
    "    \n",
    "    # Encode file in ASCII characters to send by email    \n",
    "    encoders.encode_base64(part)\n",
    "    \n",
    "    # Add header as key/value pair to attachment part\n",
    "    part.add_header(\n",
    "        \"Content-Disposition\",\n",
    "        f\"attachment; filename= {filename}\",\n",
    "    )     \n",
    "    \n",
    "    # Add attachment to message and convert message to string\n",
    "    message.attach(part)\n",
    "    text = message.as_string()\n",
    "\n",
    "    # Log in to server using secure context and send email\n",
    "    context = ssl.create_default_context()\n",
    "    with smtplib.SMTP_SSL(\"smtp.gmail.com\", 465, context=context) as server:\n",
    "        server.login(sender_email, password)\n",
    "        server.sendmail(sender_email, receiver_email, text)\n",
    "        \n",
    "    return \"email \" + csv_name + \" sended\""
   ]
  },
  {
   "cell_type": "markdown",
   "id": "8603513e",
   "metadata": {},
   "source": [
    "#### 1) out of stock or discontinued"
   ]
  },
  {
   "cell_type": "code",
   "execution_count": null,
   "id": "ca2daf24",
   "metadata": {},
   "outputs": [],
   "source": [
    "business_afi_email_sender(\"businessafiliacion@gmail.com\",\"../files/out_of_stock_last_day.csv\", \"out_of_stock_last_day.csv\", \"CSV con productos descatalogados o fuera de stock\")"
   ]
  },
  {
   "cell_type": "markdown",
   "id": "e8f31522",
   "metadata": {},
   "source": [
    "#### 2) none values"
   ]
  },
  {
   "cell_type": "code",
   "execution_count": null,
   "id": "ad0c4d77",
   "metadata": {},
   "outputs": [],
   "source": [
    "def email_none_values(df_single, df_append_new_files):\n",
    "    none_values = df_single[df_single[\"product_name\"]==\"none\"].any().unique().tolist()\n",
    "    if none_values == [True]:       \n",
    "        business_afi_email_sender(\"businessafiliacion@gmail.com\", \"../files/non_values_last_day.csv\", \"non_values_last_day.csv\", \"CSV con valores none\")       \n",
    "        return \"ALERT ALVARO, exists none values\"\n",
    "    else:\n",
    "        return \"does not exist none values\""
   ]
  },
  {
   "cell_type": "code",
   "execution_count": null,
   "id": "d41b95a7",
   "metadata": {},
   "outputs": [],
   "source": [
    "email_none_values(df_single, df_append_new_files)"
   ]
  },
  {
   "cell_type": "markdown",
   "id": "222cb463",
   "metadata": {},
   "source": [
    "#### 3) send the csv to have a backup"
   ]
  },
  {
   "cell_type": "code",
   "execution_count": null,
   "id": "6a457c47",
   "metadata": {},
   "outputs": [],
   "source": [
    "business_afi_email_sender(\"businessafiliacion@gmail.com\", \"../files/df_single.csv\", \"df_single.csv\", \"CSV PRINCIPAL como backup con el dataframe diario con todos los datos en formato csv\")"
   ]
  },
  {
   "cell_type": "code",
   "execution_count": null,
   "id": "953ec53a",
   "metadata": {},
   "outputs": [],
   "source": [
    "business_afi_email_sender(\"businessafiliacion@gmail.com\", \"../files/df_append_new_files_last_day.csv\", \"df_append_new_files_last_day.csv\", \"CSV CON DATOS DEL DIA como backup con el dataframe diario en formato csv\")"
   ]
  },
  {
   "cell_type": "markdown",
   "id": "916eb626",
   "metadata": {},
   "source": [
    "# D. p_reporting"
   ]
  },
  {
   "cell_type": "markdown",
   "id": "57fd35d6",
   "metadata": {},
   "source": [
    "We are going to send the different DataFrames to spreadsheet\n",
    "\n",
    "#### INDEX LIBRARY\n",
    "https://docs.gspread.org/en/latest/\n",
    "\n",
    "#### USER GUIDE\n",
    "https://docs.gspread.org/en/latest/user-guide.html"
   ]
  },
  {
   "cell_type": "markdown",
   "id": "342ecc64",
   "metadata": {},
   "source": [
    "The conection has been done in the \"p_wrangling\" module. The output is located in the variable \"gc\""
   ]
  },
  {
   "cell_type": "code",
   "execution_count": null,
   "id": "e9ad8cac",
   "metadata": {},
   "outputs": [],
   "source": [
    "def update_spreadsheet(gc, spreadsheet_name, worksheet_name, dataframe):\n",
    "    #Open the spreadhseet\n",
    "    sheet = gc.open(spreadsheet_name).worksheet(worksheet_name)\n",
    "    \n",
    "    #Clear and Update the Worksheet\n",
    "    sheet.clear()\n",
    "    sheet.update('A1:L1',[dataframe.columns.tolist()])\n",
    "    sheet.update('A2:L' + str(len(dataframe)+1), dataframe.values.tolist())\n",
    "    \n",
    "    return \"worksheet updated\""
   ]
  },
  {
   "cell_type": "code",
   "execution_count": null,
   "id": "164722b8",
   "metadata": {},
   "outputs": [],
   "source": [
    "#sheet1 - df_single\n",
    "update_spreadsheet(gc, \"business_afi_scraping_df_single\", \"df_single\", df_single)"
   ]
  },
  {
   "cell_type": "code",
   "execution_count": null,
   "id": "41704505",
   "metadata": {},
   "outputs": [],
   "source": [
    "#sheet2 - df_append_new_files\n",
    "update_spreadsheet(gc, \"business_afi_scraping_last_day_files\", \"df_append_new_files\", df_append_new_files)"
   ]
  },
  {
   "cell_type": "code",
   "execution_count": null,
   "id": "dad4a174",
   "metadata": {},
   "outputs": [],
   "source": [
    "#sheet3 - out_of_stock_df\n",
    "def out_of_stock_spreadsheet(df_append_new_files):\n",
    "    out_of_stock_df = df_append_new_files[df_append_new_files[\"status\"] != \"correcto\"]\n",
    "    update_spreadsheet(gc, \"business_afi_scraping_last_day_files\", \"out_of_stock_df\", out_of_stock_df)\n",
    "    \n",
    "    return \"worksheet updated\"\n",
    "out_of_stock_spreadsheet(df_append_new_files)"
   ]
  },
  {
   "cell_type": "code",
   "execution_count": null,
   "id": "e3ca8805",
   "metadata": {},
   "outputs": [],
   "source": [
    "#sheet4 - none_values_df\n",
    "def non_values_spreadsheet(df_single):\n",
    "    none_values = df_single[df_single[\"product_name\"]==\"none\"].any().unique().tolist()\n",
    "    if none_values == [True]:\n",
    "        none_values_df = df_single[df_single[\"product_name\"]==\"none\"]\n",
    "        update_spreadsheet(gc, \"business_afi_scraping_last_day_files\", \"none_values_df\", none_values_df)\n",
    "        \n",
    "        return \"worksheet updated\"\n",
    "    else:\n",
    "        return \"worksheet updated, but there is no any none value\"\n",
    "    \n",
    "non_values_spreadsheet(df_single)"
   ]
  },
  {
   "cell_type": "code",
   "execution_count": null,
   "id": "b40eb2cd",
   "metadata": {},
   "outputs": [],
   "source": []
  }
 ],
 "metadata": {
  "kernelspec": {
   "display_name": "Python [conda env:ironhack]",
   "language": "python",
   "name": "conda-env-ironhack-py"
  },
  "language_info": {
   "codemirror_mode": {
    "name": "ipython",
    "version": 3
   },
   "file_extension": ".py",
   "mimetype": "text/x-python",
   "name": "python",
   "nbconvert_exporter": "python",
   "pygments_lexer": "ipython3",
   "version": "3.7.11"
  }
 },
 "nbformat": 4,
 "nbformat_minor": 5
}
