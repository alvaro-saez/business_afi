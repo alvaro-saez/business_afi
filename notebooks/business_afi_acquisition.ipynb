{
 "cells": [
  {
   "cell_type": "code",
   "execution_count": 1,
   "id": "2287b887",
   "metadata": {},
   "outputs": [],
   "source": [
    "import pandas as pd\n",
    "import numpy as np\n",
    "import requests\n",
    "import bs4\n",
    "import re\n",
    "from datetime import datetime"
   ]
  },
  {
   "cell_type": "markdown",
   "id": "ae788ed4",
   "metadata": {},
   "source": [
    "### datos necesarios para el dataframe:\n",
    "\n",
    "- web scrapping: price, product_name, product_id, product_brand\n",
    "- url\n",
    "- fecha del dia\n",
    "\n",
    "--> el dataframe solo podrá tener una entrada por dia y por producto (poner consiciones de si ya existe la fecha de hoy para ese nombre de producto no añadir nada)\n",
    "\n",
    "\n",
    "--> columnas (url, brand, name, id, price)\n"
   ]
  },
  {
   "cell_type": "markdown",
   "id": "a4521d21",
   "metadata": {},
   "source": [
    "### output a) un único DF:\n",
    "\n",
    "Un dataframe con las siguientes caracteristicas:\n",
    "\n",
    "- el dataframe solo podrá tener una entrada por cada producto al día (poner condiciones de si ya existe la fecha de hoy para ese nombre de producto no añadir nada)\n",
    "\n",
    "- columnas (date_hyphen, date_slash, date_number, url, brand, name, id, price)"
   ]
  },
  {
   "cell_type": "markdown",
   "id": "d4d6d28e",
   "metadata": {},
   "source": [
    "### output B) un DF por cada producto:\n",
    "\n",
    "De esta manera cada dia sería una única entrada por cada DF"
   ]
  },
  {
   "cell_type": "markdown",
   "id": "68b7dede",
   "metadata": {},
   "source": [
    "###  supuesto 1. test con una silla en la que hay stock y precio"
   ]
  },
  {
   "cell_type": "code",
   "execution_count": 2,
   "id": "567c1c9a",
   "metadata": {},
   "outputs": [],
   "source": [
    "url_cedric = 'https://sillasybienestar.com/ergonomia/sillas-ergonomicas/review-individual/cedric/'"
   ]
  },
  {
   "cell_type": "code",
   "execution_count": 3,
   "id": "63acbac8",
   "metadata": {},
   "outputs": [],
   "source": [
    "response_cedric = requests.get(url_cedric)\n",
    "html_cedric = response_cedric.content\n",
    "parsed_content_cedric = bs4.BeautifulSoup(html_cedric, \"html.parser\")"
   ]
  },
  {
   "cell_type": "code",
   "execution_count": 4,
   "id": "8616cb5c",
   "metadata": {},
   "outputs": [],
   "source": [
    "price_cedric_class = parsed_content_cedric.find_all(\"span\",{\"class\":\"aawp-product__price aawp-product__price--current\"})[0]"
   ]
  },
  {
   "cell_type": "code",
   "execution_count": 5,
   "id": "b7d7ec2d",
   "metadata": {},
   "outputs": [
    {
     "data": {
      "text/plain": [
       "'252.74'"
      ]
     },
     "execution_count": 5,
     "metadata": {},
     "output_type": "execute_result"
    }
   ],
   "source": [
    "#final_price_cedric = price_cedric_class.text.replace(\"€\",\"\").strip().replace(\",\",\".\")\n",
    "final_price_cedric = re.sub(\"[^\\d|\\,]\",\"\",price_cedric_class.text).replace(\",\",\".\")\n",
    "final_price_cedric"
   ]
  },
  {
   "cell_type": "code",
   "execution_count": 6,
   "id": "5bcdafcf",
   "metadata": {},
   "outputs": [
    {
     "data": {
      "text/plain": [
       "'Cedric B07SRYBJ6L'"
      ]
     },
     "execution_count": 6,
     "metadata": {},
     "output_type": "execute_result"
    }
   ],
   "source": [
    "final_name_cedric = str(parsed_content_cedric).split(\"ficha_product_name='\")[1].split(\"';\")[0].strip()\n",
    "final_name_cedric"
   ]
  },
  {
   "cell_type": "code",
   "execution_count": 7,
   "id": "63d5935e",
   "metadata": {},
   "outputs": [
    {
     "data": {
      "text/plain": [
       "'B07SRYBJ6L'"
      ]
     },
     "execution_count": 7,
     "metadata": {},
     "output_type": "execute_result"
    }
   ],
   "source": [
    "final_id_cedric = str(parsed_content_cedric).split(\"ficha_product_id='\")[1].split(\"';\")[0].strip()\n",
    "final_id_cedric"
   ]
  },
  {
   "cell_type": "code",
   "execution_count": 8,
   "id": "729f0c58",
   "metadata": {},
   "outputs": [
    {
     "data": {
      "text/plain": [
       "'Cedric'"
      ]
     },
     "execution_count": 8,
     "metadata": {},
     "output_type": "execute_result"
    }
   ],
   "source": [
    "final_brand_cedric = str(parsed_content_cedric).split(\"ficha_product_brand='\")[1].split(\"';\")[0].strip()\n",
    "final_brand_cedric"
   ]
  },
  {
   "cell_type": "code",
   "execution_count": 9,
   "id": "e3ac1bf5",
   "metadata": {},
   "outputs": [
    {
     "data": {
      "text/plain": [
       "'2022-04-13'"
      ]
     },
     "execution_count": 9,
     "metadata": {},
     "output_type": "execute_result"
    }
   ],
   "source": [
    "date_hyphen = datetime.today().strftime('%Y-%m-%d')\n",
    "date_hyphen"
   ]
  },
  {
   "cell_type": "code",
   "execution_count": 10,
   "id": "84cdb75b",
   "metadata": {},
   "outputs": [
    {
     "data": {
      "text/plain": [
       "'2022/04/13'"
      ]
     },
     "execution_count": 10,
     "metadata": {},
     "output_type": "execute_result"
    }
   ],
   "source": [
    "date_slash = datetime.today().strftime('%Y/%m/%d')\n",
    "date_slash"
   ]
  },
  {
   "cell_type": "code",
   "execution_count": 11,
   "id": "cc7869e3",
   "metadata": {},
   "outputs": [
    {
     "data": {
      "text/plain": [
       "20220413"
      ]
     },
     "execution_count": 11,
     "metadata": {},
     "output_type": "execute_result"
    }
   ],
   "source": [
    "date_number = int(datetime.today().strftime('%Y%m%d'))\n",
    "date_number"
   ]
  },
  {
   "cell_type": "markdown",
   "id": "c2d7a0a8",
   "metadata": {},
   "source": [
    "###  supuesto 2. test cuando no hay stock"
   ]
  },
  {
   "cell_type": "code",
   "execution_count": 12,
   "id": "e7f3ffab",
   "metadata": {},
   "outputs": [],
   "source": [
    "url_no_price = \"https://sillasybienestar.com/gaming/sillas-gaming/review-individual/silla-gamer-bgeu-a136-sencillez-y-buen-precio-ofertas-2021/\""
   ]
  },
  {
   "cell_type": "code",
   "execution_count": 13,
   "id": "ac4c8a71",
   "metadata": {},
   "outputs": [],
   "source": [
    "response_np = requests.get(url_no_price)\n",
    "html_np = response_np.content\n",
    "parsed_content_np = bs4.BeautifulSoup(html_np, \"html.parser\")\n",
    "price_cedric_np = parsed_content_np.find_all(\"span\",{\"class\":\"aawp-product__price aawp-product__price--current\"})[0].text"
   ]
  },
  {
   "cell_type": "code",
   "execution_count": 14,
   "id": "8c8f3f05",
   "metadata": {},
   "outputs": [
    {
     "data": {
      "text/plain": [
       "''"
      ]
     },
     "execution_count": 14,
     "metadata": {},
     "output_type": "execute_result"
    }
   ],
   "source": [
    "price_cedric_np"
   ]
  },
  {
   "cell_type": "code",
   "execution_count": 15,
   "id": "30488f64",
   "metadata": {},
   "outputs": [],
   "source": [
    "#si está sin stock aparecerá \"\" --> ponerle condicion para que cuando pase sea un \"0\""
   ]
  },
  {
   "cell_type": "code",
   "execution_count": 16,
   "id": "a046ca6b",
   "metadata": {},
   "outputs": [
    {
     "name": "stdout",
     "output_type": "stream",
     "text": [
      "0\n"
     ]
    }
   ],
   "source": [
    "if price_cedric_np == \"\":\n",
    "    print(0)"
   ]
  },
  {
   "cell_type": "code",
   "execution_count": 17,
   "id": "2fd1d54a",
   "metadata": {},
   "outputs": [],
   "source": [
    "#hay que pasarlo al list comprenhension (una opcion sería que cuando esté el dataframe ponerle un apply(función para susitituirlo))"
   ]
  },
  {
   "cell_type": "markdown",
   "id": "dbd862c8",
   "metadata": {},
   "source": [
    "### supuesto 3. test cuando ya no existe el producto"
   ]
  },
  {
   "cell_type": "code",
   "execution_count": 18,
   "id": "93b7fd45",
   "metadata": {},
   "outputs": [],
   "source": [
    "url_wrong = \"https://sillasybienestar.com/ergonomia/sillas-ergonomicas/review-individual/femor/\""
   ]
  },
  {
   "cell_type": "code",
   "execution_count": 19,
   "id": "94f76bee",
   "metadata": {},
   "outputs": [],
   "source": [
    "# ¡OJO! que como tenemos un plugin al final, en este caso si que detecta un producto, y no es el que queremos, es el [0 de los bestseleers]"
   ]
  },
  {
   "cell_type": "code",
   "execution_count": 20,
   "id": "52afed39",
   "metadata": {},
   "outputs": [],
   "source": [
    "response_wrong = requests.get(url_wrong)\n",
    "html_wrong = response_wrong.content\n",
    "parsed_content_wrong = bs4.BeautifulSoup(html_wrong, \"html.parser\")\n",
    "price_wrong_class = parsed_content_wrong.find_all(\"div\",{\"class\":\"wp-block-media-text__content\"})[0].text.strip()"
   ]
  },
  {
   "cell_type": "code",
   "execution_count": 21,
   "id": "d315e7d6",
   "metadata": {},
   "outputs": [
    {
     "data": {
      "text/plain": [
       "'No products found.'"
      ]
     },
     "execution_count": 21,
     "metadata": {},
     "output_type": "execute_result"
    }
   ],
   "source": [
    "price_wrong_class"
   ]
  },
  {
   "cell_type": "markdown",
   "id": "eaf1fae7",
   "metadata": {},
   "source": [
    "##### vamos a ver si esta clase existe en los supuestos 1. y 2."
   ]
  },
  {
   "cell_type": "code",
   "execution_count": 22,
   "id": "8cb223de",
   "metadata": {},
   "outputs": [
    {
     "data": {
      "text/plain": [
       "'(559)\\n \\n\\n\\n\\n252,74 €\\n\\nVer Precio en Amazon\\n\\n\\n\\n\\n\\nÚltima actualización el 2022-04-13'"
      ]
     },
     "execution_count": 22,
     "metadata": {},
     "output_type": "execute_result"
    }
   ],
   "source": [
    "#nos vamos al supuesto de que hay stock y precio\n",
    "price_cedric_np0 = parsed_content_cedric.find_all(\"div\",{\"class\":\"wp-block-media-text__content\"})[0].text.strip()\n",
    "price_cedric_np0"
   ]
  },
  {
   "cell_type": "code",
   "execution_count": 23,
   "id": "0f4e3f8b",
   "metadata": {},
   "outputs": [
    {
     "data": {
      "text/plain": [
       "'Silla Racing BGEU-A136 \\n\\n\\n\\n\\n\\n\\n\\nVer en Amazon\\n\\n\\n\\n\\n\\nÚltima actualización el 2021-08-09'"
      ]
     },
     "execution_count": 23,
     "metadata": {},
     "output_type": "execute_result"
    }
   ],
   "source": [
    "#nos vamos al supuesto de cuando no hay stock y aplicamos la clase a ver si existe\n",
    "price_cedric_np2 = parsed_content_np.find_all(\"div\",{\"class\":\"wp-block-media-text__content\"})[0].text.strip()\n",
    "price_cedric_np2"
   ]
  },
  {
   "cell_type": "code",
   "execution_count": 24,
   "id": "3e9d40fd",
   "metadata": {},
   "outputs": [],
   "source": [
    "#si existe, por lo que podemos empezar con esta condicion para todos los uspuestos a la hora de obtener el precio"
   ]
  },
  {
   "cell_type": "markdown",
   "id": "e13bd208",
   "metadata": {},
   "source": [
    "### OBTENCIÓN DE VARIABLES"
   ]
  },
  {
   "cell_type": "code",
   "execution_count": 25,
   "id": "db8015ea",
   "metadata": {},
   "outputs": [],
   "source": [
    "# FALTARIA CREAR UN HANDLING EXPRESSION PARA SI LA URL NO ES DE REVIEW INDIVIDUAL"
   ]
  },
  {
   "cell_type": "code",
   "execution_count": 26,
   "id": "c5be548a",
   "metadata": {},
   "outputs": [],
   "source": [
    "urls_ergonomia = [\n",
    "\"https://sillasybienestar.com/ergonomia/sillas-ergonomicas/review-individual/tlv-myx-801-1/\",\n",
    "\"https://sillasybienestar.com/ergonomia/sillas-ergonomicas/review-individual/songmics-obn55bk/\",\n",
    "\"https://sillasybienestar.com/ergonomia/sillas-ergonomicas/review-individual/cashoffice-silla-ergonomica/\",\n",
    "\"https://sillasybienestar.com/ergonomia/sillas-ergonomicas/review-individual/cedric/\",\n",
    "\"https://sillasybienestar.com/ergonomia/sillas-ergonomicas/review-individual/noblewell/\",\n",
    "\"https://sillasybienestar.com/ergonomia/sillas-ergonomicas/review-individual/sihoo-lb14/\",\n",
    "\"https://sillasybienestar.com/ergonomia/sillas-ergonomicas/review-individual/ronda-silla-espanola/\",\n",
    "\"https://sillasybienestar.com/ergonomia/sillas-ergonomicas/review-individual/diablo-v-master/\",\n",
    "\"https://sillasybienestar.com/ergonomia/sillas-ergonomicas/review-individual/diablo-v-basic/\",\n",
    "\"https://sillasybienestar.com/ergonomia/sillas-ergonomicas/review-individual/songmics-obn61bkv1/\",\n",
    "\"https://sillasybienestar.com/ergonomia/sillas-ergonomicas/review-individual/hbada-reposapies/\",\n",
    "\"https://sillasybienestar.com/ergonomia/sillas-ergonomicas/review-individual/songmics-obn86bk/\",\n",
    "\"https://sillasybienestar.com/ergonomia/sillas-ergonomicas/review-individual/femor/\",\n",
    "\"https://sillasybienestar.com/ergonomia/sillas-ergonomicas/review-individual/hbada-reposabrazos/\",\n",
    "\"https://sillasybienestar.com/ergonomia/sillas-ergonomicas/review-individual/mfavour/\",\n",
    "\"https://sillasybienestar.com/ergonomia/sillas-ergonomicas/review-individual/umi/\"   \n",
    "]"
   ]
  },
  {
   "cell_type": "code",
   "execution_count": 27,
   "id": "45b3ba95",
   "metadata": {},
   "outputs": [],
   "source": [
    "urls_products_list = urls_ergonomia"
   ]
  },
  {
   "cell_type": "code",
   "execution_count": 28,
   "id": "c3e676c1",
   "metadata": {},
   "outputs": [],
   "source": [
    "#contenido \"parseado\" para las siguientes variables\n",
    "parsed_products_content_list = [bs4.BeautifulSoup(requests.get(i).content, \"html.parser\") for i in urls_products_list]\n",
    "\n",
    "#contenido \"parseado\" para el precio\n",
    "parsed_products_price_class = [i.find_all(\"span\",{\"class\":\"aawp-product__price aawp-product__price--current\"})[0].text for i in parsed_products_content_list]\n",
    "\n",
    "#PRECIO\n",
    "#final_price_products = [re.sub(\"[^\\d|\\,]\",\"\",i).replace(\",\",\".\") for i in parsed_products_price_class]\n",
    "final_price_products_list =[]\n",
    "final_price_products_status =[]\n",
    "def price_list(parsed_products_content_list,urls_products_list):\n",
    "    for i,e in zip(parsed_products_content_list, range(len(urls_products_list))):\n",
    "        try:\n",
    "            i.find_all(\"div\",{\"class\":\"wp-block-media-text__content\"})[0]\n",
    "        except:\n",
    "            if  urls_products_list[e] == \"https://sillasybienestar.com/ergonomia/sillas-ergonomicas/review-individual/mfavour/\":\n",
    "                price_supuesto_0 = i.find_all(\"span\",{\"class\":\"aawp-product__price aawp-product__price--current\"})[0].text\n",
    "                price_supuesto_0_cleaned = re.sub(\"[^\\d|\\,]\",\"\",str(price_supuesto_0)).replace(\",\",\".\")\n",
    "                final_price_products_list.append(float(price_supuesto_0_cleaned))\n",
    "                final_price_products_status.append(\"correcto\")\n",
    "            else:\n",
    "                final_price_products_list.append(999999999999999)\n",
    "                final_price_products_status.append(\"revisar\")\n",
    "        else:\n",
    "            if i.find_all(\"div\",{\"class\":\"wp-block-media-text__content\"})[0].text.strip() == \"No products found.\":\n",
    "                final_price_products_list.append(0)\n",
    "                final_price_products_status.append(\"descatalogado\")\n",
    "            elif i.find_all(\"span\",{\"class\":\"aawp-product__price aawp-product__price--current\"})[0].text == \"\":\n",
    "                final_price_products_list.append(0)\n",
    "                final_price_products_status.append(\"sin_stock\")\n",
    "            elif i.find_all(\"span\",{\"class\":\"aawp-product__price aawp-product__price--current\"})[0].text != \"\":\n",
    "                price_supuesto_1 = i.find_all(\"span\",{\"class\":\"aawp-product__price aawp-product__price--current\"})[0].text\n",
    "                price_supuesto_1_cleaned = re.sub(\"[^\\d|\\,]\",\"\",str(price_supuesto_1)).replace(\",\",\".\")\n",
    "                final_price_products_list.append(float(price_supuesto_1_cleaned))\n",
    "                final_price_products_status.append(\"correcto\")\n",
    "            else:\n",
    "                print(\"revisar funcion price\")\n",
    "price_list(parsed_products_content_list,urls_products_list)\n",
    "\n",
    "#funcionpara handling error\n",
    "def handling_error_vars_product(i,text):\n",
    "    try:\n",
    "        str(i).split(text)[1]\n",
    "    except:\n",
    "        return \"none\"\n",
    "    else:\n",
    "        return str(i).split(text)[1].split(\"';\")[0].strip()\n",
    "    \n",
    "#NAME\n",
    "#final_name_products = [str(i).split(\"ficha_product_name='\")[1].split(\"';\")[0].strip() for i in parsed_products_content_list]\n",
    "final_name_products = [handling_error_vars_product(i,\"ficha_product_name='\") for i in parsed_products_content_list]\n",
    "\n",
    "#ID\n",
    "#final_id_products = [str(i).split(\"ficha_product_id='\")[1].split(\"';\")[0].strip() for i in parsed_products_content_list]\n",
    "final_id_products = [handling_error_vars_product(i,\"ficha_product_id='\") for i in parsed_products_content_list]\n",
    "\n",
    "\n",
    "#BRAND\n",
    "#final_brand_products = [str(i).split(\"ficha_product_brand='\")[1].split(\"';\")[0].strip() for i in parsed_products_content_list]\n",
    "final_brand_products = [handling_error_vars_product(i,\"ficha_product_brand='\") for i in parsed_products_content_list]\n",
    "\n",
    "\n",
    "#DATES\n",
    "final_date_hyphen_products = [datetime.today().strftime('%Y-%m-%d') for i in range(len(urls_products_list))]\n",
    "final_date_slash_products = [datetime.today().strftime('%Y/%m/%d') for i in range(len(urls_products_list))]\n",
    "final_date_number_products = [int(datetime.today().strftime('%Y%m%d')) for i in range(len(urls_products_list))]"
   ]
  },
  {
   "cell_type": "code",
   "execution_count": 29,
   "id": "2602ed32",
   "metadata": {},
   "outputs": [
    {
     "data": {
      "text/plain": [
       "[89.99,\n",
       " 131.99,\n",
       " 83.94,\n",
       " 252.74,\n",
       " 139.99,\n",
       " 229.99,\n",
       " 107.54,\n",
       " 489.99,\n",
       " 339.99,\n",
       " 234.99,\n",
       " 135.99,\n",
       " 95.05,\n",
       " 0,\n",
       " 149.99,\n",
       " 219.99,\n",
       " 250.99]"
      ]
     },
     "execution_count": 29,
     "metadata": {},
     "output_type": "execute_result"
    }
   ],
   "source": [
    "final_price_products_list"
   ]
  },
  {
   "cell_type": "markdown",
   "id": "c34643f7",
   "metadata": {},
   "source": [
    "## Create the DATAFRAME"
   ]
  },
  {
   "cell_type": "markdown",
   "id": "ecdd7fcc",
   "metadata": {},
   "source": [
    "### a) un único DF:"
   ]
  },
  {
   "cell_type": "markdown",
   "id": "d6ced5a4",
   "metadata": {},
   "source": [
    "#### paso 1: crear un DF vacío"
   ]
  },
  {
   "cell_type": "code",
   "execution_count": 30,
   "id": "be8a178e",
   "metadata": {},
   "outputs": [],
   "source": [
    "try:\n",
    "    df_single.head() \n",
    "except: #si da error es que no existe y lo crearemos\n",
    "    columns = [\"date_hyphen\",\"date_slash\",\"date_number\",\"product_name\",\"product_id\",\"product_brand\",\"price\",\"status\",\"url\"]\n",
    "    df_single = pd.DataFrame(columns=columns)\n",
    "    #df_single[\"date_hyphen\"] = df_single[\"date_hyphen\"].astype(\"datetime64\")\n",
    "else: #si no da error es que existe y no haremos nada\n",
    "    pass"
   ]
  },
  {
   "cell_type": "code",
   "execution_count": 31,
   "id": "869ad690",
   "metadata": {},
   "outputs": [
    {
     "data": {
      "text/html": [
       "<div>\n",
       "<style scoped>\n",
       "    .dataframe tbody tr th:only-of-type {\n",
       "        vertical-align: middle;\n",
       "    }\n",
       "\n",
       "    .dataframe tbody tr th {\n",
       "        vertical-align: top;\n",
       "    }\n",
       "\n",
       "    .dataframe thead th {\n",
       "        text-align: right;\n",
       "    }\n",
       "</style>\n",
       "<table border=\"1\" class=\"dataframe\">\n",
       "  <thead>\n",
       "    <tr style=\"text-align: right;\">\n",
       "      <th></th>\n",
       "      <th>date_hyphen</th>\n",
       "      <th>date_slash</th>\n",
       "      <th>date_number</th>\n",
       "      <th>product_name</th>\n",
       "      <th>product_id</th>\n",
       "      <th>product_brand</th>\n",
       "      <th>price</th>\n",
       "      <th>status</th>\n",
       "      <th>url</th>\n",
       "    </tr>\n",
       "  </thead>\n",
       "  <tbody>\n",
       "  </tbody>\n",
       "</table>\n",
       "</div>"
      ],
      "text/plain": [
       "Empty DataFrame\n",
       "Columns: [date_hyphen, date_slash, date_number, product_name, product_id, product_brand, price, status, url]\n",
       "Index: []"
      ]
     },
     "execution_count": 31,
     "metadata": {},
     "output_type": "execute_result"
    }
   ],
   "source": [
    "df_single"
   ]
  },
  {
   "cell_type": "markdown",
   "id": "e18aa3b0",
   "metadata": {},
   "source": [
    "#### paso 2: insertar nuevas filas en df_single - pd.concat()"
   ]
  },
  {
   "cell_type": "code",
   "execution_count": 32,
   "id": "a53bdd52",
   "metadata": {},
   "outputs": [],
   "source": [
    "df_append_new_files = pd.DataFrame({\n",
    "    \"date_hyphen\":final_date_hyphen_products,\n",
    "    \"date_slash\":final_date_slash_products,\n",
    "    \"date_number\":final_date_number_products,\n",
    "    \"product_name\":final_name_products,\n",
    "    \"product_id\":final_id_products,\n",
    "    \"product_brand\":final_brand_products,\n",
    "    \"price\":final_price_products_list,\n",
    "    \"status\":final_price_products_status,\n",
    "    \"url\": urls_products_list\n",
    "})\n",
    "df_append_new_files[\"date_hyphen\"] = df_append_new_files[\"date_hyphen\"].astype(\"datetime64\")\n",
    "df_append_new_files[\"price\"] = df_append_new_files[\"price\"].astype(\"int64\")"
   ]
  },
  {
   "cell_type": "code",
   "execution_count": 33,
   "id": "2c851cf7",
   "metadata": {},
   "outputs": [],
   "source": [
    "if df_single.empty == True:\n",
    "    df_single = pd.concat([df_single, df_append_new_files], ignore_index=True)\n",
    "elif df_append_new_files[\"date_hyphen\"][0] == df_single[\"date_hyphen\"][0]:\n",
    "    pass\n",
    "elif df_append_new_files[\"date_hyphen\"][0] != df_single[\"date_hyphen\"][0]:\n",
    "    df_single = pd.concat([df_single, df_append_new_files], ignore_index=True)"
   ]
  },
  {
   "cell_type": "code",
   "execution_count": 34,
   "id": "bbd0c841",
   "metadata": {},
   "outputs": [
    {
     "name": "stdout",
     "output_type": "stream",
     "text": [
      "<class 'pandas.core.frame.DataFrame'>\n",
      "RangeIndex: 16 entries, 0 to 15\n",
      "Data columns (total 9 columns):\n",
      " #   Column         Non-Null Count  Dtype         \n",
      "---  ------         --------------  -----         \n",
      " 0   date_hyphen    16 non-null     datetime64[ns]\n",
      " 1   date_slash     16 non-null     object        \n",
      " 2   date_number    16 non-null     object        \n",
      " 3   product_name   16 non-null     object        \n",
      " 4   product_id     16 non-null     object        \n",
      " 5   product_brand  16 non-null     object        \n",
      " 6   price          16 non-null     object        \n",
      " 7   status         16 non-null     object        \n",
      " 8   url            16 non-null     object        \n",
      "dtypes: datetime64[ns](1), object(8)\n",
      "memory usage: 1.2+ KB\n"
     ]
    }
   ],
   "source": [
    "df_single.info()"
   ]
  },
  {
   "cell_type": "code",
   "execution_count": 35,
   "id": "1fe67192",
   "metadata": {},
   "outputs": [
    {
     "data": {
      "text/html": [
       "<div>\n",
       "<style scoped>\n",
       "    .dataframe tbody tr th:only-of-type {\n",
       "        vertical-align: middle;\n",
       "    }\n",
       "\n",
       "    .dataframe tbody tr th {\n",
       "        vertical-align: top;\n",
       "    }\n",
       "\n",
       "    .dataframe thead th {\n",
       "        text-align: right;\n",
       "    }\n",
       "</style>\n",
       "<table border=\"1\" class=\"dataframe\">\n",
       "  <thead>\n",
       "    <tr style=\"text-align: right;\">\n",
       "      <th></th>\n",
       "      <th>date_hyphen</th>\n",
       "      <th>date_slash</th>\n",
       "      <th>date_number</th>\n",
       "      <th>product_name</th>\n",
       "      <th>product_id</th>\n",
       "      <th>product_brand</th>\n",
       "      <th>price</th>\n",
       "      <th>status</th>\n",
       "      <th>url</th>\n",
       "    </tr>\n",
       "  </thead>\n",
       "  <tbody>\n",
       "    <tr>\n",
       "      <th>0</th>\n",
       "      <td>2022-04-13</td>\n",
       "      <td>2022/04/13</td>\n",
       "      <td>20220413</td>\n",
       "      <td>TLV TLV-MYX-801-1</td>\n",
       "      <td>B08T1TSMQQ</td>\n",
       "      <td>TLV</td>\n",
       "      <td>89</td>\n",
       "      <td>correcto</td>\n",
       "      <td>https://sillasybienestar.com/ergonomia/sillas-...</td>\n",
       "    </tr>\n",
       "    <tr>\n",
       "      <th>1</th>\n",
       "      <td>2022-04-13</td>\n",
       "      <td>2022/04/13</td>\n",
       "      <td>20220413</td>\n",
       "      <td>Songmics OBN55BK</td>\n",
       "      <td>B07ZCJVFDJ</td>\n",
       "      <td>Songmics</td>\n",
       "      <td>131</td>\n",
       "      <td>correcto</td>\n",
       "      <td>https://sillasybienestar.com/ergonomia/sillas-...</td>\n",
       "    </tr>\n",
       "    <tr>\n",
       "      <th>2</th>\n",
       "      <td>2022-04-13</td>\n",
       "      <td>2022/04/13</td>\n",
       "      <td>20220413</td>\n",
       "      <td>Cashoffice B081QDV9VR</td>\n",
       "      <td>B081QDV9VR</td>\n",
       "      <td>Cashoffice</td>\n",
       "      <td>83</td>\n",
       "      <td>correcto</td>\n",
       "      <td>https://sillasybienestar.com/ergonomia/sillas-...</td>\n",
       "    </tr>\n",
       "    <tr>\n",
       "      <th>3</th>\n",
       "      <td>2022-04-13</td>\n",
       "      <td>2022/04/13</td>\n",
       "      <td>20220413</td>\n",
       "      <td>Cedric B07SRYBJ6L</td>\n",
       "      <td>B07SRYBJ6L</td>\n",
       "      <td>Cedric</td>\n",
       "      <td>252</td>\n",
       "      <td>correcto</td>\n",
       "      <td>https://sillasybienestar.com/ergonomia/sillas-...</td>\n",
       "    </tr>\n",
       "    <tr>\n",
       "      <th>4</th>\n",
       "      <td>2022-04-13</td>\n",
       "      <td>2022/04/13</td>\n",
       "      <td>20220413</td>\n",
       "      <td>Noblewell B08DR42HFV</td>\n",
       "      <td>B08DR42HFV</td>\n",
       "      <td>Noblewell</td>\n",
       "      <td>139</td>\n",
       "      <td>correcto</td>\n",
       "      <td>https://sillasybienestar.com/ergonomia/sillas-...</td>\n",
       "    </tr>\n",
       "    <tr>\n",
       "      <th>5</th>\n",
       "      <td>2022-04-13</td>\n",
       "      <td>2022/04/13</td>\n",
       "      <td>20220413</td>\n",
       "      <td>sihoo lb14</td>\n",
       "      <td>B07GNDDNMW</td>\n",
       "      <td>sihoo</td>\n",
       "      <td>229</td>\n",
       "      <td>correcto</td>\n",
       "      <td>https://sillasybienestar.com/ergonomia/sillas-...</td>\n",
       "    </tr>\n",
       "    <tr>\n",
       "      <th>6</th>\n",
       "      <td>2022-04-13</td>\n",
       "      <td>2022/04/13</td>\n",
       "      <td>20220413</td>\n",
       "      <td>ronda la silla espanola HC1159GR</td>\n",
       "      <td>B074MJDSK6</td>\n",
       "      <td>ronda</td>\n",
       "      <td>107</td>\n",
       "      <td>correcto</td>\n",
       "      <td>https://sillasybienestar.com/ergonomia/sillas-...</td>\n",
       "    </tr>\n",
       "    <tr>\n",
       "      <th>7</th>\n",
       "      <td>2022-04-13</td>\n",
       "      <td>2022/04/13</td>\n",
       "      <td>20220413</td>\n",
       "      <td>diablo v-master</td>\n",
       "      <td>B079BS7DW9</td>\n",
       "      <td>diablo</td>\n",
       "      <td>489</td>\n",
       "      <td>correcto</td>\n",
       "      <td>https://sillasybienestar.com/ergonomia/sillas-...</td>\n",
       "    </tr>\n",
       "    <tr>\n",
       "      <th>8</th>\n",
       "      <td>2022-04-13</td>\n",
       "      <td>2022/04/13</td>\n",
       "      <td>20220413</td>\n",
       "      <td>diablo v-basic</td>\n",
       "      <td>B079BSRV7P</td>\n",
       "      <td>diablo</td>\n",
       "      <td>339</td>\n",
       "      <td>correcto</td>\n",
       "      <td>https://sillasybienestar.com/ergonomia/sillas-...</td>\n",
       "    </tr>\n",
       "    <tr>\n",
       "      <th>9</th>\n",
       "      <td>2022-04-13</td>\n",
       "      <td>2022/04/13</td>\n",
       "      <td>20220413</td>\n",
       "      <td>songmics OBN61BKV1</td>\n",
       "      <td>B082WQQW8Q</td>\n",
       "      <td>songmics</td>\n",
       "      <td>234</td>\n",
       "      <td>correcto</td>\n",
       "      <td>https://sillasybienestar.com/ergonomia/sillas-...</td>\n",
       "    </tr>\n",
       "    <tr>\n",
       "      <th>10</th>\n",
       "      <td>2022-04-13</td>\n",
       "      <td>2022/04/13</td>\n",
       "      <td>20220413</td>\n",
       "      <td>hbada HDNY115WMJ/EU</td>\n",
       "      <td>B07QWG7Y8P</td>\n",
       "      <td>hbada</td>\n",
       "      <td>135</td>\n",
       "      <td>correcto</td>\n",
       "      <td>https://sillasybienestar.com/ergonomia/sillas-...</td>\n",
       "    </tr>\n",
       "    <tr>\n",
       "      <th>11</th>\n",
       "      <td>2022-04-13</td>\n",
       "      <td>2022/04/13</td>\n",
       "      <td>20220413</td>\n",
       "      <td>songmics obn86bk</td>\n",
       "      <td>B077MYVDQY</td>\n",
       "      <td>songmics</td>\n",
       "      <td>95</td>\n",
       "      <td>correcto</td>\n",
       "      <td>https://sillasybienestar.com/ergonomia/sillas-...</td>\n",
       "    </tr>\n",
       "    <tr>\n",
       "      <th>12</th>\n",
       "      <td>2022-04-13</td>\n",
       "      <td>2022/04/13</td>\n",
       "      <td>20220413</td>\n",
       "      <td>femor B08G8DRT5M</td>\n",
       "      <td>B08G8DRT5M</td>\n",
       "      <td>femor</td>\n",
       "      <td>0</td>\n",
       "      <td>descatalogado</td>\n",
       "      <td>https://sillasybienestar.com/ergonomia/sillas-...</td>\n",
       "    </tr>\n",
       "    <tr>\n",
       "      <th>13</th>\n",
       "      <td>2022-04-13</td>\n",
       "      <td>2022/04/13</td>\n",
       "      <td>20220413</td>\n",
       "      <td>none</td>\n",
       "      <td>none</td>\n",
       "      <td>none</td>\n",
       "      <td>149</td>\n",
       "      <td>correcto</td>\n",
       "      <td>https://sillasybienestar.com/ergonomia/sillas-...</td>\n",
       "    </tr>\n",
       "    <tr>\n",
       "      <th>14</th>\n",
       "      <td>2022-04-13</td>\n",
       "      <td>2022/04/13</td>\n",
       "      <td>20220413</td>\n",
       "      <td>Mfavour B07PZ6B89C</td>\n",
       "      <td>B07PZ6B89C</td>\n",
       "      <td>Mfavour</td>\n",
       "      <td>219</td>\n",
       "      <td>correcto</td>\n",
       "      <td>https://sillasybienestar.com/ergonomia/sillas-...</td>\n",
       "    </tr>\n",
       "    <tr>\n",
       "      <th>15</th>\n",
       "      <td>2022-04-13</td>\n",
       "      <td>2022/04/13</td>\n",
       "      <td>20220413</td>\n",
       "      <td>umi B081HWKWN6</td>\n",
       "      <td>B081HWKWN6</td>\n",
       "      <td>umi</td>\n",
       "      <td>250</td>\n",
       "      <td>correcto</td>\n",
       "      <td>https://sillasybienestar.com/ergonomia/sillas-...</td>\n",
       "    </tr>\n",
       "  </tbody>\n",
       "</table>\n",
       "</div>"
      ],
      "text/plain": [
       "   date_hyphen  date_slash date_number                      product_name  \\\n",
       "0   2022-04-13  2022/04/13    20220413                 TLV TLV-MYX-801-1   \n",
       "1   2022-04-13  2022/04/13    20220413                  Songmics OBN55BK   \n",
       "2   2022-04-13  2022/04/13    20220413             Cashoffice B081QDV9VR   \n",
       "3   2022-04-13  2022/04/13    20220413                 Cedric B07SRYBJ6L   \n",
       "4   2022-04-13  2022/04/13    20220413              Noblewell B08DR42HFV   \n",
       "5   2022-04-13  2022/04/13    20220413                        sihoo lb14   \n",
       "6   2022-04-13  2022/04/13    20220413  ronda la silla espanola HC1159GR   \n",
       "7   2022-04-13  2022/04/13    20220413                   diablo v-master   \n",
       "8   2022-04-13  2022/04/13    20220413                    diablo v-basic   \n",
       "9   2022-04-13  2022/04/13    20220413                songmics OBN61BKV1   \n",
       "10  2022-04-13  2022/04/13    20220413               hbada HDNY115WMJ/EU   \n",
       "11  2022-04-13  2022/04/13    20220413                  songmics obn86bk   \n",
       "12  2022-04-13  2022/04/13    20220413                  femor B08G8DRT5M   \n",
       "13  2022-04-13  2022/04/13    20220413                              none   \n",
       "14  2022-04-13  2022/04/13    20220413                Mfavour B07PZ6B89C   \n",
       "15  2022-04-13  2022/04/13    20220413                    umi B081HWKWN6   \n",
       "\n",
       "    product_id product_brand price         status  \\\n",
       "0   B08T1TSMQQ           TLV    89       correcto   \n",
       "1   B07ZCJVFDJ      Songmics   131       correcto   \n",
       "2   B081QDV9VR    Cashoffice    83       correcto   \n",
       "3   B07SRYBJ6L        Cedric   252       correcto   \n",
       "4   B08DR42HFV     Noblewell   139       correcto   \n",
       "5   B07GNDDNMW         sihoo   229       correcto   \n",
       "6   B074MJDSK6         ronda   107       correcto   \n",
       "7   B079BS7DW9        diablo   489       correcto   \n",
       "8   B079BSRV7P        diablo   339       correcto   \n",
       "9   B082WQQW8Q      songmics   234       correcto   \n",
       "10  B07QWG7Y8P         hbada   135       correcto   \n",
       "11  B077MYVDQY      songmics    95       correcto   \n",
       "12  B08G8DRT5M         femor     0  descatalogado   \n",
       "13        none          none   149       correcto   \n",
       "14  B07PZ6B89C       Mfavour   219       correcto   \n",
       "15  B081HWKWN6           umi   250       correcto   \n",
       "\n",
       "                                                  url  \n",
       "0   https://sillasybienestar.com/ergonomia/sillas-...  \n",
       "1   https://sillasybienestar.com/ergonomia/sillas-...  \n",
       "2   https://sillasybienestar.com/ergonomia/sillas-...  \n",
       "3   https://sillasybienestar.com/ergonomia/sillas-...  \n",
       "4   https://sillasybienestar.com/ergonomia/sillas-...  \n",
       "5   https://sillasybienestar.com/ergonomia/sillas-...  \n",
       "6   https://sillasybienestar.com/ergonomia/sillas-...  \n",
       "7   https://sillasybienestar.com/ergonomia/sillas-...  \n",
       "8   https://sillasybienestar.com/ergonomia/sillas-...  \n",
       "9   https://sillasybienestar.com/ergonomia/sillas-...  \n",
       "10  https://sillasybienestar.com/ergonomia/sillas-...  \n",
       "11  https://sillasybienestar.com/ergonomia/sillas-...  \n",
       "12  https://sillasybienestar.com/ergonomia/sillas-...  \n",
       "13  https://sillasybienestar.com/ergonomia/sillas-...  \n",
       "14  https://sillasybienestar.com/ergonomia/sillas-...  \n",
       "15  https://sillasybienestar.com/ergonomia/sillas-...  "
      ]
     },
     "execution_count": 35,
     "metadata": {},
     "output_type": "execute_result"
    }
   ],
   "source": [
    "df_single"
   ]
  },
  {
   "cell_type": "code",
   "execution_count": 36,
   "id": "1e6ee302",
   "metadata": {},
   "outputs": [
    {
     "data": {
      "text/html": [
       "<div>\n",
       "<style scoped>\n",
       "    .dataframe tbody tr th:only-of-type {\n",
       "        vertical-align: middle;\n",
       "    }\n",
       "\n",
       "    .dataframe tbody tr th {\n",
       "        vertical-align: top;\n",
       "    }\n",
       "\n",
       "    .dataframe thead th {\n",
       "        text-align: right;\n",
       "    }\n",
       "</style>\n",
       "<table border=\"1\" class=\"dataframe\">\n",
       "  <thead>\n",
       "    <tr style=\"text-align: right;\">\n",
       "      <th></th>\n",
       "      <th>date_hyphen</th>\n",
       "      <th>date_slash</th>\n",
       "      <th>date_number</th>\n",
       "      <th>product_name</th>\n",
       "      <th>product_id</th>\n",
       "      <th>product_brand</th>\n",
       "      <th>price</th>\n",
       "      <th>status</th>\n",
       "      <th>url</th>\n",
       "    </tr>\n",
       "  </thead>\n",
       "  <tbody>\n",
       "    <tr>\n",
       "      <th>0</th>\n",
       "      <td>2022-04-13</td>\n",
       "      <td>2022/04/13</td>\n",
       "      <td>20220413</td>\n",
       "      <td>TLV TLV-MYX-801-1</td>\n",
       "      <td>B08T1TSMQQ</td>\n",
       "      <td>TLV</td>\n",
       "      <td>89</td>\n",
       "      <td>correcto</td>\n",
       "      <td>https://sillasybienestar.com/ergonomia/sillas-...</td>\n",
       "    </tr>\n",
       "    <tr>\n",
       "      <th>1</th>\n",
       "      <td>2022-04-13</td>\n",
       "      <td>2022/04/13</td>\n",
       "      <td>20220413</td>\n",
       "      <td>Songmics OBN55BK</td>\n",
       "      <td>B07ZCJVFDJ</td>\n",
       "      <td>Songmics</td>\n",
       "      <td>131</td>\n",
       "      <td>correcto</td>\n",
       "      <td>https://sillasybienestar.com/ergonomia/sillas-...</td>\n",
       "    </tr>\n",
       "    <tr>\n",
       "      <th>2</th>\n",
       "      <td>2022-04-13</td>\n",
       "      <td>2022/04/13</td>\n",
       "      <td>20220413</td>\n",
       "      <td>Cashoffice B081QDV9VR</td>\n",
       "      <td>B081QDV9VR</td>\n",
       "      <td>Cashoffice</td>\n",
       "      <td>83</td>\n",
       "      <td>correcto</td>\n",
       "      <td>https://sillasybienestar.com/ergonomia/sillas-...</td>\n",
       "    </tr>\n",
       "    <tr>\n",
       "      <th>3</th>\n",
       "      <td>2022-04-13</td>\n",
       "      <td>2022/04/13</td>\n",
       "      <td>20220413</td>\n",
       "      <td>Cedric B07SRYBJ6L</td>\n",
       "      <td>B07SRYBJ6L</td>\n",
       "      <td>Cedric</td>\n",
       "      <td>252</td>\n",
       "      <td>correcto</td>\n",
       "      <td>https://sillasybienestar.com/ergonomia/sillas-...</td>\n",
       "    </tr>\n",
       "    <tr>\n",
       "      <th>4</th>\n",
       "      <td>2022-04-13</td>\n",
       "      <td>2022/04/13</td>\n",
       "      <td>20220413</td>\n",
       "      <td>Noblewell B08DR42HFV</td>\n",
       "      <td>B08DR42HFV</td>\n",
       "      <td>Noblewell</td>\n",
       "      <td>139</td>\n",
       "      <td>correcto</td>\n",
       "      <td>https://sillasybienestar.com/ergonomia/sillas-...</td>\n",
       "    </tr>\n",
       "    <tr>\n",
       "      <th>5</th>\n",
       "      <td>2022-04-13</td>\n",
       "      <td>2022/04/13</td>\n",
       "      <td>20220413</td>\n",
       "      <td>sihoo lb14</td>\n",
       "      <td>B07GNDDNMW</td>\n",
       "      <td>sihoo</td>\n",
       "      <td>229</td>\n",
       "      <td>correcto</td>\n",
       "      <td>https://sillasybienestar.com/ergonomia/sillas-...</td>\n",
       "    </tr>\n",
       "    <tr>\n",
       "      <th>6</th>\n",
       "      <td>2022-04-13</td>\n",
       "      <td>2022/04/13</td>\n",
       "      <td>20220413</td>\n",
       "      <td>ronda la silla espanola HC1159GR</td>\n",
       "      <td>B074MJDSK6</td>\n",
       "      <td>ronda</td>\n",
       "      <td>107</td>\n",
       "      <td>correcto</td>\n",
       "      <td>https://sillasybienestar.com/ergonomia/sillas-...</td>\n",
       "    </tr>\n",
       "    <tr>\n",
       "      <th>7</th>\n",
       "      <td>2022-04-13</td>\n",
       "      <td>2022/04/13</td>\n",
       "      <td>20220413</td>\n",
       "      <td>diablo v-master</td>\n",
       "      <td>B079BS7DW9</td>\n",
       "      <td>diablo</td>\n",
       "      <td>489</td>\n",
       "      <td>correcto</td>\n",
       "      <td>https://sillasybienestar.com/ergonomia/sillas-...</td>\n",
       "    </tr>\n",
       "    <tr>\n",
       "      <th>8</th>\n",
       "      <td>2022-04-13</td>\n",
       "      <td>2022/04/13</td>\n",
       "      <td>20220413</td>\n",
       "      <td>diablo v-basic</td>\n",
       "      <td>B079BSRV7P</td>\n",
       "      <td>diablo</td>\n",
       "      <td>339</td>\n",
       "      <td>correcto</td>\n",
       "      <td>https://sillasybienestar.com/ergonomia/sillas-...</td>\n",
       "    </tr>\n",
       "    <tr>\n",
       "      <th>9</th>\n",
       "      <td>2022-04-13</td>\n",
       "      <td>2022/04/13</td>\n",
       "      <td>20220413</td>\n",
       "      <td>songmics OBN61BKV1</td>\n",
       "      <td>B082WQQW8Q</td>\n",
       "      <td>songmics</td>\n",
       "      <td>234</td>\n",
       "      <td>correcto</td>\n",
       "      <td>https://sillasybienestar.com/ergonomia/sillas-...</td>\n",
       "    </tr>\n",
       "    <tr>\n",
       "      <th>10</th>\n",
       "      <td>2022-04-13</td>\n",
       "      <td>2022/04/13</td>\n",
       "      <td>20220413</td>\n",
       "      <td>hbada HDNY115WMJ/EU</td>\n",
       "      <td>B07QWG7Y8P</td>\n",
       "      <td>hbada</td>\n",
       "      <td>135</td>\n",
       "      <td>correcto</td>\n",
       "      <td>https://sillasybienestar.com/ergonomia/sillas-...</td>\n",
       "    </tr>\n",
       "    <tr>\n",
       "      <th>11</th>\n",
       "      <td>2022-04-13</td>\n",
       "      <td>2022/04/13</td>\n",
       "      <td>20220413</td>\n",
       "      <td>songmics obn86bk</td>\n",
       "      <td>B077MYVDQY</td>\n",
       "      <td>songmics</td>\n",
       "      <td>95</td>\n",
       "      <td>correcto</td>\n",
       "      <td>https://sillasybienestar.com/ergonomia/sillas-...</td>\n",
       "    </tr>\n",
       "    <tr>\n",
       "      <th>12</th>\n",
       "      <td>2022-04-13</td>\n",
       "      <td>2022/04/13</td>\n",
       "      <td>20220413</td>\n",
       "      <td>femor B08G8DRT5M</td>\n",
       "      <td>B08G8DRT5M</td>\n",
       "      <td>femor</td>\n",
       "      <td>0</td>\n",
       "      <td>descatalogado</td>\n",
       "      <td>https://sillasybienestar.com/ergonomia/sillas-...</td>\n",
       "    </tr>\n",
       "    <tr>\n",
       "      <th>13</th>\n",
       "      <td>2022-04-13</td>\n",
       "      <td>2022/04/13</td>\n",
       "      <td>20220413</td>\n",
       "      <td>none</td>\n",
       "      <td>none</td>\n",
       "      <td>none</td>\n",
       "      <td>149</td>\n",
       "      <td>correcto</td>\n",
       "      <td>https://sillasybienestar.com/ergonomia/sillas-...</td>\n",
       "    </tr>\n",
       "    <tr>\n",
       "      <th>14</th>\n",
       "      <td>2022-04-13</td>\n",
       "      <td>2022/04/13</td>\n",
       "      <td>20220413</td>\n",
       "      <td>Mfavour B07PZ6B89C</td>\n",
       "      <td>B07PZ6B89C</td>\n",
       "      <td>Mfavour</td>\n",
       "      <td>219</td>\n",
       "      <td>correcto</td>\n",
       "      <td>https://sillasybienestar.com/ergonomia/sillas-...</td>\n",
       "    </tr>\n",
       "    <tr>\n",
       "      <th>15</th>\n",
       "      <td>2022-04-13</td>\n",
       "      <td>2022/04/13</td>\n",
       "      <td>20220413</td>\n",
       "      <td>umi B081HWKWN6</td>\n",
       "      <td>B081HWKWN6</td>\n",
       "      <td>umi</td>\n",
       "      <td>250</td>\n",
       "      <td>correcto</td>\n",
       "      <td>https://sillasybienestar.com/ergonomia/sillas-...</td>\n",
       "    </tr>\n",
       "  </tbody>\n",
       "</table>\n",
       "</div>"
      ],
      "text/plain": [
       "   date_hyphen  date_slash date_number                      product_name  \\\n",
       "0   2022-04-13  2022/04/13    20220413                 TLV TLV-MYX-801-1   \n",
       "1   2022-04-13  2022/04/13    20220413                  Songmics OBN55BK   \n",
       "2   2022-04-13  2022/04/13    20220413             Cashoffice B081QDV9VR   \n",
       "3   2022-04-13  2022/04/13    20220413                 Cedric B07SRYBJ6L   \n",
       "4   2022-04-13  2022/04/13    20220413              Noblewell B08DR42HFV   \n",
       "5   2022-04-13  2022/04/13    20220413                        sihoo lb14   \n",
       "6   2022-04-13  2022/04/13    20220413  ronda la silla espanola HC1159GR   \n",
       "7   2022-04-13  2022/04/13    20220413                   diablo v-master   \n",
       "8   2022-04-13  2022/04/13    20220413                    diablo v-basic   \n",
       "9   2022-04-13  2022/04/13    20220413                songmics OBN61BKV1   \n",
       "10  2022-04-13  2022/04/13    20220413               hbada HDNY115WMJ/EU   \n",
       "11  2022-04-13  2022/04/13    20220413                  songmics obn86bk   \n",
       "12  2022-04-13  2022/04/13    20220413                  femor B08G8DRT5M   \n",
       "13  2022-04-13  2022/04/13    20220413                              none   \n",
       "14  2022-04-13  2022/04/13    20220413                Mfavour B07PZ6B89C   \n",
       "15  2022-04-13  2022/04/13    20220413                    umi B081HWKWN6   \n",
       "\n",
       "    product_id product_brand price         status  \\\n",
       "0   B08T1TSMQQ           TLV    89       correcto   \n",
       "1   B07ZCJVFDJ      Songmics   131       correcto   \n",
       "2   B081QDV9VR    Cashoffice    83       correcto   \n",
       "3   B07SRYBJ6L        Cedric   252       correcto   \n",
       "4   B08DR42HFV     Noblewell   139       correcto   \n",
       "5   B07GNDDNMW         sihoo   229       correcto   \n",
       "6   B074MJDSK6         ronda   107       correcto   \n",
       "7   B079BS7DW9        diablo   489       correcto   \n",
       "8   B079BSRV7P        diablo   339       correcto   \n",
       "9   B082WQQW8Q      songmics   234       correcto   \n",
       "10  B07QWG7Y8P         hbada   135       correcto   \n",
       "11  B077MYVDQY      songmics    95       correcto   \n",
       "12  B08G8DRT5M         femor     0  descatalogado   \n",
       "13        none          none   149       correcto   \n",
       "14  B07PZ6B89C       Mfavour   219       correcto   \n",
       "15  B081HWKWN6           umi   250       correcto   \n",
       "\n",
       "                                                  url  \n",
       "0   https://sillasybienestar.com/ergonomia/sillas-...  \n",
       "1   https://sillasybienestar.com/ergonomia/sillas-...  \n",
       "2   https://sillasybienestar.com/ergonomia/sillas-...  \n",
       "3   https://sillasybienestar.com/ergonomia/sillas-...  \n",
       "4   https://sillasybienestar.com/ergonomia/sillas-...  \n",
       "5   https://sillasybienestar.com/ergonomia/sillas-...  \n",
       "6   https://sillasybienestar.com/ergonomia/sillas-...  \n",
       "7   https://sillasybienestar.com/ergonomia/sillas-...  \n",
       "8   https://sillasybienestar.com/ergonomia/sillas-...  \n",
       "9   https://sillasybienestar.com/ergonomia/sillas-...  \n",
       "10  https://sillasybienestar.com/ergonomia/sillas-...  \n",
       "11  https://sillasybienestar.com/ergonomia/sillas-...  \n",
       "12  https://sillasybienestar.com/ergonomia/sillas-...  \n",
       "13  https://sillasybienestar.com/ergonomia/sillas-...  \n",
       "14  https://sillasybienestar.com/ergonomia/sillas-...  \n",
       "15  https://sillasybienestar.com/ergonomia/sillas-...  "
      ]
     },
     "execution_count": 36,
     "metadata": {},
     "output_type": "execute_result"
    }
   ],
   "source": [
    "df_single"
   ]
  },
  {
   "cell_type": "code",
   "execution_count": null,
   "id": "7fe290a2",
   "metadata": {},
   "outputs": [],
   "source": []
  },
  {
   "cell_type": "code",
   "execution_count": null,
   "id": "e1efc7c1",
   "metadata": {},
   "outputs": [],
   "source": []
  },
  {
   "cell_type": "code",
   "execution_count": null,
   "id": "c50bf19c",
   "metadata": {},
   "outputs": [],
   "source": []
  }
 ],
 "metadata": {
  "kernelspec": {
   "display_name": "Python [conda env:ironhack]",
   "language": "python",
   "name": "conda-env-ironhack-py"
  },
  "language_info": {
   "codemirror_mode": {
    "name": "ipython",
    "version": 3
   },
   "file_extension": ".py",
   "mimetype": "text/x-python",
   "name": "python",
   "nbconvert_exporter": "python",
   "pygments_lexer": "ipython3",
   "version": "3.7.11"
  }
 },
 "nbformat": 4,
 "nbformat_minor": 5
}
