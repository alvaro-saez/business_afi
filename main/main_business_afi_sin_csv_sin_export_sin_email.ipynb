{
 "cells": [
  {
   "cell_type": "code",
   "execution_count": 1,
   "id": "127cce9c",
   "metadata": {},
   "outputs": [],
   "source": [
    "import pandas as pd\n",
    "import numpy as np\n",
    "import requests\n",
    "import bs4\n",
    "import re\n",
    "from datetime import datetime\n",
    "pd.set_option('display.max_rows', 1000)\n",
    "pd.options.display.max_colwidth = 1000\n",
    "\n",
    "#to send emails\n",
    "import email, smtplib, ssl\n",
    "from email import encoders\n",
    "from email.mime.base import MIMEBase\n",
    "from email.mime.multipart import MIMEMultipart\n",
    "from email.mime.text import MIMEText\n",
    "\n",
    "#to make the conection with spreadsheets\n",
    "import gspread\n",
    "from google.oauth2.service_account import Credentials\n",
    "\n",
    "#for passwords\n",
    "import os\n",
    "from dotenv import load_dotenv, find_dotenv"
   ]
  },
  {
   "cell_type": "markdown",
   "id": "f30a708d",
   "metadata": {},
   "source": [
    "# A. p_acquisition"
   ]
  },
  {
   "cell_type": "markdown",
   "id": "f9cf6610",
   "metadata": {},
   "source": [
    "### SET THE CREDENTIALS"
   ]
  },
  {
   "cell_type": "code",
   "execution_count": 2,
   "id": "065ef0d0",
   "metadata": {},
   "outputs": [],
   "source": [
    "load_dotenv(find_dotenv(\"../credentials/.env\"))\n",
    "email_key = os.environ.get(\"EMAIL_KEY\") #EMAIL PASSWORD"
   ]
  },
  {
   "cell_type": "markdown",
   "id": "64c04092",
   "metadata": {},
   "source": [
    "### Spreadsheet connection"
   ]
  },
  {
   "cell_type": "code",
   "execution_count": 3,
   "id": "4c8aeef0",
   "metadata": {},
   "outputs": [
    {
     "name": "stdout",
     "output_type": "stream",
     "text": [
      "spreadsheet conection done\n"
     ]
    }
   ],
   "source": [
    "def conection_spreadsheet(scopes, credentials_location):\n",
    "    scopes = scopes\n",
    "    credentials = Credentials.from_service_account_file(\n",
    "        credentials_location,\n",
    "        scopes=scopes\n",
    "    )\n",
    "    gc = gspread.authorize(credentials)\n",
    "    #If we want to host our credentials in a server we have to do the next code:\n",
    "    # gc = gspread.service_account(filename='https://www.path/to/the/downloaded/file.json')\n",
    "    print(\"spreadsheet conection done\")\n",
    "    return gc\n",
    "\n",
    "gc = conection_spreadsheet([\"https://spreadsheets.google.com/feeds\",\n",
    "         'https://www.googleapis.com/auth/spreadsheets',\n",
    "         \"https://www.googleapis.com/auth/drive.file\",\n",
    "         \"https://www.googleapis.com/auth/drive\"], '../credentials/credentials.json')"
   ]
  },
  {
   "cell_type": "markdown",
   "id": "213dd43e",
   "metadata": {},
   "source": [
    "### SET THE URLS IN VARIABLES"
   ]
  },
  {
   "cell_type": "code",
   "execution_count": 4,
   "id": "3d63b26b",
   "metadata": {},
   "outputs": [],
   "source": [
    "#JOIN all the urls\n",
    "def full_urls(gc):\n",
    "    sheet_erg = gc.open(\"business_afi_scraping_df_single\").worksheet(\"urls_ergonomia\")\n",
    "    urls_ergonomia = sheet_erg.col_values(1)  #Obtener todos los registros\n",
    "\n",
    "    sheet_ofi = gc.open(\"business_afi_scraping_df_single\").worksheet(\"urls_oficina\")\n",
    "    urls_oficina = sheet_ofi.col_values(1)  #Obtener todos los registros\n",
    "\n",
    "    sheet_rod = gc.open(\"business_afi_scraping_df_single\").worksheet(\"urls_rodilla\")\n",
    "    urls_rodilla = sheet_rod.col_values(1)  #Obtener todos los registros\n",
    "\n",
    "    sheet_gm = gc.open(\"business_afi_scraping_df_single\").worksheet(\"urls_gaming\")\n",
    "    urls_gaming = sheet_gm.col_values(1)  #Obtener todos los registros\n",
    "    \n",
    "    urls_products_list_list = urls_ergonomia + urls_oficina + urls_rodilla + urls_gaming\n",
    "    return urls_products_list_list\n",
    "    \n",
    "urls_products_list = full_urls(gc)"
   ]
  },
  {
   "cell_type": "markdown",
   "id": "113f574b",
   "metadata": {},
   "source": [
    "### web scrapping"
   ]
  },
  {
   "cell_type": "markdown",
   "id": "063b9e55",
   "metadata": {},
   "source": [
    "Obtain the HTML of all our URLs"
   ]
  },
  {
   "cell_type": "code",
   "execution_count": 5,
   "id": "42267bc8",
   "metadata": {},
   "outputs": [],
   "source": [
    "def parsed_content(urls_products_list):\n",
    "    parsed_products_content_list = [bs4.BeautifulSoup(requests.get(i).content, \"html.parser\") for i in urls_products_list]\n",
    "    return parsed_products_content_list\n",
    "\n",
    "parsed_products_content_list = parsed_content(urls_products_list)"
   ]
  },
  {
   "cell_type": "markdown",
   "id": "3a6aa7a2",
   "metadata": {},
   "source": [
    "Obtain the price info of its class"
   ]
  },
  {
   "cell_type": "code",
   "execution_count": 6,
   "id": "c8f24d25",
   "metadata": {},
   "outputs": [],
   "source": [
    "def parsed_price_class(parsed_products_content_list):\n",
    "    parsed_products_price_class = [i.find_all(\"span\",{\"class\":\"aawp-product__price aawp-product__price--current\"})[0].text for i in parsed_products_content_list]\n",
    "    return parsed_products_price_class\n",
    "\n",
    "parsed_products_price_class = parsed_price_class(parsed_products_content_list)"
   ]
  },
  {
   "cell_type": "markdown",
   "id": "2c4ce638",
   "metadata": {},
   "source": [
    "Obtain the final price"
   ]
  },
  {
   "cell_type": "code",
   "execution_count": 7,
   "id": "5157ee13",
   "metadata": {},
   "outputs": [],
   "source": [
    "def product_price(parsed_products_content_list,urls_products_list):\n",
    "    final_price_products_list =[]\n",
    "    for i,e in zip(parsed_products_content_list, range(len(urls_products_list))):\n",
    "        try:\n",
    "            i.find_all(\"div\",{\"class\":\"wp-block-media-text__content\"})[0]\n",
    "            #if it fails the except is executed\n",
    "        except:\n",
    "            if  urls_products_list[e] == \"https://sillasybienestar.com/ergonomia/sillas-ergonomicas/review-individual/mfavour/\":\n",
    "                price_supuesto_0 = i.find_all(\"span\",{\"class\":\"aawp-product__price aawp-product__price--current\"})[0].text\n",
    "                price_supuesto_0_cleaned = re.sub(\"[^\\d|\\,]\",\"\",str(price_supuesto_0)).replace(\",\",\".\")\n",
    "                final_price_products_list.append(float(price_supuesto_0_cleaned))\n",
    "            else:\n",
    "                final_price_products_list.append(-1)\n",
    "                print(\"revisar funcion price, valor con -1\")\n",
    "        else:\n",
    "            if i.find_all(\"div\",{\"class\":\"wp-block-media-text__content\"})[0].text.strip() == \"No products found.\":\n",
    "                final_price_products_list.append(0)\n",
    "            elif i.find_all(\"span\",{\"class\":\"aawp-product__price aawp-product__price--current\"})[0].text == \"\":\n",
    "                final_price_products_list.append(0)\n",
    "            elif i.find_all(\"span\",{\"class\":\"aawp-product__price aawp-product__price--current\"})[0].text != \"\":\n",
    "                price_supuesto_1 = i.find_all(\"span\",{\"class\":\"aawp-product__price aawp-product__price--current\"})[0].text\n",
    "                price_supuesto_1_cleaned = re.sub(\"[^\\d|\\,]\",\"\",str(price_supuesto_1)).replace(\",\",\".\")\n",
    "                final_price_products_list.append(float(price_supuesto_1_cleaned))\n",
    "            else:\n",
    "                print(\"revisar funcion price\")\n",
    "    return final_price_products_list\n",
    "\n",
    "final_price_products_list = product_price(parsed_products_content_list,urls_products_list)"
   ]
  },
  {
   "cell_type": "markdown",
   "id": "be0ddc7c",
   "metadata": {},
   "source": [
    "Obtain if the product is out of stock or discontinued"
   ]
  },
  {
   "cell_type": "code",
   "execution_count": 8,
   "id": "a7cf2b34",
   "metadata": {},
   "outputs": [],
   "source": [
    "def product_status(parsed_products_content_list,urls_products_list):\n",
    "    final_price_products_status =[]\n",
    "    for i,e in zip(parsed_products_content_list, range(len(urls_products_list))):\n",
    "        try:\n",
    "            i.find_all(\"div\",{\"class\":\"wp-block-media-text__content\"})[0]\n",
    "            #if it fails the except is executed\n",
    "        except:\n",
    "            if  urls_products_list[e] == \"https://sillasybienestar.com/ergonomia/sillas-ergonomicas/review-individual/mfavour/\":\n",
    "                final_price_products_status.append(\"correcto\")\n",
    "            else:\n",
    "                print(\"revisar funcion price, valor con -1\")\n",
    "                final_price_products_status.append(\"revisar\")\n",
    "        else:\n",
    "            if i.find_all(\"div\",{\"class\":\"wp-block-media-text__content\"})[0].text.strip() == \"No products found.\":\n",
    "                final_price_products_status.append(\"descatalogado\")\n",
    "            elif i.find_all(\"span\",{\"class\":\"aawp-product__price aawp-product__price--current\"})[0].text == \"\":\n",
    "                final_price_products_status.append(\"sin_stock\")\n",
    "            elif i.find_all(\"span\",{\"class\":\"aawp-product__price aawp-product__price--current\"})[0].text != \"\":\n",
    "                final_price_products_status.append(\"correcto\")\n",
    "            else:\n",
    "                print(\"revisar funcion price\")\n",
    "    return final_price_products_status\n",
    "\n",
    "final_price_products_status = product_status(parsed_products_content_list,urls_products_list)"
   ]
  },
  {
   "cell_type": "markdown",
   "id": "49988b03",
   "metadata": {},
   "source": [
    "Create a function to handle possible erros in the product information"
   ]
  },
  {
   "cell_type": "code",
   "execution_count": 9,
   "id": "b31007a4",
   "metadata": {},
   "outputs": [],
   "source": [
    "def handling_error_vars_product(i,text):\n",
    "    try:\n",
    "        str(i).split(text)[1]\n",
    "    except:\n",
    "        return \"none\"\n",
    "    else:\n",
    "        return str(i).split(text)[1].split(\"';\")[0].strip()"
   ]
  },
  {
   "cell_type": "markdown",
   "id": "75553523",
   "metadata": {},
   "source": [
    "Obtain the NAME of the different products"
   ]
  },
  {
   "cell_type": "code",
   "execution_count": 10,
   "id": "72d0cf18",
   "metadata": {},
   "outputs": [],
   "source": [
    "def product_name(parsed_products_content_list):\n",
    "    \n",
    "    def handling_error_vars_product(i,text):\n",
    "        try:\n",
    "            str(i).split(text)[1]\n",
    "        except:\n",
    "            return \"none\"\n",
    "        else:\n",
    "            return str(i).split(text)[1].split(\"';\")[0].strip()\n",
    "    \n",
    "    final_name_products = [handling_error_vars_product(i,\"ficha_product_name='\") for i in parsed_products_content_list]\n",
    "    return final_name_products\n",
    "\n",
    "final_name_products = product_name(parsed_products_content_list)"
   ]
  },
  {
   "cell_type": "markdown",
   "id": "a355de85",
   "metadata": {},
   "source": [
    "Obtain the ID of the different products"
   ]
  },
  {
   "cell_type": "code",
   "execution_count": 11,
   "id": "6e5ec3de",
   "metadata": {},
   "outputs": [],
   "source": [
    "def product_id(parsed_products_content_list):\n",
    "\n",
    "    def handling_error_vars_product(i,text):\n",
    "        try:\n",
    "            str(i).split(text)[1]\n",
    "        except:\n",
    "            return \"none\"\n",
    "        else:\n",
    "            return str(i).split(text)[1].split(\"';\")[0].strip()\n",
    "        \n",
    "    final_id_products = [handling_error_vars_product(i,\"ficha_product_id='\") for i in parsed_products_content_list]\n",
    "    return final_id_products\n",
    "\n",
    "final_id_products = product_id(parsed_products_content_list)"
   ]
  },
  {
   "cell_type": "markdown",
   "id": "b8106fdc",
   "metadata": {},
   "source": [
    "Obtain the BRAND of the different products"
   ]
  },
  {
   "cell_type": "code",
   "execution_count": 12,
   "id": "29317b02",
   "metadata": {},
   "outputs": [],
   "source": [
    "def product_brand(parsed_products_content_list):\n",
    "\n",
    "    def handling_error_vars_product(i,text):\n",
    "        try:\n",
    "            str(i).split(text)[1]\n",
    "        except:\n",
    "            return \"none\"\n",
    "        else:\n",
    "            return str(i).split(text)[1].split(\"';\")[0].strip()\n",
    "    \n",
    "    final_brand_products = [handling_error_vars_product(i,\"ficha_product_brand='\") for i in parsed_products_content_list]\n",
    "    return final_brand_products\n",
    "\n",
    "final_brand_products = product_brand(parsed_products_content_list)"
   ]
  },
  {
   "cell_type": "markdown",
   "id": "e6438bee",
   "metadata": {},
   "source": [
    "Obtain the DATE of the current day in different formats"
   ]
  },
  {
   "cell_type": "markdown",
   "id": "3ebc154c",
   "metadata": {},
   "source": [
    "1. With HYPHEN. Ex: 2022-04-14"
   ]
  },
  {
   "cell_type": "code",
   "execution_count": 13,
   "id": "2c2f059d",
   "metadata": {},
   "outputs": [],
   "source": [
    "def product_date_hyphen(urls_products_list):\n",
    "\n",
    "    def handling_error_vars_product(i,text):\n",
    "        try:\n",
    "            str(i).split(text)[1]\n",
    "        except:\n",
    "            return \"none\"\n",
    "        else:\n",
    "            return str(i).split(text)[1].split(\"';\")[0].strip()\n",
    "        \n",
    "    final_date_hyphen_products = [datetime.today().strftime('%Y-%m-%d') for i in range(len(urls_products_list))]\n",
    "    return final_date_hyphen_products\n",
    "\n",
    "final_date_hyphen_products = product_date_hyphen(urls_products_list)"
   ]
  },
  {
   "cell_type": "markdown",
   "id": "6c6a492d",
   "metadata": {},
   "source": [
    "2. With SLASH. Ex: 2022/04/14"
   ]
  },
  {
   "cell_type": "code",
   "execution_count": 14,
   "id": "d6d0c5e4",
   "metadata": {},
   "outputs": [],
   "source": [
    "def product_date_slash(urls_products_list):\n",
    "\n",
    "    def handling_error_vars_product(i,text):\n",
    "        try:\n",
    "            str(i).split(text)[1]\n",
    "        except:\n",
    "            return \"none\"\n",
    "        else:\n",
    "            return str(i).split(text)[1].split(\"';\")[0].strip()\n",
    "        \n",
    "    final_date_slash_products = [datetime.today().strftime('%Y/%m/%d') for i in range(len(urls_products_list))]\n",
    "    return final_date_slash_products\n",
    "\n",
    "final_date_slash_products = product_date_slash(urls_products_list)"
   ]
  },
  {
   "cell_type": "markdown",
   "id": "f89f4ab1",
   "metadata": {},
   "source": [
    "3. Without symbols. Ex: 20220414"
   ]
  },
  {
   "cell_type": "code",
   "execution_count": 15,
   "id": "7ea33e54",
   "metadata": {},
   "outputs": [],
   "source": [
    "def product_date_number(urls_products_list):\n",
    "\n",
    "    def handling_error_vars_product(i,text):\n",
    "        try:\n",
    "            str(i).split(text)[1]\n",
    "        except:\n",
    "            return \"none\"\n",
    "        else:\n",
    "            return str(i).split(text)[1].split(\"';\")[0].strip()\n",
    "        \n",
    "    final_date_number_products = [int(datetime.today().strftime('%Y%m%d')) for i in range(len(urls_products_list))]\n",
    "    return final_date_number_products\n",
    "\n",
    "final_date_number_products = product_date_number(urls_products_list)"
   ]
  },
  {
   "cell_type": "markdown",
   "id": "c7aff0a8",
   "metadata": {},
   "source": [
    "# B. p_wrangling"
   ]
  },
  {
   "cell_type": "markdown",
   "id": "82ef17ba",
   "metadata": {},
   "source": [
    "## Create the DATAFRAME"
   ]
  },
  {
   "cell_type": "markdown",
   "id": "e58731bf",
   "metadata": {},
   "source": [
    "### a) Full DataFrame with a daily injection of the new scraped data"
   ]
  },
  {
   "cell_type": "markdown",
   "id": "16f8715a",
   "metadata": {},
   "source": [
    "#### Step 1: Create or define the dataFrame\n",
    "\n",
    " - From a CSV if it exists\n",
    " - If not, from spreadsheets\n",
    " - If not, from this notebook\n",
    " - If not, we have to create a empty dataFrame"
   ]
  },
  {
   "cell_type": "code",
   "execution_count": 16,
   "id": "32133a3c",
   "metadata": {},
   "outputs": [
    {
     "name": "stdout",
     "output_type": "stream",
     "text": [
      "df_single created through spreadsheet\n"
     ]
    }
   ],
   "source": [
    "def main_df(location,gc):\n",
    "\n",
    "#2. If not, from spreadsheets    \n",
    "        try:\n",
    "            sheet = gc.open(\"business_afi_scraping_df_single\").sheet1  #Abrir spreadhseet\n",
    "            data_from_spreadsheets = sheet.get_all_records()  #Obtener todos los registros\n",
    "            df_single = pd.DataFrame(data_from_spreadsheets)\n",
    "            print(\"df_single created through spreadsheet\")\n",
    "            return df_single\n",
    "        \n",
    "#3. If not, from this notebook\n",
    "        except: #if the except is executed, the try has given an error, so let's see if it was already created in the notebook       \n",
    "            try:\n",
    "                df_single.head()\n",
    "                print(\"df_single created through this notebook\")\n",
    "                return df_single\n",
    "            \n",
    "#4. If not, we have to create a empty dataFrame\n",
    "            except: #if it gives an error, it does not exist in the notebook and we will create it from scratch\n",
    "                columns = [\"date_hyphen\",\"date_slash\",\"date_number\",\"product_name\",\"product_id\",\"product_brand\",\"price\",\"status\",\"url\"]\n",
    "                df_single = pd.DataFrame(columns=columns)\n",
    "                print(\"df_single created through zero\")\n",
    "                return df_single\n",
    "            else: #if there is no error, it exists in the notebook and we will do nothing\n",
    "                pass\n",
    "            \n",
    "        else: #if it doesn't give an error, it exists in spreadsheets and we won't do anything\n",
    "            pass\n",
    "\n",
    "df_single = main_df(\"../files/df_single.csv\",gc)"
   ]
  },
  {
   "cell_type": "markdown",
   "id": "f784fb5b",
   "metadata": {},
   "source": [
    "#### Step 2: Append new records in the df_single dataFrame - pd.concat()"
   ]
  },
  {
   "cell_type": "code",
   "execution_count": 17,
   "id": "31cb3825",
   "metadata": {},
   "outputs": [],
   "source": [
    "def df_append_new_files(final_date_hyphen_products,final_date_slash_products,final_date_number_products,final_name_products,final_id_products,final_brand_products,final_price_products_list,final_price_products_status,urls_products_list):\n",
    "    df_append_new_files = pd.DataFrame({\n",
    "        \"date_hyphen\":final_date_hyphen_products,\n",
    "        \"date_slash\":final_date_slash_products,\n",
    "        \"date_number\":final_date_number_products,\n",
    "        \"product_name\":final_name_products,\n",
    "        \"product_id\":final_id_products,\n",
    "        \"product_brand\":final_brand_products,\n",
    "        \"price\":final_price_products_list,\n",
    "        \"status\":final_price_products_status,\n",
    "        \"url\": urls_products_list\n",
    "    })\n",
    "    df_append_new_files[\"price\"] = df_append_new_files[\"price\"].astype(\"int64\")\n",
    "    \n",
    "    return df_append_new_files\n",
    "\n",
    "df_append_new_files = df_append_new_files(final_date_hyphen_products,final_date_slash_products,final_date_number_products,final_name_products,final_id_products,final_brand_products,final_price_products_list,final_price_products_status,urls_products_list)"
   ]
  },
  {
   "cell_type": "code",
   "execution_count": 18,
   "id": "94015d3c",
   "metadata": {},
   "outputs": [],
   "source": [
    "def concat_df(df_single,df_append_new_files):\n",
    "    if df_single.empty == True:\n",
    "        df_single = pd.concat([df_single, df_append_new_files], ignore_index=True)\n",
    "        return df_single\n",
    "    elif df_append_new_files[\"date_hyphen\"][0] == df_single[\"date_hyphen\"][len(df_single)-1]:\n",
    "        return df_single\n",
    "    elif df_append_new_files[\"date_hyphen\"][0] != df_single[\"date_hyphen\"][len(df_single)-1]:\n",
    "        df_single = pd.concat([df_single, df_append_new_files], ignore_index=True)\n",
    "        return df_single\n",
    "    \n",
    "df_single = concat_df(df_single,df_append_new_files)"
   ]
  },
  {
   "cell_type": "markdown",
   "id": "a7d5d73f",
   "metadata": {},
   "source": [
    "### b) Clean and Prepare the dataFrame"
   ]
  },
  {
   "cell_type": "code",
   "execution_count": 19,
   "id": "fda3b008",
   "metadata": {},
   "outputs": [],
   "source": [
    "def corregir_gam_name(url,product_name):\n",
    "    if url == \"https://sillasybienestar.com/gaming/sillas-gaming/review-individual/intimate-wm-heart-gaming/\" and product_name == \"none\":\n",
    "        return \"intimate wm heat  Racing Silla Gamer\"\n",
    "    else:\n",
    "        return product_name\n",
    "        \n",
    "def corregir_gam_id(url,product_id):\n",
    "    if url == \"https://sillasybienestar.com/gaming/sillas-gaming/review-individual/intimate-wm-heart-gaming/\" and product_id == \"none\":\n",
    "        return \"B075CK3GVJ\"\n",
    "    else:\n",
    "        return product_id\n",
    "        \n",
    "def corregir_gam_brand(url,product_brand):\n",
    "    if url == \"https://sillasybienestar.com/gaming/sillas-gaming/review-individual/intimate-wm-heart-gaming/\" and product_brand == \"none\":\n",
    "        return \"intimate wm heat\"\n",
    "    else:\n",
    "        return product_brand\n",
    "\n",
    "    \n",
    "def corregir_gam_name_hbada_rep(url,product_name):\n",
    "    if url == \"https://sillasybienestar.com/ergonomia/sillas-ergonomicas/review-individual/hbada-reposabrazos/\" and product_name == \"none\":\n",
    "        return \"Hbada B07V51M94R\"\n",
    "    else:\n",
    "        return product_name\n",
    "        \n",
    "def corregir_gam_id_hbada_rep(url,product_id):\n",
    "    if url == \"https://sillasybienestar.com/ergonomia/sillas-ergonomicas/review-individual/hbada-reposabrazos/\" and product_id == \"none\":\n",
    "        return \"B07V51M94R\"\n",
    "    else:\n",
    "        return product_id\n",
    "        \n",
    "def corregir_gam_brand_hbada_rep(url,product_brand):\n",
    "    if url == \"https://sillasybienestar.com/ergonomia/sillas-ergonomicas/review-individual/hbada-reposabrazos/\" and product_brand == \"none\":\n",
    "        return \"Hbada\"\n",
    "    else:\n",
    "        return product_brand"
   ]
  },
  {
   "cell_type": "code",
   "execution_count": 20,
   "id": "f84afb7c",
   "metadata": {},
   "outputs": [],
   "source": [
    "def correction_df_single(df_single):\n",
    "    #intimate wm heat  Racing Silla Gamer\n",
    "    df_single[\"product_name\"] = df_single.apply(lambda df_single: corregir_gam_name(df_single[\"url\"], df_single[\"product_name\"]), axis=1)\n",
    "    df_single[\"product_id\"] = df_single.apply(lambda df_single: corregir_gam_id(df_single[\"url\"], df_single[\"product_id\"]), axis=1)\n",
    "    df_single[\"product_brand\"] = df_single.apply(lambda df_single: corregir_gam_brand(df_single[\"url\"], df_single[\"product_brand\"]), axis=1)\n",
    "\n",
    "    #Hbada B07V51M94R\n",
    "    df_single[\"product_name\"] = df_single.apply(lambda df_single: corregir_gam_name_hbada_rep(df_single[\"url\"], df_single[\"product_name\"]), axis=1)\n",
    "    df_single[\"product_id\"] = df_single.apply(lambda df_single: corregir_gam_id_hbada_rep(df_single[\"url\"], df_single[\"product_id\"]), axis=1)\n",
    "    df_single[\"product_brand\"] = df_single.apply(lambda df_single: corregir_gam_brand_hbada_rep(df_single[\"url\"], df_single[\"product_brand\"]), axis=1)\n",
    "\n",
    "    return df_single\n",
    "\n",
    "df_single = correction_df_single(df_single)"
   ]
  },
  {
   "cell_type": "markdown",
   "id": "00a4044c",
   "metadata": {},
   "source": [
    "### c) Create the price main of each product (for the total period; for the last 7 days; for the last 30 days)"
   ]
  },
  {
   "cell_type": "code",
   "execution_count": 21,
   "id": "866b8056",
   "metadata": {},
   "outputs": [],
   "source": [
    "#product mean (TOTAL DAYS)\n",
    "def product_mean_dic(df_single):\n",
    "    product_id_list_mean = df_single[\"product_id\"].unique().tolist()\n",
    "    mean_dic = {}\n",
    "    for i in product_id_list_mean:\n",
    "        if str(df_single[df_single[\"product_id\"] == i].loc[df_single[\"price\"] > 0][\"price\"].mean()) == \"nan\":\n",
    "            mean_dic[i] = 0\n",
    "        else:\n",
    "            mean_dic[i] = int(round(df_single[df_single[\"product_id\"] == i].loc[df_single[\"price\"] > 0][\"price\"].mean(),0))\n",
    "    return mean_dic\n",
    "\n",
    "product_mean = product_mean_dic(df_single### b) Clean and Prepare the dataFrame\n",
    ")\n",
    "\n",
    "#product mean (LAST 7 DAYS)\n",
    "def product_mean_dic7(df_single):\n",
    "    product_id_list_mean7 = df_single[\"product_id\"].unique().tolist()\n",
    "    mean_dic7 = {}\n",
    "    for i in product_id_list_mean7:\n",
    "        if str(df_single[df_single[\"product_id\"] == i].iloc[-7:].loc[df_single[\"price\"] > 0][\"price\"].mean()) == \"nan\":\n",
    "            mean_dic7[i] = 0\n",
    "        else:\n",
    "            mean_dic7[i] = int(round(df_single[df_single[\"product_id\"] == i].iloc[-7:].loc[df_single[\"price\"] > 0][\"price\"].mean(),0))\n",
    "    return mean_dic7\n",
    "\n",
    "product_mean7 = product_mean_dic7(df_single### b) Clean and Prepare the dataFrame\n",
    ")\n",
    "\n",
    "#product mean (LAST 30 DAYS)\n",
    "def product_mean_dic30(df_single):\n",
    "    product_id_list_mean30 = df_single[\"product_id\"].unique().tolist()\n",
    "    mean_dic30 = {}\n",
    "    for i in product_id_list_mean30:\n",
    "        if str(df_single[df_single[\"product_id\"] == i].iloc[-30:].loc[df_single[\"price\"] > 0][\"price\"].mean()) == \"nan\":\n",
    "            mean_dic30[i] = 0\n",
    "        else:\n",
    "            mean_dic30[i] = int(round(df_single[df_single[\"product_id\"] == i].iloc[-30:].loc[df_single[\"price\"] > 0][\"price\"].mean(),0))\n",
    "    return mean_dic30\n",
    "\n",
    "product_mean30 = product_mean_dic30(df_single### b) Clean and Prepare the dataFrame\n",
    ")"
   ]
  },
  {
   "cell_type": "code",
   "execution_count": 22,
   "id": "763a0f45",
   "metadata": {},
   "outputs": [],
   "source": [
    "def product_mean_dic_to_df(df_single,product_mean):\n",
    "    df_single[\"product_mean\"] = df_single[\"product_id\"].apply(lambda x: product_mean[x])\n",
    "    return df_single\n",
    "\n",
    "df_single = product_mean_dic_to_df(df_single,product_mean)\n",
    "\n",
    "def product_mean_dic_to_df7(df_single,product_mean7):\n",
    "    df_single[\"product_mean7\"] = df_single[\"product_id\"].apply(lambda x: product_mean7[x])\n",
    "    return df_single\n",
    "\n",
    "df_single = product_mean_dic_to_df7(df_single,product_mean7)\n",
    "\n",
    "def product_mean_dic_to_df30(df_single,product_mean30):\n",
    "    df_single[\"product_mean30\"] = df_single[\"product_id\"].apply(lambda x: product_mean30[x])\n",
    "    return df_single\n",
    "\n",
    "df_single = product_mean_dic_to_df30(df_single,product_mean30)"
   ]
  },
  {
   "cell_type": "code",
   "execution_count": 23,
   "id": "a99673e3",
   "metadata": {},
   "outputs": [],
   "source": [
    "def product_mean_status_func_values(product_price,product_mean):\n",
    "    if product_price < product_mean and product_price > 0:\n",
    "        return \"precio por debajo de la media\"\n",
    "    elif product_price > product_mean and product_price > 0:\n",
    "        return \"precio por encima de la media\"\n",
    "    elif product_price == product_mean and product_price > 0:\n",
    "        return \"precio igual que la media\"\n",
    "    elif product_price == 0:\n",
    "        return \"producto descatalogado o sin stock\"\n",
    "    else:\n",
    "        return \"revisar, aviso\""
   ]
  },
  {
   "cell_type": "code",
   "execution_count": 24,
   "id": "701b51f7",
   "metadata": {},
   "outputs": [],
   "source": [
    "def product_mean_status_func_apply(df_single):\n",
    "    df_single[\"product_mean_status\"] = df_single.apply(lambda x: product_mean_status_func_values(x[\"price\"], x[\"product_mean\"]), axis=1)\n",
    "    return df_single\n",
    "\n",
    "df_single = product_mean_status_func_apply(df_single)"
   ]
  },
  {
   "cell_type": "code",
   "execution_count": 25,
   "id": "4b30d141",
   "metadata": {},
   "outputs": [],
   "source": [
    "def categories_url(product_url):\n",
    "    if \"/ergonomia/sillas-ergonomicas/review-individual/\" in product_url:\n",
    "        return \"ergonomia\"\n",
    "    elif \"/oficina-y-escritorio/sillas-de-oficina/review-individual/\" in product_url:\n",
    "        return \"oficina\"\n",
    "    elif \"/ergonomia/sillas-de-rodillas/review-individual/\" in product_url:\n",
    "        return \"rodilla\"\n",
    "    elif \"/gaming/sillas-gaming/review-individual/\" in product_url:\n",
    "        return \"gaming\"\n",
    "    else:\n",
    "        return \"alerta sin categoria\""
   ]
  },
  {
   "cell_type": "code",
   "execution_count": 26,
   "id": "5fbf641a",
   "metadata": {},
   "outputs": [],
   "source": [
    "def product_category(df_single):\n",
    "    df_single[\"product_category\"] = df_single[\"url\"].apply(categories_url)\n",
    "    return df_single\n",
    "\n",
    "df_single = product_category(df_single)"
   ]
  },
  {
   "cell_type": "markdown",
   "id": "23a18596",
   "metadata": {},
   "source": [
    "### e) Create a \"count\" column"
   ]
  },
  {
   "cell_type": "code",
   "execution_count": 27,
   "id": "98ac4403",
   "metadata": {},
   "outputs": [],
   "source": [
    "def product_count(df_single):\n",
    "    df_single[\"product_count\"] = 1\n",
    "    return df_single\n",
    "\n",
    "df_single = product_count(df_single)"
   ]
  },
  {
   "cell_type": "markdown",
   "id": "4164a933",
   "metadata": {},
   "source": [
    "### f) Limit the the amount of data only to a year"
   ]
  },
  {
   "cell_type": "code",
   "execution_count": 28,
   "id": "54c7b224",
   "metadata": {},
   "outputs": [],
   "source": [
    "def acotar_df_un_ano(df_single):\n",
    "    if len(np.sort(df_single[\"date_number\"].unique())) > 366:\n",
    "        df_single = df_single[df_single[\"date_number\"] > np.sort(df_single[\"date_number\"].unique())[-366]]\n",
    "        return df_single\n",
    "    else:\n",
    "        df_single = df_single\n",
    "        return df_single\n",
    "    \n",
    "df_single = acotar_df_un_ano(df_single)"
   ]
  },
  {
   "cell_type": "markdown",
   "id": "1ca0d4a8",
   "metadata": {},
   "source": [
    "# D. p_reporting"
   ]
  },
  {
   "cell_type": "markdown",
   "id": "c438c076",
   "metadata": {},
   "source": [
    "We are going to send the different DataFrames to spreadsheet\n",
    "\n",
    "#### INDEX LIBRARY\n",
    "https://docs.gspread.org/en/latest/\n",
    "\n",
    "#### USER GUIDE\n",
    "https://docs.gspread.org/en/latest/user-guide.html"
   ]
  },
  {
   "cell_type": "markdown",
   "id": "1c28b01f",
   "metadata": {},
   "source": [
    "The conection has been done in the \"p_wrangling\" module. The output is located in the variable \"gc\""
   ]
  },
  {
   "cell_type": "code",
   "execution_count": 29,
   "id": "32da840f",
   "metadata": {},
   "outputs": [],
   "source": [
    "def update_spreadsheet(gc, spreadsheet_name, worksheet_name, dataframe):\n",
    "    #Open the spreadhseet\n",
    "    sheet = gc.open(spreadsheet_name).worksheet(worksheet_name)\n",
    "    \n",
    "    #Clear and Update the Worksheet\n",
    "    sheet.clear()\n",
    "    sheet.update('A1:O1',[dataframe.columns.tolist()])\n",
    "    sheet.update('A2:O' + str(len(dataframe)+1), dataframe.values.tolist())\n",
    "    \n",
    "    return \"worksheet updated\""
   ]
  },
  {
   "cell_type": "code",
   "execution_count": 30,
   "id": "55a7be00",
   "metadata": {},
   "outputs": [
    {
     "data": {
      "text/plain": [
       "'worksheet updated'"
      ]
     },
     "execution_count": 30,
     "metadata": {},
     "output_type": "execute_result"
    }
   ],
   "source": [
    "#sheet1 - df_single\n",
    "update_spreadsheet(gc, \"business_afi_scraping_df_single\", \"df_single\", df_single)"
   ]
  },
  {
   "cell_type": "code",
   "execution_count": 31,
   "id": "fcf7cc22",
   "metadata": {},
   "outputs": [
    {
     "data": {
      "text/plain": [
       "'worksheet updated'"
      ]
     },
     "execution_count": 31,
     "metadata": {},
     "output_type": "execute_result"
    }
   ],
   "source": [
    "#sheet2 - df_append_new_files\n",
    "update_spreadsheet(gc, \"business_afi_scraping_last_day_files\", \"df_append_new_files\", df_append_new_files)"
   ]
  },
  {
   "cell_type": "code",
   "execution_count": 32,
   "id": "aed88d79",
   "metadata": {},
   "outputs": [
    {
     "data": {
      "text/plain": [
       "'worksheet updated'"
      ]
     },
     "execution_count": 32,
     "metadata": {},
     "output_type": "execute_result"
    }
   ],
   "source": [
    "#sheet3 - out_of_stock_df\n",
    "def out_of_stock_spreadsheet(df_append_new_files,gc):\n",
    "    out_of_stock_df = df_append_new_files[df_append_new_files[\"status\"] != \"correcto\"]\n",
    "    update_spreadsheet(gc, \"business_afi_scraping_last_day_files\", \"out_of_stock_df\", out_of_stock_df)\n",
    "    \n",
    "    return \"worksheet updated\"\n",
    "out_of_stock_spreadsheet(df_append_new_files,gc)"
   ]
  },
  {
   "cell_type": "code",
   "execution_count": 33,
   "id": "2bc9dec4",
   "metadata": {},
   "outputs": [
    {
     "data": {
      "text/plain": [
       "'worksheet updated, but there is no any none value'"
      ]
     },
     "execution_count": 33,
     "metadata": {},
     "output_type": "execute_result"
    }
   ],
   "source": [
    "#sheet4 - none_values_df\n",
    "def non_values_spreadsheet(df_single):\n",
    "    none_values = df_single[df_single[\"product_name\"]==\"none\"].any().unique().tolist()\n",
    "    if none_values == [True]:\n",
    "        none_values_df = df_single[df_single[\"product_name\"]==\"none\"]\n",
    "        update_spreadsheet(gc, \"business_afi_scraping_last_day_files\", \"none_values_df\", none_values_df)\n",
    "        \n",
    "        return \"worksheet updated\"\n",
    "    else:\n",
    "        return \"worksheet updated, but there is no any none value\"\n",
    "    \n",
    "non_values_spreadsheet(df_single)"
   ]
  },
  {
   "cell_type": "code",
   "execution_count": 34,
   "id": "d5942248",
   "metadata": {},
   "outputs": [],
   "source": [
    "#df_single.head()"
   ]
  },
  {
   "cell_type": "code",
   "execution_count": 35,
   "id": "1be35915",
   "metadata": {},
   "outputs": [],
   "source": [
    "#df_single.tail(5)"
   ]
  },
  {
   "cell_type": "code",
   "execution_count": 36,
   "id": "cea939b8",
   "metadata": {},
   "outputs": [],
   "source": [
    "#len(df_single)"
   ]
  },
  {
   "cell_type": "code",
   "execution_count": null,
   "id": "f62db0cb",
   "metadata": {},
   "outputs": [],
   "source": []
  }
 ],
 "metadata": {
  "kernelspec": {
   "display_name": "Python [conda env:ironhack]",
   "language": "python",
   "name": "conda-env-ironhack-py"
  },
  "language_info": {
   "codemirror_mode": {
    "name": "ipython",
    "version": 3
   },
   "file_extension": ".py",
   "mimetype": "text/x-python",
   "name": "python",
   "nbconvert_exporter": "python",
   "pygments_lexer": "ipython3",
   "version": "3.7.11"
  }
 },
 "nbformat": 4,
 "nbformat_minor": 5
}
