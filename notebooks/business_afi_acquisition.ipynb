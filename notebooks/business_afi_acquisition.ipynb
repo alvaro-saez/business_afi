{
 "cells": [
  {
   "cell_type": "code",
   "execution_count": 1,
   "id": "49760860",
   "metadata": {},
   "outputs": [],
   "source": [
    "import pandas as pd\n",
    "import numpy as np\n",
    "import requests\n",
    "import bs4\n",
    "import re\n",
    "from datetime import datetime"
   ]
  },
  {
   "cell_type": "markdown",
   "id": "c38ac42b",
   "metadata": {},
   "source": [
    "### datos necesarios para el dataframe:\n",
    "\n",
    "- web scrapping: price, product_name, product_id, product_brand\n",
    "- url\n",
    "- fecha del dia\n",
    "\n",
    "--> el dataframe solo podrá tener una entrada por dia y por producto (poner consiciones de si ya existe la fecha de hoy para ese nombre de producto no añadir nada)\n",
    "\n",
    "\n",
    "--> columnas (url, brand, name, id, price)\n"
   ]
  },
  {
   "cell_type": "markdown",
   "id": "dcb20b0b",
   "metadata": {},
   "source": [
    "### output a) un único DF:\n",
    "\n",
    "Un dataframe con las siguientes caracteristicas:\n",
    "\n",
    "- el dataframe solo podrá tener una entrada por cada producto al día (poner condiciones de si ya existe la fecha de hoy para ese nombre de producto no añadir nada)\n",
    "\n",
    "- columnas (date_hyphen, date_slash, date_number, url, brand, name, id, price)"
   ]
  },
  {
   "cell_type": "markdown",
   "id": "9be19db0",
   "metadata": {},
   "source": [
    "### output B) un DF por cada producto:\n",
    "\n",
    "De esta manera cada dia sería una única entrada por cada DF"
   ]
  },
  {
   "cell_type": "markdown",
   "id": "f8fa42a5",
   "metadata": {},
   "source": [
    "###  supuesto 1. test con una silla en la que hay stock y precio"
   ]
  },
  {
   "cell_type": "code",
   "execution_count": 2,
   "id": "57afbf57",
   "metadata": {},
   "outputs": [],
   "source": [
    "url_cedric = 'https://sillasybienestar.com/ergonomia/sillas-ergonomicas/review-individual/cedric/'"
   ]
  },
  {
   "cell_type": "code",
   "execution_count": 3,
   "id": "694c1280",
   "metadata": {},
   "outputs": [],
   "source": [
    "response_cedric = requests.get(url_cedric)\n",
    "html_cedric = response_cedric.content\n",
    "parsed_content_cedric = bs4.BeautifulSoup(html_cedric, \"html.parser\")"
   ]
  },
  {
   "cell_type": "code",
   "execution_count": 4,
   "id": "dc72d23a",
   "metadata": {},
   "outputs": [],
   "source": [
    "price_cedric_class = parsed_content_cedric.find_all(\"span\",{\"class\":\"aawp-product__price aawp-product__price--current\"})[0]"
   ]
  },
  {
   "cell_type": "code",
   "execution_count": 5,
   "id": "756f425e",
   "metadata": {},
   "outputs": [
    {
     "data": {
      "text/plain": [
       "'252.74'"
      ]
     },
     "execution_count": 5,
     "metadata": {},
     "output_type": "execute_result"
    }
   ],
   "source": [
    "#final_price_cedric = price_cedric_class.text.replace(\"€\",\"\").strip().replace(\",\",\".\")\n",
    "final_price_cedric = re.sub(\"[^\\d|\\,]\",\"\",price_cedric_class.text).replace(\",\",\".\")\n",
    "final_price_cedric"
   ]
  },
  {
   "cell_type": "code",
   "execution_count": 6,
   "id": "b942e00c",
   "metadata": {},
   "outputs": [
    {
     "data": {
      "text/plain": [
       "'Cedric B07SRYBJ6L'"
      ]
     },
     "execution_count": 6,
     "metadata": {},
     "output_type": "execute_result"
    }
   ],
   "source": [
    "final_name_cedric = str(parsed_content_cedric).split(\"ficha_product_name='\")[1].split(\"';\")[0].strip()\n",
    "final_name_cedric"
   ]
  },
  {
   "cell_type": "code",
   "execution_count": 7,
   "id": "5f1443a5",
   "metadata": {},
   "outputs": [
    {
     "data": {
      "text/plain": [
       "'B07SRYBJ6L'"
      ]
     },
     "execution_count": 7,
     "metadata": {},
     "output_type": "execute_result"
    }
   ],
   "source": [
    "final_id_cedric = str(parsed_content_cedric).split(\"ficha_product_id='\")[1].split(\"';\")[0].strip()\n",
    "final_id_cedric"
   ]
  },
  {
   "cell_type": "code",
   "execution_count": 8,
   "id": "46ca893e",
   "metadata": {},
   "outputs": [
    {
     "data": {
      "text/plain": [
       "'Cedric'"
      ]
     },
     "execution_count": 8,
     "metadata": {},
     "output_type": "execute_result"
    }
   ],
   "source": [
    "final_brand_cedric = str(parsed_content_cedric).split(\"ficha_product_brand='\")[1].split(\"';\")[0].strip()\n",
    "final_brand_cedric"
   ]
  },
  {
   "cell_type": "code",
   "execution_count": 9,
   "id": "84d1622f",
   "metadata": {},
   "outputs": [
    {
     "data": {
      "text/plain": [
       "'2022-04-13'"
      ]
     },
     "execution_count": 9,
     "metadata": {},
     "output_type": "execute_result"
    }
   ],
   "source": [
    "date_hyphen = datetime.today().strftime('%Y-%m-%d')\n",
    "date_hyphen"
   ]
  },
  {
   "cell_type": "code",
   "execution_count": 10,
   "id": "0378f0b3",
   "metadata": {},
   "outputs": [
    {
     "data": {
      "text/plain": [
       "'2022/04/13'"
      ]
     },
     "execution_count": 10,
     "metadata": {},
     "output_type": "execute_result"
    }
   ],
   "source": [
    "date_slash = datetime.today().strftime('%Y/%m/%d')\n",
    "date_slash"
   ]
  },
  {
   "cell_type": "code",
   "execution_count": 11,
   "id": "15b22e4d",
   "metadata": {},
   "outputs": [
    {
     "data": {
      "text/plain": [
       "20220413"
      ]
     },
     "execution_count": 11,
     "metadata": {},
     "output_type": "execute_result"
    }
   ],
   "source": [
    "date_number = int(datetime.today().strftime('%Y%m%d'))\n",
    "date_number"
   ]
  },
  {
   "cell_type": "markdown",
   "id": "4034b934",
   "metadata": {},
   "source": [
    "###  supuesto 2. test cuando no hay stock"
   ]
  },
  {
   "cell_type": "code",
   "execution_count": 12,
   "id": "526bb37c",
   "metadata": {},
   "outputs": [],
   "source": [
    "url_no_price = \"https://sillasybienestar.com/gaming/sillas-gaming/review-individual/silla-gamer-bgeu-a136-sencillez-y-buen-precio-ofertas-2021/\""
   ]
  },
  {
   "cell_type": "code",
   "execution_count": 13,
   "id": "2c133f1c",
   "metadata": {},
   "outputs": [],
   "source": [
    "response_np = requests.get(url_no_price)\n",
    "html_np = response_np.content\n",
    "parsed_content_np = bs4.BeautifulSoup(html_np, \"html.parser\")\n",
    "price_cedric_np = parsed_content_np.find_all(\"span\",{\"class\":\"aawp-product__price aawp-product__price--current\"})[0].text"
   ]
  },
  {
   "cell_type": "code",
   "execution_count": 14,
   "id": "f8c8fafd",
   "metadata": {},
   "outputs": [
    {
     "data": {
      "text/plain": [
       "''"
      ]
     },
     "execution_count": 14,
     "metadata": {},
     "output_type": "execute_result"
    }
   ],
   "source": [
    "price_cedric_np"
   ]
  },
  {
   "cell_type": "code",
   "execution_count": 15,
   "id": "4ae0b7d8",
   "metadata": {},
   "outputs": [],
   "source": [
    "#si está sin stock aparecerá \"\" --> ponerle condicion para que cuando pase sea un \"0\""
   ]
  },
  {
   "cell_type": "code",
   "execution_count": 16,
   "id": "356d7b5a",
   "metadata": {},
   "outputs": [
    {
     "name": "stdout",
     "output_type": "stream",
     "text": [
      "0\n"
     ]
    }
   ],
   "source": [
    "if price_cedric_np == \"\":\n",
    "    print(0)"
   ]
  },
  {
   "cell_type": "code",
   "execution_count": 17,
   "id": "1af0df5c",
   "metadata": {},
   "outputs": [],
   "source": [
    "#hay que pasarlo al list comprenhension (una opcion sería que cuando esté el dataframe ponerle un apply(función para susitituirlo))"
   ]
  },
  {
   "cell_type": "markdown",
   "id": "bde77d48",
   "metadata": {},
   "source": [
    "### supuesto 3. test cuando ya no existe el producto"
   ]
  },
  {
   "cell_type": "code",
   "execution_count": 18,
   "id": "0266d723",
   "metadata": {},
   "outputs": [],
   "source": [
    "url_wrong = \"https://sillasybienestar.com/ergonomia/sillas-ergonomicas/review-individual/femor/\""
   ]
  },
  {
   "cell_type": "code",
   "execution_count": 19,
   "id": "5fd5b714",
   "metadata": {},
   "outputs": [],
   "source": [
    "# ¡OJO! que como tenemos un plugin al final, en este caso si que detecta un producto, y no es el que queremos, es el [0 de los bestseleers]"
   ]
  },
  {
   "cell_type": "code",
   "execution_count": 20,
   "id": "6adfc433",
   "metadata": {},
   "outputs": [],
   "source": [
    "response_wrong = requests.get(url_wrong)\n",
    "html_wrong = response_wrong.content\n",
    "parsed_content_wrong = bs4.BeautifulSoup(html_wrong, \"html.parser\")\n",
    "price_wrong_class = parsed_content_wrong.find_all(\"div\",{\"class\":\"wp-block-media-text__content\"})[0].text.strip()"
   ]
  },
  {
   "cell_type": "code",
   "execution_count": 21,
   "id": "74fbe670",
   "metadata": {},
   "outputs": [
    {
     "data": {
      "text/plain": [
       "'No products found.'"
      ]
     },
     "execution_count": 21,
     "metadata": {},
     "output_type": "execute_result"
    }
   ],
   "source": [
    "price_wrong_class"
   ]
  },
  {
   "cell_type": "markdown",
   "id": "880c71e1",
   "metadata": {},
   "source": [
    "##### vamos a ver si esta clase existe en los supuestos 1. y 2."
   ]
  },
  {
   "cell_type": "code",
   "execution_count": 22,
   "id": "a2980b27",
   "metadata": {},
   "outputs": [
    {
     "data": {
      "text/plain": [
       "'(559)\\n \\n\\n\\n\\n252,74 €\\n\\nVer Precio en Amazon\\n\\n\\n\\n\\n\\nÚltima actualización el 2022-04-13'"
      ]
     },
     "execution_count": 22,
     "metadata": {},
     "output_type": "execute_result"
    }
   ],
   "source": [
    "#nos vamos al supuesto de que hay stock y precio\n",
    "price_cedric_np0 = parsed_content_cedric.find_all(\"div\",{\"class\":\"wp-block-media-text__content\"})[0].text.strip()\n",
    "price_cedric_np0"
   ]
  },
  {
   "cell_type": "code",
   "execution_count": 23,
   "id": "30b4f1a0",
   "metadata": {},
   "outputs": [
    {
     "data": {
      "text/plain": [
       "'Silla Racing BGEU-A136 \\n\\n\\n\\n\\n\\n\\n\\nVer en Amazon\\n\\n\\n\\n\\n\\nÚltima actualización el 2021-08-09'"
      ]
     },
     "execution_count": 23,
     "metadata": {},
     "output_type": "execute_result"
    }
   ],
   "source": [
    "#nos vamos al supuesto de cuando no hay stock y aplicamos la clase a ver si existe\n",
    "price_cedric_np2 = parsed_content_np.find_all(\"div\",{\"class\":\"wp-block-media-text__content\"})[0].text.strip()\n",
    "price_cedric_np2"
   ]
  },
  {
   "cell_type": "code",
   "execution_count": 24,
   "id": "022004f8",
   "metadata": {},
   "outputs": [],
   "source": [
    "#si existe, por lo que podemos empezar con esta condicion para todos los uspuestos a la hora de obtener el precio"
   ]
  },
  {
   "cell_type": "markdown",
   "id": "d360369b",
   "metadata": {},
   "source": [
    "### OBTENCIÓN DE VARIABLES"
   ]
  },
  {
   "cell_type": "code",
   "execution_count": 25,
   "id": "3cb5580a",
   "metadata": {},
   "outputs": [],
   "source": [
    "# FALTARIA CREAR UN HANDLING EXPRESSION PARA SI LA URL NO ES DE REVIEW INDIVIDUAL"
   ]
  },
  {
   "cell_type": "code",
   "execution_count": 26,
   "id": "ee38caab",
   "metadata": {},
   "outputs": [],
   "source": [
    "urls_products_list = [\n",
    "\"https://sillasybienestar.com/ergonomia/sillas-ergonomicas/review-individual/cedric/\",\n",
    "\"https://sillasybienestar.com/ergonomia/sillas-ergonomicas/review-individual/tlv-myx-801-1/\",\n",
    "\"https://sillasybienestar.com/ergonomia/sillas-ergonomicas/review-individual/songmics-obn55bk/\",\n",
    "\"https://sillasybienestar.com/gaming/sillas-gaming/review-individual/silla-gamer-bgeu-a136-sencillez-y-buen-precio-ofertas-2021/\",\n",
    "\"https://sillasybienestar.com/ergonomia/sillas-ergonomicas/review-individual/femor/\"\n",
    "]"
   ]
  },
  {
   "cell_type": "code",
   "execution_count": 27,
   "id": "981e1fe7",
   "metadata": {},
   "outputs": [],
   "source": [
    "#contenido \"parseado\" para las siguientes variables\n",
    "parsed_products_content_list = [bs4.BeautifulSoup(requests.get(i).content, \"html.parser\") for i in urls_products_list]\n",
    "\n",
    "#contenido \"parseado\" para el precio\n",
    "parsed_products_price_class = [i.find_all(\"span\",{\"class\":\"aawp-product__price aawp-product__price--current\"})[0].text for i in parsed_products_content_list]\n",
    "\n",
    "#PRECIO\n",
    "#final_price_products = [re.sub(\"[^\\d|\\,]\",\"\",i).replace(\",\",\".\") for i in parsed_products_price_class]\n",
    "final_price_products_list =[]\n",
    "final_price_products_status =[]\n",
    "def price_list(parsed_products_content_list):\n",
    "    for i in parsed_products_content_list:\n",
    "        if i.find_all(\"div\",{\"class\":\"wp-block-media-text__content\"})[0].text.strip() == \"No products found.\":\n",
    "            final_price_products_list.append(0)\n",
    "            final_price_products_status.append(\"descatalogado\")\n",
    "        elif i.find_all(\"span\",{\"class\":\"aawp-product__price aawp-product__price--current\"})[0].text == \"\":\n",
    "            final_price_products_list.append(0)\n",
    "            final_price_products_status.append(\"sin_stock\")\n",
    "        elif i.find_all(\"span\",{\"class\":\"aawp-product__price aawp-product__price--current\"})[0].text != \"\":\n",
    "            price_supuesto_1 = i.find_all(\"span\",{\"class\":\"aawp-product__price aawp-product__price--current\"})[0].text\n",
    "            price_supuesto_1_cleaned = re.sub(\"[^\\d|\\,]\",\"\",str(price_supuesto_1)).replace(\",\",\".\")\n",
    "            final_price_products_list.append(float(price_supuesto_1_cleaned))\n",
    "            final_price_products_status.append(\"correcto\")\n",
    "        else:\n",
    "            print(\"revisar funcion price\")\n",
    "price_list(parsed_products_content_list)\n",
    "\n",
    "#funcionpara handling error\n",
    "def handling_error_vars_product(i,text):\n",
    "    try:\n",
    "        str(i).split(text)[1]\n",
    "    except:\n",
    "        return \"none\"\n",
    "    else:\n",
    "        return str(i).split(text)[1].split(\"';\")[0].strip()\n",
    "    \n",
    "#NAME\n",
    "#final_name_products = [str(i).split(\"ficha_product_name='\")[1].split(\"';\")[0].strip() for i in parsed_products_content_list]\n",
    "final_name_products = [handling_error_vars_product(i,\"ficha_product_name='\") for i in parsed_products_content_list]\n",
    "\n",
    "#ID\n",
    "#final_id_products = [str(i).split(\"ficha_product_id='\")[1].split(\"';\")[0].strip() for i in parsed_products_content_list]\n",
    "final_id_products = [handling_error_vars_product(i,\"ficha_product_id='\") for i in parsed_products_content_list]\n",
    "\n",
    "\n",
    "#BRAND\n",
    "#final_brand_products = [str(i).split(\"ficha_product_brand='\")[1].split(\"';\")[0].strip() for i in parsed_products_content_list]\n",
    "final_brand_products = [handling_error_vars_product(i,\"ficha_product_brand='\") for i in parsed_products_content_list]\n",
    "\n",
    "\n",
    "#DATES\n",
    "final_date_hyphen_products = [datetime.today().strftime('%Y-%m-%d') for i in range(len(urls_products_list))]\n",
    "final_date_slash_products = [datetime.today().strftime('%Y/%m/%d') for i in range(len(urls_products_list))]\n",
    "final_date_number_products = [int(datetime.today().strftime('%Y%m%d')) for i in range(len(urls_products_list))]"
   ]
  },
  {
   "cell_type": "code",
   "execution_count": 28,
   "id": "a7a72fd5",
   "metadata": {},
   "outputs": [
    {
     "data": {
      "text/plain": [
       "[252.74, 89.99, 131.99, 0, 0]"
      ]
     },
     "execution_count": 28,
     "metadata": {},
     "output_type": "execute_result"
    }
   ],
   "source": [
    "final_price_products_list"
   ]
  },
  {
   "cell_type": "markdown",
   "id": "285c70bf",
   "metadata": {},
   "source": [
    "## Create the DATAFRAME"
   ]
  },
  {
   "cell_type": "markdown",
   "id": "cb9a3653",
   "metadata": {},
   "source": [
    "### a) un único DF:"
   ]
  },
  {
   "cell_type": "markdown",
   "id": "7fef3a09",
   "metadata": {},
   "source": [
    "#### paso 1: crear un DF vacío"
   ]
  },
  {
   "cell_type": "code",
   "execution_count": 29,
   "id": "728936db",
   "metadata": {},
   "outputs": [],
   "source": [
    "try:\n",
    "    df_single.head() \n",
    "except: #si da error es que no existe y lo crearemos\n",
    "    columns = [\"date_hyphen\",\"date_slash\",\"date_number\",\"product_name\",\"product_id\",\"product_brand\",\"price\",\"status\",\"url\"]\n",
    "    df_single = pd.DataFrame(columns=columns)\n",
    "else: #si no da error es que existe y no haremos nada\n",
    "    pass"
   ]
  },
  {
   "cell_type": "markdown",
   "id": "ded763ac",
   "metadata": {},
   "source": [
    "#### paso 2: insertar nuevas filas en df_single - pd.concat()"
   ]
  },
  {
   "cell_type": "code",
   "execution_count": 30,
   "id": "238175ff",
   "metadata": {},
   "outputs": [],
   "source": [
    "df_append_new_files = pd.DataFrame({\n",
    "    \"date_hyphen\":final_date_hyphen_products,\n",
    "    \"date_slash\":final_date_slash_products,\n",
    "    \"date_number\":final_date_number_products,\n",
    "    \"product_name\":final_name_products,\n",
    "    \"product_id\":final_id_products,\n",
    "    \"product_brand\":final_brand_products,\n",
    "    \"price\":final_price_products_list,\n",
    "    \"status\":final_price_products_status,\n",
    "    \"url\": urls_products_list\n",
    "})"
   ]
  },
  {
   "cell_type": "code",
   "execution_count": 36,
   "id": "bec6a3c3",
   "metadata": {},
   "outputs": [],
   "source": [
    "if df_append_new_files[\"date_hyphen\"][0] == df_single[\"date_hyphen\"][0]:\n",
    "    pass\n",
    "elif df_append_new_files[\"date_hyphen\"][0] != df_single[\"date_hyphen\"][0]:\n",
    "    df_single = pd.concat([df_single, df_append_new_files], ignore_index=True)"
   ]
  },
  {
   "cell_type": "code",
   "execution_count": 37,
   "id": "b0cc5352",
   "metadata": {},
   "outputs": [
    {
     "data": {
      "text/html": [
       "<div>\n",
       "<style scoped>\n",
       "    .dataframe tbody tr th:only-of-type {\n",
       "        vertical-align: middle;\n",
       "    }\n",
       "\n",
       "    .dataframe tbody tr th {\n",
       "        vertical-align: top;\n",
       "    }\n",
       "\n",
       "    .dataframe thead th {\n",
       "        text-align: right;\n",
       "    }\n",
       "</style>\n",
       "<table border=\"1\" class=\"dataframe\">\n",
       "  <thead>\n",
       "    <tr style=\"text-align: right;\">\n",
       "      <th></th>\n",
       "      <th>date_hyphen</th>\n",
       "      <th>date_slash</th>\n",
       "      <th>date_number</th>\n",
       "      <th>product_name</th>\n",
       "      <th>product_id</th>\n",
       "      <th>product_brand</th>\n",
       "      <th>price</th>\n",
       "      <th>status</th>\n",
       "      <th>url</th>\n",
       "    </tr>\n",
       "  </thead>\n",
       "  <tbody>\n",
       "    <tr>\n",
       "      <th>0</th>\n",
       "      <td>2022-04-13</td>\n",
       "      <td>2022/04/13</td>\n",
       "      <td>20220413</td>\n",
       "      <td>Cedric B07SRYBJ6L</td>\n",
       "      <td>B07SRYBJ6L</td>\n",
       "      <td>Cedric</td>\n",
       "      <td>252.74</td>\n",
       "      <td>correcto</td>\n",
       "      <td>https://sillasybienestar.com/ergonomia/sillas-...</td>\n",
       "    </tr>\n",
       "    <tr>\n",
       "      <th>1</th>\n",
       "      <td>2022-04-13</td>\n",
       "      <td>2022/04/13</td>\n",
       "      <td>20220413</td>\n",
       "      <td>TLV TLV-MYX-801-1</td>\n",
       "      <td>B08T1TSMQQ</td>\n",
       "      <td>TLV</td>\n",
       "      <td>89.99</td>\n",
       "      <td>correcto</td>\n",
       "      <td>https://sillasybienestar.com/ergonomia/sillas-...</td>\n",
       "    </tr>\n",
       "    <tr>\n",
       "      <th>2</th>\n",
       "      <td>2022-04-13</td>\n",
       "      <td>2022/04/13</td>\n",
       "      <td>20220413</td>\n",
       "      <td>Songmics OBN55BK</td>\n",
       "      <td>B07ZCJVFDJ</td>\n",
       "      <td>Songmics</td>\n",
       "      <td>131.99</td>\n",
       "      <td>correcto</td>\n",
       "      <td>https://sillasybienestar.com/ergonomia/sillas-...</td>\n",
       "    </tr>\n",
       "    <tr>\n",
       "      <th>3</th>\n",
       "      <td>2022-04-13</td>\n",
       "      <td>2022/04/13</td>\n",
       "      <td>20220413</td>\n",
       "      <td>bgeu-a136</td>\n",
       "      <td>B08D8BVHMW</td>\n",
       "      <td>racing gaming</td>\n",
       "      <td>0.00</td>\n",
       "      <td>sin_stock</td>\n",
       "      <td>https://sillasybienestar.com/gaming/sillas-gam...</td>\n",
       "    </tr>\n",
       "    <tr>\n",
       "      <th>4</th>\n",
       "      <td>2022-04-13</td>\n",
       "      <td>2022/04/13</td>\n",
       "      <td>20220413</td>\n",
       "      <td>femor B08G8DRT5M</td>\n",
       "      <td>B08G8DRT5M</td>\n",
       "      <td>femor</td>\n",
       "      <td>0.00</td>\n",
       "      <td>descatalogado</td>\n",
       "      <td>https://sillasybienestar.com/ergonomia/sillas-...</td>\n",
       "    </tr>\n",
       "  </tbody>\n",
       "</table>\n",
       "</div>"
      ],
      "text/plain": [
       "  date_hyphen  date_slash date_number       product_name  product_id  \\\n",
       "0  2022-04-13  2022/04/13    20220413  Cedric B07SRYBJ6L  B07SRYBJ6L   \n",
       "1  2022-04-13  2022/04/13    20220413  TLV TLV-MYX-801-1  B08T1TSMQQ   \n",
       "2  2022-04-13  2022/04/13    20220413   Songmics OBN55BK  B07ZCJVFDJ   \n",
       "3  2022-04-13  2022/04/13    20220413          bgeu-a136  B08D8BVHMW   \n",
       "4  2022-04-13  2022/04/13    20220413   femor B08G8DRT5M  B08G8DRT5M   \n",
       "\n",
       "   product_brand   price         status  \\\n",
       "0         Cedric  252.74       correcto   \n",
       "1            TLV   89.99       correcto   \n",
       "2       Songmics  131.99       correcto   \n",
       "3  racing gaming    0.00      sin_stock   \n",
       "4          femor    0.00  descatalogado   \n",
       "\n",
       "                                                 url  \n",
       "0  https://sillasybienestar.com/ergonomia/sillas-...  \n",
       "1  https://sillasybienestar.com/ergonomia/sillas-...  \n",
       "2  https://sillasybienestar.com/ergonomia/sillas-...  \n",
       "3  https://sillasybienestar.com/gaming/sillas-gam...  \n",
       "4  https://sillasybienestar.com/ergonomia/sillas-...  "
      ]
     },
     "execution_count": 37,
     "metadata": {},
     "output_type": "execute_result"
    }
   ],
   "source": [
    "df_single"
   ]
  },
  {
   "cell_type": "code",
   "execution_count": null,
   "id": "25b82e64",
   "metadata": {},
   "outputs": [],
   "source": []
  }
 ],
 "metadata": {
  "kernelspec": {
   "display_name": "Python [conda env:ironhack]",
   "language": "python",
   "name": "conda-env-ironhack-py"
  },
  "language_info": {
   "codemirror_mode": {
    "name": "ipython",
    "version": 3
   },
   "file_extension": ".py",
   "mimetype": "text/x-python",
   "name": "python",
   "nbconvert_exporter": "python",
   "pygments_lexer": "ipython3",
   "version": "3.7.11"
  }
 },
 "nbformat": 4,
 "nbformat_minor": 5
}
