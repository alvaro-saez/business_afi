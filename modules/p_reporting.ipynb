{
 "cells": [
  {
   "cell_type": "code",
   "execution_count": 1,
   "id": "1fe65bc2",
   "metadata": {},
   "outputs": [],
   "source": [
    "import pandas as pd\n",
    "import numpy as np\n",
    "import requests\n",
    "import bs4\n",
    "import re\n",
    "from datetime import datetime\n",
    "pd.set_option('display.max_rows', 1000)\n",
    "pd.options.display.max_colwidth = 1000\n",
    "\n",
    "#to send emails\n",
    "import email, smtplib, ssl\n",
    "from email import encoders\n",
    "from email.mime.base import MIMEBase\n",
    "from email.mime.multipart import MIMEMultipart\n",
    "from email.mime.text import MIMEText\n",
    "\n",
    "#to make the conection with spreadsheets\n",
    "import gspread\n",
    "from google.oauth2.service_account import Credentials\n",
    "\n",
    "#for passwords\n",
    "import os\n",
    "from dotenv import load_dotenv, find_dotenv\n",
    "\n",
    "load_dotenv(find_dotenv(\"../credentials/.env\"))\n",
    "email_key = os.environ.get(\"EMAIL_KEY\") #EMAIL PASSWORD"
   ]
  },
  {
   "cell_type": "markdown",
   "id": "01ca37f0",
   "metadata": {},
   "source": [
    "# D. p_reporting"
   ]
  },
  {
   "cell_type": "markdown",
   "id": "bcafc43d",
   "metadata": {},
   "source": [
    "We are going to send the different DataFrames to spreadsheet\n",
    "\n",
    "#### INDEX LIBRARY\n",
    "https://docs.gspread.org/en/latest/\n",
    "\n",
    "#### USER GUIDE\n",
    "https://docs.gspread.org/en/latest/user-guide.html"
   ]
  },
  {
   "cell_type": "markdown",
   "id": "5934a99a",
   "metadata": {},
   "source": [
    "The conection has been done in the \"p_wrangling\" module. The output is located in the variable \"gc\""
   ]
  },
  {
   "cell_type": "code",
   "execution_count": 74,
   "id": "da24d59a",
   "metadata": {},
   "outputs": [],
   "source": [
    "def update_spreadsheet(gc, spreadsheet_name, worksheet_name, dataframe):\n",
    "    #Open the spreadhseet\n",
    "    sheet = gc.open(spreadsheet_name).worksheet(worksheet_name)\n",
    "    \n",
    "    #Clear and Update the Worksheet\n",
    "    sheet.clear()\n",
    "    sheet.update('A1:L1',[dataframe.columns.tolist()])\n",
    "    sheet.update('A2:L' + str(len(dataframe)+1), dataframe.values.tolist())\n",
    "    \n",
    "    return \"worksheet updated\""
   ]
  },
  {
   "cell_type": "code",
   "execution_count": 75,
   "id": "4d02c382",
   "metadata": {},
   "outputs": [
    {
     "data": {
      "text/plain": [
       "'worksheet updated'"
      ]
     },
     "execution_count": 75,
     "metadata": {},
     "output_type": "execute_result"
    }
   ],
   "source": [
    "#sheet1 - df_single\n",
    "update_spreadsheet(gc, \"business_afi_scraping_df_single\", \"df_single\", df_single)"
   ]
  },
  {
   "cell_type": "code",
   "execution_count": 76,
   "id": "f8b7091c",
   "metadata": {},
   "outputs": [
    {
     "data": {
      "text/plain": [
       "'worksheet updated'"
      ]
     },
     "execution_count": 76,
     "metadata": {},
     "output_type": "execute_result"
    }
   ],
   "source": [
    "#sheet2 - df_append_new_files\n",
    "update_spreadsheet(gc, \"business_afi_scraping_last_day_files\", \"df_append_new_files\", df_append_new_files)"
   ]
  },
  {
   "cell_type": "code",
   "execution_count": 77,
   "id": "a2602a96",
   "metadata": {},
   "outputs": [
    {
     "data": {
      "text/plain": [
       "'worksheet updated'"
      ]
     },
     "execution_count": 77,
     "metadata": {},
     "output_type": "execute_result"
    }
   ],
   "source": [
    "#sheet3 - out_of_stock_df\n",
    "def out_of_stock_spreadsheet(df_append_new_files):\n",
    "    out_of_stock_df = df_append_new_files[df_append_new_files[\"status\"] != \"correcto\"]\n",
    "    update_spreadsheet(gc, \"business_afi_scraping_last_day_files\", \"out_of_stock_df\", out_of_stock_df)\n",
    "    \n",
    "    return \"worksheet updated\"\n",
    "out_of_stock_spreadsheet(df_append_new_files)"
   ]
  },
  {
   "cell_type": "code",
   "execution_count": 78,
   "id": "dfe3e9ad",
   "metadata": {},
   "outputs": [
    {
     "data": {
      "text/plain": [
       "'worksheet updated, but there is no any none value'"
      ]
     },
     "execution_count": 78,
     "metadata": {},
     "output_type": "execute_result"
    }
   ],
   "source": [
    "#sheet4 - none_values_df\n",
    "def non_values_spreadsheet(df_single):\n",
    "    none_values = df_single[df_single[\"product_name\"]==\"none\"].any().unique().tolist()\n",
    "    if none_values == [True]:\n",
    "        none_values_df = df_single[df_single[\"product_name\"]==\"none\"]\n",
    "        update_spreadsheet(gc, \"business_afi_scraping_last_day_files\", \"none_values_df\", none_values_df)\n",
    "        \n",
    "        return \"worksheet updated\"\n",
    "    else:\n",
    "        return \"worksheet updated, but there is no any none value\"\n",
    "    \n",
    "non_values_spreadsheet(df_single)"
   ]
  },
  {
   "cell_type": "code",
   "execution_count": null,
   "id": "d5226aa2",
   "metadata": {},
   "outputs": [],
   "source": []
  }
 ],
 "metadata": {
  "kernelspec": {
   "display_name": "Python [conda env:ironhack]",
   "language": "python",
   "name": "conda-env-ironhack-py"
  },
  "language_info": {
   "codemirror_mode": {
    "name": "ipython",
    "version": 3
   },
   "file_extension": ".py",
   "mimetype": "text/x-python",
   "name": "python",
   "nbconvert_exporter": "python",
   "pygments_lexer": "ipython3",
   "version": "3.7.11"
  }
 },
 "nbformat": 4,
 "nbformat_minor": 5
}
