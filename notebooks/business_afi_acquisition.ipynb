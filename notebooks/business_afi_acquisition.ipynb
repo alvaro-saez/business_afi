{
 "cells": [
  {
   "cell_type": "code",
   "execution_count": 90,
   "id": "e7450ffc",
   "metadata": {},
   "outputs": [],
   "source": [
    "import pandas as pd\n",
    "import numpy as np\n",
    "import requests\n",
    "import bs4\n",
    "import re\n",
    "from datetime import datetime"
   ]
  },
  {
   "cell_type": "markdown",
   "id": "2bbe69bb",
   "metadata": {},
   "source": [
    "### datos necesarios para el dataframe:\n",
    "\n",
    "- web scrapping: price, product_name, product_id, product_brand\n",
    "- url\n",
    "- fecha del dia\n",
    "\n",
    "--> el dataframe solo podrá tener una entrada por dia y por producto (poner consiciones de si ya existe la fecha de hoy para ese nombre de producto no añadir nada)\n",
    "\n",
    "\n",
    "--> columnas (url, brand, name, id, price)\n"
   ]
  },
  {
   "cell_type": "markdown",
   "id": "68b6e1d2",
   "metadata": {},
   "source": [
    "### output a) un único DF:\n",
    "\n",
    "Un dataframe con las siguientes caracteristicas:\n",
    "\n",
    "- el dataframe solo podrá tener una entrada por cada producto al día (poner condiciones de si ya existe la fecha de hoy para ese nombre de producto no añadir nada)\n",
    "\n",
    "- columnas (date_hyphen, date_slash, date_number, url, brand, name, id, price)"
   ]
  },
  {
   "cell_type": "markdown",
   "id": "321eae32",
   "metadata": {},
   "source": [
    "### output B) un DF por cada producto:\n",
    "\n",
    "De esta manera cada dia sería una única entrada por cada DF"
   ]
  },
  {
   "cell_type": "markdown",
   "id": "a7d77bab",
   "metadata": {},
   "source": [
    "### test con la silla cedric"
   ]
  },
  {
   "cell_type": "code",
   "execution_count": 4,
   "id": "c82a2a60",
   "metadata": {},
   "outputs": [],
   "source": [
    "url_cedric = 'https://sillasybienestar.com/ergonomia/sillas-ergonomicas/review-individual/cedric/'"
   ]
  },
  {
   "cell_type": "code",
   "execution_count": 5,
   "id": "ca37eed6",
   "metadata": {},
   "outputs": [],
   "source": [
    "response_cedric = requests.get(url_cedric)\n",
    "html_cedric = response_cedric.content\n",
    "parsed_content_cedric = bs4.BeautifulSoup(html_cedric, \"html.parser\")"
   ]
  },
  {
   "cell_type": "code",
   "execution_count": 40,
   "id": "ab6557f9",
   "metadata": {},
   "outputs": [],
   "source": [
    "price_cedric_class = parsed_content_cedric.find_all(\"span\",{\"class\":\"aawp-product__price aawp-product__price--current\"})[0]"
   ]
  },
  {
   "cell_type": "code",
   "execution_count": 81,
   "id": "57f9730d",
   "metadata": {},
   "outputs": [
    {
     "data": {
      "text/plain": [
       "'252.74'"
      ]
     },
     "execution_count": 81,
     "metadata": {},
     "output_type": "execute_result"
    }
   ],
   "source": [
    "#final_price_cedric = price_cedric_class.text.replace(\"€\",\"\").strip().replace(\",\",\".\")\n",
    "final_price_cedric = re.sub(\"[^\\d|\\,]\",\"\",price_cedric_class.text).replace(\",\",\".\")\n",
    "final_price_cedric"
   ]
  },
  {
   "cell_type": "code",
   "execution_count": 86,
   "id": "f0806cce",
   "metadata": {},
   "outputs": [
    {
     "data": {
      "text/plain": [
       "'Cedric B07SRYBJ6L'"
      ]
     },
     "execution_count": 86,
     "metadata": {},
     "output_type": "execute_result"
    }
   ],
   "source": [
    "final_name_cedric = str(parsed_content_cedric).split(\"ficha_product_name='\")[1].split(\"';\")[0].strip()\n",
    "final_name_cedric"
   ]
  },
  {
   "cell_type": "code",
   "execution_count": 87,
   "id": "98ae19af",
   "metadata": {},
   "outputs": [
    {
     "data": {
      "text/plain": [
       "'B07SRYBJ6L'"
      ]
     },
     "execution_count": 87,
     "metadata": {},
     "output_type": "execute_result"
    }
   ],
   "source": [
    "final_id_cedric = str(parsed_content_cedric).split(\"ficha_product_id='\")[1].split(\"';\")[0].strip()\n",
    "final_id_cedric"
   ]
  },
  {
   "cell_type": "code",
   "execution_count": 88,
   "id": "ef6c1277",
   "metadata": {},
   "outputs": [
    {
     "data": {
      "text/plain": [
       "'Cedric'"
      ]
     },
     "execution_count": 88,
     "metadata": {},
     "output_type": "execute_result"
    }
   ],
   "source": [
    "final_brand_cedric = str(parsed_content_cedric).split(\"ficha_product_brand='\")[1].split(\"';\")[0].strip()\n",
    "final_brand_cedric"
   ]
  },
  {
   "cell_type": "code",
   "execution_count": 118,
   "id": "52b3e88b",
   "metadata": {},
   "outputs": [
    {
     "data": {
      "text/plain": [
       "'2022-04-12'"
      ]
     },
     "execution_count": 118,
     "metadata": {},
     "output_type": "execute_result"
    }
   ],
   "source": [
    "date_hyphen = datetime.today().strftime('%Y-%m-%d')\n",
    "date_hyphen"
   ]
  },
  {
   "cell_type": "code",
   "execution_count": 106,
   "id": "f4876645",
   "metadata": {},
   "outputs": [
    {
     "data": {
      "text/plain": [
       "'2022/04/12'"
      ]
     },
     "execution_count": 106,
     "metadata": {},
     "output_type": "execute_result"
    }
   ],
   "source": [
    "date_slash = datetime.today().strftime('%Y/%m/%d')\n",
    "date_slash"
   ]
  },
  {
   "cell_type": "code",
   "execution_count": 114,
   "id": "58e1444e",
   "metadata": {},
   "outputs": [
    {
     "data": {
      "text/plain": [
       "20220412"
      ]
     },
     "execution_count": 114,
     "metadata": {},
     "output_type": "execute_result"
    }
   ],
   "source": [
    "date_number = int(datetime.today().strftime('%Y%m%d'))\n",
    "date_number"
   ]
  },
  {
   "cell_type": "markdown",
   "id": "03791756",
   "metadata": {},
   "source": [
    "### test con un conjunto de urls"
   ]
  },
  {
   "cell_type": "code",
   "execution_count": 123,
   "id": "d947e6fb",
   "metadata": {},
   "outputs": [],
   "source": [
    "urls_products_list = [\n",
    "\"https://sillasybienestar.com/ergonomia/sillas-ergonomicas/review-individual/cedric/\",\n",
    "\"https://sillasybienestar.com/ergonomia/sillas-ergonomicas/review-individual/tlv-myx-801-1/\",\n",
    "\"https://sillasybienestar.com/ergonomia/sillas-ergonomicas/review-individual/songmics-obn55bk/\"\n",
    "]\n",
    "#falta añadir condición a price de que si no existe pongamos un 0\""
   ]
  },
  {
   "cell_type": "code",
   "execution_count": 138,
   "id": "77ed102c",
   "metadata": {},
   "outputs": [],
   "source": [
    "parsed_products_content_list = [bs4.BeautifulSoup(requests.get(i).content, \"html.parser\") for i in urls_products_list]\n",
    "parsed_products_class = [i.find_all(\"span\",{\"class\":\"aawp-product__price aawp-product__price--current\"})[0].text for i in parsed_products_content_list]\n",
    "final_price_products = [re.sub(\"[^\\d|\\,]\",\"\",i).replace(\",\",\".\") for i in parsed_products_class]\n",
    "final_name_products = [str(i).split(\"ficha_product_name='\")[1].split(\"';\")[0].strip() for i in parsed_products_content_list]\n",
    "final_id_products = [str(i).split(\"ficha_product_id='\")[1].split(\"';\")[0].strip() for i in parsed_products_content_list]\n",
    "final_brand_products = [str(i).split(\"ficha_product_brand='\")[1].split(\"';\")[0].strip() for i in parsed_products_content_list]\n",
    "final_date_hyphen_products = [datetime.today().strftime('%Y-%m-%d') for i in range(len(urls_products_list))]\n",
    "final_date_slash_products = [datetime.today().strftime('%Y/%m/%d') for i in range(len(urls_products_list))]\n",
    "final_date_number_products = [int(datetime.today().strftime('%Y%m%d')) for i in range(len(urls_products_list))]"
   ]
  },
  {
   "cell_type": "markdown",
   "id": "474cfde3",
   "metadata": {},
   "source": [
    "### test cuando no hay stock"
   ]
  },
  {
   "cell_type": "code",
   "execution_count": 153,
   "id": "a0352156",
   "metadata": {},
   "outputs": [],
   "source": [
    "url_no_price = \"https://sillasybienestar.com/gaming/sillas-gaming/review-individual/silla-gamer-bgeu-a136-sencillez-y-buen-precio-ofertas-2021/\""
   ]
  },
  {
   "cell_type": "code",
   "execution_count": 149,
   "id": "d9621980",
   "metadata": {},
   "outputs": [],
   "source": [
    "response_np = requests.get(url_no_price)\n",
    "html_np = response_np.content\n",
    "parsed_content_np = bs4.BeautifulSoup(html_np, \"html.parser\")\n",
    "price_cedric_np = parsed_content_np.find_all(\"span\",{\"class\":\"aawp-product__price aawp-product__price--current\"})[0].text"
   ]
  },
  {
   "cell_type": "code",
   "execution_count": 155,
   "id": "514d73ea",
   "metadata": {},
   "outputs": [
    {
     "data": {
      "text/plain": [
       "''"
      ]
     },
     "execution_count": 155,
     "metadata": {},
     "output_type": "execute_result"
    }
   ],
   "source": [
    "price_cedric_np"
   ]
  },
  {
   "cell_type": "code",
   "execution_count": 151,
   "id": "04996f4e",
   "metadata": {},
   "outputs": [],
   "source": [
    "#si está sin stock aparecerá \"\" --> ponerle condicion para que cuando pase sea un \"0\""
   ]
  },
  {
   "cell_type": "code",
   "execution_count": 156,
   "id": "70ed7c9a",
   "metadata": {},
   "outputs": [
    {
     "name": "stdout",
     "output_type": "stream",
     "text": [
      "0\n"
     ]
    }
   ],
   "source": [
    "if price_cedric_np == \"\":\n",
    "    print(0)"
   ]
  },
  {
   "cell_type": "code",
   "execution_count": 157,
   "id": "5695585e",
   "metadata": {},
   "outputs": [],
   "source": [
    "#hay que pasarlo al list comprenhension (una opcion sería que cuando esté el dataframe ponerle un apply(función para susitituirlo))"
   ]
  },
  {
   "cell_type": "markdown",
   "id": "cf9ef0a8",
   "metadata": {},
   "source": [
    "### test cuando no hay stock\n"
   ]
  },
  {
   "cell_type": "code",
   "execution_count": 152,
   "id": "d0cc1980",
   "metadata": {},
   "outputs": [],
   "source": [
    "url_wrong = \"https://sillasybienestar.com/ergonomia/sillas-ergonomicas/review-individual/femor/\""
   ]
  },
  {
   "cell_type": "code",
   "execution_count": null,
   "id": "1f429d4f",
   "metadata": {},
   "outputs": [],
   "source": []
  },
  {
   "cell_type": "markdown",
   "id": "0475d966",
   "metadata": {},
   "source": [
    "### meter tambien una condicion de else"
   ]
  },
  {
   "cell_type": "code",
   "execution_count": null,
   "id": "5219ba4f",
   "metadata": {},
   "outputs": [],
   "source": []
  }
 ],
 "metadata": {
  "kernelspec": {
   "display_name": "Python [conda env:ironhack]",
   "language": "python",
   "name": "conda-env-ironhack-py"
  },
  "language_info": {
   "codemirror_mode": {
    "name": "ipython",
    "version": 3
   },
   "file_extension": ".py",
   "mimetype": "text/x-python",
   "name": "python",
   "nbconvert_exporter": "python",
   "pygments_lexer": "ipython3",
   "version": "3.7.11"
  }
 },
 "nbformat": 4,
 "nbformat_minor": 5
}
