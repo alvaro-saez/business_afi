{
 "cells": [
  {
   "cell_type": "code",
   "execution_count": 1,
   "id": "127cce9c",
   "metadata": {},
   "outputs": [],
   "source": [
    "import pandas as pd\n",
    "import numpy as np\n",
    "import requests\n",
    "import bs4\n",
    "import re\n",
    "from datetime import datetime\n",
    "pd.set_option('display.max_rows', 1000)\n",
    "pd.options.display.max_colwidth = 1000\n",
    "\n",
    "#to send emails\n",
    "import email, smtplib, ssl\n",
    "from email import encoders\n",
    "from email.mime.base import MIMEBase\n",
    "from email.mime.multipart import MIMEMultipart\n",
    "from email.mime.text import MIMEText\n",
    "\n",
    "#to make the conection with spreadsheets\n",
    "import gspread\n",
    "from google.oauth2.service_account import Credentials\n",
    "\n",
    "#for passwords\n",
    "import os\n",
    "from dotenv import load_dotenv, find_dotenv"
   ]
  },
  {
   "cell_type": "markdown",
   "id": "f30a708d",
   "metadata": {},
   "source": [
    "# A. p_acquisition"
   ]
  },
  {
   "cell_type": "markdown",
   "id": "f9cf6610",
   "metadata": {},
   "source": [
    "### SET THE CREDENTIALS"
   ]
  },
  {
   "cell_type": "code",
   "execution_count": 2,
   "id": "065ef0d0",
   "metadata": {},
   "outputs": [],
   "source": [
    "load_dotenv(find_dotenv(\"../credentials/.env\"))\n",
    "email_key = os.environ.get(\"EMAIL_KEY\") #EMAIL PASSWORD"
   ]
  },
  {
   "cell_type": "markdown",
   "id": "213dd43e",
   "metadata": {},
   "source": [
    "### SET THE URLS IN VARIABLES"
   ]
  },
  {
   "cell_type": "code",
   "execution_count": 3,
   "id": "0366b94e",
   "metadata": {},
   "outputs": [],
   "source": [
    "urls_ergonomia = [\n",
    "\"https://sillasybienestar.com/ergonomia/sillas-ergonomicas/review-individual/tlv-myx-801-1/\",\n",
    "\"https://sillasybienestar.com/ergonomia/sillas-ergonomicas/review-individual/songmics-obn55bk/\",\n",
    "\"https://sillasybienestar.com/ergonomia/sillas-ergonomicas/review-individual/cashoffice-silla-ergonomica/\",\n",
    "\"https://sillasybienestar.com/ergonomia/sillas-ergonomicas/review-individual/cedric/\",\n",
    "\"https://sillasybienestar.com/ergonomia/sillas-ergonomicas/review-individual/noblewell/\",\n",
    "\"https://sillasybienestar.com/ergonomia/sillas-ergonomicas/review-individual/sihoo-lb14/\",\n",
    "\"https://sillasybienestar.com/ergonomia/sillas-ergonomicas/review-individual/ronda-silla-espanola/\",\n",
    "\"https://sillasybienestar.com/ergonomia/sillas-ergonomicas/review-individual/diablo-v-master/\",\n",
    "\"https://sillasybienestar.com/ergonomia/sillas-ergonomicas/review-individual/diablo-v-basic/\",\n",
    "\"https://sillasybienestar.com/ergonomia/sillas-ergonomicas/review-individual/songmics-obn61bkv1/\",\n",
    "\"https://sillasybienestar.com/ergonomia/sillas-ergonomicas/review-individual/hbada-reposapies/\",\n",
    "\"https://sillasybienestar.com/ergonomia/sillas-ergonomicas/review-individual/songmics-obn86bk/\",\n",
    "\"https://sillasybienestar.com/ergonomia/sillas-ergonomicas/review-individual/femor/\",\n",
    "\"https://sillasybienestar.com/ergonomia/sillas-ergonomicas/review-individual/hbada-reposabrazos/\",\n",
    "\"https://sillasybienestar.com/ergonomia/sillas-ergonomicas/review-individual/mfavour/\",\n",
    "\"https://sillasybienestar.com/ergonomia/sillas-ergonomicas/review-individual/umi/\"   \n",
    "]"
   ]
  },
  {
   "cell_type": "code",
   "execution_count": 4,
   "id": "d7389b4c",
   "metadata": {},
   "outputs": [],
   "source": [
    "#If want to add a new URL to the \"ergonomia\" category\n",
    "def new_url_ergo(new_url):\n",
    "    urls_ergonomia.append(new_url)\n",
    "    return \"new url 'ergonomia' added\""
   ]
  },
  {
   "cell_type": "code",
   "execution_count": 5,
   "id": "31433083",
   "metadata": {},
   "outputs": [],
   "source": [
    "urls_oficina = [\n",
    "\"https://sillasybienestar.com/oficina-y-escritorio/sillas-de-oficina/review-individual/songmics-obn52bk/\",\n",
    "\"https://sillasybienestar.com/oficina-y-escritorio/sillas-de-oficina/review-individual/songmics-obn22bk/\",\n",
    "\"https://sillasybienestar.com/oficina-y-escritorio/sillas-de-oficina/review-individual/allguest-cedric/\",\n",
    "\"https://sillasybienestar.com/oficina-y-escritorio/sillas-de-oficina/review-individual/hbada-hdny108bm-eu/\",\n",
    "\"https://sillasybienestar.com/oficina-y-escritorio/sillas-de-oficina/review-individual/intimate-wm-heart-sillon-b07x8tqh96/\",\n",
    "\"https://sillasybienestar.com/oficina-y-escritorio/sillas-de-oficina/review-individual/vinsetto-sillon-de-oficina-azul-claro/\",\n",
    "\"https://sillasybienestar.com/oficina-y-escritorio/sillas-de-oficina/review-individual/exofcer-mc6310/\",\n",
    "\"https://sillasybienestar.com/oficina-y-escritorio/sillas-de-oficina/review-individual/songmics-obg24b/\"\n",
    "]"
   ]
  },
  {
   "cell_type": "code",
   "execution_count": 6,
   "id": "83dd7ef1",
   "metadata": {},
   "outputs": [],
   "source": [
    "#If want to add a new URL to the \"oficina\" category\n",
    "def new_url_oficina(new_url):\n",
    "    urls_oficina.append(new_url)\n",
    "    return \"new url 'oficina' added\""
   ]
  },
  {
   "cell_type": "code",
   "execution_count": 7,
   "id": "9534bd6b",
   "metadata": {},
   "outputs": [],
   "source": [
    "urls_rodilla = [\n",
    "\"https://sillasybienestar.com/ergonomia/sillas-de-rodillas/review-individual/duehome/\",\n",
    "\"https://sillasybienestar.com/ergonomia/sillas-de-rodillas/review-individual/himimi-silla-de-rodillas/\",\n",
    "\"https://sillasybienestar.com/ergonomia/sillas-de-rodillas/review-individual/varier/\",\n",
    "\"https://sillasybienestar.com/ergonomia/sillas-de-rodillas/review-individual/cinius/\"\n",
    "]"
   ]
  },
  {
   "cell_type": "code",
   "execution_count": 8,
   "id": "142002a4",
   "metadata": {},
   "outputs": [],
   "source": [
    "#If want to add a new URL to the \"rodilla\" category\n",
    "def new_url_rodilla(new_url):\n",
    "    urls_rodilla.append(new_url)\n",
    "    return \"new url 'rodilla' added\""
   ]
  },
  {
   "cell_type": "code",
   "execution_count": 9,
   "id": "eeebee12",
   "metadata": {},
   "outputs": [],
   "source": [
    "urls_gaming = [\n",
    "\"https://sillasybienestar.com/gaming/sillas-gaming/review-individual/gtplayer-rosa/\",\n",
    "\"https://sillasybienestar.com/gaming/sillas-gaming/review-individual/diablo-x-gamer-2-0/\",\n",
    "\"https://sillasybienestar.com/gaming/sillas-gaming/review-individual/intimate-wm-heart-silla-gamer-barata/\",\n",
    "\"https://sillasybienestar.com/gaming/sillas-gaming/review-individual/nokaxus-yk-6008-rosa/\",\n",
    "\"https://sillasybienestar.com/gaming/sillas-gaming/review-individual/newskill-nayuki/\",\n",
    "\"https://sillasybienestar.com/gaming/sillas-gaming/review-individual/silla-gamer-bgeu-a136-sencillez-y-buen-precio-ofertas-2021/\",\n",
    "\"https://sillasybienestar.com/gaming/sillas-gaming/review-individual/autofull-pink-bunny/\",\n",
    "\"https://sillasybienestar.com/gaming/sillas-gaming/review-individual/adec-drw/\",\n",
    "\"https://sillasybienestar.com/gaming/sillas-gaming/review-individual/femor-gaming/\",\n",
    "\"https://sillasybienestar.com/gaming/sillas-gaming/review-individual/hbada-gaming-hdjy001bmj-cb/\",\n",
    "\"https://sillasybienestar.com/gaming/sillas-gaming/review-individual/intimate-wm-heart-gaming/\",\n",
    "\"https://sillasybienestar.com/gaming/sillas-gaming/review-individual/corsair-t3-rush/\",\n",
    "\"https://sillasybienestar.com/gaming/sillas-gaming/review-individual/dxracer-king-ks06/\",\n",
    "\"https://sillasybienestar.com/gaming/sillas-gaming/review-individual/diablo-x-horn/\",\n",
    "\"https://sillasybienestar.com/gaming/sillas-gaming/review-individual/diablo-x-ray/\",\n",
    "\"https://sillasybienestar.com/gaming/sillas-gaming/review-individual/dxracer-formula-f08/\",\n",
    "\"https://sillasybienestar.com/gaming/sillas-gaming/review-individual/newskill-kitsune/\",\n",
    "\"https://sillasybienestar.com/gaming/sillas-gaming/review-individual/newskill-takamikura/\"\n",
    "#\"https://sillasybienestar.com/gaming/sillas-gaming/review-individual/songmics-racing/\" - no usamos\n",
    "]"
   ]
  },
  {
   "cell_type": "code",
   "execution_count": 10,
   "id": "d5702dba",
   "metadata": {},
   "outputs": [],
   "source": [
    "#If want to add a new URL to the \"gaming\" category\n",
    "def new_url_gaming(new_url):\n",
    "    urls_gaming.append(new_url)\n",
    "    return \"new url 'gaming' added\""
   ]
  },
  {
   "cell_type": "code",
   "execution_count": 11,
   "id": "3d63b26b",
   "metadata": {},
   "outputs": [],
   "source": [
    "#JOIN all the urls\n",
    "def full_urls(urls_ergonomia, urls_oficina, urls_rodilla, urls_gaming):\n",
    "    urls_products_list_list = urls_ergonomia + urls_oficina + urls_rodilla + urls_gaming\n",
    "    return urls_products_list_list\n",
    "    \n",
    "urls_products_list = full_urls(urls_ergonomia, urls_oficina, urls_rodilla, urls_gaming)"
   ]
  },
  {
   "cell_type": "markdown",
   "id": "113f574b",
   "metadata": {},
   "source": [
    "### web scrapping"
   ]
  },
  {
   "cell_type": "markdown",
   "id": "063b9e55",
   "metadata": {},
   "source": [
    "Obtain the HTML of all our URLs"
   ]
  },
  {
   "cell_type": "code",
   "execution_count": 12,
   "id": "42267bc8",
   "metadata": {},
   "outputs": [],
   "source": [
    "def parsed_content(urls_products_list):\n",
    "    parsed_products_content_list = [bs4.BeautifulSoup(requests.get(i).content, \"html.parser\") for i in urls_products_list]\n",
    "    return parsed_products_content_list\n",
    "\n",
    "parsed_products_content_list = parsed_content(urls_products_list)"
   ]
  },
  {
   "cell_type": "markdown",
   "id": "3a6aa7a2",
   "metadata": {},
   "source": [
    "Obtain the price info of its class"
   ]
  },
  {
   "cell_type": "code",
   "execution_count": 13,
   "id": "c8f24d25",
   "metadata": {},
   "outputs": [],
   "source": [
    "def parsed_price_class(parsed_products_content_list):\n",
    "    parsed_products_price_class = [i.find_all(\"span\",{\"class\":\"aawp-product__price aawp-product__price--current\"})[0].text for i in parsed_products_content_list]\n",
    "    return parsed_products_price_class\n",
    "\n",
    "parsed_products_price_class = parsed_price_class(parsed_products_content_list)"
   ]
  },
  {
   "cell_type": "markdown",
   "id": "2c4ce638",
   "metadata": {},
   "source": [
    "Obtain the final price"
   ]
  },
  {
   "cell_type": "code",
   "execution_count": 14,
   "id": "5157ee13",
   "metadata": {},
   "outputs": [],
   "source": [
    "def product_price(parsed_products_content_list,urls_products_list):\n",
    "    final_price_products_list =[]\n",
    "    for i,e in zip(parsed_products_content_list, range(len(urls_products_list))):\n",
    "        try:\n",
    "            i.find_all(\"div\",{\"class\":\"wp-block-media-text__content\"})[0]\n",
    "            #if it fails the except is executed\n",
    "        except:\n",
    "            if  urls_products_list[e] == \"https://sillasybienestar.com/ergonomia/sillas-ergonomicas/review-individual/mfavour/\":\n",
    "                price_supuesto_0 = i.find_all(\"span\",{\"class\":\"aawp-product__price aawp-product__price--current\"})[0].text\n",
    "                price_supuesto_0_cleaned = re.sub(\"[^\\d|\\,]\",\"\",str(price_supuesto_0)).replace(\",\",\".\")\n",
    "                final_price_products_list.append(float(price_supuesto_0_cleaned))\n",
    "            else:\n",
    "                final_price_products_list.append(-1)\n",
    "                print(\"revisar funcion price, valor con -1\")\n",
    "        else:\n",
    "            if i.find_all(\"div\",{\"class\":\"wp-block-media-text__content\"})[0].text.strip() == \"No products found.\":\n",
    "                final_price_products_list.append(0)\n",
    "            elif i.find_all(\"span\",{\"class\":\"aawp-product__price aawp-product__price--current\"})[0].text == \"\":\n",
    "                final_price_products_list.append(0)\n",
    "            elif i.find_all(\"span\",{\"class\":\"aawp-product__price aawp-product__price--current\"})[0].text != \"\":\n",
    "                price_supuesto_1 = i.find_all(\"span\",{\"class\":\"aawp-product__price aawp-product__price--current\"})[0].text\n",
    "                price_supuesto_1_cleaned = re.sub(\"[^\\d|\\,]\",\"\",str(price_supuesto_1)).replace(\",\",\".\")\n",
    "                final_price_products_list.append(float(price_supuesto_1_cleaned))\n",
    "            else:\n",
    "                print(\"revisar funcion price\")\n",
    "    return final_price_products_list\n",
    "\n",
    "final_price_products_list = product_price(parsed_products_content_list,urls_products_list)"
   ]
  },
  {
   "cell_type": "markdown",
   "id": "be0ddc7c",
   "metadata": {},
   "source": [
    "Obtain if the product is out of stock or discontinued"
   ]
  },
  {
   "cell_type": "code",
   "execution_count": 15,
   "id": "a7cf2b34",
   "metadata": {},
   "outputs": [],
   "source": [
    "def product_status(parsed_products_content_list,urls_products_list):\n",
    "    final_price_products_status =[]\n",
    "    for i,e in zip(parsed_products_content_list, range(len(urls_products_list))):\n",
    "        try:\n",
    "            i.find_all(\"div\",{\"class\":\"wp-block-media-text__content\"})[0]\n",
    "            #if it fails the except is executed\n",
    "        except:\n",
    "            if  urls_products_list[e] == \"https://sillasybienestar.com/ergonomia/sillas-ergonomicas/review-individual/mfavour/\":\n",
    "                final_price_products_status.append(\"correcto\")\n",
    "            else:\n",
    "                print(\"revisar funcion price, valor con -1\")\n",
    "                final_price_products_status.append(\"revisar\")\n",
    "        else:\n",
    "            if i.find_all(\"div\",{\"class\":\"wp-block-media-text__content\"})[0].text.strip() == \"No products found.\":\n",
    "                final_price_products_status.append(\"descatalogado\")\n",
    "            elif i.find_all(\"span\",{\"class\":\"aawp-product__price aawp-product__price--current\"})[0].text == \"\":\n",
    "                final_price_products_status.append(\"sin_stock\")\n",
    "            elif i.find_all(\"span\",{\"class\":\"aawp-product__price aawp-product__price--current\"})[0].text != \"\":\n",
    "                final_price_products_status.append(\"correcto\")\n",
    "            else:\n",
    "                print(\"revisar funcion price\")\n",
    "    return final_price_products_status\n",
    "\n",
    "final_price_products_status = product_status(parsed_products_content_list,urls_products_list)"
   ]
  },
  {
   "cell_type": "markdown",
   "id": "49988b03",
   "metadata": {},
   "source": [
    "Create a function to handle possible erros in the product information"
   ]
  },
  {
   "cell_type": "code",
   "execution_count": 16,
   "id": "b31007a4",
   "metadata": {},
   "outputs": [],
   "source": [
    "def handling_error_vars_product(i,text):\n",
    "    try:\n",
    "        str(i).split(text)[1]\n",
    "    except:\n",
    "        return \"none\"\n",
    "    else:\n",
    "        return str(i).split(text)[1].split(\"';\")[0].strip()"
   ]
  },
  {
   "cell_type": "markdown",
   "id": "75553523",
   "metadata": {},
   "source": [
    "Obtain the NAME of the different products"
   ]
  },
  {
   "cell_type": "code",
   "execution_count": 17,
   "id": "72d0cf18",
   "metadata": {},
   "outputs": [],
   "source": [
    "def product_name(parsed_products_content_list):\n",
    "    \n",
    "    def handling_error_vars_product(i,text):\n",
    "        try:\n",
    "            str(i).split(text)[1]\n",
    "        except:\n",
    "            return \"none\"\n",
    "        else:\n",
    "            return str(i).split(text)[1].split(\"';\")[0].strip()\n",
    "    \n",
    "    final_name_products = [handling_error_vars_product(i,\"ficha_product_name='\") for i in parsed_products_content_list]\n",
    "    return final_name_products\n",
    "\n",
    "final_name_products = product_name(parsed_products_content_list)"
   ]
  },
  {
   "cell_type": "markdown",
   "id": "a355de85",
   "metadata": {},
   "source": [
    "Obtain the ID of the different products"
   ]
  },
  {
   "cell_type": "code",
   "execution_count": 18,
   "id": "6e5ec3de",
   "metadata": {},
   "outputs": [],
   "source": [
    "def product_id(parsed_products_content_list):\n",
    "\n",
    "    def handling_error_vars_product(i,text):\n",
    "        try:\n",
    "            str(i).split(text)[1]\n",
    "        except:\n",
    "            return \"none\"\n",
    "        else:\n",
    "            return str(i).split(text)[1].split(\"';\")[0].strip()\n",
    "        \n",
    "    final_id_products = [handling_error_vars_product(i,\"ficha_product_id='\") for i in parsed_products_content_list]\n",
    "    return final_id_products\n",
    "\n",
    "final_id_products = product_id(parsed_products_content_list)"
   ]
  },
  {
   "cell_type": "markdown",
   "id": "b8106fdc",
   "metadata": {},
   "source": [
    "Obtain the BRAND of the different products"
   ]
  },
  {
   "cell_type": "code",
   "execution_count": 19,
   "id": "29317b02",
   "metadata": {},
   "outputs": [],
   "source": [
    "def product_brand(parsed_products_content_list):\n",
    "\n",
    "    def handling_error_vars_product(i,text):\n",
    "        try:\n",
    "            str(i).split(text)[1]\n",
    "        except:\n",
    "            return \"none\"\n",
    "        else:\n",
    "            return str(i).split(text)[1].split(\"';\")[0].strip()\n",
    "    \n",
    "    final_brand_products = [handling_error_vars_product(i,\"ficha_product_brand='\") for i in parsed_products_content_list]\n",
    "    return final_brand_products\n",
    "\n",
    "final_brand_products = product_brand(parsed_products_content_list)"
   ]
  },
  {
   "cell_type": "markdown",
   "id": "e6438bee",
   "metadata": {},
   "source": [
    "Obtain the DATE of the current day in different formats"
   ]
  },
  {
   "cell_type": "markdown",
   "id": "3ebc154c",
   "metadata": {},
   "source": [
    "1. With HYPHEN. Ex: 2022-04-14"
   ]
  },
  {
   "cell_type": "code",
   "execution_count": 20,
   "id": "2c2f059d",
   "metadata": {},
   "outputs": [],
   "source": [
    "def product_date_hyphen(urls_products_list):\n",
    "\n",
    "    def handling_error_vars_product(i,text):\n",
    "        try:\n",
    "            str(i).split(text)[1]\n",
    "        except:\n",
    "            return \"none\"\n",
    "        else:\n",
    "            return str(i).split(text)[1].split(\"';\")[0].strip()\n",
    "        \n",
    "    final_date_hyphen_products = [datetime.today().strftime('%Y-%m-%d') for i in range(len(urls_products_list))]\n",
    "    return final_date_hyphen_products\n",
    "\n",
    "final_date_hyphen_products = product_date_hyphen(urls_products_list)"
   ]
  },
  {
   "cell_type": "markdown",
   "id": "6c6a492d",
   "metadata": {},
   "source": [
    "2. With SLASH. Ex: 2022/04/14"
   ]
  },
  {
   "cell_type": "code",
   "execution_count": 21,
   "id": "d6d0c5e4",
   "metadata": {},
   "outputs": [],
   "source": [
    "def product_date_slash(urls_products_list):\n",
    "\n",
    "    def handling_error_vars_product(i,text):\n",
    "        try:\n",
    "            str(i).split(text)[1]\n",
    "        except:\n",
    "            return \"none\"\n",
    "        else:\n",
    "            return str(i).split(text)[1].split(\"';\")[0].strip()\n",
    "        \n",
    "    final_date_slash_products = [datetime.today().strftime('%Y/%m/%d') for i in range(len(urls_products_list))]\n",
    "    return final_date_slash_products\n",
    "\n",
    "final_date_slash_products = product_date_slash(urls_products_list)"
   ]
  },
  {
   "cell_type": "markdown",
   "id": "f89f4ab1",
   "metadata": {},
   "source": [
    "3. Without symbols. Ex: 20220414"
   ]
  },
  {
   "cell_type": "code",
   "execution_count": 22,
   "id": "7ea33e54",
   "metadata": {},
   "outputs": [],
   "source": [
    "def product_date_number(urls_products_list):\n",
    "\n",
    "    def handling_error_vars_product(i,text):\n",
    "        try:\n",
    "            str(i).split(text)[1]\n",
    "        except:\n",
    "            return \"none\"\n",
    "        else:\n",
    "            return str(i).split(text)[1].split(\"';\")[0].strip()\n",
    "        \n",
    "    final_date_number_products = [int(datetime.today().strftime('%Y%m%d')) for i in range(len(urls_products_list))]\n",
    "    return final_date_number_products\n",
    "\n",
    "final_date_number_products = product_date_number(urls_products_list)"
   ]
  },
  {
   "cell_type": "markdown",
   "id": "c7aff0a8",
   "metadata": {},
   "source": [
    "# B. p_wrangling"
   ]
  },
  {
   "cell_type": "markdown",
   "id": "82ef17ba",
   "metadata": {},
   "source": [
    "## Create the DATAFRAME"
   ]
  },
  {
   "cell_type": "markdown",
   "id": "e58731bf",
   "metadata": {},
   "source": [
    "### a) Full DataFrame with a daily injection of the new scraped data"
   ]
  },
  {
   "cell_type": "code",
   "execution_count": 23,
   "id": "4c8aeef0",
   "metadata": {},
   "outputs": [
    {
     "name": "stdout",
     "output_type": "stream",
     "text": [
      "spreadsheet conection done\n"
     ]
    }
   ],
   "source": [
    "def conection_spreadsheet(scopes, credentials_location):\n",
    "    scopes = scopes\n",
    "    credentials = Credentials.from_service_account_file(\n",
    "        credentials_location,\n",
    "        scopes=scopes\n",
    "    )\n",
    "    gc = gspread.authorize(credentials)\n",
    "    #If we want to host our credentials in a server we have to do the next code:\n",
    "    # gc = gspread.service_account(filename='https://www.path/to/the/downloaded/file.json')\n",
    "    print(\"spreadsheet conection done\")\n",
    "    return gc\n",
    "\n",
    "gc = conection_spreadsheet([\"https://spreadsheets.google.com/feeds\",\n",
    "         'https://www.googleapis.com/auth/spreadsheets',\n",
    "         \"https://www.googleapis.com/auth/drive.file\",\n",
    "         \"https://www.googleapis.com/auth/drive\"], '../credentials/credentials.json')"
   ]
  },
  {
   "cell_type": "markdown",
   "id": "16f8715a",
   "metadata": {},
   "source": [
    "#### Step 1: Create or define the dataFrame\n",
    "\n",
    " - From a CSV if it exists\n",
    " - If not, from spreadsheets\n",
    " - If not, from this notebook\n",
    " - If not, we have to create a empty dataFrame"
   ]
  },
  {
   "cell_type": "code",
   "execution_count": 24,
   "id": "32133a3c",
   "metadata": {},
   "outputs": [
    {
     "name": "stdout",
     "output_type": "stream",
     "text": [
      "df_single created through csv\n"
     ]
    }
   ],
   "source": [
    "def main_df(location,gc):\n",
    "#1. From a CSV if it exists\n",
    "    try:\n",
    "        df_single = pd.read_csv(location)\n",
    "        print(\"df_single created through csv\")\n",
    "        return df_single\n",
    "    \n",
    "#2. If not, from spreadsheets    \n",
    "    except: #if the except is executed, the try has given an error, so it does not exist in csv (we use the spreadsheets backup)   \n",
    "        try:\n",
    "            sheet = gc.open(\"business_afi_scraping_df_single\").sheet1  #Abrir spreadhseet\n",
    "            data_from_spreadsheets = sheet.get_all_records()  #Obtener todos los registros\n",
    "            df_single = pd.DataFrame(data_from_spreadsheets)\n",
    "            print(\"df_single created through spreadsheet\")\n",
    "            return df_single\n",
    "        \n",
    "#3. If not, from this notebook\n",
    "        except: #if the except is executed, the try has given an error, so let's see if it was already created in the notebook       \n",
    "            try:\n",
    "                df_single.head()\n",
    "                print(\"df_single created through this notebook\")\n",
    "                return df_single\n",
    "            \n",
    "#4. If not, we have to create a empty dataFrame\n",
    "            except: #if it gives an error, it does not exist in the notebook and we will create it from scratch\n",
    "                columns = [\"date_hyphen\",\"date_slash\",\"date_number\",\"product_name\",\"product_id\",\"product_brand\",\"price\",\"status\",\"url\"]\n",
    "                df_single = pd.DataFrame(columns=columns)\n",
    "                print(\"df_single created through zero\")\n",
    "                return df_single\n",
    "            else: #if there is no error, it exists in the notebook and we will do nothing\n",
    "                pass\n",
    "            \n",
    "        else: #if it doesn't give an error, it exists in spreadsheets and we won't do anything\n",
    "            pass\n",
    "            \n",
    "    else: #f it doesn't give an error, it exists in csv and we won't do anything\n",
    "        pass\n",
    "\n",
    "df_single = main_df(\"../files/df_single.csv\",gc)"
   ]
  },
  {
   "cell_type": "markdown",
   "id": "f784fb5b",
   "metadata": {},
   "source": [
    "#### Step 2: Append new records in the df_single dataFrame - pd.concat()"
   ]
  },
  {
   "cell_type": "code",
   "execution_count": 25,
   "id": "31cb3825",
   "metadata": {},
   "outputs": [],
   "source": [
    "def df_append_new_files(final_date_hyphen_products,final_date_slash_products,final_date_number_products,final_name_products,final_id_products,final_brand_products,final_price_products_list,final_price_products_status,urls_products_list):\n",
    "    df_append_new_files = pd.DataFrame({\n",
    "        \"date_hyphen\":final_date_hyphen_products,\n",
    "        \"date_slash\":final_date_slash_products,\n",
    "        \"date_number\":final_date_number_products,\n",
    "        \"product_name\":final_name_products,\n",
    "        \"product_id\":final_id_products,\n",
    "        \"product_brand\":final_brand_products,\n",
    "        \"price\":final_price_products_list,\n",
    "        \"status\":final_price_products_status,\n",
    "        \"url\": urls_products_list\n",
    "    })\n",
    "    df_append_new_files[\"price\"] = df_append_new_files[\"price\"].astype(\"int64\")\n",
    "    \n",
    "    return df_append_new_files\n",
    "\n",
    "df_append_new_files = df_append_new_files(final_date_hyphen_products,final_date_slash_products,final_date_number_products,final_name_products,final_id_products,final_brand_products,final_price_products_list,final_price_products_status,urls_products_list)"
   ]
  },
  {
   "cell_type": "code",
   "execution_count": 26,
   "id": "94015d3c",
   "metadata": {},
   "outputs": [],
   "source": [
    "def concat_df(df_single,df_append_new_files):\n",
    "    if df_single.empty == True:\n",
    "        df_single = pd.concat([df_single, df_append_new_files], ignore_index=True)\n",
    "        return df_single\n",
    "    elif df_append_new_files[\"date_hyphen\"][0] == df_single[\"date_hyphen\"][len(df_single)-1]:\n",
    "        return df_single\n",
    "    elif df_append_new_files[\"date_hyphen\"][0] != df_single[\"date_hyphen\"][len(df_single)-1]:\n",
    "        df_single = pd.concat([df_single, df_append_new_files], ignore_index=True)\n",
    "        return df_single\n",
    "    \n",
    "df_single = concat_df(df_single,df_append_new_files)"
   ]
  },
  {
   "cell_type": "markdown",
   "id": "a7d5d73f",
   "metadata": {},
   "source": [
    "### b) Clean and Prepare the dataFrame"
   ]
  },
  {
   "cell_type": "code",
   "execution_count": 27,
   "id": "fda3b008",
   "metadata": {},
   "outputs": [],
   "source": [
    "def corregir_gam_name(url,product_name):\n",
    "    if url == \"https://sillasybienestar.com/gaming/sillas-gaming/review-individual/intimate-wm-heart-gaming/\" and product_name == \"none\":\n",
    "        return \"intimate wm heat  Racing Silla Gamer\"\n",
    "    else:\n",
    "        return product_name\n",
    "        \n",
    "def corregir_gam_id(url,product_id):\n",
    "    if url == \"https://sillasybienestar.com/gaming/sillas-gaming/review-individual/intimate-wm-heart-gaming/\" and product_id == \"none\":\n",
    "        return \"B075CK3GVJ\"\n",
    "    else:\n",
    "        return product_id\n",
    "        \n",
    "def corregir_gam_brand(url,product_brand):\n",
    "    if url == \"https://sillasybienestar.com/gaming/sillas-gaming/review-individual/intimate-wm-heart-gaming/\" and product_brand == \"none\":\n",
    "        return \"intimate wm heat\"\n",
    "    else:\n",
    "        return product_brand\n",
    "\n",
    "    \n",
    "def corregir_gam_name_hbada_rep(url,product_name):\n",
    "    if url == \"https://sillasybienestar.com/ergonomia/sillas-ergonomicas/review-individual/hbada-reposabrazos/\" and product_name == \"none\":\n",
    "        return \"Hbada B07V51M94R\"\n",
    "    else:\n",
    "        return product_name\n",
    "        \n",
    "def corregir_gam_id_hbada_rep(url,product_id):\n",
    "    if url == \"https://sillasybienestar.com/ergonomia/sillas-ergonomicas/review-individual/hbada-reposabrazos/\" and product_id == \"none\":\n",
    "        return \"B07V51M94R\"\n",
    "    else:\n",
    "        return product_id\n",
    "        \n",
    "def corregir_gam_brand_hbada_rep(url,product_brand):\n",
    "    if url == \"https://sillasybienestar.com/ergonomia/sillas-ergonomicas/review-individual/hbada-reposabrazos/\" and product_brand == \"none\":\n",
    "        return \"Hbada\"\n",
    "    else:\n",
    "        return product_brand"
   ]
  },
  {
   "cell_type": "code",
   "execution_count": 28,
   "id": "f84afb7c",
   "metadata": {},
   "outputs": [],
   "source": [
    "def correction_df_single(df_single):\n",
    "    #intimate wm heat  Racing Silla Gamer\n",
    "    df_single[\"product_name\"] = df_single.apply(lambda df_single: corregir_gam_name(df_single[\"url\"], df_single[\"product_name\"]), axis=1)\n",
    "    df_single[\"product_id\"] = df_single.apply(lambda df_single: corregir_gam_id(df_single[\"url\"], df_single[\"product_id\"]), axis=1)\n",
    "    df_single[\"product_brand\"] = df_single.apply(lambda df_single: corregir_gam_brand(df_single[\"url\"], df_single[\"product_brand\"]), axis=1)\n",
    "\n",
    "    #Hbada B07V51M94R\n",
    "    df_single[\"product_name\"] = df_single.apply(lambda df_single: corregir_gam_name_hbada_rep(df_single[\"url\"], df_single[\"product_name\"]), axis=1)\n",
    "    df_single[\"product_id\"] = df_single.apply(lambda df_single: corregir_gam_id_hbada_rep(df_single[\"url\"], df_single[\"product_id\"]), axis=1)\n",
    "    df_single[\"product_brand\"] = df_single.apply(lambda df_single: corregir_gam_brand_hbada_rep(df_single[\"url\"], df_single[\"product_brand\"]), axis=1)\n",
    "\n",
    "    return df_single\n",
    "\n",
    "df_single = correction_df_single(df_single)"
   ]
  },
  {
   "cell_type": "markdown",
   "id": "00a4044c",
   "metadata": {},
   "source": [
    "### c) Create the price main of each product"
   ]
  },
  {
   "cell_type": "code",
   "execution_count": 29,
   "id": "866b8056",
   "metadata": {},
   "outputs": [],
   "source": [
    "def product_mean_dic(df_single):\n",
    "    product_id_list_mean = df_single[\"product_id\"].unique().tolist()\n",
    "    mean_dic = {}\n",
    "    for i in product_id_list_mean:\n",
    "        mean_dic[i] = int(round(df_single[df_single[\"product_id\"] == i][\"price\"].mean(),0))\n",
    "    return mean_dic\n",
    "\n",
    "product_mean = product_mean_dic(df_single### b) Clean and Prepare the dataFrame\n",
    ")"
   ]
  },
  {
   "cell_type": "code",
   "execution_count": 30,
   "id": "763a0f45",
   "metadata": {},
   "outputs": [],
   "source": [
    "def product_mean_dic_to_df(df_single,product_mean):\n",
    "    df_single[\"product_mean\"] = df_single[\"product_id\"].apply(lambda x: product_mean[x])\n",
    "    return df_single\n",
    "\n",
    "df_single = product_mean_dic_to_df(df_single,product_mean)"
   ]
  },
  {
   "cell_type": "code",
   "execution_count": 31,
   "id": "a99673e3",
   "metadata": {},
   "outputs": [],
   "source": [
    "def product_mean_status_func_values(product_price,product_mean):\n",
    "    if product_price < product_mean and product_price > 0:\n",
    "        return \"precio por debajo de la media\"\n",
    "    elif product_price > product_mean and product_price > 0:\n",
    "        return \"precio por encima de la media\"\n",
    "    elif product_price == product_mean and product_price > 0:\n",
    "        return \"precio igual que la media\"\n",
    "    elif product_price == 0:\n",
    "        return \"producto descatalogado o sin stock\"\n",
    "    else:\n",
    "        return \"revisar, aviso\""
   ]
  },
  {
   "cell_type": "code",
   "execution_count": 32,
   "id": "701b51f7",
   "metadata": {},
   "outputs": [],
   "source": [
    "def product_mean_status_func_apply(df_single):\n",
    "    df_single[\"product_mean_status\"] = df_single.apply(lambda x: product_mean_status_func_values(x[\"price\"], x[\"product_mean\"]), axis=1)\n",
    "    return df_single\n",
    "\n",
    "df_single = product_mean_status_func_apply(df_single)"
   ]
  },
  {
   "cell_type": "code",
   "execution_count": 33,
   "id": "4b30d141",
   "metadata": {},
   "outputs": [],
   "source": [
    "def categories_url(product_url):\n",
    "    if \"/ergonomia/sillas-ergonomicas/review-individual/\" in product_url:\n",
    "        return \"ergonomia\"\n",
    "    elif \"/oficina-y-escritorio/sillas-de-oficina/review-individual/\" in product_url:\n",
    "        return \"oficina\"\n",
    "    elif \"/ergonomia/sillas-de-rodillas/review-individual/\" in product_url:\n",
    "        return \"rodilla\"\n",
    "    elif \"/gaming/sillas-gaming/review-individual/\" in product_url:\n",
    "        return \"gaming\"\n",
    "    else:\n",
    "        return \"alerta sin categoria\""
   ]
  },
  {
   "cell_type": "code",
   "execution_count": 34,
   "id": "5fbf641a",
   "metadata": {},
   "outputs": [],
   "source": [
    "def product_category(df_single):\n",
    "    df_single[\"product_category\"] = df_single[\"url\"].apply(categories_url)\n",
    "    return df_single\n",
    "\n",
    "df_single = product_category(df_single)"
   ]
  },
  {
   "cell_type": "markdown",
   "id": "23a18596",
   "metadata": {},
   "source": [
    "### e) Create a \"count\" column"
   ]
  },
  {
   "cell_type": "code",
   "execution_count": 35,
   "id": "98ac4403",
   "metadata": {},
   "outputs": [],
   "source": [
    "def product_count(df_single):\n",
    "    df_single[\"product_count\"] = 1\n",
    "    return df_single\n",
    "\n",
    "df_single = product_count(df_single)"
   ]
  },
  {
   "cell_type": "markdown",
   "id": "55532e1e",
   "metadata": {},
   "source": [
    "## EXPORT the dataFrames to CSVs"
   ]
  },
  {
   "cell_type": "code",
   "execution_count": 36,
   "id": "c06e4a95",
   "metadata": {},
   "outputs": [
    {
     "data": {
      "text/plain": [
       "'files exported successfully'"
      ]
     },
     "execution_count": 36,
     "metadata": {},
     "output_type": "execute_result"
    }
   ],
   "source": [
    "def export_files(df_single, df_append_new_files):\n",
    "    df_single_to_csv = df_single.to_csv(\"../files/df_single.csv\", sep=\",\", index=False)\n",
    "    df_append_new_files_to_csv = df_append_new_files.to_csv(\"../files/df_append_new_files_last_day.csv\", sep=\",\", index=False)#+str(datetime.today().strftime('%Y-%m-%d'))+\".csv\", sep=\",\", index=False)\n",
    "    out_of_stock_df = df_append_new_files[df_append_new_files[\"status\"] != \"correcto\"]\n",
    "    out_of_stock_df_to_csv = out_of_stock_df.to_csv(\"../files/out_of_stock_last_day.csv\", sep=\",\", index=False)\n",
    "    \n",
    "    none_values = df_single[df_single[\"product_name\"]==\"none\"].any().unique().tolist()\n",
    "    if none_values == [True]:\n",
    "        none_values_df = df_single[df_single[\"product_name\"]==\"none\"]\n",
    "        none_values_df_to_csv = none_values_df.to_csv(\"../files/non_values_last_day.csv\", sep=\",\", index=False)\n",
    "    \n",
    "    return \"files exported successfully\"\n",
    "\n",
    "export = export_files(df_single, df_append_new_files)\n",
    "export"
   ]
  },
  {
   "cell_type": "markdown",
   "id": "fc96dbb6",
   "metadata": {},
   "source": [
    "# C. p_analysis"
   ]
  },
  {
   "cell_type": "markdown",
   "id": "4d1bda97",
   "metadata": {},
   "source": [
    "We are going to study the values looking for errors to create alerts via email"
   ]
  },
  {
   "cell_type": "markdown",
   "id": "572ce91e",
   "metadata": {},
   "source": [
    "### - EMAIL ALERTS"
   ]
  },
  {
   "cell_type": "code",
   "execution_count": 37,
   "id": "e50a1189",
   "metadata": {},
   "outputs": [],
   "source": [
    "def business_afi_email_sender(receiver_email, filename_location, csv_name, body_email, email_key):\n",
    "\n",
    "    subject = \"sillas y bienestar | \"+ csv_name + \" | \" + str(datetime.today().strftime('%Y-%m-%d'))\n",
    "    body = body_email \n",
    "    sender_email = \"businessafiliacion@gmail.com\"\n",
    "    receiver_email = receiver_email\n",
    "    password = email_key\n",
    "    \n",
    "    # Create a multipart message and set headers\n",
    "    message = MIMEMultipart()\n",
    "    message[\"From\"] = sender_email\n",
    "    message[\"To\"] = receiver_email\n",
    "    message[\"Subject\"] = subject\n",
    "    message[\"Bcc\"] = receiver_email  # Recommended for mass emails\n",
    "    \n",
    "    # Add body to email\n",
    "    message.attach(MIMEText(body, \"plain\"))\n",
    "    \n",
    "    filename = filename_location\n",
    "    \n",
    "    # Open PDF file in binary mode\n",
    "    with open(filename, \"rb\") as attachment:\n",
    "        # Add file as application/octet-stream\n",
    "        # Email client can usually download this automatically as attachment\n",
    "        part = MIMEBase(\"application\", \"octet-stream\")\n",
    "        part.set_payload(attachment.read())\n",
    "    \n",
    "    # Encode file in ASCII characters to send by email    \n",
    "    encoders.encode_base64(part)\n",
    "    \n",
    "    # Add header as key/value pair to attachment part\n",
    "    part.add_header(\n",
    "        \"Content-Disposition\",\n",
    "        f\"attachment; filename= {filename}\",\n",
    "    )     \n",
    "    \n",
    "    # Add attachment to message and convert message to string\n",
    "    message.attach(part)\n",
    "    text = message.as_string()\n",
    "\n",
    "    # Log in to server using secure context and send email\n",
    "    context = ssl.create_default_context()\n",
    "    with smtplib.SMTP_SSL(\"smtp.gmail.com\", 465, context=context) as server:\n",
    "        server.login(sender_email, password)\n",
    "        server.sendmail(sender_email, receiver_email, text)\n",
    "        \n",
    "    return \"email \" + csv_name + \" sended\""
   ]
  },
  {
   "cell_type": "markdown",
   "id": "03edc644",
   "metadata": {},
   "source": [
    "#### 1) out of stock or discontinued"
   ]
  },
  {
   "cell_type": "code",
   "execution_count": 38,
   "id": "c4f0d10a",
   "metadata": {},
   "outputs": [
    {
     "data": {
      "text/plain": [
       "'email out_of_stock_last_day.csv sended'"
      ]
     },
     "execution_count": 38,
     "metadata": {},
     "output_type": "execute_result"
    }
   ],
   "source": [
    "business_afi_email_sender(\"businessafiliacion@gmail.com\",\"../files/out_of_stock_last_day.csv\", \"out_of_stock_last_day.csv\", \"CSV con productos descatalogados o fuera de stock\",email_key)"
   ]
  },
  {
   "cell_type": "markdown",
   "id": "c2c16434",
   "metadata": {},
   "source": [
    "#### 2) none values"
   ]
  },
  {
   "cell_type": "code",
   "execution_count": 39,
   "id": "cde52020",
   "metadata": {},
   "outputs": [],
   "source": [
    "def email_none_values(df_single, df_append_new_files,email_key):\n",
    "    none_values = df_single[df_single[\"product_name\"]==\"none\"].any().unique().tolist()\n",
    "    if none_values == [True]:       \n",
    "        business_afi_email_sender(\"businessafiliacion@gmail.com\", \"../files/non_values_last_day.csv\", \"non_values_last_day.csv\", \"CSV con valores none\",email_key)       \n",
    "        return \"ALERT ALVARO, exists none values\"\n",
    "    else:\n",
    "        return \"does not exist none values\""
   ]
  },
  {
   "cell_type": "code",
   "execution_count": 40,
   "id": "b97f407e",
   "metadata": {},
   "outputs": [
    {
     "data": {
      "text/plain": [
       "'does not exist none values'"
      ]
     },
     "execution_count": 40,
     "metadata": {},
     "output_type": "execute_result"
    }
   ],
   "source": [
    "email_none_values(df_single, df_append_new_files,email_key)"
   ]
  },
  {
   "cell_type": "markdown",
   "id": "4666f197",
   "metadata": {},
   "source": [
    "#### 3) send the csv to have a backup"
   ]
  },
  {
   "cell_type": "code",
   "execution_count": 41,
   "id": "580352ea",
   "metadata": {},
   "outputs": [
    {
     "data": {
      "text/plain": [
       "'email df_single.csv sended'"
      ]
     },
     "execution_count": 41,
     "metadata": {},
     "output_type": "execute_result"
    }
   ],
   "source": [
    "business_afi_email_sender(\"businessafiliacion@gmail.com\", \"../files/df_single.csv\", \"df_single.csv\", \"CSV PRINCIPAL como backup con el dataframe diario con todos los datos en formato csv\",email_key)"
   ]
  },
  {
   "cell_type": "code",
   "execution_count": 42,
   "id": "12f62e46",
   "metadata": {},
   "outputs": [
    {
     "data": {
      "text/plain": [
       "'email df_append_new_files_last_day.csv sended'"
      ]
     },
     "execution_count": 42,
     "metadata": {},
     "output_type": "execute_result"
    }
   ],
   "source": [
    "business_afi_email_sender(\"businessafiliacion@gmail.com\", \"../files/df_append_new_files_last_day.csv\", \"df_append_new_files_last_day.csv\", \"CSV CON DATOS DEL DIA como backup con el dataframe diario en formato csv\",email_key)"
   ]
  },
  {
   "cell_type": "markdown",
   "id": "1ca0d4a8",
   "metadata": {},
   "source": [
    "# D. p_reporting"
   ]
  },
  {
   "cell_type": "markdown",
   "id": "c438c076",
   "metadata": {},
   "source": [
    "We are going to send the different DataFrames to spreadsheet\n",
    "\n",
    "#### INDEX LIBRARY\n",
    "https://docs.gspread.org/en/latest/\n",
    "\n",
    "#### USER GUIDE\n",
    "https://docs.gspread.org/en/latest/user-guide.html"
   ]
  },
  {
   "cell_type": "markdown",
   "id": "1c28b01f",
   "metadata": {},
   "source": [
    "The conection has been done in the \"p_wrangling\" module. The output is located in the variable \"gc\""
   ]
  },
  {
   "cell_type": "code",
   "execution_count": 43,
   "id": "32da840f",
   "metadata": {},
   "outputs": [],
   "source": [
    "def update_spreadsheet(gc, spreadsheet_name, worksheet_name, dataframe):\n",
    "    #Open the spreadhseet\n",
    "    sheet = gc.open(spreadsheet_name).worksheet(worksheet_name)\n",
    "    \n",
    "    #Clear and Update the Worksheet\n",
    "    sheet.clear()\n",
    "    sheet.update('A1:M1',[dataframe.columns.tolist()])\n",
    "    sheet.update('A2:M' + str(len(dataframe)+1), dataframe.values.tolist())\n",
    "    \n",
    "    return \"worksheet updated\""
   ]
  },
  {
   "cell_type": "code",
   "execution_count": 44,
   "id": "55a7be00",
   "metadata": {},
   "outputs": [
    {
     "data": {
      "text/plain": [
       "'worksheet updated'"
      ]
     },
     "execution_count": 44,
     "metadata": {},
     "output_type": "execute_result"
    }
   ],
   "source": [
    "#sheet1 - df_single\n",
    "update_spreadsheet(gc, \"business_afi_scraping_df_single\", \"df_single\", df_single)"
   ]
  },
  {
   "cell_type": "code",
   "execution_count": 45,
   "id": "fcf7cc22",
   "metadata": {},
   "outputs": [
    {
     "data": {
      "text/plain": [
       "'worksheet updated'"
      ]
     },
     "execution_count": 45,
     "metadata": {},
     "output_type": "execute_result"
    }
   ],
   "source": [
    "#sheet2 - df_append_new_files\n",
    "update_spreadsheet(gc, \"business_afi_scraping_last_day_files\", \"df_append_new_files\", df_append_new_files)"
   ]
  },
  {
   "cell_type": "code",
   "execution_count": 46,
   "id": "aed88d79",
   "metadata": {},
   "outputs": [
    {
     "data": {
      "text/plain": [
       "'worksheet updated'"
      ]
     },
     "execution_count": 46,
     "metadata": {},
     "output_type": "execute_result"
    }
   ],
   "source": [
    "#sheet3 - out_of_stock_df\n",
    "def out_of_stock_spreadsheet(df_append_new_files,gc):\n",
    "    out_of_stock_df = df_append_new_files[df_append_new_files[\"status\"] != \"correcto\"]\n",
    "    update_spreadsheet(gc, \"business_afi_scraping_last_day_files\", \"out_of_stock_df\", out_of_stock_df)\n",
    "    \n",
    "    return \"worksheet updated\"\n",
    "out_of_stock_spreadsheet(df_append_new_files,gc)"
   ]
  },
  {
   "cell_type": "code",
   "execution_count": 47,
   "id": "2bc9dec4",
   "metadata": {},
   "outputs": [
    {
     "data": {
      "text/plain": [
       "'worksheet updated, but there is no any none value'"
      ]
     },
     "execution_count": 47,
     "metadata": {},
     "output_type": "execute_result"
    }
   ],
   "source": [
    "#sheet4 - none_values_df\n",
    "def non_values_spreadsheet(df_single):\n",
    "    none_values = df_single[df_single[\"product_name\"]==\"none\"].any().unique().tolist()\n",
    "    if none_values == [True]:\n",
    "        none_values_df = df_single[df_single[\"product_name\"]==\"none\"]\n",
    "        update_spreadsheet(gc, \"business_afi_scraping_last_day_files\", \"none_values_df\", none_values_df)\n",
    "        \n",
    "        return \"worksheet updated\"\n",
    "    else:\n",
    "        return \"worksheet updated, but there is no any none value\"\n",
    "    \n",
    "non_values_spreadsheet(df_single)"
   ]
  },
  {
   "cell_type": "code",
   "execution_count": 48,
   "id": "d5942248",
   "metadata": {},
   "outputs": [],
   "source": [
    "#df_single.head()"
   ]
  },
  {
   "cell_type": "code",
   "execution_count": 49,
   "id": "1be35915",
   "metadata": {},
   "outputs": [],
   "source": [
    "#df_single.tail(5)"
   ]
  },
  {
   "cell_type": "code",
   "execution_count": 50,
   "id": "cea939b8",
   "metadata": {},
   "outputs": [],
   "source": [
    "#len(df_single)"
   ]
  },
  {
   "cell_type": "code",
   "execution_count": 52,
   "id": "32493e76",
   "metadata": {},
   "outputs": [
    {
     "data": {
      "text/html": [
       "<div>\n",
       "<style scoped>\n",
       "    .dataframe tbody tr th:only-of-type {\n",
       "        vertical-align: middle;\n",
       "    }\n",
       "\n",
       "    .dataframe tbody tr th {\n",
       "        vertical-align: top;\n",
       "    }\n",
       "\n",
       "    .dataframe thead th {\n",
       "        text-align: right;\n",
       "    }\n",
       "</style>\n",
       "<table border=\"1\" class=\"dataframe\">\n",
       "  <thead>\n",
       "    <tr style=\"text-align: right;\">\n",
       "      <th></th>\n",
       "      <th>date_hyphen</th>\n",
       "      <th>date_slash</th>\n",
       "      <th>date_number</th>\n",
       "      <th>product_name</th>\n",
       "      <th>product_id</th>\n",
       "      <th>product_brand</th>\n",
       "      <th>price</th>\n",
       "      <th>status</th>\n",
       "      <th>url</th>\n",
       "    </tr>\n",
       "  </thead>\n",
       "  <tbody>\n",
       "    <tr>\n",
       "      <th>0</th>\n",
       "      <td>2022-04-24</td>\n",
       "      <td>2022/04/24</td>\n",
       "      <td>20220424</td>\n",
       "      <td>TLV TLV-MYX-801-1</td>\n",
       "      <td>B08T1TSMQQ</td>\n",
       "      <td>TLV</td>\n",
       "      <td>89</td>\n",
       "      <td>correcto</td>\n",
       "      <td>https://sillasybienestar.com/ergonomia/sillas-ergonomicas/review-individual/tlv-myx-801-1/</td>\n",
       "    </tr>\n",
       "    <tr>\n",
       "      <th>1</th>\n",
       "      <td>2022-04-24</td>\n",
       "      <td>2022/04/24</td>\n",
       "      <td>20220424</td>\n",
       "      <td>Songmics OBN55BK</td>\n",
       "      <td>B07ZCJVFDJ</td>\n",
       "      <td>Songmics</td>\n",
       "      <td>131</td>\n",
       "      <td>correcto</td>\n",
       "      <td>https://sillasybienestar.com/ergonomia/sillas-ergonomicas/review-individual/songmics-obn55bk/</td>\n",
       "    </tr>\n",
       "    <tr>\n",
       "      <th>2</th>\n",
       "      <td>2022-04-24</td>\n",
       "      <td>2022/04/24</td>\n",
       "      <td>20220424</td>\n",
       "      <td>Cashoffice B081QDV9VR</td>\n",
       "      <td>B081QDV9VR</td>\n",
       "      <td>Cashoffice</td>\n",
       "      <td>83</td>\n",
       "      <td>correcto</td>\n",
       "      <td>https://sillasybienestar.com/ergonomia/sillas-ergonomicas/review-individual/cashoffice-silla-ergonomica/</td>\n",
       "    </tr>\n",
       "    <tr>\n",
       "      <th>3</th>\n",
       "      <td>2022-04-24</td>\n",
       "      <td>2022/04/24</td>\n",
       "      <td>20220424</td>\n",
       "      <td>Cedric B07SRYBJ6L</td>\n",
       "      <td>B07SRYBJ6L</td>\n",
       "      <td>Cedric</td>\n",
       "      <td>252</td>\n",
       "      <td>correcto</td>\n",
       "      <td>https://sillasybienestar.com/ergonomia/sillas-ergonomicas/review-individual/cedric/</td>\n",
       "    </tr>\n",
       "    <tr>\n",
       "      <th>4</th>\n",
       "      <td>2022-04-24</td>\n",
       "      <td>2022/04/24</td>\n",
       "      <td>20220424</td>\n",
       "      <td>Noblewell B08DR42HFV</td>\n",
       "      <td>B08DR42HFV</td>\n",
       "      <td>Noblewell</td>\n",
       "      <td>139</td>\n",
       "      <td>correcto</td>\n",
       "      <td>https://sillasybienestar.com/ergonomia/sillas-ergonomicas/review-individual/noblewell/</td>\n",
       "    </tr>\n",
       "    <tr>\n",
       "      <th>5</th>\n",
       "      <td>2022-04-24</td>\n",
       "      <td>2022/04/24</td>\n",
       "      <td>20220424</td>\n",
       "      <td>sihoo lb14</td>\n",
       "      <td>B07GNDDNMW</td>\n",
       "      <td>sihoo</td>\n",
       "      <td>195</td>\n",
       "      <td>correcto</td>\n",
       "      <td>https://sillasybienestar.com/ergonomia/sillas-ergonomicas/review-individual/sihoo-lb14/</td>\n",
       "    </tr>\n",
       "    <tr>\n",
       "      <th>6</th>\n",
       "      <td>2022-04-24</td>\n",
       "      <td>2022/04/24</td>\n",
       "      <td>20220424</td>\n",
       "      <td>ronda la silla espanola HC1159GR</td>\n",
       "      <td>B074MJDSK6</td>\n",
       "      <td>ronda</td>\n",
       "      <td>108</td>\n",
       "      <td>correcto</td>\n",
       "      <td>https://sillasybienestar.com/ergonomia/sillas-ergonomicas/review-individual/ronda-silla-espanola/</td>\n",
       "    </tr>\n",
       "    <tr>\n",
       "      <th>7</th>\n",
       "      <td>2022-04-24</td>\n",
       "      <td>2022/04/24</td>\n",
       "      <td>20220424</td>\n",
       "      <td>diablo v-master</td>\n",
       "      <td>B079BS7DW9</td>\n",
       "      <td>diablo</td>\n",
       "      <td>489</td>\n",
       "      <td>correcto</td>\n",
       "      <td>https://sillasybienestar.com/ergonomia/sillas-ergonomicas/review-individual/diablo-v-master/</td>\n",
       "    </tr>\n",
       "    <tr>\n",
       "      <th>8</th>\n",
       "      <td>2022-04-24</td>\n",
       "      <td>2022/04/24</td>\n",
       "      <td>20220424</td>\n",
       "      <td>diablo v-basic</td>\n",
       "      <td>B079BSRV7P</td>\n",
       "      <td>diablo</td>\n",
       "      <td>339</td>\n",
       "      <td>correcto</td>\n",
       "      <td>https://sillasybienestar.com/ergonomia/sillas-ergonomicas/review-individual/diablo-v-basic/</td>\n",
       "    </tr>\n",
       "    <tr>\n",
       "      <th>9</th>\n",
       "      <td>2022-04-24</td>\n",
       "      <td>2022/04/24</td>\n",
       "      <td>20220424</td>\n",
       "      <td>songmics OBN61BKV1</td>\n",
       "      <td>B082WQQW8Q</td>\n",
       "      <td>songmics</td>\n",
       "      <td>234</td>\n",
       "      <td>correcto</td>\n",
       "      <td>https://sillasybienestar.com/ergonomia/sillas-ergonomicas/review-individual/songmics-obn61bkv1/</td>\n",
       "    </tr>\n",
       "    <tr>\n",
       "      <th>10</th>\n",
       "      <td>2022-04-24</td>\n",
       "      <td>2022/04/24</td>\n",
       "      <td>20220424</td>\n",
       "      <td>hbada HDNY115WMJ/EU</td>\n",
       "      <td>B07QWG7Y8P</td>\n",
       "      <td>hbada</td>\n",
       "      <td>159</td>\n",
       "      <td>correcto</td>\n",
       "      <td>https://sillasybienestar.com/ergonomia/sillas-ergonomicas/review-individual/hbada-reposapies/</td>\n",
       "    </tr>\n",
       "    <tr>\n",
       "      <th>11</th>\n",
       "      <td>2022-04-24</td>\n",
       "      <td>2022/04/24</td>\n",
       "      <td>20220424</td>\n",
       "      <td>songmics obn86bk</td>\n",
       "      <td>B077MYVDQY</td>\n",
       "      <td>songmics</td>\n",
       "      <td>95</td>\n",
       "      <td>correcto</td>\n",
       "      <td>https://sillasybienestar.com/ergonomia/sillas-ergonomicas/review-individual/songmics-obn86bk/</td>\n",
       "    </tr>\n",
       "    <tr>\n",
       "      <th>12</th>\n",
       "      <td>2022-04-24</td>\n",
       "      <td>2022/04/24</td>\n",
       "      <td>20220424</td>\n",
       "      <td>femor B08G8DRT5M</td>\n",
       "      <td>B08G8DRT5M</td>\n",
       "      <td>femor</td>\n",
       "      <td>0</td>\n",
       "      <td>descatalogado</td>\n",
       "      <td>https://sillasybienestar.com/ergonomia/sillas-ergonomicas/review-individual/femor/</td>\n",
       "    </tr>\n",
       "    <tr>\n",
       "      <th>13</th>\n",
       "      <td>2022-04-24</td>\n",
       "      <td>2022/04/24</td>\n",
       "      <td>20220424</td>\n",
       "      <td>none</td>\n",
       "      <td>none</td>\n",
       "      <td>none</td>\n",
       "      <td>127</td>\n",
       "      <td>correcto</td>\n",
       "      <td>https://sillasybienestar.com/ergonomia/sillas-ergonomicas/review-individual/hbada-reposabrazos/</td>\n",
       "    </tr>\n",
       "    <tr>\n",
       "      <th>14</th>\n",
       "      <td>2022-04-24</td>\n",
       "      <td>2022/04/24</td>\n",
       "      <td>20220424</td>\n",
       "      <td>Mfavour B07PZ6B89C</td>\n",
       "      <td>B07PZ6B89C</td>\n",
       "      <td>Mfavour</td>\n",
       "      <td>219</td>\n",
       "      <td>correcto</td>\n",
       "      <td>https://sillasybienestar.com/ergonomia/sillas-ergonomicas/review-individual/mfavour/</td>\n",
       "    </tr>\n",
       "    <tr>\n",
       "      <th>15</th>\n",
       "      <td>2022-04-24</td>\n",
       "      <td>2022/04/24</td>\n",
       "      <td>20220424</td>\n",
       "      <td>umi B081HWKWN6</td>\n",
       "      <td>B081HWKWN6</td>\n",
       "      <td>umi</td>\n",
       "      <td>213</td>\n",
       "      <td>correcto</td>\n",
       "      <td>https://sillasybienestar.com/ergonomia/sillas-ergonomicas/review-individual/umi/</td>\n",
       "    </tr>\n",
       "    <tr>\n",
       "      <th>16</th>\n",
       "      <td>2022-04-24</td>\n",
       "      <td>2022/04/24</td>\n",
       "      <td>20220424</td>\n",
       "      <td>Songmics OBN52BK</td>\n",
       "      <td>B07BKQPJ1M</td>\n",
       "      <td>Songmics</td>\n",
       "      <td>133</td>\n",
       "      <td>correcto</td>\n",
       "      <td>https://sillasybienestar.com/oficina-y-escritorio/sillas-de-oficina/review-individual/songmics-obn52bk/</td>\n",
       "    </tr>\n",
       "    <tr>\n",
       "      <th>17</th>\n",
       "      <td>2022-04-24</td>\n",
       "      <td>2022/04/24</td>\n",
       "      <td>20220424</td>\n",
       "      <td>Songmics OBN22BK</td>\n",
       "      <td>B082PWGGMD</td>\n",
       "      <td>Songmics</td>\n",
       "      <td>64</td>\n",
       "      <td>correcto</td>\n",
       "      <td>https://sillasybienestar.com/oficina-y-escritorio/sillas-de-oficina/review-individual/songmics-obn22bk/</td>\n",
       "    </tr>\n",
       "    <tr>\n",
       "      <th>18</th>\n",
       "      <td>2022-04-24</td>\n",
       "      <td>2022/04/24</td>\n",
       "      <td>20220424</td>\n",
       "      <td>Allguest Cedric</td>\n",
       "      <td>B089FXH6GH</td>\n",
       "      <td>Allguest</td>\n",
       "      <td>236</td>\n",
       "      <td>correcto</td>\n",
       "      <td>https://sillasybienestar.com/oficina-y-escritorio/sillas-de-oficina/review-individual/allguest-cedric/</td>\n",
       "    </tr>\n",
       "    <tr>\n",
       "      <th>19</th>\n",
       "      <td>2022-04-24</td>\n",
       "      <td>2022/04/24</td>\n",
       "      <td>20220424</td>\n",
       "      <td>Hbada HDNY108BM/EU</td>\n",
       "      <td>B07QWG9LD4</td>\n",
       "      <td>Hbada</td>\n",
       "      <td>0</td>\n",
       "      <td>sin_stock</td>\n",
       "      <td>https://sillasybienestar.com/oficina-y-escritorio/sillas-de-oficina/review-individual/hbada-hdny108bm-eu/</td>\n",
       "    </tr>\n",
       "    <tr>\n",
       "      <th>20</th>\n",
       "      <td>2022-04-24</td>\n",
       "      <td>2022/04/24</td>\n",
       "      <td>20220424</td>\n",
       "      <td>intimate wm heat B07X8TQH96</td>\n",
       "      <td>B07X8TQH96</td>\n",
       "      <td>intimate wm heat</td>\n",
       "      <td>159</td>\n",
       "      <td>correcto</td>\n",
       "      <td>https://sillasybienestar.com/oficina-y-escritorio/sillas-de-oficina/review-individual/intimate-wm-heart-sillon-b07x8tqh96/</td>\n",
       "    </tr>\n",
       "    <tr>\n",
       "      <th>21</th>\n",
       "      <td>2022-04-24</td>\n",
       "      <td>2022/04/24</td>\n",
       "      <td>20220424</td>\n",
       "      <td>Vinsetto Sillon de Oficina Azul Claro</td>\n",
       "      <td>B07Y1YX1NV</td>\n",
       "      <td>vinsetto</td>\n",
       "      <td>128</td>\n",
       "      <td>correcto</td>\n",
       "      <td>https://sillasybienestar.com/oficina-y-escritorio/sillas-de-oficina/review-individual/vinsetto-sillon-de-oficina-azul-claro/</td>\n",
       "    </tr>\n",
       "    <tr>\n",
       "      <th>22</th>\n",
       "      <td>2022-04-24</td>\n",
       "      <td>2022/04/24</td>\n",
       "      <td>20220424</td>\n",
       "      <td>Exofcer MC6310DBA</td>\n",
       "      <td>B079GLTJTY</td>\n",
       "      <td>Exofcer</td>\n",
       "      <td>169</td>\n",
       "      <td>correcto</td>\n",
       "      <td>https://sillasybienestar.com/oficina-y-escritorio/sillas-de-oficina/review-individual/exofcer-mc6310/</td>\n",
       "    </tr>\n",
       "    <tr>\n",
       "      <th>23</th>\n",
       "      <td>2022-04-24</td>\n",
       "      <td>2022/04/24</td>\n",
       "      <td>20220424</td>\n",
       "      <td>Songmics OBG24B</td>\n",
       "      <td>B00UTC9T7E</td>\n",
       "      <td>songmics</td>\n",
       "      <td>131</td>\n",
       "      <td>correcto</td>\n",
       "      <td>https://sillasybienestar.com/oficina-y-escritorio/sillas-de-oficina/review-individual/songmics-obg24b/</td>\n",
       "    </tr>\n",
       "    <tr>\n",
       "      <th>24</th>\n",
       "      <td>2022-04-24</td>\n",
       "      <td>2022/04/24</td>\n",
       "      <td>20220424</td>\n",
       "      <td>Duehome</td>\n",
       "      <td>B00ASXUH0W</td>\n",
       "      <td>Duehome</td>\n",
       "      <td>99</td>\n",
       "      <td>correcto</td>\n",
       "      <td>https://sillasybienestar.com/ergonomia/sillas-de-rodillas/review-individual/duehome/</td>\n",
       "    </tr>\n",
       "    <tr>\n",
       "      <th>25</th>\n",
       "      <td>2022-04-24</td>\n",
       "      <td>2022/04/24</td>\n",
       "      <td>20220424</td>\n",
       "      <td>Himimi</td>\n",
       "      <td>B07ZJ7L4GT</td>\n",
       "      <td>Himimi</td>\n",
       "      <td>112</td>\n",
       "      <td>correcto</td>\n",
       "      <td>https://sillasybienestar.com/ergonomia/sillas-de-rodillas/review-individual/himimi-silla-de-rodillas/</td>\n",
       "    </tr>\n",
       "    <tr>\n",
       "      <th>26</th>\n",
       "      <td>2022-04-24</td>\n",
       "      <td>2022/04/24</td>\n",
       "      <td>20220424</td>\n",
       "      <td>Varier</td>\n",
       "      <td>B01MRBHGNF</td>\n",
       "      <td>Varier</td>\n",
       "      <td>312</td>\n",
       "      <td>correcto</td>\n",
       "      <td>https://sillasybienestar.com/ergonomia/sillas-de-rodillas/review-individual/varier/</td>\n",
       "    </tr>\n",
       "    <tr>\n",
       "      <th>27</th>\n",
       "      <td>2022-04-24</td>\n",
       "      <td>2022/04/24</td>\n",
       "      <td>20220424</td>\n",
       "      <td>Cinius</td>\n",
       "      <td>B008R690VO</td>\n",
       "      <td>Cinius</td>\n",
       "      <td>147</td>\n",
       "      <td>correcto</td>\n",
       "      <td>https://sillasybienestar.com/ergonomia/sillas-de-rodillas/review-individual/cinius/</td>\n",
       "    </tr>\n",
       "    <tr>\n",
       "      <th>28</th>\n",
       "      <td>2022-04-24</td>\n",
       "      <td>2022/04/24</td>\n",
       "      <td>20220424</td>\n",
       "      <td>gtplayer bluetooth</td>\n",
       "      <td>B082F69ZXK</td>\n",
       "      <td>gtplayer</td>\n",
       "      <td>169</td>\n",
       "      <td>correcto</td>\n",
       "      <td>https://sillasybienestar.com/gaming/sillas-gaming/review-individual/gtplayer-rosa/</td>\n",
       "    </tr>\n",
       "    <tr>\n",
       "      <th>29</th>\n",
       "      <td>2022-04-24</td>\n",
       "      <td>2022/04/24</td>\n",
       "      <td>20220424</td>\n",
       "      <td>diablo x-gamer 2.0</td>\n",
       "      <td>B08BLJR7Q5</td>\n",
       "      <td>diablo</td>\n",
       "      <td>199</td>\n",
       "      <td>correcto</td>\n",
       "      <td>https://sillasybienestar.com/gaming/sillas-gaming/review-individual/diablo-x-gamer-2-0/</td>\n",
       "    </tr>\n",
       "    <tr>\n",
       "      <th>30</th>\n",
       "      <td>2022-04-24</td>\n",
       "      <td>2022/04/24</td>\n",
       "      <td>20220424</td>\n",
       "      <td>IntimaTe WM Heart Economica</td>\n",
       "      <td>B07YWB48T5</td>\n",
       "      <td>IntimaTe WM Heart</td>\n",
       "      <td>90</td>\n",
       "      <td>correcto</td>\n",
       "      <td>https://sillasybienestar.com/gaming/sillas-gaming/review-individual/intimate-wm-heart-silla-gamer-barata/</td>\n",
       "    </tr>\n",
       "    <tr>\n",
       "      <th>31</th>\n",
       "      <td>2022-04-24</td>\n",
       "      <td>2022/04/24</td>\n",
       "      <td>20220424</td>\n",
       "      <td>nokaxus yk-6008</td>\n",
       "      <td>B07DZLHXVG</td>\n",
       "      <td>nokaxus</td>\n",
       "      <td>259</td>\n",
       "      <td>correcto</td>\n",
       "      <td>https://sillasybienestar.com/gaming/sillas-gaming/review-individual/nokaxus-yk-6008-rosa/</td>\n",
       "    </tr>\n",
       "    <tr>\n",
       "      <th>32</th>\n",
       "      <td>2022-04-24</td>\n",
       "      <td>2022/04/24</td>\n",
       "      <td>20220424</td>\n",
       "      <td>newskill nayuki</td>\n",
       "      <td>B07WNVX22R</td>\n",
       "      <td>newskill</td>\n",
       "      <td>115</td>\n",
       "      <td>correcto</td>\n",
       "      <td>https://sillasybienestar.com/gaming/sillas-gaming/review-individual/newskill-nayuki/</td>\n",
       "    </tr>\n",
       "    <tr>\n",
       "      <th>33</th>\n",
       "      <td>2022-04-24</td>\n",
       "      <td>2022/04/24</td>\n",
       "      <td>20220424</td>\n",
       "      <td>bgeu-a136</td>\n",
       "      <td>B08D8BVHMW</td>\n",
       "      <td>racing gaming</td>\n",
       "      <td>0</td>\n",
       "      <td>sin_stock</td>\n",
       "      <td>https://sillasybienestar.com/gaming/sillas-gaming/review-individual/silla-gamer-bgeu-a136-sencillez-y-buen-precio-ofertas-2021/</td>\n",
       "    </tr>\n",
       "    <tr>\n",
       "      <th>34</th>\n",
       "      <td>2022-04-24</td>\n",
       "      <td>2022/04/24</td>\n",
       "      <td>20220424</td>\n",
       "      <td>autofull pink bunny</td>\n",
       "      <td>B07QHW64BD</td>\n",
       "      <td>autofull</td>\n",
       "      <td>289</td>\n",
       "      <td>correcto</td>\n",
       "      <td>https://sillasybienestar.com/gaming/sillas-gaming/review-individual/autofull-pink-bunny/</td>\n",
       "    </tr>\n",
       "    <tr>\n",
       "      <th>35</th>\n",
       "      <td>2022-04-24</td>\n",
       "      <td>2022/04/24</td>\n",
       "      <td>20220424</td>\n",
       "      <td>Adec Group DRW</td>\n",
       "      <td>B07H9SPHJ1</td>\n",
       "      <td>Adec Group</td>\n",
       "      <td>89</td>\n",
       "      <td>correcto</td>\n",
       "      <td>https://sillasybienestar.com/gaming/sillas-gaming/review-individual/adec-drw/</td>\n",
       "    </tr>\n",
       "    <tr>\n",
       "      <th>36</th>\n",
       "      <td>2022-04-24</td>\n",
       "      <td>2022/04/24</td>\n",
       "      <td>20220424</td>\n",
       "      <td>femor B08JD1T3JK</td>\n",
       "      <td>B08JD1T3JK</td>\n",
       "      <td>femor</td>\n",
       "      <td>0</td>\n",
       "      <td>descatalogado</td>\n",
       "      <td>https://sillasybienestar.com/gaming/sillas-gaming/review-individual/femor-gaming/</td>\n",
       "    </tr>\n",
       "    <tr>\n",
       "      <th>37</th>\n",
       "      <td>2022-04-24</td>\n",
       "      <td>2022/04/24</td>\n",
       "      <td>20220424</td>\n",
       "      <td>hbada hdjy001bmj/cb</td>\n",
       "      <td>b07wssskm6</td>\n",
       "      <td>Hbada</td>\n",
       "      <td>189</td>\n",
       "      <td>correcto</td>\n",
       "      <td>https://sillasybienestar.com/gaming/sillas-gaming/review-individual/hbada-gaming-hdjy001bmj-cb/</td>\n",
       "    </tr>\n",
       "    <tr>\n",
       "      <th>38</th>\n",
       "      <td>2022-04-24</td>\n",
       "      <td>2022/04/24</td>\n",
       "      <td>20220424</td>\n",
       "      <td>intimate wm heat  Racing Silla Gamer</td>\n",
       "      <td>B075CK3GVJ</td>\n",
       "      <td>intimate wm heat</td>\n",
       "      <td>167</td>\n",
       "      <td>correcto</td>\n",
       "      <td>https://sillasybienestar.com/gaming/sillas-gaming/review-individual/intimate-wm-heart-gaming/</td>\n",
       "    </tr>\n",
       "    <tr>\n",
       "      <th>39</th>\n",
       "      <td>2022-04-24</td>\n",
       "      <td>2022/04/24</td>\n",
       "      <td>20220424</td>\n",
       "      <td>corsair t3 rush</td>\n",
       "      <td>B07Y9C1NZ3</td>\n",
       "      <td>corsair</td>\n",
       "      <td>279</td>\n",
       "      <td>correcto</td>\n",
       "      <td>https://sillasybienestar.com/gaming/sillas-gaming/review-individual/corsair-t3-rush/</td>\n",
       "    </tr>\n",
       "    <tr>\n",
       "      <th>40</th>\n",
       "      <td>2022-04-24</td>\n",
       "      <td>2022/04/24</td>\n",
       "      <td>20220424</td>\n",
       "      <td>dxracer king k06</td>\n",
       "      <td>B00ZRVDJE6</td>\n",
       "      <td>dxracer</td>\n",
       "      <td>419</td>\n",
       "      <td>correcto</td>\n",
       "      <td>https://sillasybienestar.com/gaming/sillas-gaming/review-individual/dxracer-king-ks06/</td>\n",
       "    </tr>\n",
       "    <tr>\n",
       "      <th>41</th>\n",
       "      <td>2022-04-24</td>\n",
       "      <td>2022/04/24</td>\n",
       "      <td>20220424</td>\n",
       "      <td>diablo X-horn</td>\n",
       "      <td>B07Z9CTB5C</td>\n",
       "      <td>diablo</td>\n",
       "      <td>274</td>\n",
       "      <td>correcto</td>\n",
       "      <td>https://sillasybienestar.com/gaming/sillas-gaming/review-individual/diablo-x-horn/</td>\n",
       "    </tr>\n",
       "    <tr>\n",
       "      <th>42</th>\n",
       "      <td>2022-04-24</td>\n",
       "      <td>2022/04/24</td>\n",
       "      <td>20220424</td>\n",
       "      <td>diablo X-Ray</td>\n",
       "      <td>B07Q57WD7S</td>\n",
       "      <td>diablo</td>\n",
       "      <td>279</td>\n",
       "      <td>correcto</td>\n",
       "      <td>https://sillasybienestar.com/gaming/sillas-gaming/review-individual/diablo-x-ray/</td>\n",
       "    </tr>\n",
       "    <tr>\n",
       "      <th>43</th>\n",
       "      <td>2022-04-24</td>\n",
       "      <td>2022/04/24</td>\n",
       "      <td>20220424</td>\n",
       "      <td>DXRacer Formula F08</td>\n",
       "      <td>B073GF2L1H</td>\n",
       "      <td>dxracer</td>\n",
       "      <td>349</td>\n",
       "      <td>correcto</td>\n",
       "      <td>https://sillasybienestar.com/gaming/sillas-gaming/review-individual/dxracer-formula-f08/</td>\n",
       "    </tr>\n",
       "    <tr>\n",
       "      <th>44</th>\n",
       "      <td>2022-04-24</td>\n",
       "      <td>2022/04/24</td>\n",
       "      <td>20220424</td>\n",
       "      <td>Newskill Kitsune</td>\n",
       "      <td>B073TWN367</td>\n",
       "      <td>Newskill</td>\n",
       "      <td>169</td>\n",
       "      <td>correcto</td>\n",
       "      <td>https://sillasybienestar.com/gaming/sillas-gaming/review-individual/newskill-kitsune/</td>\n",
       "    </tr>\n",
       "    <tr>\n",
       "      <th>45</th>\n",
       "      <td>2022-04-24</td>\n",
       "      <td>2022/04/24</td>\n",
       "      <td>20220424</td>\n",
       "      <td>Newskill Takamikura</td>\n",
       "      <td>B019HA9MKM</td>\n",
       "      <td>Newskill</td>\n",
       "      <td>189</td>\n",
       "      <td>correcto</td>\n",
       "      <td>https://sillasybienestar.com/gaming/sillas-gaming/review-individual/newskill-takamikura/</td>\n",
       "    </tr>\n",
       "  </tbody>\n",
       "</table>\n",
       "</div>"
      ],
      "text/plain": [
       "   date_hyphen  date_slash  date_number  \\\n",
       "0   2022-04-24  2022/04/24     20220424   \n",
       "1   2022-04-24  2022/04/24     20220424   \n",
       "2   2022-04-24  2022/04/24     20220424   \n",
       "3   2022-04-24  2022/04/24     20220424   \n",
       "4   2022-04-24  2022/04/24     20220424   \n",
       "5   2022-04-24  2022/04/24     20220424   \n",
       "6   2022-04-24  2022/04/24     20220424   \n",
       "7   2022-04-24  2022/04/24     20220424   \n",
       "8   2022-04-24  2022/04/24     20220424   \n",
       "9   2022-04-24  2022/04/24     20220424   \n",
       "10  2022-04-24  2022/04/24     20220424   \n",
       "11  2022-04-24  2022/04/24     20220424   \n",
       "12  2022-04-24  2022/04/24     20220424   \n",
       "13  2022-04-24  2022/04/24     20220424   \n",
       "14  2022-04-24  2022/04/24     20220424   \n",
       "15  2022-04-24  2022/04/24     20220424   \n",
       "16  2022-04-24  2022/04/24     20220424   \n",
       "17  2022-04-24  2022/04/24     20220424   \n",
       "18  2022-04-24  2022/04/24     20220424   \n",
       "19  2022-04-24  2022/04/24     20220424   \n",
       "20  2022-04-24  2022/04/24     20220424   \n",
       "21  2022-04-24  2022/04/24     20220424   \n",
       "22  2022-04-24  2022/04/24     20220424   \n",
       "23  2022-04-24  2022/04/24     20220424   \n",
       "24  2022-04-24  2022/04/24     20220424   \n",
       "25  2022-04-24  2022/04/24     20220424   \n",
       "26  2022-04-24  2022/04/24     20220424   \n",
       "27  2022-04-24  2022/04/24     20220424   \n",
       "28  2022-04-24  2022/04/24     20220424   \n",
       "29  2022-04-24  2022/04/24     20220424   \n",
       "30  2022-04-24  2022/04/24     20220424   \n",
       "31  2022-04-24  2022/04/24     20220424   \n",
       "32  2022-04-24  2022/04/24     20220424   \n",
       "33  2022-04-24  2022/04/24     20220424   \n",
       "34  2022-04-24  2022/04/24     20220424   \n",
       "35  2022-04-24  2022/04/24     20220424   \n",
       "36  2022-04-24  2022/04/24     20220424   \n",
       "37  2022-04-24  2022/04/24     20220424   \n",
       "38  2022-04-24  2022/04/24     20220424   \n",
       "39  2022-04-24  2022/04/24     20220424   \n",
       "40  2022-04-24  2022/04/24     20220424   \n",
       "41  2022-04-24  2022/04/24     20220424   \n",
       "42  2022-04-24  2022/04/24     20220424   \n",
       "43  2022-04-24  2022/04/24     20220424   \n",
       "44  2022-04-24  2022/04/24     20220424   \n",
       "45  2022-04-24  2022/04/24     20220424   \n",
       "\n",
       "                             product_name  product_id      product_brand  \\\n",
       "0                       TLV TLV-MYX-801-1  B08T1TSMQQ                TLV   \n",
       "1                        Songmics OBN55BK  B07ZCJVFDJ           Songmics   \n",
       "2                   Cashoffice B081QDV9VR  B081QDV9VR         Cashoffice   \n",
       "3                       Cedric B07SRYBJ6L  B07SRYBJ6L             Cedric   \n",
       "4                    Noblewell B08DR42HFV  B08DR42HFV          Noblewell   \n",
       "5                              sihoo lb14  B07GNDDNMW              sihoo   \n",
       "6        ronda la silla espanola HC1159GR  B074MJDSK6              ronda   \n",
       "7                         diablo v-master  B079BS7DW9             diablo   \n",
       "8                          diablo v-basic  B079BSRV7P             diablo   \n",
       "9                      songmics OBN61BKV1  B082WQQW8Q           songmics   \n",
       "10                    hbada HDNY115WMJ/EU  B07QWG7Y8P              hbada   \n",
       "11                       songmics obn86bk  B077MYVDQY           songmics   \n",
       "12                       femor B08G8DRT5M  B08G8DRT5M              femor   \n",
       "13                                   none        none               none   \n",
       "14                     Mfavour B07PZ6B89C  B07PZ6B89C            Mfavour   \n",
       "15                         umi B081HWKWN6  B081HWKWN6                umi   \n",
       "16                       Songmics OBN52BK  B07BKQPJ1M           Songmics   \n",
       "17                       Songmics OBN22BK  B082PWGGMD           Songmics   \n",
       "18                        Allguest Cedric  B089FXH6GH           Allguest   \n",
       "19                     Hbada HDNY108BM/EU  B07QWG9LD4              Hbada   \n",
       "20            intimate wm heat B07X8TQH96  B07X8TQH96   intimate wm heat   \n",
       "21  Vinsetto Sillon de Oficina Azul Claro  B07Y1YX1NV           vinsetto   \n",
       "22                      Exofcer MC6310DBA  B079GLTJTY            Exofcer   \n",
       "23                        Songmics OBG24B  B00UTC9T7E           songmics   \n",
       "24                                Duehome  B00ASXUH0W            Duehome   \n",
       "25                                 Himimi  B07ZJ7L4GT             Himimi   \n",
       "26                                 Varier  B01MRBHGNF             Varier   \n",
       "27                                 Cinius  B008R690VO             Cinius   \n",
       "28                     gtplayer bluetooth  B082F69ZXK           gtplayer   \n",
       "29                     diablo x-gamer 2.0  B08BLJR7Q5             diablo   \n",
       "30            IntimaTe WM Heart Economica  B07YWB48T5  IntimaTe WM Heart   \n",
       "31                        nokaxus yk-6008  B07DZLHXVG            nokaxus   \n",
       "32                        newskill nayuki  B07WNVX22R           newskill   \n",
       "33                              bgeu-a136  B08D8BVHMW      racing gaming   \n",
       "34                    autofull pink bunny  B07QHW64BD           autofull   \n",
       "35                         Adec Group DRW  B07H9SPHJ1         Adec Group   \n",
       "36                       femor B08JD1T3JK  B08JD1T3JK              femor   \n",
       "37                    hbada hdjy001bmj/cb  b07wssskm6              Hbada   \n",
       "38   intimate wm heat  Racing Silla Gamer  B075CK3GVJ   intimate wm heat   \n",
       "39                        corsair t3 rush  B07Y9C1NZ3            corsair   \n",
       "40                       dxracer king k06  B00ZRVDJE6            dxracer   \n",
       "41                          diablo X-horn  B07Z9CTB5C             diablo   \n",
       "42                           diablo X-Ray  B07Q57WD7S             diablo   \n",
       "43                    DXRacer Formula F08  B073GF2L1H            dxracer   \n",
       "44                       Newskill Kitsune  B073TWN367           Newskill   \n",
       "45                    Newskill Takamikura  B019HA9MKM           Newskill   \n",
       "\n",
       "    price         status  \\\n",
       "0      89       correcto   \n",
       "1     131       correcto   \n",
       "2      83       correcto   \n",
       "3     252       correcto   \n",
       "4     139       correcto   \n",
       "5     195       correcto   \n",
       "6     108       correcto   \n",
       "7     489       correcto   \n",
       "8     339       correcto   \n",
       "9     234       correcto   \n",
       "10    159       correcto   \n",
       "11     95       correcto   \n",
       "12      0  descatalogado   \n",
       "13    127       correcto   \n",
       "14    219       correcto   \n",
       "15    213       correcto   \n",
       "16    133       correcto   \n",
       "17     64       correcto   \n",
       "18    236       correcto   \n",
       "19      0      sin_stock   \n",
       "20    159       correcto   \n",
       "21    128       correcto   \n",
       "22    169       correcto   \n",
       "23    131       correcto   \n",
       "24     99       correcto   \n",
       "25    112       correcto   \n",
       "26    312       correcto   \n",
       "27    147       correcto   \n",
       "28    169       correcto   \n",
       "29    199       correcto   \n",
       "30     90       correcto   \n",
       "31    259       correcto   \n",
       "32    115       correcto   \n",
       "33      0      sin_stock   \n",
       "34    289       correcto   \n",
       "35     89       correcto   \n",
       "36      0  descatalogado   \n",
       "37    189       correcto   \n",
       "38    167       correcto   \n",
       "39    279       correcto   \n",
       "40    419       correcto   \n",
       "41    274       correcto   \n",
       "42    279       correcto   \n",
       "43    349       correcto   \n",
       "44    169       correcto   \n",
       "45    189       correcto   \n",
       "\n",
       "                                                                                                                                url  \n",
       "0                                        https://sillasybienestar.com/ergonomia/sillas-ergonomicas/review-individual/tlv-myx-801-1/  \n",
       "1                                     https://sillasybienestar.com/ergonomia/sillas-ergonomicas/review-individual/songmics-obn55bk/  \n",
       "2                          https://sillasybienestar.com/ergonomia/sillas-ergonomicas/review-individual/cashoffice-silla-ergonomica/  \n",
       "3                                               https://sillasybienestar.com/ergonomia/sillas-ergonomicas/review-individual/cedric/  \n",
       "4                                            https://sillasybienestar.com/ergonomia/sillas-ergonomicas/review-individual/noblewell/  \n",
       "5                                           https://sillasybienestar.com/ergonomia/sillas-ergonomicas/review-individual/sihoo-lb14/  \n",
       "6                                 https://sillasybienestar.com/ergonomia/sillas-ergonomicas/review-individual/ronda-silla-espanola/  \n",
       "7                                      https://sillasybienestar.com/ergonomia/sillas-ergonomicas/review-individual/diablo-v-master/  \n",
       "8                                       https://sillasybienestar.com/ergonomia/sillas-ergonomicas/review-individual/diablo-v-basic/  \n",
       "9                                   https://sillasybienestar.com/ergonomia/sillas-ergonomicas/review-individual/songmics-obn61bkv1/  \n",
       "10                                    https://sillasybienestar.com/ergonomia/sillas-ergonomicas/review-individual/hbada-reposapies/  \n",
       "11                                    https://sillasybienestar.com/ergonomia/sillas-ergonomicas/review-individual/songmics-obn86bk/  \n",
       "12                                               https://sillasybienestar.com/ergonomia/sillas-ergonomicas/review-individual/femor/  \n",
       "13                                  https://sillasybienestar.com/ergonomia/sillas-ergonomicas/review-individual/hbada-reposabrazos/  \n",
       "14                                             https://sillasybienestar.com/ergonomia/sillas-ergonomicas/review-individual/mfavour/  \n",
       "15                                                 https://sillasybienestar.com/ergonomia/sillas-ergonomicas/review-individual/umi/  \n",
       "16                          https://sillasybienestar.com/oficina-y-escritorio/sillas-de-oficina/review-individual/songmics-obn52bk/  \n",
       "17                          https://sillasybienestar.com/oficina-y-escritorio/sillas-de-oficina/review-individual/songmics-obn22bk/  \n",
       "18                           https://sillasybienestar.com/oficina-y-escritorio/sillas-de-oficina/review-individual/allguest-cedric/  \n",
       "19                        https://sillasybienestar.com/oficina-y-escritorio/sillas-de-oficina/review-individual/hbada-hdny108bm-eu/  \n",
       "20       https://sillasybienestar.com/oficina-y-escritorio/sillas-de-oficina/review-individual/intimate-wm-heart-sillon-b07x8tqh96/  \n",
       "21     https://sillasybienestar.com/oficina-y-escritorio/sillas-de-oficina/review-individual/vinsetto-sillon-de-oficina-azul-claro/  \n",
       "22                            https://sillasybienestar.com/oficina-y-escritorio/sillas-de-oficina/review-individual/exofcer-mc6310/  \n",
       "23                           https://sillasybienestar.com/oficina-y-escritorio/sillas-de-oficina/review-individual/songmics-obg24b/  \n",
       "24                                             https://sillasybienestar.com/ergonomia/sillas-de-rodillas/review-individual/duehome/  \n",
       "25                            https://sillasybienestar.com/ergonomia/sillas-de-rodillas/review-individual/himimi-silla-de-rodillas/  \n",
       "26                                              https://sillasybienestar.com/ergonomia/sillas-de-rodillas/review-individual/varier/  \n",
       "27                                              https://sillasybienestar.com/ergonomia/sillas-de-rodillas/review-individual/cinius/  \n",
       "28                                               https://sillasybienestar.com/gaming/sillas-gaming/review-individual/gtplayer-rosa/  \n",
       "29                                          https://sillasybienestar.com/gaming/sillas-gaming/review-individual/diablo-x-gamer-2-0/  \n",
       "30                        https://sillasybienestar.com/gaming/sillas-gaming/review-individual/intimate-wm-heart-silla-gamer-barata/  \n",
       "31                                        https://sillasybienestar.com/gaming/sillas-gaming/review-individual/nokaxus-yk-6008-rosa/  \n",
       "32                                             https://sillasybienestar.com/gaming/sillas-gaming/review-individual/newskill-nayuki/  \n",
       "33  https://sillasybienestar.com/gaming/sillas-gaming/review-individual/silla-gamer-bgeu-a136-sencillez-y-buen-precio-ofertas-2021/  \n",
       "34                                         https://sillasybienestar.com/gaming/sillas-gaming/review-individual/autofull-pink-bunny/  \n",
       "35                                                    https://sillasybienestar.com/gaming/sillas-gaming/review-individual/adec-drw/  \n",
       "36                                                https://sillasybienestar.com/gaming/sillas-gaming/review-individual/femor-gaming/  \n",
       "37                                  https://sillasybienestar.com/gaming/sillas-gaming/review-individual/hbada-gaming-hdjy001bmj-cb/  \n",
       "38                                    https://sillasybienestar.com/gaming/sillas-gaming/review-individual/intimate-wm-heart-gaming/  \n",
       "39                                             https://sillasybienestar.com/gaming/sillas-gaming/review-individual/corsair-t3-rush/  \n",
       "40                                           https://sillasybienestar.com/gaming/sillas-gaming/review-individual/dxracer-king-ks06/  \n",
       "41                                               https://sillasybienestar.com/gaming/sillas-gaming/review-individual/diablo-x-horn/  \n",
       "42                                                https://sillasybienestar.com/gaming/sillas-gaming/review-individual/diablo-x-ray/  \n",
       "43                                         https://sillasybienestar.com/gaming/sillas-gaming/review-individual/dxracer-formula-f08/  \n",
       "44                                            https://sillasybienestar.com/gaming/sillas-gaming/review-individual/newskill-kitsune/  \n",
       "45                                         https://sillasybienestar.com/gaming/sillas-gaming/review-individual/newskill-takamikura/  "
      ]
     },
     "execution_count": 52,
     "metadata": {},
     "output_type": "execute_result"
    }
   ],
   "source": [
    "df_append_new_files\n"
   ]
  },
  {
   "cell_type": "code",
   "execution_count": 53,
   "id": "1f89a32e",
   "metadata": {},
   "outputs": [
    {
     "data": {
      "text/plain": [
       "[89.99,\n",
       " 131.99,\n",
       " 83.94,\n",
       " 252.74,\n",
       " 139.99,\n",
       " 195.49,\n",
       " 108.09,\n",
       " 489.99,\n",
       " 339.99,\n",
       " 234.99,\n",
       " 159.99,\n",
       " 95.05,\n",
       " 0,\n",
       " 127.49,\n",
       " 219.99,\n",
       " 213.34,\n",
       " 133.56,\n",
       " 64.99,\n",
       " 236.79,\n",
       " 0,\n",
       " 159.99,\n",
       " 128.99,\n",
       " 169.38,\n",
       " 131.99,\n",
       " 99.9,\n",
       " 112.99,\n",
       " 312.75,\n",
       " 147.21,\n",
       " 169.99,\n",
       " 199.99,\n",
       " 90.09,\n",
       " 259.99,\n",
       " 115.04,\n",
       " 0,\n",
       " 289.99,\n",
       " 89.9,\n",
       " 0,\n",
       " 189.99,\n",
       " 167.49,\n",
       " 279.98,\n",
       " 419.0,\n",
       " 274.99,\n",
       " 279.99,\n",
       " 349.25,\n",
       " 169.94,\n",
       " 189.95]"
      ]
     },
     "execution_count": 53,
     "metadata": {},
     "output_type": "execute_result"
    }
   ],
   "source": [
    "final_price_products_list"
   ]
  },
  {
   "cell_type": "code",
   "execution_count": null,
   "id": "d6253310",
   "metadata": {},
   "outputs": [],
   "source": []
  }
 ],
 "metadata": {
  "kernelspec": {
   "display_name": "Python [conda env:ironhack]",
   "language": "python",
   "name": "conda-env-ironhack-py"
  },
  "language_info": {
   "codemirror_mode": {
    "name": "ipython",
    "version": 3
   },
   "file_extension": ".py",
   "mimetype": "text/x-python",
   "name": "python",
   "nbconvert_exporter": "python",
   "pygments_lexer": "ipython3",
   "version": "3.7.11"
  }
 },
 "nbformat": 4,
 "nbformat_minor": 5
}
