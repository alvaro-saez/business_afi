{
 "cells": [
  {
   "cell_type": "code",
   "execution_count": 1,
   "id": "c94aeb9f",
   "metadata": {},
   "outputs": [],
   "source": [
    "import pandas as pd\n",
    "import numpy as np\n",
    "import requests\n",
    "import bs4\n",
    "import re\n",
    "from datetime import datetime\n",
    "pd.set_option('display.max_rows', 1000)\n",
    "pd.options.display.max_colwidth = 1000\n",
    "\n",
    "#to send emails\n",
    "import email, smtplib, ssl\n",
    "from email import encoders\n",
    "from email.mime.base import MIMEBase\n",
    "from email.mime.multipart import MIMEMultipart\n",
    "from email.mime.text import MIMEText\n",
    "\n",
    "#to make the conection with spreadsheets\n",
    "import gspread\n",
    "from google.oauth2.service_account import Credentials\n",
    "\n",
    "#for passwords\n",
    "import os\n",
    "from dotenv import load_dotenv, find_dotenv"
   ]
  },
  {
   "cell_type": "code",
   "execution_count": 2,
   "id": "79caa047",
   "metadata": {},
   "outputs": [],
   "source": [
    "import p_acquisition as ac\n",
    "import p_wrangling as wr\n",
    "import p_analysis as an\n",
    "import p_reporting as rp"
   ]
  },
  {
   "cell_type": "code",
   "execution_count": 3,
   "id": "b9e7943e",
   "metadata": {},
   "outputs": [],
   "source": [
    "load_dotenv(find_dotenv(\"../credentials/.env\"))\n",
    "email_key = os.environ.get(\"EMAIL_KEY\")"
   ]
  },
  {
   "cell_type": "code",
   "execution_count": 4,
   "id": "d3aa9220",
   "metadata": {},
   "outputs": [
    {
     "name": "stdout",
     "output_type": "stream",
     "text": [
      "spreadsheet conection done\n",
      "df_single created through csv\n"
     ]
    }
   ],
   "source": [
    "if __name__ == \"__main__\":\n",
    "\n",
    "    def main_dataset(email_key):\n",
    "        #p_acquisition\n",
    "        load_dotenv(find_dotenv(\"../credentials/.env\"))\n",
    "        email_key = os.environ.get(\"EMAIL_KEY\")\n",
    "        urls_ergonomia = ac.urls_ergonomia\n",
    "        urls_oficina = ac.urls_oficina\n",
    "        urls_rodilla = ac.urls_rodilla\n",
    "        urls_gaming = ac.urls_gaming\n",
    "        urls_products_list = ac.full_urls(urls_ergonomia, urls_oficina, urls_rodilla, urls_gaming)\n",
    "        parsed_products_content_list = ac.parsed_content(urls_products_list)\n",
    "        parsed_products_price_class = ac.parsed_price_class(parsed_products_content_list)  \n",
    "        final_price_products_list = ac.product_price(parsed_products_content_list,urls_products_list)\n",
    "        final_price_products_status = ac.product_status(parsed_products_content_list,urls_products_list)\n",
    "        final_name_products = ac.product_name(parsed_products_content_list)\n",
    "        final_id_products = ac.product_id(parsed_products_content_list)\n",
    "        final_brand_products = ac.product_brand(parsed_products_content_list)\n",
    "        final_date_hyphen_products = [datetime.today().strftime('%Y-%m-%d') for i in range(len(urls_products_list))]\n",
    "        final_date_slash_products = [datetime.today().strftime('%Y/%m/%d') for i in range(len(urls_products_list))]\n",
    "        final_date_number_products = [int(datetime.today().strftime('%Y%m%d')) for i in range(len(urls_products_list))]\n",
    "        \n",
    "        #p_wrangling\n",
    "        gc = wr.conection_spreadsheet([\"https://spreadsheets.google.com/feeds\",\n",
    "         'https://www.googleapis.com/auth/spreadsheets',\n",
    "         \"https://www.googleapis.com/auth/drive.file\",\n",
    "         \"https://www.googleapis.com/auth/drive\"], '../credentials/credentials.json')  \n",
    "        df_single = wr.main_df(\"../files/df_single.csv\",gc)\n",
    "        df_append_new_files = wr.df_append_new_files(final_date_hyphen_products,final_date_slash_products,final_date_number_products,final_name_products,final_id_products,final_brand_products,final_price_products_list,final_price_products_status,urls_products_list)\n",
    "        df_single = wr.concat_df(df_single,df_append_new_files)\n",
    "        df_single = wr.correction_df_single(df_single)\n",
    "        product_mean = wr.product_mean_dic(df_single)### b) Clean and Prepare the dataFrame\n",
    "        product_mean7 = wr.product_mean_dic7(df_single)### b) Clean and Prepare the dataFrame\n",
    "        product_mean30 = wr.product_mean_dic30(df_single)### b) Clean and Prepare the dataFrame\n",
    "        df_single = wr.product_mean_dic_to_df(df_single,product_mean)\n",
    "        df_single = wr.product_mean_dic_to_df7(df_single,product_mean7)\n",
    "        df_single = wr.product_mean_dic_to_df30(df_single,product_mean30)\n",
    "        df_single = wr.product_count(df_single)\n",
    "        df_single = wr.product_mean_status_func_apply(df_single)\n",
    "        df_single = wr.product_category(df_single)\n",
    "        df_single = wr.acotar_df_un_ano(df_single)\n",
    "        export = wr.export_files(df_single, df_append_new_files)\n",
    "        \n",
    "        #p_analysis\n",
    "        an.business_afi_email_sender(\"businessafiliacion@gmail.com\",\"../files/out_of_stock_last_day.csv\", \"out_of_stock_last_day.csv\", \"CSV con productos descatalogados o fuera de stock\",email_key)\n",
    "        an.email_none_values(df_single, df_append_new_files,email_key)\n",
    "        an.business_afi_email_sender(\"businessafiliacion@gmail.com\", \"../files/df_single.csv\", \"df_single.csv\", \"CSV PRINCIPAL como backup con el dataframe diario con todos los datos en formato csv\",email_key)\n",
    "        an.business_afi_email_sender(\"businessafiliacion@gmail.com\", \"../files/df_append_new_files_last_day.csv\", \"df_append_new_files_last_day.csv\", \"CSV CON DATOS DEL DIA como backup con el dataframe diario en formato csv\",email_key)\n",
    "\n",
    "        #p_reporting\n",
    "        rp.update_spreadsheet(gc, \"business_afi_scraping_df_single\", \"df_single\", df_single)\n",
    "        rp.update_spreadsheet(gc, \"business_afi_scraping_last_day_files\", \"df_append_new_files\", df_append_new_files)\n",
    "        rp.out_of_stock_spreadsheet(df_append_new_files,gc)\n",
    "        rp.non_values_spreadsheet(df_single)\n",
    "        \n",
    "#EXECUTION OF THE MAIN FUNCTION\n",
    "    main_dataset(email_key)"
   ]
  }
 ],
 "metadata": {
  "kernelspec": {
   "display_name": "Python [conda env:ironhack]",
   "language": "python",
   "name": "conda-env-ironhack-py"
  },
  "language_info": {
   "codemirror_mode": {
    "name": "ipython",
    "version": 3
   },
   "file_extension": ".py",
   "mimetype": "text/x-python",
   "name": "python",
   "nbconvert_exporter": "python",
   "pygments_lexer": "ipython3",
   "version": "3.7.11"
  }
 },
 "nbformat": 4,
 "nbformat_minor": 5
}
