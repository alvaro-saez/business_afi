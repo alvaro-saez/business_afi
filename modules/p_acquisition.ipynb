{
 "cells": [
  {
   "cell_type": "code",
   "execution_count": 1,
   "id": "0282f473",
   "metadata": {},
   "outputs": [],
   "source": [
    "import pandas as pd\n",
    "import numpy as np\n",
    "import requests\n",
    "import bs4\n",
    "import re\n",
    "from datetime import datetime\n",
    "pd.set_option('display.max_rows', 1000)\n",
    "pd.options.display.max_colwidth = 1000\n",
    "\n",
    "#to send emails\n",
    "import email, smtplib, ssl\n",
    "from email import encoders\n",
    "from email.mime.base import MIMEBase\n",
    "from email.mime.multipart import MIMEMultipart\n",
    "from email.mime.text import MIMEText\n",
    "\n",
    "#to make the conection with spreadsheets\n",
    "import gspread\n",
    "from google.oauth2.service_account import Credentials\n",
    "\n",
    "#for passwords\n",
    "import os\n",
    "from dotenv import load_dotenv, find_dotenv\n",
    "\n",
    "load_dotenv(find_dotenv(\"../credentials/.env\"))\n",
    "email_key = os.environ.get(\"EMAIL_KEY\") #EMAIL PASSWORD"
   ]
  },
  {
   "cell_type": "markdown",
   "id": "0af241eb",
   "metadata": {},
   "source": [
    "# A. p_acquisition"
   ]
  },
  {
   "cell_type": "markdown",
   "id": "213dd43e",
   "metadata": {},
   "source": [
    "### SET THE URLS IN VARIABLES"
   ]
  },
  {
   "cell_type": "code",
   "execution_count": 3,
   "id": "0366b94e",
   "metadata": {},
   "outputs": [],
   "source": [
    "urls_ergonomia = [\n",
    "\"https://sillasybienestar.com/ergonomia/sillas-ergonomicas/review-individual/tlv-myx-801-1/\",\n",
    "\"https://sillasybienestar.com/ergonomia/sillas-ergonomicas/review-individual/songmics-obn55bk/\",\n",
    "\"https://sillasybienestar.com/ergonomia/sillas-ergonomicas/review-individual/cashoffice-silla-ergonomica/\",\n",
    "\"https://sillasybienestar.com/ergonomia/sillas-ergonomicas/review-individual/cedric/\",\n",
    "\"https://sillasybienestar.com/ergonomia/sillas-ergonomicas/review-individual/noblewell/\",\n",
    "\"https://sillasybienestar.com/ergonomia/sillas-ergonomicas/review-individual/sihoo-lb14/\",\n",
    "\"https://sillasybienestar.com/ergonomia/sillas-ergonomicas/review-individual/ronda-silla-espanola/\",\n",
    "\"https://sillasybienestar.com/ergonomia/sillas-ergonomicas/review-individual/diablo-v-master/\",\n",
    "\"https://sillasybienestar.com/ergonomia/sillas-ergonomicas/review-individual/diablo-v-basic/\",\n",
    "\"https://sillasybienestar.com/ergonomia/sillas-ergonomicas/review-individual/songmics-obn61bkv1/\",\n",
    "\"https://sillasybienestar.com/ergonomia/sillas-ergonomicas/review-individual/hbada-reposapies/\",\n",
    "\"https://sillasybienestar.com/ergonomia/sillas-ergonomicas/review-individual/songmics-obn86bk/\",\n",
    "\"https://sillasybienestar.com/ergonomia/sillas-ergonomicas/review-individual/femor/\",\n",
    "\"https://sillasybienestar.com/ergonomia/sillas-ergonomicas/review-individual/hbada-reposabrazos/\",\n",
    "\"https://sillasybienestar.com/ergonomia/sillas-ergonomicas/review-individual/mfavour/\",\n",
    "\"https://sillasybienestar.com/ergonomia/sillas-ergonomicas/review-individual/umi/\"   \n",
    "]"
   ]
  },
  {
   "cell_type": "code",
   "execution_count": 4,
   "id": "6c4988d1",
   "metadata": {},
   "outputs": [],
   "source": [
    "#If want to add a new URL to the \"ergonomia\" category\n",
    "def new_url_ergo(new_url):\n",
    "    urls_ergonomia.append(new_url)\n",
    "    return \"new url 'ergonomia' added\""
   ]
  },
  {
   "cell_type": "code",
   "execution_count": 5,
   "id": "31433083",
   "metadata": {},
   "outputs": [],
   "source": [
    "urls_oficina = [\n",
    "\"https://sillasybienestar.com/oficina-y-escritorio/sillas-de-oficina/review-individual/songmics-obn52bk/\",\n",
    "\"https://sillasybienestar.com/oficina-y-escritorio/sillas-de-oficina/review-individual/songmics-obn22bk/\",\n",
    "\"https://sillasybienestar.com/oficina-y-escritorio/sillas-de-oficina/review-individual/allguest-cedric/\",\n",
    "\"https://sillasybienestar.com/oficina-y-escritorio/sillas-de-oficina/review-individual/hbada-hdny108bm-eu/\",\n",
    "\"https://sillasybienestar.com/oficina-y-escritorio/sillas-de-oficina/review-individual/intimate-wm-heart-sillon-b07x8tqh96/\",\n",
    "\"https://sillasybienestar.com/oficina-y-escritorio/sillas-de-oficina/review-individual/vinsetto-sillon-de-oficina-azul-claro/\",\n",
    "\"https://sillasybienestar.com/oficina-y-escritorio/sillas-de-oficina/review-individual/exofcer-mc6310/\",\n",
    "\"https://sillasybienestar.com/oficina-y-escritorio/sillas-de-oficina/review-individual/songmics-obg24b/\"\n",
    "]"
   ]
  },
  {
   "cell_type": "code",
   "execution_count": 6,
   "id": "933f0955",
   "metadata": {},
   "outputs": [],
   "source": [
    "#If want to add a new URL to the \"oficina\" category\n",
    "def new_url_oficina(new_url):\n",
    "    urls_oficina.append(new_url)\n",
    "    return \"new url 'oficina' added\""
   ]
  },
  {
   "cell_type": "code",
   "execution_count": 7,
   "id": "9534bd6b",
   "metadata": {},
   "outputs": [],
   "source": [
    "urls_rodilla = [\n",
    "\"https://sillasybienestar.com/ergonomia/sillas-de-rodillas/review-individual/duehome/\",\n",
    "\"https://sillasybienestar.com/ergonomia/sillas-de-rodillas/review-individual/himimi-silla-de-rodillas/\",\n",
    "\"https://sillasybienestar.com/ergonomia/sillas-de-rodillas/review-individual/varier/\",\n",
    "\"https://sillasybienestar.com/ergonomia/sillas-de-rodillas/review-individual/cinius/\"\n",
    "]"
   ]
  },
  {
   "cell_type": "code",
   "execution_count": 8,
   "id": "47b56c3e",
   "metadata": {},
   "outputs": [],
   "source": [
    "#If want to add a new URL to the \"rodilla\" category\n",
    "def new_url_rodilla(new_url):\n",
    "    urls_rodilla.append(new_url)\n",
    "    return \"new url 'rodilla' added\""
   ]
  },
  {
   "cell_type": "code",
   "execution_count": 9,
   "id": "eeebee12",
   "metadata": {},
   "outputs": [],
   "source": [
    "urls_gaming = [\n",
    "\"https://sillasybienestar.com/gaming/sillas-gaming/review-individual/gtplayer-rosa/\",\n",
    "\"https://sillasybienestar.com/gaming/sillas-gaming/review-individual/diablo-x-gamer-2-0/\",\n",
    "\"https://sillasybienestar.com/gaming/sillas-gaming/review-individual/intimate-wm-heart-silla-gamer-barata/\",\n",
    "\"https://sillasybienestar.com/gaming/sillas-gaming/review-individual/nokaxus-yk-6008-rosa/\",\n",
    "\"https://sillasybienestar.com/gaming/sillas-gaming/review-individual/newskill-nayuki/\",\n",
    "\"https://sillasybienestar.com/gaming/sillas-gaming/review-individual/silla-gamer-bgeu-a136-sencillez-y-buen-precio-ofertas-2021/\",\n",
    "\"https://sillasybienestar.com/gaming/sillas-gaming/review-individual/autofull-pink-bunny/\",\n",
    "\"https://sillasybienestar.com/gaming/sillas-gaming/review-individual/adec-drw/\",\n",
    "\"https://sillasybienestar.com/gaming/sillas-gaming/review-individual/femor-gaming/\",\n",
    "\"https://sillasybienestar.com/gaming/sillas-gaming/review-individual/hbada-gaming-hdjy001bmj-cb/\",\n",
    "\"https://sillasybienestar.com/gaming/sillas-gaming/review-individual/intimate-wm-heart-gaming/\",\n",
    "\"https://sillasybienestar.com/gaming/sillas-gaming/review-individual/corsair-t3-rush/\",\n",
    "\"https://sillasybienestar.com/gaming/sillas-gaming/review-individual/dxracer-king-ks06/\",\n",
    "\"https://sillasybienestar.com/gaming/sillas-gaming/review-individual/diablo-x-horn/\",\n",
    "\"https://sillasybienestar.com/gaming/sillas-gaming/review-individual/diablo-x-ray/\",\n",
    "\"https://sillasybienestar.com/gaming/sillas-gaming/review-individual/dxracer-formula-f08/\",\n",
    "\"https://sillasybienestar.com/gaming/sillas-gaming/review-individual/newskill-kitsune/\",\n",
    "\"https://sillasybienestar.com/gaming/sillas-gaming/review-individual/newskill-takamikura/\"\n",
    "#\"https://sillasybienestar.com/gaming/sillas-gaming/review-individual/songmics-racing/\" - no usamos\n",
    "]"
   ]
  },
  {
   "cell_type": "code",
   "execution_count": 10,
   "id": "42f7c36c",
   "metadata": {},
   "outputs": [],
   "source": [
    "#If want to add a new URL to the \"gaming\" category\n",
    "def new_url_gaming(new_url):\n",
    "    urls_gaming.append(new_url)\n",
    "    return \"new url 'gaming' added\""
   ]
  },
  {
   "cell_type": "code",
   "execution_count": 11,
   "id": "46b28f3d",
   "metadata": {},
   "outputs": [],
   "source": [
    "#JOIN all the urls\n",
    "def full_urls(urls_ergonomia, urls_oficina, urls_rodilla, urls_gaming):\n",
    "    urls_products_list_list = urls_ergonomia + urls_oficina + urls_rodilla + urls_gaming\n",
    "    return urls_products_list_list"
   ]
  },
  {
   "cell_type": "markdown",
   "id": "0592d53a",
   "metadata": {},
   "source": [
    "### web scrapping"
   ]
  },
  {
   "cell_type": "markdown",
   "id": "050412c1",
   "metadata": {},
   "source": [
    "Obtain the HTML of all our URLs"
   ]
  },
  {
   "cell_type": "code",
   "execution_count": 12,
   "id": "b5840dc5",
   "metadata": {},
   "outputs": [],
   "source": [
    "def parsed_content(urls_products_list):\n",
    "    parsed_products_content_list = [bs4.BeautifulSoup(requests.get(i).content, \"html.parser\") for i in urls_products_list]\n",
    "    return parsed_products_content_list"
   ]
  },
  {
   "cell_type": "markdown",
   "id": "87f05356",
   "metadata": {},
   "source": [
    "Obtain the price info of its class"
   ]
  },
  {
   "cell_type": "code",
   "execution_count": 13,
   "id": "48983fe6",
   "metadata": {},
   "outputs": [],
   "source": [
    "def parsed_price_class(parsed_products_content_list):\n",
    "    parsed_products_price_class = [i.find_all(\"span\",{\"class\":\"aawp-product__price aawp-product__price--current\"})[0].text for i in parsed_products_content_list]\n",
    "    return parsed_products_price_class"
   ]
  },
  {
   "cell_type": "markdown",
   "id": "e0a076d5",
   "metadata": {},
   "source": [
    "Obtain the final price"
   ]
  },
  {
   "cell_type": "code",
   "execution_count": 14,
   "id": "f8a7684c",
   "metadata": {},
   "outputs": [],
   "source": [
    "def product_price(parsed_products_content_list,urls_products_list):\n",
    "    final_price_products_list =[]\n",
    "    for i,e in zip(parsed_products_content_list, range(len(urls_products_list))):\n",
    "        try:\n",
    "            i.find_all(\"div\",{\"class\":\"wp-block-media-text__content\"})[0]\n",
    "            #if it fails the except is executed\n",
    "        except:\n",
    "            if  urls_products_list[e] == \"https://sillasybienestar.com/ergonomia/sillas-ergonomicas/review-individual/mfavour/\":\n",
    "                price_supuesto_0 = i.find_all(\"span\",{\"class\":\"aawp-product__price aawp-product__price--current\"})[0].text\n",
    "                price_supuesto_0_cleaned = re.sub(\"[^\\d|\\,]\",\"\",str(price_supuesto_0)).replace(\",\",\".\")\n",
    "                final_price_products_list.append(float(price_supuesto_0_cleaned))\n",
    "            else:\n",
    "                final_price_products_list.append(-1)\n",
    "                print(\"revisar funcion price, valor con -1\")\n",
    "        else:\n",
    "            if i.find_all(\"div\",{\"class\":\"wp-block-media-text__content\"})[0].text.strip() == \"No products found.\":\n",
    "                final_price_products_list.append(0)\n",
    "            elif i.find_all(\"span\",{\"class\":\"aawp-product__price aawp-product__price--current\"})[0].text == \"\":\n",
    "                final_price_products_list.append(0)\n",
    "            elif i.find_all(\"span\",{\"class\":\"aawp-product__price aawp-product__price--current\"})[0].text != \"\":\n",
    "                price_supuesto_1 = i.find_all(\"span\",{\"class\":\"aawp-product__price aawp-product__price--current\"})[0].text\n",
    "                price_supuesto_1_cleaned = re.sub(\"[^\\d|\\,]\",\"\",str(price_supuesto_1)).replace(\",\",\".\")\n",
    "                final_price_products_list.append(float(price_supuesto_1_cleaned))\n",
    "            else:\n",
    "                print(\"revisar funcion price\")\n",
    "    return final_price_products_list"
   ]
  },
  {
   "cell_type": "markdown",
   "id": "3e9c03ba",
   "metadata": {},
   "source": [
    "Obtain if the product is out of stock or discontinued"
   ]
  },
  {
   "cell_type": "code",
   "execution_count": 15,
   "id": "3b57ae7e",
   "metadata": {},
   "outputs": [],
   "source": [
    "def product_status(parsed_products_content_list,urls_products_list):\n",
    "    final_price_products_status =[]\n",
    "    for i,e in zip(parsed_products_content_list, range(len(urls_products_list))):\n",
    "        try:\n",
    "            i.find_all(\"div\",{\"class\":\"wp-block-media-text__content\"})[0]\n",
    "            #if it fails the except is executed\n",
    "        except:\n",
    "            if  urls_products_list[e] == \"https://sillasybienestar.com/ergonomia/sillas-ergonomicas/review-individual/mfavour/\":\n",
    "                final_price_products_status.append(\"correcto\")\n",
    "            else:\n",
    "                print(\"revisar funcion price, valor con -1\")\n",
    "                final_price_products_status.append(\"revisar\")\n",
    "        else:\n",
    "            if i.find_all(\"div\",{\"class\":\"wp-block-media-text__content\"})[0].text.strip() == \"No products found.\":\n",
    "                final_price_products_status.append(\"descatalogado\")\n",
    "            elif i.find_all(\"span\",{\"class\":\"aawp-product__price aawp-product__price--current\"})[0].text == \"\":\n",
    "                final_price_products_status.append(\"sin_stock\")\n",
    "            elif i.find_all(\"span\",{\"class\":\"aawp-product__price aawp-product__price--current\"})[0].text != \"\":\n",
    "                final_price_products_status.append(\"correcto\")\n",
    "            else:\n",
    "                print(\"revisar funcion price\")\n",
    "    return final_price_products_status"
   ]
  },
  {
   "cell_type": "markdown",
   "id": "6c6661fe",
   "metadata": {},
   "source": [
    "Create a function to handle possible erros in the product information"
   ]
  },
  {
   "cell_type": "code",
   "execution_count": 16,
   "id": "00ac8dcc",
   "metadata": {},
   "outputs": [],
   "source": [
    "def handling_error_vars_product(i,text):\n",
    "    try:\n",
    "        str(i).split(text)[1]\n",
    "    except:\n",
    "        return \"none\"\n",
    "    else:\n",
    "        return str(i).split(text)[1].split(\"';\")[0].strip()"
   ]
  },
  {
   "cell_type": "markdown",
   "id": "626e64db",
   "metadata": {},
   "source": [
    "Obtain the NAME of the different products"
   ]
  },
  {
   "cell_type": "code",
   "execution_count": 17,
   "id": "30699fe1",
   "metadata": {},
   "outputs": [],
   "source": [
    "def product_name(parsed_products_content_list):\n",
    "    \n",
    "    def handling_error_vars_product(i,text):\n",
    "        try:\n",
    "            str(i).split(text)[1]\n",
    "        except:\n",
    "            return \"none\"\n",
    "        else:\n",
    "            return str(i).split(text)[1].split(\"';\")[0].strip()\n",
    "    \n",
    "    final_name_products = [handling_error_vars_product(i,\"ficha_product_name='\") for i in parsed_products_content_list]\n",
    "    return final_name_products"
   ]
  },
  {
   "cell_type": "markdown",
   "id": "670187da",
   "metadata": {},
   "source": [
    "Obtain the ID of the different products"
   ]
  },
  {
   "cell_type": "code",
   "execution_count": 18,
   "id": "215da1eb",
   "metadata": {},
   "outputs": [],
   "source": [
    "def product_id(parsed_products_content_list):\n",
    "\n",
    "    def handling_error_vars_product(i,text):\n",
    "        try:\n",
    "            str(i).split(text)[1]\n",
    "        except:\n",
    "            return \"none\"\n",
    "        else:\n",
    "            return str(i).split(text)[1].split(\"';\")[0].strip()\n",
    "        \n",
    "    final_id_products = [handling_error_vars_product(i,\"ficha_product_id='\") for i in parsed_products_content_list]\n",
    "    return final_id_products"
   ]
  },
  {
   "cell_type": "markdown",
   "id": "453c8038",
   "metadata": {},
   "source": [
    "Obtain the BRAND of the different products"
   ]
  },
  {
   "cell_type": "code",
   "execution_count": 19,
   "id": "25a26fca",
   "metadata": {},
   "outputs": [],
   "source": [
    "def product_brand(parsed_products_content_list):\n",
    "\n",
    "    def handling_error_vars_product(i,text):\n",
    "        try:\n",
    "            str(i).split(text)[1]\n",
    "        except:\n",
    "            return \"none\"\n",
    "        else:\n",
    "            return str(i).split(text)[1].split(\"';\")[0].strip()\n",
    "    \n",
    "    final_brand_products = [handling_error_vars_product(i,\"ficha_product_brand='\") for i in parsed_products_content_list]\n",
    "    return final_brand_products"
   ]
  },
  {
   "cell_type": "markdown",
   "id": "939c0e90",
   "metadata": {},
   "source": [
    "Obtain the DATE of the current day in different formats"
   ]
  },
  {
   "cell_type": "markdown",
   "id": "428cd8b2",
   "metadata": {},
   "source": [
    "1. With HYPHEN. Ex: 2022-04-14"
   ]
  },
  {
   "cell_type": "code",
   "execution_count": 20,
   "id": "64b55ae5",
   "metadata": {},
   "outputs": [],
   "source": [
    "def product_date_hyphen(parsed_products_content_list):\n",
    "\n",
    "    def handling_error_vars_product(i,text):\n",
    "        try:\n",
    "            str(i).split(text)[1]\n",
    "        except:\n",
    "            return \"none\"\n",
    "        else:\n",
    "            return str(i).split(text)[1].split(\"';\")[0].strip()\n",
    "        \n",
    "    final_date_hyphen_products = [datetime.today().strftime('%Y-%m-%d') for i in range(len(urls_products_list))]\n",
    "    return final_date_hyphen_products"
   ]
  },
  {
   "cell_type": "markdown",
   "id": "376aade9",
   "metadata": {},
   "source": [
    "2. With SLASH. Ex: 2022/04/14"
   ]
  },
  {
   "cell_type": "code",
   "execution_count": 21,
   "id": "5884ce8a",
   "metadata": {},
   "outputs": [],
   "source": [
    "def product_date_slash(parsed_products_content_list):\n",
    "\n",
    "    def handling_error_vars_product(i,text):\n",
    "        try:\n",
    "            str(i).split(text)[1]\n",
    "        except:\n",
    "            return \"none\"\n",
    "        else:\n",
    "            return str(i).split(text)[1].split(\"';\")[0].strip()\n",
    "        \n",
    "    final_date_slash_products = [datetime.today().strftime('%Y/%m/%d') for i in range(len(urls_products_list))]\n",
    "    return final_date_slash_products"
   ]
  },
  {
   "cell_type": "markdown",
   "id": "6e88cebf",
   "metadata": {},
   "source": [
    "3. Without symbols. Ex: 20220414"
   ]
  },
  {
   "cell_type": "code",
   "execution_count": 22,
   "id": "9df853a7",
   "metadata": {},
   "outputs": [],
   "source": [
    "def product_date_number(parsed_products_content_list):\n",
    "\n",
    "    def handling_error_vars_product(i,text):\n",
    "        try:\n",
    "            str(i).split(text)[1]\n",
    "        except:\n",
    "            return \"none\"\n",
    "        else:\n",
    "            return str(i).split(text)[1].split(\"';\")[0].strip()\n",
    "        \n",
    "    final_date_number_products = [int(datetime.today().strftime('%Y%m%d')) for i in range(len(urls_products_list))]\n",
    "    return final_date_number_products"
   ]
  },
  {
   "cell_type": "code",
   "execution_count": null,
   "id": "d5226aa2",
   "metadata": {},
   "outputs": [],
   "source": []
  }
 ],
 "metadata": {
  "kernelspec": {
   "display_name": "Python [conda env:ironhack]",
   "language": "python",
   "name": "conda-env-ironhack-py"
  },
  "language_info": {
   "codemirror_mode": {
    "name": "ipython",
    "version": 3
   },
   "file_extension": ".py",
   "mimetype": "text/x-python",
   "name": "python",
   "nbconvert_exporter": "python",
   "pygments_lexer": "ipython3",
   "version": "3.7.11"
  }
 },
 "nbformat": 4,
 "nbformat_minor": 5
}
