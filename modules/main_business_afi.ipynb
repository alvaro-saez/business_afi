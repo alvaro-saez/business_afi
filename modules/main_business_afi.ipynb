{
 "cells": [
  {
   "cell_type": "code",
   "execution_count": 8,
   "id": "dbe9e6ad",
   "metadata": {},
   "outputs": [],
   "source": [
    "import pandas as pd\n",
    "import numpy as np\n",
    "import requests\n",
    "import bs4\n",
    "import re\n",
    "from datetime import datetime\n",
    "pd.set_option('display.max_rows', 1000)\n",
    "pd.options.display.max_colwidth = 1000\n",
    "\n",
    "#to send emails\n",
    "import email, smtplib, ssl\n",
    "from email import encoders\n",
    "from email.mime.base import MIMEBase\n",
    "from email.mime.multipart import MIMEMultipart\n",
    "from email.mime.text import MIMEText\n",
    "\n",
    "#to make the conection with spreadsheets\n",
    "import gspread\n",
    "from google.oauth2.service_account import Credentials\n",
    "\n",
    "#for passwords\n",
    "import os\n",
    "from dotenv import load_dotenv, find_dotenv\n",
    "\n",
    "load_dotenv(find_dotenv(\"../credentials/.env\"))\n",
    "email_key = os.environ.get(\"EMAIL_KEY\") #EMAIL PASSWORD"
   ]
  },
  {
   "cell_type": "code",
   "execution_count": 14,
   "id": "c455384b",
   "metadata": {},
   "outputs": [],
   "source": [
    "import p_acquisition as ac"
   ]
  },
  {
   "cell_type": "code",
   "execution_count": 15,
   "id": "0dcc9843",
   "metadata": {},
   "outputs": [
    {
     "name": "stdout",
     "output_type": "stream",
     "text": [
      "spreadsheet conection done\n",
      "df_single created through csv\n"
     ]
    },
    {
     "ename": "NameError",
     "evalue": "name 'final_date_hyphen_products' is not defined",
     "output_type": "error",
     "traceback": [
      "\u001b[1;31m---------------------------------------------------------------------------\u001b[0m",
      "\u001b[1;31mNameError\u001b[0m                                 Traceback (most recent call last)",
      "\u001b[1;32mC:\\Users\\ALVARO~1\\AppData\\Local\\Temp/ipykernel_20896/3247578801.py\u001b[0m in \u001b[0;36m<module>\u001b[1;34m\u001b[0m\n\u001b[1;32m----> 1\u001b[1;33m \u001b[1;32mimport\u001b[0m \u001b[0mp_wrangling\u001b[0m \u001b[1;32mas\u001b[0m \u001b[0mwr\u001b[0m\u001b[1;33m\u001b[0m\u001b[1;33m\u001b[0m\u001b[0m\n\u001b[0m\u001b[0;32m      2\u001b[0m \u001b[1;32mimport\u001b[0m \u001b[0mp_analysis\u001b[0m \u001b[1;32mas\u001b[0m \u001b[0man\u001b[0m\u001b[1;33m\u001b[0m\u001b[1;33m\u001b[0m\u001b[0m\n\u001b[0;32m      3\u001b[0m \u001b[1;32mimport\u001b[0m \u001b[0mp_reporting\u001b[0m \u001b[1;32mas\u001b[0m \u001b[0mre\u001b[0m\u001b[1;33m\u001b[0m\u001b[1;33m\u001b[0m\u001b[0m\n",
      "\u001b[1;32m~\\desktop\\ironhack\\business_afi\\modules\\p_wrangling.py\u001b[0m in \u001b[0;36m<module>\u001b[1;34m\u001b[0m\n\u001b[0;32m    129\u001b[0m     \u001b[1;32mreturn\u001b[0m \u001b[0mdf_append_new_files\u001b[0m\u001b[1;33m\u001b[0m\u001b[1;33m\u001b[0m\u001b[0m\n\u001b[0;32m    130\u001b[0m \u001b[1;33m\u001b[0m\u001b[0m\n\u001b[1;32m--> 131\u001b[1;33m \u001b[0mdf_append_new_files\u001b[0m \u001b[1;33m=\u001b[0m \u001b[0mdf_append_new_files\u001b[0m\u001b[1;33m(\u001b[0m\u001b[0mfinal_date_hyphen_products\u001b[0m\u001b[1;33m,\u001b[0m\u001b[0mfinal_date_slash_products\u001b[0m\u001b[1;33m,\u001b[0m\u001b[0mfinal_date_number_products\u001b[0m\u001b[1;33m,\u001b[0m\u001b[0mfinal_name_products\u001b[0m\u001b[1;33m,\u001b[0m\u001b[0mfinal_id_products\u001b[0m\u001b[1;33m,\u001b[0m\u001b[0mfinal_brand_products\u001b[0m\u001b[1;33m,\u001b[0m\u001b[0mfinal_price_products_list\u001b[0m\u001b[1;33m,\u001b[0m\u001b[0mfinal_price_products_status\u001b[0m\u001b[1;33m,\u001b[0m\u001b[0murls_products_list\u001b[0m\u001b[1;33m)\u001b[0m\u001b[1;33m\u001b[0m\u001b[1;33m\u001b[0m\u001b[0m\n\u001b[0m\u001b[0;32m    132\u001b[0m \u001b[1;33m\u001b[0m\u001b[0m\n\u001b[0;32m    133\u001b[0m \u001b[1;33m\u001b[0m\u001b[0m\n",
      "\u001b[1;31mNameError\u001b[0m: name 'final_date_hyphen_products' is not defined"
     ]
    }
   ],
   "source": [
    "import p_wrangling as wr\n",
    "import p_analysis as an\n",
    "import p_reporting as rp"
   ]
  },
  {
   "cell_type": "code",
   "execution_count": 16,
   "id": "f1912595",
   "metadata": {},
   "outputs": [],
   "source": [
    "if __name__ == \"__main__\":\n",
    "\n",
    "    def main_dataset():\n",
    "        #p_acquisition\n",
    "        urls_ergonomia = ac.urls_ergonomia\n",
    "        urls_oficina = ac.urls_oficina\n",
    "        urls_rodilla = ac.urls_rodilla\n",
    "        urls_gaming = ac.urls_gaming\n",
    "        urls_products_list = ac.full_urls(urls_ergonomia, urls_oficina, urls_rodilla, urls_gaming)\n",
    "        \n",
    "        parsed_products_content_list = ac.parsed_content(urls_products_list)\n",
    "        parsed_products_price_class = ac.parsed_price_class(parsed_products_content_list)\n",
    "        \n",
    "        final_price_products_list = ac.product_price(parsed_products_content_list,urls_products_list)\n",
    "        final_price_products_status = ac.product_status(parsed_products_content_list,urls_products_list)\n",
    "        final_name_products = ac.product_name(parsed_products_content_list)\n",
    "        final_id_products = ac.product_id(parsed_products_content_list)\n",
    "        final_brand_products = ac.product_brand(parsed_products_content_list)\n",
    "        final_date_hyphen_products = ac.product_date_hyphen(parsed_products_content_list)\n",
    "        final_date_slash_products = ac.product_date_slash(parsed_products_content_list)\n",
    "        final_date_number_products = ac.product_date_number(parsed_products_content_list)\n",
    "        \n",
    "        \n",
    "#EXECUTION OF THE MAIN FUNCTION\n",
    "    main_dataset()"
   ]
  },
  {
   "cell_type": "code",
   "execution_count": null,
   "id": "629932fb",
   "metadata": {},
   "outputs": [],
   "source": []
  }
 ],
 "metadata": {
  "kernelspec": {
   "display_name": "Python [conda env:ironhack]",
   "language": "python",
   "name": "conda-env-ironhack-py"
  },
  "language_info": {
   "codemirror_mode": {
    "name": "ipython",
    "version": 3
   },
   "file_extension": ".py",
   "mimetype": "text/x-python",
   "name": "python",
   "nbconvert_exporter": "python",
   "pygments_lexer": "ipython3",
   "version": "3.7.11"
  }
 },
 "nbformat": 4,
 "nbformat_minor": 5
}
